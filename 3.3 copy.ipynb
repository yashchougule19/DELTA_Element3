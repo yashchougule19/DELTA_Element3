{
 "cells": [
  {
   "cell_type": "code",
   "execution_count": null,
   "metadata": {},
   "outputs": [],
   "source": [
    "#! pip install pipreqs"
   ]
  },
  {
   "cell_type": "code",
   "execution_count": null,
   "metadata": {},
   "outputs": [],
   "source": [
    "#! pipreqs --encoding=utf-8 c:/Users/Diya/Documents/GItHub/DELTA_Element3"
   ]
  },
  {
   "cell_type": "markdown",
   "metadata": {},
   "source": [
    "# 0. Import Libraries "
   ]
  },
  {
   "cell_type": "code",
   "execution_count": 1,
   "metadata": {},
   "outputs": [
    {
     "name": "stdout",
     "output_type": "stream",
     "text": [
      "WARNING:tensorflow:From c:\\Users\\Diya\\anaconda3\\envs\\DELTA\\Lib\\site-packages\\tf_keras\\src\\losses.py:2976: The name tf.losses.sparse_softmax_cross_entropy is deprecated. Please use tf.compat.v1.losses.sparse_softmax_cross_entropy instead.\n",
      "\n"
     ]
    }
   ],
   "source": [
    "# # For preprocessing\n",
    "import pandas as pd\n",
    "import numpy as np\n",
    "# from sklearn.feature_extraction.text import TfidfVectorizer\n",
    "# from sklearn.metrics.pairwise import cosine_similarity\n",
    "# from collections import Counter\n",
    "# from imblearn.over_sampling import SMOTE\n",
    "import nltk\n",
    "# from nltk.corpus import stopwords\n",
    "# import re\n",
    "# from bs4 import BeautifulSoup\n",
    "# import emoji\n",
    "# from urllib.parse import urlparse\n",
    "# import seaborn as sns\n",
    "# import matplotlib.pyplot as plt\n",
    "\n",
    "from DataPreprocess import DataPreprocessor\n",
    "\n",
    "from ClassificationScores import ClassificationEvaluator\n",
    "\n",
    "# For VaderSentiment\n",
    "from vaderSentiment.vaderSentiment import SentimentIntensityAnalyzer\n",
    "\n",
    "# For RNN model \n",
    "from gensim.models import FastText\n",
    "from sklearn.model_selection import train_test_split\n",
    "from tensorflow.keras.preprocessing.text import Tokenizer\n",
    "from tensorflow.keras.preprocessing.sequence import pad_sequences\n",
    "from tensorflow.keras.models import Sequential\n",
    "from tensorflow.keras.layers import Input, Embedding, LSTM, GRU, Dense, Dropout\n",
    "from tensorflow.keras.callbacks import EarlyStopping\n",
    "from tensorflow.keras.optimizers import Adam\n",
    "from keras.regularizers import l2\n",
    "from sklearn.model_selection import train_test_split\n",
    "from sklearn.utils import class_weight\n",
    "\n",
    "# For DistilBERT\n",
    "import tensorflow as tf\n",
    "from transformers import DistilBertTokenizer, TFDistilBertForSequenceClassification"
   ]
  },
  {
   "cell_type": "markdown",
   "metadata": {},
   "source": [
    "# 1. Data Preprocessing"
   ]
  },
  {
   "cell_type": "markdown",
   "metadata": {},
   "source": [
    "### 1.1. Importing the data and getting known to it."
   ]
  },
  {
   "cell_type": "code",
   "execution_count": 2,
   "metadata": {},
   "outputs": [],
   "source": [
    "# Importing the train and test datasets\n",
    "train_df = pd.read_parquet('btc_tweets_train.parquet.gzip')\n",
    "test_df = pd.read_parquet('btc_tweets_test.parquet.gzip')"
   ]
  },
  {
   "cell_type": "code",
   "execution_count": 3,
   "metadata": {},
   "outputs": [],
   "source": [
    "train_df = train_df.reset_index()\n",
    "test_df = test_df.reset_index()"
   ]
  },
  {
   "cell_type": "code",
   "execution_count": 4,
   "metadata": {},
   "outputs": [],
   "source": [
    "def df_info(df):\n",
    "    return df.shape, df.isnull().sum().sum(), df.info(), df.head()"
   ]
  },
  {
   "cell_type": "code",
   "execution_count": 5,
   "metadata": {},
   "outputs": [
    {
     "name": "stdout",
     "output_type": "stream",
     "text": [
      "<class 'pandas.core.frame.DataFrame'>\n",
      "RangeIndex: 1500 entries, 0 to 1499\n",
      "Data columns (total 6 columns):\n",
      " #   Column            Non-Null Count  Dtype \n",
      "---  ------            --------------  ----- \n",
      " 0   tweet ID          1500 non-null   int64 \n",
      " 1   hashtags          1500 non-null   object\n",
      " 2   content           1500 non-null   object\n",
      " 3   username          1500 non-null   object\n",
      " 4   user_displayname  1500 non-null   object\n",
      " 5   sentiment         1500 non-null   bool  \n",
      "dtypes: bool(1), int64(1), object(4)\n",
      "memory usage: 60.2+ KB\n"
     ]
    },
    {
     "data": {
      "text/plain": [
       "((1500, 6),\n",
       " 0,\n",
       " None,\n",
       "               tweet ID                                           hashtags  \\\n",
       " 0  1641579121972236290  [Bitcoin, Bitcoin, BTC, Bitcoin, BTC, SHIB, HO...   \n",
       " 1  1641579176171016194                 [Bitcoin, bitcoinordinals, crypto]   \n",
       " 2  1641579486071390208  [BTC, SHIB, HOGE, SAITAMA, BNB, DOGE, ETH, Bab...   \n",
       " 3  1641579537103302656                                              [BTC]   \n",
       " 4  1641579588399804418                                          [Bitcoin]   \n",
       " \n",
       "                                              content      username  \\\n",
       " 0  $Bitcoin TO $100,000 SOONER THAN YOU THINK‼️💯🙏...   BezosCrypto   \n",
       " 1  Alright I have my rares. Who else is grabbing ...   spartantc81   \n",
       " 2  Bitcoin (BTC) Targets Over $100,000 as This Im...   BezosCrypto   \n",
       " 3  📢 Xverse Web-based pool is live:\\n\\n•Update @x...  godfred_xcuz   \n",
       " 4  Yesterday, a Bitcoin projection was displayed ...   goddess81oo   \n",
       " \n",
       "   user_displayname  sentiment  \n",
       " 0       SHIB Bezos       True  \n",
       " 1        SpartanTC       True  \n",
       " 2       SHIB Bezos       True  \n",
       " 3    Algorithm.btc       True  \n",
       " 4     she is lucky       True  )"
      ]
     },
     "execution_count": 5,
     "metadata": {},
     "output_type": "execute_result"
    }
   ],
   "source": [
    "# Running a few checks to understand the datasets\n",
    "df_info(train_df)"
   ]
  },
  {
   "cell_type": "code",
   "execution_count": 6,
   "metadata": {},
   "outputs": [
    {
     "name": "stdout",
     "output_type": "stream",
     "text": [
      "<class 'pandas.core.frame.DataFrame'>\n",
      "RangeIndex: 500 entries, 0 to 499\n",
      "Data columns (total 6 columns):\n",
      " #   Column            Non-Null Count  Dtype \n",
      "---  ------            --------------  ----- \n",
      " 0   tweet ID          500 non-null    int64 \n",
      " 1   hashtags          500 non-null    object\n",
      " 2   content           500 non-null    object\n",
      " 3   username          500 non-null    object\n",
      " 4   user_displayname  500 non-null    object\n",
      " 5   sentiment         500 non-null    bool  \n",
      "dtypes: bool(1), int64(1), object(4)\n",
      "memory usage: 20.1+ KB\n"
     ]
    },
    {
     "data": {
      "text/plain": [
       "((500, 6),\n",
       " 0,\n",
       " None,\n",
       "               tweet ID                                           hashtags  \\\n",
       " 0  1641861708246552576                                      [crypto, btc]   \n",
       " 1  1641861783898972167                                 [Bitcoin, Bitcoin]   \n",
       " 2  1641862152532418562  [Giveaway, BTC, SolanaGiveaways, Giveaway, Air...   \n",
       " 3  1641862338369183753  [EOS, USDT, BTC, crypto, Bitcoin, etherium, Bi...   \n",
       " 4  1641862430434131968                        [BTC, ETH, BSC, GroveToken]   \n",
       " \n",
       "                                              content      username  \\\n",
       " 0  #crypto $crypto #btc \\nI am Chinese crypto alp...     huahuayjy   \n",
       " 1  #Bitcoin would have to fall another 80% to rea...  luke_broyles   \n",
       " 2  #Giveaway $1000 Matic in 3Days\\n\\n🏆To win\\n1️⃣...  cryptomarsdo   \n",
       " 3  Up or Down?\\n\\n!!! $EOS #EOS !!!\\n\\nVS\\n\\n$USD...  andreyukrnet   \n",
       " 4  Mid Day Mix-up is LIVE! Never know who might s...    JustAman04   \n",
       " \n",
       "          user_displayname  sentiment  \n",
       " 0  花花研究院 | Crypto Alpha🇨🇳       True  \n",
       " 1            Luke Broyles      False  \n",
       " 2             Crypto Mars       True  \n",
       " 3          Andrey Ukraine       True  \n",
       " 4         Justin Anderson       True  )"
      ]
     },
     "execution_count": 6,
     "metadata": {},
     "output_type": "execute_result"
    }
   ],
   "source": [
    "df_info(test_df)"
   ]
  },
  {
   "cell_type": "code",
   "execution_count": 7,
   "metadata": {},
   "outputs": [],
   "source": [
    "# Dropping the unnecessary features (Hashtags in the tweets are seperately handled ahead)\n",
    "train_df = train_df.drop(['tweet ID', 'user_displayname', 'hashtags'], axis=1)\n",
    "test_df = test_df.drop(['tweet ID', 'user_displayname', 'hashtags'], axis=1)"
   ]
  },
  {
   "cell_type": "code",
   "execution_count": 8,
   "metadata": {},
   "outputs": [],
   "source": [
    "# Converting the sentiment labels from bool to int\n",
    "train_df['sentiment'] = train_df['sentiment'].astype(int)\n",
    "test_df['sentiment'] = test_df['sentiment'].astype(int)"
   ]
  },
  {
   "cell_type": "markdown",
   "metadata": {},
   "source": [
    "### A few trials"
   ]
  },
  {
   "cell_type": "code",
   "execution_count": 9,
   "metadata": {},
   "outputs": [],
   "source": [
    "# def extract_special_characters(text):\n",
    "#     # Regular expression to match special characters\n",
    "#     return re.findall(r'[^a-zA-Z0-9\\s]', text)\n",
    "\n",
    "# # Extract special characters from the selected column (e.g., 'content')\n",
    "# df = train_df.copy()\n",
    "# df['special_chars'] = df['content'].apply(extract_special_characters)\n",
    "\n",
    "# # Flatten the list of special characters and count their frequency\n",
    "# special_chars_list = df['special_chars'].sum()\n",
    "# special_chars_count = Counter(special_chars_list)\n",
    "\n",
    "# # Get the most common special characters\n",
    "# most_common_special_chars = special_chars_count.most_common()\n",
    "\n",
    "# # Display the results\n",
    "# for char, count in most_common_special_chars:\n",
    "#     print(f\"'{char}': {count}\")"
   ]
  },
  {
   "cell_type": "code",
   "execution_count": 10,
   "metadata": {},
   "outputs": [],
   "source": [
    "# def extract_emojis(text):\n",
    "#     return ''.join(char for char in text if char in emoji.EMOJI_DATA)\n",
    "\n",
    "# # Extract emojis from the selected column (e.g., 'content')\n",
    "# #column_to_use = 'cleaned_content' if 'cleaned_content' in df.columns else 'content'\n",
    "# df = train_df.copy()\n",
    "# df['emojis'] = df['content'].apply(extract_emojis)\n",
    "\n",
    "# # Flatten the list of emojis and count the frequency of each emoji\n",
    "# emoji_list = df['emojis'].sum()\n",
    "# emoji_count = Counter(emoji_list)\n",
    "\n",
    "# # Get the top 50 most used emojis\n",
    "# top_50_emojis = emoji_count.most_common(200)\n",
    "\n",
    "# # Display the results\n",
    "# for emoji_char, count in top_50_emojis:\n",
    "#     print(f\"{emoji_char}: {count}\")\n"
   ]
  },
  {
   "cell_type": "markdown",
   "metadata": {},
   "source": [
    "**NOTE: both the cleaned datasets above are still imbalanced with True values largly outnumbered than False. The imbalance needs to be taken care of by assigning class weights dring model training.**"
   ]
  },
  {
   "cell_type": "markdown",
   "metadata": {},
   "source": [
    "# 2. Benchmark: vaderSentiment Sentiment Dictionary"
   ]
  },
  {
   "cell_type": "markdown",
   "metadata": {},
   "source": [
    "For sentiment analysis using VADER, it's best to apply VADER to the raw, uncleaned text to leverage its strengths in handling informal language, punctuation, and emojis. However, when it comes to Links, it is best to remove them. Links are irrelevent to the sentiment and could add unnecessary noise, potentially influencing the sentiment."
   ]
  },
  {
   "cell_type": "markdown",
   "metadata": {},
   "source": [
    "The preprocessing flow for vaderSentiment\n",
    "- Remove spam tweets\n",
    "- Remove links\n",
    "- Remove unnecessary hashtags\n",
    "- Then apply vader sentiment dictionary on the cleaned tweets"
   ]
  },
  {
   "cell_type": "markdown",
   "metadata": {},
   "source": [
    "### 2.1. Getting the dataset ready for VaderSentiment"
   ]
  },
  {
   "cell_type": "code",
   "execution_count": null,
   "metadata": {},
   "outputs": [],
   "source": [
    "vader_test_df = test_df.copy()"
   ]
  },
  {
   "cell_type": "code",
   "execution_count": null,
   "metadata": {},
   "outputs": [],
   "source": [
    "# Getting the dataset ready by removing spam, unnecessary hashtags, links, whitespace and HTML\n",
    "vader_test_df = test_datapreprocessor.preprocess( remove_spam=True,\n",
    "                                                  remove_hashtags=True, \n",
    "                                                  remove_link=True, \n",
    "                                                  remove_whitespace_html=True, \n",
    "                                                  remove_emoji=True)"
   ]
  },
  {
   "cell_type": "code",
   "execution_count": null,
   "metadata": {},
   "outputs": [],
   "source": [
    "vader_test_df.head()"
   ]
  },
  {
   "cell_type": "code",
   "execution_count": null,
   "metadata": {},
   "outputs": [],
   "source": [
    "# look over an example to see if the tweets are cleaned as expected\n",
    "index = 43\n",
    "vader_test_df['content'].iloc[index], vader_test_df['cleaned_content'].iloc[index], vader_test_df['sentiment'][index]"
   ]
  },
  {
   "cell_type": "markdown",
   "metadata": {},
   "source": [
    "### 2.2. Fitting the VaderSentiment on processed test data"
   ]
  },
  {
   "cell_type": "code",
   "execution_count": null,
   "metadata": {},
   "outputs": [],
   "source": [
    "# Initialize the VADER sentiment analyzer\n",
    "analyzer = SentimentIntensityAnalyzer()\n",
    "\n",
    "# Function to apply VADER sentiment analysis and get the compound score\n",
    "def get_sentiment_score(text):\n",
    "    sentiment_dict = analyzer.polarity_scores(text)\n",
    "    return sentiment_dict['compound']  # 'compound' score is a normalized score between -1 (negative) and +1 (positive)\n",
    "\n",
    "# Apply sentiment analysis to the 'content' column and create a new column for the sentiment score\n",
    "vader_test_df['vader_sentiment'] = vader_test_df['cleaned_content'].apply(get_sentiment_score)\n",
    "\n",
    "# Classify the sentiment based on the compound score\n",
    "def classify_sentiment(score):\n",
    "    if score >= 0:\n",
    "        return True\n",
    "    else:\n",
    "        return False\n",
    "\n",
    "# Apply the classification and create a new column for the sentiment label\n",
    "vader_test_df['vader_sentiment_label'] = vader_test_df['vader_sentiment'].apply(classify_sentiment).astype(int)\n"
   ]
  },
  {
   "cell_type": "code",
   "execution_count": null,
   "metadata": {},
   "outputs": [],
   "source": [
    "vader_test_df.head()"
   ]
  },
  {
   "cell_type": "markdown",
   "metadata": {},
   "source": [
    "### 2.3. Evaluating the vaderSentiment classification performance"
   ]
  },
  {
   "cell_type": "code",
   "execution_count": null,
   "metadata": {},
   "outputs": [],
   "source": [
    "# Initializing the performance evaluator class for vader\n",
    "vader_performance_evaluator = ClassificationEvaluator(true_labels=vader_test_df['sentiment'], \n",
    "                                                      predicted_labels=vader_test_df['vader_sentiment_label'])\n",
    "\n",
    "vader_performance_evaluator.evaluate()\n",
    "vader_performance_evaluator.plot_confusion_matrix()"
   ]
  },
  {
   "cell_type": "markdown",
   "metadata": {},
   "source": [
    "# 3. RNN "
   ]
  },
  {
   "cell_type": "markdown",
   "metadata": {},
   "source": [
    "### 3.1. Getting the dataset ready for training the embeddings"
   ]
  },
  {
   "cell_type": "code",
   "execution_count": null,
   "metadata": {},
   "outputs": [],
   "source": [
    "rnn_train_df = train_datapreprocessor.preprocess(remove_spam=True, remove_hashtags=True, remove_link=True, remove_whitespace_html=True, remove_emoji=True, clean_text=False, balance_classes=False)\n",
    "rnn_test_df = test_datapreprocessor.preprocess(remove_spam=True, remove_hashtags=True, remove_link=True, remove_whitespace_html=True, remove_emoji=True, clean_text=False, balance_classes=False)"
   ]
  },
  {
   "cell_type": "code",
   "execution_count": null,
   "metadata": {},
   "outputs": [],
   "source": [
    "i = 83\n",
    "rnn_train_df['content'][i], rnn_train_df['cleaned_content'][i], rnn_train_df['sentiment'][i]"
   ]
  },
  {
   "cell_type": "code",
   "execution_count": null,
   "metadata": {},
   "outputs": [],
   "source": [
    "rnn_train_df.head()"
   ]
  },
  {
   "cell_type": "markdown",
   "metadata": {},
   "source": [
    "### 3.2. Training the FastText embeddings"
   ]
  },
  {
   "cell_type": "code",
   "execution_count": null,
   "metadata": {},
   "outputs": [],
   "source": [
    "nltk.download('punkt')\n",
    "nltk.download('wordnet')"
   ]
  },
  {
   "cell_type": "code",
   "execution_count": null,
   "metadata": {},
   "outputs": [],
   "source": [
    "# Tokenize the cleaned tweets (split by spaces)\n",
    "tokenized_tweets = [tweet.split() for tweet in rnn_train_df['cleaned_content']]\n",
    "\n",
    "# Train FastText model using Gensim's implementation\n",
    "fasttext_model = FastText(sentences=tokenized_tweets, vector_size=50, window=5, min_count=1, sg=0, epochs=10)\n",
    "\n",
    "# Save the model\n",
    "#fasttext_model.save(\"fasttext_vs50.model\")\n",
    "\n",
    "# Load the model (for future use)\n",
    "#fasttext_model = FastText.load(\"fasttext_vs50.model\")"
   ]
  },
  {
   "cell_type": "code",
   "execution_count": null,
   "metadata": {},
   "outputs": [],
   "source": [
    "# Example: Get vector for a word \n",
    "print(f\"Vector for 'bitcoin': {fasttext_model.wv['bitcoin']}\")\n",
    "\n",
    "# Example: Get most similar words\n",
    "print(f\"Words similar to 'bitcoin': {fasttext_model.wv.most_similar('bitcoin')}\")"
   ]
  },
  {
   "cell_type": "markdown",
   "metadata": {},
   "source": [
    "### 3.3. Building and Training the RNN model"
   ]
  },
  {
   "cell_type": "markdown",
   "metadata": {},
   "source": [
    " Create a plot to decide on sequence length|"
   ]
  },
  {
   "cell_type": "code",
   "execution_count": null,
   "metadata": {},
   "outputs": [],
   "source": [
    "# Parameters\n",
    "max_sequence_length = 40\n",
    "embedding_dim = 50\n",
    "embedding_matrix = fasttext_model.wv.vectors # Create embedding matrix\n",
    "vocab_size = len(fasttext_model.wv)"
   ]
  },
  {
   "cell_type": "code",
   "execution_count": null,
   "metadata": {},
   "outputs": [],
   "source": [
    "#fasttext_model.wv.vector_size, len(tokenizer.word_counts), vocab_size, tokenizer.word_index.items()"
   ]
  },
  {
   "cell_type": "code",
   "execution_count": null,
   "metadata": {},
   "outputs": [],
   "source": [
    "# Tokenize the tweets\n",
    "tokenizer = Tokenizer(num_words=vocab_size, oov_token='OOV')\n",
    "tokenizer.fit_on_texts(rnn_train_df['cleaned_content'])\n",
    "\n",
    "# sequences are tweets transformed into arrays where each word is sequentially replaced by a number which corresponds to the index of that word in the vocabulary\n",
    "train_sequences = tokenizer.texts_to_sequences(rnn_train_df['cleaned_content']) \n",
    "padded_train_sequences = pad_sequences(train_sequences, maxlen=max_sequence_length, padding='post')\n",
    "\n",
    "test_sequences = tokenizer.texts_to_sequences(rnn_test_df['cleaned_content'])\n",
    "padded_test_sequences = pad_sequences(test_sequences, maxlen=max_sequence_length, padding='post')"
   ]
  },
  {
   "cell_type": "code",
   "execution_count": null,
   "metadata": {},
   "outputs": [],
   "source": [
    "padded_test_sequences"
   ]
  },
  {
   "cell_type": "code",
   "execution_count": null,
   "metadata": {},
   "outputs": [],
   "source": [
    "# Dimension check\n",
    "padded_train_sequences.shape, rnn_train_df['sentiment'].shape"
   ]
  },
  {
   "cell_type": "code",
   "execution_count": null,
   "metadata": {},
   "outputs": [],
   "source": [
    "# Split the data to training and validation\n",
    "X_train, X_val, y_train, y_val = train_test_split(padded_train_sequences, rnn_train_df['sentiment'], test_size = 0.2, random_state = 9)\n",
    "# Changing the dtype from series to array\n",
    "y_train = y_train.to_numpy()\n",
    "y_val = y_val.to_numpy()\n",
    "\n",
    "# Preparing the test data\n",
    "rnn_X_test = padded_test_sequences\n",
    "rnn_y_test = rnn_test_df['sentiment'].to_numpy()"
   ]
  },
  {
   "cell_type": "code",
   "execution_count": null,
   "metadata": {},
   "outputs": [],
   "source": [
    "# Calculate the class weights to handle imbalance\n",
    "class_weights = class_weight.compute_class_weight(class_weight='balanced', classes=np.unique(y_train), y=y_train)\n",
    "class_weights = dict(enumerate(class_weights))\n",
    "class_weights"
   ]
  },
  {
   "cell_type": "markdown",
   "metadata": {},
   "source": [
    "Study about kernel_regularizer, learning_rate"
   ]
  },
  {
   "cell_type": "code",
   "execution_count": null,
   "metadata": {},
   "outputs": [],
   "source": [
    "from tensorflow.keras.metrics import AUC, Precision, Recall\n",
    "\n",
    "# Build the RNN model\n",
    "def build_rnn_model(embd_dim, rnn_type='LSTM'):\n",
    "    model = Sequential()\n",
    "    model.add(Input(shape=(max_sequence_length,)))\n",
    "    model.add(Embedding(input_dim = vocab_size, \n",
    "                        output_dim = embd_dim, \n",
    "                        weights=[embedding_matrix],  \n",
    "                        trainable=False))\n",
    "    \n",
    "    if rnn_type == 'LSTM':\n",
    "        model.add(LSTM(units = 64, return_sequences = False, kernel_regularizer=l2(0.02)))\n",
    "    elif rnn_type == 'GRU':\n",
    "        model.add(GRU(units = 64, return_sequences= False, kernel_regularizer=l2(0.02)))\n",
    "        \n",
    "    model.add(Dropout(0.2))\n",
    "    model.add(Dense(1, activation = 'sigmoid', kernel_regularizer=l2(0.02)))\n",
    "    \n",
    "    model.compile(optimizer=Adam(learning_rate=0.0001), loss='binary_crossentropy', metrics=['accuracy']) #, Precision(), Recall(), AUC()])\n",
    "    return model"
   ]
  },
  {
   "cell_type": "code",
   "execution_count": null,
   "metadata": {},
   "outputs": [],
   "source": [
    "# Initialize the model\n",
    "model = build_rnn_model(embd_dim=embedding_dim, rnn_type='LSTM')\n",
    "model.summary()"
   ]
  },
  {
   "cell_type": "code",
   "execution_count": null,
   "metadata": {},
   "outputs": [],
   "source": [
    "# Train the model\n",
    "early_stopping = EarlyStopping(monitor='val_loss', patience=5, restore_best_weights=True)\n",
    "history = model.fit(X_train, y_train, epochs=25, batch_size=16, validation_data=(X_val, y_val), class_weight=class_weights, callbacks=[early_stopping])"
   ]
  },
  {
   "cell_type": "code",
   "execution_count": null,
   "metadata": {},
   "outputs": [],
   "source": [
    "# Evaluate the model\n",
    "loss, accuracy = model.evaluate(rnn_X_test, rnn_y_test)"
   ]
  },
  {
   "cell_type": "code",
   "execution_count": null,
   "metadata": {},
   "outputs": [],
   "source": [
    "# Predicting sentiments on new tweets\n",
    "rnn_predictions = model.predict(rnn_X_test)\n",
    "# Convert probabilities to binary predictions\n",
    "rnn_predictions_discrete = (rnn_predictions >= 0.5).astype(int)  "
   ]
  },
  {
   "cell_type": "code",
   "execution_count": null,
   "metadata": {},
   "outputs": [],
   "source": [
    "# u = 24\n",
    "# rnn_predictions[u], rnn_predictions_discrete[u], rnn_y_test[u], rnn_test_df['cleaned_content'].iloc[u]"
   ]
  },
  {
   "cell_type": "code",
   "execution_count": null,
   "metadata": {},
   "outputs": [],
   "source": [
    "#rnn_predictions"
   ]
  },
  {
   "cell_type": "code",
   "execution_count": null,
   "metadata": {},
   "outputs": [],
   "source": [
    "# Initializing the performance evaluator class for RNN\n",
    "rnn_performance_evaluator = ClassificationEvaluator(true_labels=rnn_y_test, \n",
    "                                                    predicted_labels=rnn_predictions_discrete, \n",
    "                                                    predicted_probs=rnn_predictions)\n",
    "\n",
    "rnn_performance_evaluator.evaluate()\n",
    "rnn_performance_evaluator.plot_confusion_matrix()\n",
    "rnn_performance_evaluator.plot_roc_auc()"
   ]
  },
  {
   "cell_type": "markdown",
   "metadata": {},
   "source": [
    "# 4. DistilBERT"
   ]
  },
  {
   "cell_type": "markdown",
   "metadata": {},
   "source": [
    "### 4.1. Data preprocessing: DistilBERT"
   ]
  },
  {
   "cell_type": "code",
   "execution_count": 11,
   "metadata": {},
   "outputs": [],
   "source": [
    "from transformers import DistilBertTokenizer, DistilBertForSequenceClassification, TextClassificationPipeline, TrainingArguments, Trainer\n",
    "from transformers import AutoTokenizer, AutoModelForSequenceClassification, pipeline\n",
    "import torch"
   ]
  },
  {
   "cell_type": "code",
   "execution_count": 12,
   "metadata": {},
   "outputs": [],
   "source": [
    "# Initialize the DataPreprocessor class for DistilBERT\n",
    "dtb_train_datapreprocessor = DataPreprocessor(df=train_df, content_column='content')\n",
    "dtb_test_datapreprocessor = DataPreprocessor(df=test_df, content_column='content')"
   ]
  },
  {
   "cell_type": "code",
   "execution_count": 13,
   "metadata": {},
   "outputs": [
    {
     "name": "stderr",
     "output_type": "stream",
     "text": [
      "c:\\Users\\Diya\\Documents\\GItHub\\DELTA_Element3\\DataPreprocess.py:114: MarkupResemblesLocatorWarning: The input looks more like a filename than markup. You may want to open this file and pass the filehandle into Beautiful Soup.\n",
      "  tweet = BeautifulSoup(tweet, 'html.parser').get_text()\n",
      "c:\\Users\\Diya\\Documents\\GItHub\\DELTA_Element3\\DataPreprocess.py:114: MarkupResemblesLocatorWarning: The input looks more like a filename than markup. You may want to open this file and pass the filehandle into Beautiful Soup.\n",
      "  tweet = BeautifulSoup(tweet, 'html.parser').get_text()\n"
     ]
    }
   ],
   "source": [
    "dtb_train_df = dtb_train_datapreprocessor.preprocess(remove_spam=True, remove_hashtags=True, remove_emoji=True, remove_link=True, remove_whitespace_html=True)\n",
    "dtb_test_df = dtb_test_datapreprocessor.preprocess(remove_spam=True, remove_hashtags=True, remove_emoji=True, remove_link=True, remove_whitespace_html=True)"
   ]
  },
  {
   "cell_type": "code",
   "execution_count": 15,
   "metadata": {},
   "outputs": [
    {
     "data": {
      "text/plain": [
       "('#Hex launched &amp; gained 11,900%\\n(Nomics .com)\\n\\n#Pulsechain 2 do- 3X of $HEX \\n\\nWhy?\\n\\n#PLS -Already has 40k user \\n75-85k new Buyer\\nOver 60 projects ready\\n\\nAlmost 80% supply be locked\\nBy #OG #Staking #Validator \\n\\nRetweet ❤️ $PLS ppl\\n\\n#BTC #BNB #HEX #PLS #PLSX #ETH #Crypto #XRP #USDT https://t.co/ZG3OlPOyUy',\n",
       " 'launched & gained 11,900% (Nomics .com) 2 do- 3X of $HEX Why? -Already has 40k user 75-85k new Buyer Over 60 projects ready Almost 80% supply be locked By Retweet ️ $PLS ppl #BTC #BNB X #ETH #Crypto #XRP #USDT',\n",
       " 1)"
      ]
     },
     "execution_count": 15,
     "metadata": {},
     "output_type": "execute_result"
    }
   ],
   "source": [
    "i = 7\n",
    "dtb_test_df['content'][i], dtb_test_df['cleaned_content'][i], dtb_test_df['sentiment'][i]"
   ]
  },
  {
   "cell_type": "code",
   "execution_count": 16,
   "metadata": {},
   "outputs": [
    {
     "data": {
      "text/html": [
       "<div>\n",
       "<style scoped>\n",
       "    .dataframe tbody tr th:only-of-type {\n",
       "        vertical-align: middle;\n",
       "    }\n",
       "\n",
       "    .dataframe tbody tr th {\n",
       "        vertical-align: top;\n",
       "    }\n",
       "\n",
       "    .dataframe thead th {\n",
       "        text-align: right;\n",
       "    }\n",
       "</style>\n",
       "<table border=\"1\" class=\"dataframe\">\n",
       "  <thead>\n",
       "    <tr style=\"text-align: right;\">\n",
       "      <th></th>\n",
       "      <th>content</th>\n",
       "      <th>username</th>\n",
       "      <th>sentiment</th>\n",
       "      <th>cleaned_content</th>\n",
       "    </tr>\n",
       "  </thead>\n",
       "  <tbody>\n",
       "    <tr>\n",
       "      <th>0</th>\n",
       "      <td>#crypto $crypto #btc \\nI am Chinese crypto alp...</td>\n",
       "      <td>huahuayjy</td>\n",
       "      <td>1</td>\n",
       "      <td>#crypto $crypto #btc I am Chinese crypto alpha...</td>\n",
       "    </tr>\n",
       "    <tr>\n",
       "      <th>1</th>\n",
       "      <td>#Bitcoin would have to fall another 80% to rea...</td>\n",
       "      <td>luke_broyles</td>\n",
       "      <td>0</td>\n",
       "      <td>#Bitcoin would have to fall another 80% to rea...</td>\n",
       "    </tr>\n",
       "    <tr>\n",
       "      <th>2</th>\n",
       "      <td>#Giveaway $1000 Matic in 3Days\\n\\n🏆To win\\n1️⃣...</td>\n",
       "      <td>cryptomarsdo</td>\n",
       "      <td>1</td>\n",
       "      <td>#Giveaway $1000 Matic in 3Days To win 1️⃣ Foll...</td>\n",
       "    </tr>\n",
       "    <tr>\n",
       "      <th>3</th>\n",
       "      <td>Up or Down?\\n\\n!!! $EOS #EOS !!!\\n\\nVS\\n\\n$USD...</td>\n",
       "      <td>andreyukrnet</td>\n",
       "      <td>1</td>\n",
       "      <td>Up or Down? !!! $EOS !!! VS $USDT #USDT AND $B...</td>\n",
       "    </tr>\n",
       "    <tr>\n",
       "      <th>4</th>\n",
       "      <td>Mid Day Mix-up is LIVE! Never know who might s...</td>\n",
       "      <td>JustAman04</td>\n",
       "      <td>1</td>\n",
       "      <td>Mid Day Mix-up is LIVE! Never know who might s...</td>\n",
       "    </tr>\n",
       "  </tbody>\n",
       "</table>\n",
       "</div>"
      ],
      "text/plain": [
       "                                             content      username  sentiment  \\\n",
       "0  #crypto $crypto #btc \\nI am Chinese crypto alp...     huahuayjy          1   \n",
       "1  #Bitcoin would have to fall another 80% to rea...  luke_broyles          0   \n",
       "2  #Giveaway $1000 Matic in 3Days\\n\\n🏆To win\\n1️⃣...  cryptomarsdo          1   \n",
       "3  Up or Down?\\n\\n!!! $EOS #EOS !!!\\n\\nVS\\n\\n$USD...  andreyukrnet          1   \n",
       "4  Mid Day Mix-up is LIVE! Never know who might s...    JustAman04          1   \n",
       "\n",
       "                                     cleaned_content  \n",
       "0  #crypto $crypto #btc I am Chinese crypto alpha...  \n",
       "1  #Bitcoin would have to fall another 80% to rea...  \n",
       "2  #Giveaway $1000 Matic in 3Days To win 1️⃣ Foll...  \n",
       "3  Up or Down? !!! $EOS !!! VS $USDT #USDT AND $B...  \n",
       "4  Mid Day Mix-up is LIVE! Never know who might s...  "
      ]
     },
     "execution_count": 16,
     "metadata": {},
     "output_type": "execute_result"
    }
   ],
   "source": [
    "dtb_test_df.head()"
   ]
  },
  {
   "cell_type": "markdown",
   "metadata": {},
   "source": [
    "### 4.2. Pre-trained DistilBERT"
   ]
  },
  {
   "cell_type": "code",
   "execution_count": null,
   "metadata": {},
   "outputs": [],
   "source": [
    "pt_dtb_tokenizer = AutoTokenizer.from_pretrained('DT12the/distilbert-sentiment-analysis')\n",
    "pt_dtb_model = AutoModelForSequenceClassification.from_pretrained('DT12the/distilbert-sentiment-analysis')"
   ]
  },
  {
   "cell_type": "code",
   "execution_count": null,
   "metadata": {},
   "outputs": [],
   "source": [
    "pt_dtb_test_tokens = pt_dtb_tokenizer(text=dtb_test_df['cleaned_content'].to_list(),\n",
    "                                 padding=True,\n",
    "                                 truncation=True,\n",
    "                                 max_length=32,\n",
    "                                 return_tensors='pt')"
   ]
  },
  {
   "cell_type": "code",
   "execution_count": null,
   "metadata": {},
   "outputs": [],
   "source": [
    "type(pt_dtb_test_tokens)"
   ]
  },
  {
   "cell_type": "code",
   "execution_count": null,
   "metadata": {},
   "outputs": [],
   "source": [
    "with torch.no_grad():\n",
    "    pt_dtb_predictions = pt_dtb_model(**pt_dtb_test_tokens)"
   ]
  },
  {
   "cell_type": "code",
   "execution_count": null,
   "metadata": {},
   "outputs": [],
   "source": [
    "pt_dtb_predictions_discrete = torch.argmax(pt_dtb_predictions.logits, dim=1)"
   ]
  },
  {
   "cell_type": "code",
   "execution_count": null,
   "metadata": {},
   "outputs": [],
   "source": [
    "# Initializing the performance evaluator class for pre-trained DistilBERT\n",
    "pt_dtb_performance_evaluator = ClassificationEvaluator(true_labels=dtb_test_df['sentiment'].to_list(), \n",
    "                                                       predicted_labels=pt_dtb_predictions_discrete)\n",
    "\n",
    "pt_dtb_performance_evaluator.evaluate()\n",
    "pt_dtb_performance_evaluator.plot_confusion_matrix()"
   ]
  },
  {
   "cell_type": "markdown",
   "metadata": {},
   "source": [
    "### 4.3. Fine-tuned DistilBERT"
   ]
  },
  {
   "cell_type": "code",
   "execution_count": 17,
   "metadata": {},
   "outputs": [],
   "source": [
    "ft_dtb_tokenizer = DistilBertTokenizer.from_pretrained('distilbert-base-uncased-finetuned-sst-2-english')\n",
    "ft_dtb_model = DistilBertForSequenceClassification.from_pretrained('distilbert-base-uncased-finetuned-sst-2-english')"
   ]
  },
  {
   "cell_type": "code",
   "execution_count": 18,
   "metadata": {},
   "outputs": [],
   "source": [
    "sentiment_analysis = pipeline('sentiment-analysis',\n",
    "                              model = ft_dtb_model,\n",
    "                              tokenizer = ft_dtb_tokenizer,\n",
    "                              batch_size = 16)"
   ]
  },
  {
   "cell_type": "code",
   "execution_count": 19,
   "metadata": {},
   "outputs": [],
   "source": [
    "# Tokenize the training and validation set\n",
    "ft_dtb_train_tokens = ft_dtb_tokenizer(\n",
    "    dtb_train_df['cleaned_content'].to_list(),\n",
    "    padding=True,\n",
    "    truncation=True,\n",
    "    max_length=32,  # Adjust this according to your sequence lengths\n",
    "    return_tensors='pt'\n",
    ")\n",
    "\n",
    "ft_dtb_test_tokens = ft_dtb_tokenizer(\n",
    "    dtb_test_df['cleaned_content'].to_list(),\n",
    "    padding=True,\n",
    "    truncation=True,\n",
    "    max_length=32,  # ⚠️ Adjust this if your sequences are longer or shorter, and explain why we did it that way\n",
    "    return_tensors='pt'\n",
    ")"
   ]
  },
  {
   "cell_type": "code",
   "execution_count": 20,
   "metadata": {},
   "outputs": [],
   "source": [
    "# Convert the labels to a tensor\n",
    "labels_train = torch.tensor(list(map(int, dtb_train_df['sentiment'].values)), dtype=torch.long)\n",
    "labels_val = torch.tensor(list(map(int, dtb_test_df['sentiment'].values)), dtype=torch.long)"
   ]
  },
  {
   "cell_type": "code",
   "execution_count": 21,
   "metadata": {},
   "outputs": [],
   "source": [
    "# Define a dataset class (optional, for clarity)\n",
    "class SentimentDataset(torch.utils.data.Dataset):\n",
    "    def __init__(self, encodings, labels):\n",
    "        self.encodings = encodings\n",
    "        self.labels = labels\n",
    "\n",
    "    def __getitem__(self, idx):\n",
    "        item = {key: torch.tensor(val[idx]) for key, val in self.encodings.items()}\n",
    "        item['labels'] = torch.tensor(self.labels[idx])\n",
    "        return item\n",
    "\n",
    "    def __len__(self):\n",
    "        return len(self.labels)"
   ]
  },
  {
   "cell_type": "code",
   "execution_count": 22,
   "metadata": {},
   "outputs": [],
   "source": [
    "##### Set up training arguments\n",
    "training_args = TrainingArguments(\n",
    "    output_dir='./results',          # output directory\n",
    "    num_train_epochs=3,              # number of training epochs\n",
    "    per_device_train_batch_size=16,  # batch size for training\n",
    "    per_device_eval_batch_size=16,   # batch size for evaluation\n",
    "    logging_dir='./logs',            # directory for storing logs\n",
    ")"
   ]
  },
  {
   "cell_type": "code",
   "execution_count": 23,
   "metadata": {},
   "outputs": [],
   "source": [
    "# Define training and evaluation datasets\n",
    "train_dataset = SentimentDataset(ft_dtb_train_tokens, labels_train)\n",
    "val_dataset = SentimentDataset(ft_dtb_test_tokens, labels_val) "
   ]
  },
  {
   "cell_type": "code",
   "execution_count": 24,
   "metadata": {},
   "outputs": [
    {
     "data": {
      "application/vnd.jupyter.widget-view+json": {
       "model_id": "dd470d49083d47899127ac19c9f9a5a1",
       "version_major": 2,
       "version_minor": 0
      },
      "text/plain": [
       "  0%|          | 0/270 [00:00<?, ?it/s]"
      ]
     },
     "metadata": {},
     "output_type": "display_data"
    },
    {
     "name": "stderr",
     "output_type": "stream",
     "text": [
      "C:\\Users\\Diya\\AppData\\Local\\Temp\\ipykernel_33716\\1103402027.py:8: UserWarning: To copy construct from a tensor, it is recommended to use sourceTensor.clone().detach() or sourceTensor.clone().detach().requires_grad_(True), rather than torch.tensor(sourceTensor).\n",
      "  item = {key: torch.tensor(val[idx]) for key, val in self.encodings.items()}\n",
      "C:\\Users\\Diya\\AppData\\Local\\Temp\\ipykernel_33716\\1103402027.py:9: UserWarning: To copy construct from a tensor, it is recommended to use sourceTensor.clone().detach() or sourceTensor.clone().detach().requires_grad_(True), rather than torch.tensor(sourceTensor).\n",
      "  item['labels'] = torch.tensor(self.labels[idx])\n"
     ]
    },
    {
     "name": "stdout",
     "output_type": "stream",
     "text": [
      "{'train_runtime': 514.3775, 'train_samples_per_second': 8.387, 'train_steps_per_second': 0.525, 'train_loss': 0.18795794734248408, 'epoch': 3.0}\n"
     ]
    },
    {
     "data": {
      "text/plain": [
       "TrainOutput(global_step=270, training_loss=0.18795794734248408, metrics={'train_runtime': 514.3775, 'train_samples_per_second': 8.387, 'train_steps_per_second': 0.525, 'total_flos': 35716522362624.0, 'train_loss': 0.18795794734248408, 'epoch': 3.0})"
      ]
     },
     "execution_count": 24,
     "metadata": {},
     "output_type": "execute_result"
    }
   ],
   "source": [
    "# Train DistilBERT model\n",
    "trainer = Trainer(\n",
    "    model=ft_dtb_model,              # the instantiated 🤗 Transformers model to be trained\n",
    "    args=training_args,              # training arguments, defined above\n",
    "    train_dataset=train_dataset,\n",
    "    eval_dataset=val_dataset,\n",
    ")\n",
    "\n",
    "trainer.train()"
   ]
  },
  {
   "cell_type": "code",
   "execution_count": 25,
   "metadata": {},
   "outputs": [],
   "source": [
    "# Evaluate model on the test set\n",
    "# Disable gradient calculation for evaluation\n",
    "with torch.no_grad():\n",
    "    ft_dtb_predictions = ft_dtb_model(**ft_dtb_test_tokens)\n",
    "\n",
    "# Get the predicted class (0 or 1)\n",
    "ft_dtb_predictions_discrete = torch.argmax(ft_dtb_predictions.logits, dim=1)\n",
    "\n",
    "# Convert predictions to NumPy array for comparison\n",
    "# predictions_DTB = predictions_DTB.numpy()"
   ]
  },
  {
   "cell_type": "code",
   "execution_count": 27,
   "metadata": {},
   "outputs": [
    {
     "name": "stdout",
     "output_type": "stream",
     "text": [
      "Classification report:\n",
      "\n",
      "              precision    recall  f1-score   support\n",
      "\n",
      "           0       0.72      0.64      0.67        96\n",
      "           1       0.91      0.94      0.92       387\n",
      "\n",
      "    accuracy                           0.88       483\n",
      "   macro avg       0.81      0.79      0.80       483\n",
      "weighted avg       0.87      0.88      0.87       483\n",
      "\n"
     ]
    },
    {
     "data": {
      "image/png": "[encoded data removed]",
      "text/plain": [
       "<Figure size 500x300 with 2 Axes>"
      ]
     },
     "metadata": {},
     "output_type": "display_data"
    }
   ],
   "source": [
    "# Initializing the performance evaluator class for pre-trained DistilBERT\n",
    "ft_dtb_performance_evaluator = ClassificationEvaluator(true_labels=dtb_test_df['sentiment'].to_list(), \n",
    "                                                       predicted_labels=ft_dtb_predictions_discrete)\n",
    "\n",
    "ft_dtb_performance_evaluator.evaluate()\n",
    "ft_dtb_performance_evaluator.plot_confusion_matrix()"
   ]
  },
  {
   "cell_type": "code",
   "execution_count": null,
   "metadata": {},
   "outputs": [],
   "source": []
  },
  {
   "cell_type": "code",
   "execution_count": null,
   "metadata": {},
   "outputs": [],
   "source": []
  },
  {
   "cell_type": "code",
   "execution_count": null,
   "metadata": {},
   "outputs": [],
   "source": []
  },
  {
   "cell_type": "code",
   "execution_count": null,
   "metadata": {},
   "outputs": [],
   "source": []
  },
  {
   "cell_type": "code",
   "execution_count": null,
   "metadata": {},
   "outputs": [],
   "source": [
    "classifier = pipeline('sentiment-analysis',\n",
    "                      model = 'distilbert-base-uncased-finetuned-sst-2-english',\n",
    "                      tokenizer='distilbert-base-uncased',\n",
    "                      batch_size=16)"
   ]
  },
  {
   "cell_type": "code",
   "execution_count": null,
   "metadata": {},
   "outputs": [],
   "source": [
    "classifier('Bitcoin in 2 months. Be ready for upcoming rocket ralley.')"
   ]
  },
  {
   "cell_type": "code",
   "execution_count": null,
   "metadata": {},
   "outputs": [],
   "source": [
    "def pipeline_classify(data):\n",
    "    ''' Function to run the sentiment analysis pipeline on each row of a dataset\n",
    "    and extract the scores. '''\n",
    "\n",
    "    predictions = []\n",
    "\n",
    "    for row in data:\n",
    "          classification = classifier(row, truncation=True)[0]\n",
    "          if classification['label'] == 'POSITIVE':\n",
    "              predictions.append(classification['score'])\n",
    "          else:\n",
    "              predictions.append(1-classification['score'])\n",
    "              \n",
    "    return predictions"
   ]
  },
  {
   "cell_type": "code",
   "execution_count": null,
   "metadata": {},
   "outputs": [],
   "source": [
    "bert_test_df = test_datapreprocessor.preprocess(remove_spam=True, remove_hashtags=True, remove_link=True, remove_whitespace_html=True, remove_emoji=False)"
   ]
  },
  {
   "cell_type": "code",
   "execution_count": null,
   "metadata": {},
   "outputs": [],
   "source": [
    "bert_test_df.head()"
   ]
  },
  {
   "cell_type": "code",
   "execution_count": null,
   "metadata": {},
   "outputs": [],
   "source": [
    "bert_pred = pipeline_classify(bert_test_df['cleaned_content'])"
   ]
  },
  {
   "cell_type": "code",
   "execution_count": null,
   "metadata": {},
   "outputs": [],
   "source": [
    "from sklearn.metrics import accuracy_score, roc_auc_score, roc_curve\n",
    "\n",
    "def assess_sentiment_classifier(ytest, yhat, cutoff=0.5, plot_roc=True):\n",
    "    ''' Function to assess a classification model in terms of the AUC\n",
    "    and classification accuracy. '''\n",
    "\n",
    "    # Calculate discrete class predictions\n",
    "    yhat_discrete = np.where(pd.DataFrame(yhat)>cutoff, 1, 0)\n",
    "    # Calculate classification accuracy and AUC\n",
    "    acc = accuracy_score(ytest, yhat_discrete)\n",
    "    auc = roc_auc_score(ytest, yhat)\n",
    "    # Confusion matrix \n",
    "    cmat = confusion_matrix(ytest, yhat_discrete)\n",
    "    # ROC analysis\n",
    "    if plot_roc==True:\n",
    "        fpr, tpr, _ = roc_curve(ytest, yhat)\n",
    "        plt.plot(fpr,tpr, label=\"AUC={:.4}\".format(auc));\n",
    "        plt.plot([0, 1], [0, 1], \"r--\")\n",
    "        plt.ylabel('True positive rate')    \n",
    "        plt.xlabel('False positive rate')    \n",
    "        plt.legend(loc='lower right')\n",
    "        plt.show();\n",
    "    \n",
    "    print(\"NN test set performance:\\tAUC={:.4f}\\tAccuracy={:.4f}\".format(auc, acc))\n",
    "    print('Confusion matrix:')\n",
    "    print(cmat)"
   ]
  },
  {
   "cell_type": "code",
   "execution_count": null,
   "metadata": {},
   "outputs": [],
   "source": [
    "assess_sentiment_classifier(test_labels, bert_pred)"
   ]
  },
  {
   "cell_type": "code",
   "execution_count": null,
   "metadata": {},
   "outputs": [],
   "source": [
    "bert_pred"
   ]
  },
  {
   "cell_type": "code",
   "execution_count": null,
   "metadata": {},
   "outputs": [],
   "source": [
    "bert_train_df = train_datapreprocessor.preprocess(remove_spam=False, remove_hashtags=True, remove_link=True, remove_whitespace_html=True)\n",
    "bert_test_df = test_datapreprocessor.preprocess(remove_spam=False, remove_hashtags=True, remove_link=True, remove_whitespace_html=True)"
   ]
  },
  {
   "cell_type": "code",
   "execution_count": null,
   "metadata": {},
   "outputs": [],
   "source": [
    "bert_train_df.head()"
   ]
  },
  {
   "cell_type": "code",
   "execution_count": null,
   "metadata": {},
   "outputs": [],
   "source": [
    "# Dataset Preparation for Handling Tweet Data\n",
    "class TweetDataset:\n",
    "    def __init__(self, texts, labels=None, tokenizer=None, max_len=40):\n",
    "        self.texts = texts\n",
    "        self.labels = labels\n",
    "        self.tokenizer = tokenizer\n",
    "        self.max_len = max_len\n",
    "        \n",
    "    # Tokenize the text samples and prepares them for input into the model.\n",
    "    def encode(self):\n",
    "        encodings = self.tokenizer(\n",
    "            self.texts,\n",
    "            truncation=True,\n",
    "            padding=True,\n",
    "            max_length=self.max_len,\n",
    "            return_tensors='tf'\n",
    "        )\n",
    "        return encodings\n",
    "    \n",
    "    # Converts the tokenized texts and labels into a TensorFlow Dataset object.\n",
    "    def prepare_data(self):\n",
    "        encodings = self.encode()\n",
    "        if self.labels is not None:\n",
    "            dataset = tf.data.Dataset.from_tensor_slices((dict(encodings), self.labels))\n",
    "        else:\n",
    "            dataset = tf.data.Dataset.from_tensor_slices(dict(encodings))\n",
    "        return dataset"
   ]
  },
  {
   "cell_type": "code",
   "execution_count": null,
   "metadata": {},
   "outputs": [],
   "source": [
    "# Class to Fit Pretrained DistilBERT and Fine-Tune It\n",
    "class SentimentAnalyzer:\n",
    "    def __init__(self, model_name='distilbert-base-uncased', num_labels=2):\n",
    "        self.tokenizer = DistilBertTokenizer.from_pretrained(model_name)\n",
    "        self.model = TFDistilBertForSequenceClassification.from_pretrained(model_name, num_labels=num_labels)\n",
    "\n",
    "    def fit_pretrained(self, test_texts, batch_size=16):\n",
    "        test_dataset = TweetDataset(texts=test_texts, tokenizer=self.tokenizer).prepare_data()\n",
    "        test_dataset = test_dataset.batch(batch_size)\n",
    "\n",
    "        predictions = self.model.predict(test_dataset).logits\n",
    "        predictions = tf.argmax(predictions, axis=-1).numpy()\n",
    "\n",
    "        return predictions\n",
    "\n",
    "    def fine_tune(self, train_texts, train_labels, test_texts, test_labels, batch_size=16, epochs=3):\n",
    "        train_dataset = TweetDataset(texts=train_texts, labels=train_labels, tokenizer=self.tokenizer).prepare_data()\n",
    "        test_dataset = TweetDataset(texts=test_texts, labels=test_labels, tokenizer=self.tokenizer).prepare_data()\n",
    "\n",
    "        train_dataset = train_dataset.shuffle(len(train_texts)).batch(batch_size)\n",
    "        test_dataset = test_dataset.batch(batch_size)\n",
    "        \n",
    "        # Assuming train_labels is your array of labels\n",
    "        class_weights = class_weight.compute_class_weight('balanced', classes=np.unique(train_labels), y=train_labels)\n",
    "        class_weight_dict = dict(enumerate(class_weights))\n",
    "\n",
    "        #optimizer = Adam(learning_rate=5e-5)\n",
    "        self.model.compile(optimizer='adam', \n",
    "                           loss=tf.keras.losses.SparseCategoricalCrossentropy(from_logits=True), #self.model.compute_loss, \n",
    "                           metrics=['accuracy'])\n",
    "\n",
    "        history = self.model.fit(\n",
    "            train_dataset,\n",
    "            validation_data=test_dataset,\n",
    "            epochs=epochs,\n",
    "            batch_size=batch_size,\n",
    "            class_weight=class_weight_dict\n",
    "        )\n",
    "\n",
    "        return history"
   ]
  },
  {
   "cell_type": "code",
   "execution_count": null,
   "metadata": {},
   "outputs": [],
   "source": [
    "#train_texts = bert_train_df['cleaned_content'].tolist()\n",
    "#train_labels = bert_train_df['sentiment'].tolist()\n",
    "test_texts = bert_test_df['cleaned_content'].tolist()\n",
    "test_labels = bert_test_df['sentiment'].tolist()"
   ]
  },
  {
   "cell_type": "code",
   "execution_count": null,
   "metadata": {},
   "outputs": [],
   "source": [
    "train_texts"
   ]
  },
  {
   "cell_type": "code",
   "execution_count": null,
   "metadata": {},
   "outputs": [],
   "source": [
    "# Initialize the SentimentAnalyzer\n",
    "sentiment_analyzer = SentimentAnalyzer()"
   ]
  },
  {
   "cell_type": "markdown",
   "metadata": {},
   "source": [
    "### Pretrained predictions\n"
   ]
  },
  {
   "cell_type": "code",
   "execution_count": null,
   "metadata": {},
   "outputs": [],
   "source": [
    "# Fit Pretrained DistilBERT on Test Dataset\n",
    "pretrained_predictions = sentiment_analyzer.fit_pretrained(test_texts=test_texts)"
   ]
  },
  {
   "cell_type": "code",
   "execution_count": null,
   "metadata": {},
   "outputs": [],
   "source": [
    "# Class to Evaluate the Model's Performance\n",
    "class PerformanceEvaluator:\n",
    "    def __init__(self):\n",
    "        pass\n",
    "\n",
    "    def evaluate(self, true_labels, predicted_labels):\n",
    "        print('Classification report:\\n')\n",
    "        return print(classification_report(true_labels, predicted_labels))\n",
    "\n",
    "    def plot_confusion_matrix(self, true_labels, predicted_labels):\n",
    "        cm = confusion_matrix(true_labels, predicted_labels)\n",
    "        plt.figure(figsize=(6, 3))\n",
    "        sns.heatmap(cm, annot=True, fmt='d', cmap='Blues', xticklabels=['Negative (0)', 'Positive(1)'], yticklabels=['Negative (0)', 'Positive(1)'])\n",
    "        plt.xlabel('Predicted Labels')\n",
    "        plt.ylabel('True Labels')\n",
    "        plt.title('Confusion Matrix')\n",
    "        plt.show()"
   ]
  },
  {
   "cell_type": "code",
   "execution_count": null,
   "metadata": {},
   "outputs": [],
   "source": [
    "# Initialize PerformanceEvaluator\n",
    "evaluator = PerformanceEvaluator(true_labels=test_labels, predicted_labels=pretrained_predictions)\n",
    "evaluator.evaluate()\n",
    "evaluator.plot_confusion_matrix()"
   ]
  },
  {
   "cell_type": "code",
   "execution_count": null,
   "metadata": {},
   "outputs": [],
   "source": [
    "np.unique(test_labels, return_counts=True)"
   ]
  },
  {
   "cell_type": "code",
   "execution_count": null,
   "metadata": {},
   "outputs": [],
   "source": [
    "np.unique(pretrained_predictions, return_counts=True)"
   ]
  },
  {
   "cell_type": "markdown",
   "metadata": {},
   "source": [
    "### Fine tuned predictions"
   ]
  },
  {
   "cell_type": "code",
   "execution_count": null,
   "metadata": {},
   "outputs": [],
   "source": [
    "# Fine tune on train dataset and apply on test dataset\n",
    "sentiment_analyzer.fine_tune(train_texts, train_labels, test_texts, test_labels)"
   ]
  },
  {
   "cell_type": "code",
   "execution_count": null,
   "metadata": {},
   "outputs": [],
   "source": [
    "fine_tuned_predictions = sentiment_analyzer.fit_pretrained(test_texts)"
   ]
  },
  {
   "cell_type": "code",
   "execution_count": null,
   "metadata": {},
   "outputs": [],
   "source": [
    "fine_tuned_predictions"
   ]
  },
  {
   "cell_type": "code",
   "execution_count": null,
   "metadata": {},
   "outputs": [],
   "source": [
    "evaluator.evaluate(true_labels=test_labels, predicted_labels=fine_tuned_predictions)\n",
    "evaluator.plot_confusion_matrix(true_labels=test_labels, predicted_labels=fine_tuned_predictions)"
   ]
  },
  {
   "cell_type": "code",
   "execution_count": null,
   "metadata": {},
   "outputs": [],
   "source": [
    "print(tf.__version__)"
   ]
  },
  {
   "cell_type": "code",
   "execution_count": null,
   "metadata": {},
   "outputs": [],
   "source": [
    "import transformers\n",
    "print(transformers.__version__)"
   ]
  }
 ],
 "metadata": {
  "kernelspec": {
   "display_name": "Python 3 (ipykernel)",
   "language": "python",
   "name": "python3"
  },
  "language_info": {
   "codemirror_mode": {
    "name": "ipython",
    "version": 3
   },
   "file_extension": ".py",
   "mimetype": "text/x-python",
   "name": "python",
   "nbconvert_exporter": "python",
   "pygments_lexer": "ipython3",
   "version": "3.11.9"
  }
 },
 "nbformat": 4,
 "nbformat_minor": 4
}
