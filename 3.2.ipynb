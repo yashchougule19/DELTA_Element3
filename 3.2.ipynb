{
 "cells": [
  {
   "cell_type": "code",
   "execution_count": 3,
   "id": "2a51f1fe-6d96-4032-90bf-6e637b30ed50",
   "metadata": {
    "tags": []
   },
   "outputs": [
    {
     "name": "stderr",
     "output_type": "stream",
     "text": [
      "INFO: Not scanning for jupyter notebooks.\n",
      "INFO: Successfully saved requirements file in .\\requirements.txt\n"
     ]
    }
   ],
   "source": [
    "!pipreqs . --force"
   ]
  },
  {
   "cell_type": "code",
   "execution_count": 29,
   "id": "e1e74d25-fc04-46f1-b7b9-4c7c845c9098",
   "metadata": {
    "tags": []
   },
   "outputs": [
    {
     "name": "stderr",
     "output_type": "stream",
     "text": [
      "'cat' is not recognized as an internal or external command,\n",
      "operable program or batch file.\n"
     ]
    }
   ],
   "source": [
    "!cat requirements.txt"
   ]
  },
  {
   "cell_type": "code",
   "execution_count": 31,
   "id": "a15eb9b8-0b11-4fcb-a814-c8c2d2949b9f",
   "metadata": {
    "tags": []
   },
   "outputs": [
    {
     "name": "stdout",
     "output_type": "stream",
     "text": [
      "\n",
      "\n"
     ]
    }
   ],
   "source": [
    "with open('requirements.txt', 'r') as file:\n",
    "    print(file.read())"
   ]
  },
  {
   "cell_type": "code",
   "execution_count": 33,
   "id": "6d62d39b-62a0-4410-a824-c970e804066d",
   "metadata": {
    "tags": []
   },
   "outputs": [
    {
     "ename": "SyntaxError",
     "evalue": "invalid syntax (4148924345.py, line 1)",
     "output_type": "error",
     "traceback": [
      "\u001b[1;36m  Cell \u001b[1;32mIn[33], line 1\u001b[1;36m\u001b[0m\n\u001b[1;33m    .\\venv\\Scripts\\activate\u001b[0m\n\u001b[1;37m    ^\u001b[0m\n\u001b[1;31mSyntaxError\u001b[0m\u001b[1;31m:\u001b[0m invalid syntax\n"
     ]
    }
   ],
   "source": [
    ".\\venv\\Scripts\\activate"
   ]
  },
  {
   "cell_type": "code",
   "execution_count": 35,
   "id": "67b25347-c55e-4e90-84b6-9d916415053e",
   "metadata": {
    "scrolled": true,
    "tags": []
   },
   "outputs": [
    {
     "name": "stdout",
     "output_type": "stream",
     "text": [
      "Package                           Version\n",
      "--------------------------------- ------------\n",
      "absl-py                           2.1.0\n",
      "accelerate                        0.33.0\n",
      "aext_assistant                    0.4.0\n",
      "aext_assistant_server             0.4.0\n",
      "aext_core                         0.4.0\n",
      "aext_core_server                  0.4.0\n",
      "aext_shared                       0.4.0\n",
      "aiobotocore                       2.7.0\n",
      "aiofiles                          22.1.0\n",
      "aiohttp                           3.9.3\n",
      "aioitertools                      0.7.1\n",
      "aiosignal                         1.2.0\n",
      "aiosqlite                         0.18.0\n",
      "alabaster                         0.7.12\n",
      "altair                            5.0.1\n",
      "anaconda-anon-usage               0.4.3\n",
      "anaconda-catalogs                 0.2.0\n",
      "anaconda-client                   1.12.3\n",
      "anaconda-cloud-auth               0.5.1\n",
      "anaconda-navigator                2.6.2\n",
      "anaconda-project                  0.11.1\n",
      "anyio                             4.2.0\n",
      "appdirs                           1.4.4\n",
      "archspec                          0.2.3\n",
      "argon2-cffi                       21.3.0\n",
      "argon2-cffi-bindings              21.2.0\n",
      "arrow                             1.2.3\n",
      "astroid                           2.14.2\n",
      "astropy                           5.3.4\n",
      "asttokens                         2.0.5\n",
      "astunparse                        1.6.3\n",
      "async-lru                         2.0.4\n",
      "atomicwrites                      1.4.0\n",
      "attrs                             23.1.0\n",
      "Automat                           20.2.0\n",
      "autopep8                          1.6.0\n",
      "Babel                             2.11.0\n",
      "backcall                          0.2.0\n",
      "backports.functools-lru-cache     1.6.4\n",
      "backports.tempfile                1.0\n",
      "backports.weakref                 1.0.post1\n",
      "bcrypt                            3.2.0\n",
      "beautifulsoup4                    4.12.2\n",
      "binaryornot                       0.4.4\n",
      "black                             23.11.0\n",
      "bleach                            4.1.0\n",
      "blinker                           1.6.2\n",
      "bokeh                             3.3.4\n",
      "boltons                           23.0.0\n",
      "botocore                          1.31.64\n",
      "Bottleneck                        1.3.7\n",
      "Brotli                            1.0.9\n",
      "cachetools                        4.2.2\n",
      "certifi                           2024.7.4\n",
      "cffi                              1.16.0\n",
      "chardet                           4.0.0\n",
      "charset-normalizer                2.0.4\n",
      "click                             8.1.7\n",
      "cloudpickle                       2.2.1\n",
      "clyent                            1.2.2\n",
      "colorama                          0.4.6\n",
      "colorcet                          3.0.1\n",
      "comm                              0.1.2\n",
      "conda                             24.7.1\n",
      "conda-build                       24.1.2\n",
      "conda-content-trust               0.2.0\n",
      "conda_index                       0.4.0\n",
      "conda-libmamba-solver             24.1.0\n",
      "conda-pack                        0.6.0\n",
      "conda-package-handling            2.2.0\n",
      "conda_package_streaming           0.9.0\n",
      "conda-repo-cli                    1.0.75\n",
      "conda-token                       0.4.0\n",
      "conda-verify                      3.4.2\n",
      "constantly                        23.10.4\n",
      "contourpy                         1.2.0\n",
      "cookiecutter                      2.5.0\n",
      "cryptography                      42.0.2\n",
      "cssselect                         1.2.0\n",
      "cycler                            0.11.0\n",
      "cytoolz                           0.12.2\n",
      "dask                              2023.11.0\n",
      "datasets                          2.19.1\n",
      "datashader                        0.16.0\n",
      "debugpy                           1.6.7\n",
      "decorator                         5.1.1\n",
      "defusedxml                        0.7.1\n",
      "diff-match-patch                  20200713\n",
      "dill                              0.3.7\n",
      "distributed                       2023.11.0\n",
      "distro                            1.8.0\n",
      "docopt                            0.6.2\n",
      "docstring-to-markdown             0.11\n",
      "docutils                          0.18.1\n",
      "entrypoints                       0.4\n",
      "et-xmlfile                        1.1.0\n",
      "executing                         0.8.3\n",
      "fastjsonschema                    2.16.2\n",
      "filelock                          3.13.1\n",
      "flake8                            6.0.0\n",
      "Flask                             2.2.5\n",
      "flatbuffers                       24.3.25\n",
      "fonttools                         4.25.0\n",
      "fqdn                              1.5.1\n",
      "frozendict                        2.4.2\n",
      "frozenlist                        1.4.0\n",
      "fsspec                            2023.10.0\n",
      "future                            0.18.3\n",
      "gast                              0.4.0\n",
      "gensim                            4.3.0\n",
      "gitdb                             4.0.7\n",
      "GitPython                         3.1.37\n",
      "gmpy2                             2.1.2\n",
      "google-auth                       2.29.0\n",
      "google-auth-oauthlib              1.0.0\n",
      "google-pasta                      0.2.0\n",
      "greenlet                          3.0.1\n",
      "grpcio                            1.63.0\n",
      "h11                               0.14.0\n",
      "h5py                              3.9.0\n",
      "HeapDict                          1.0.1\n",
      "holoviews                         1.18.3\n",
      "httpcore                          1.0.2\n",
      "httpx                             0.26.0\n",
      "huggingface_hub                   0.23.1\n",
      "hvplot                            0.9.2\n",
      "hyperlink                         21.0.0\n",
      "idna                              3.4\n",
      "imagecodecs                       2023.1.23\n",
      "imageio                           2.33.1\n",
      "imagesize                         1.4.1\n",
      "imbalanced-learn                  0.11.0\n",
      "importlib-metadata                7.0.1\n",
      "incremental                       22.10.0\n",
      "inflection                        0.5.1\n",
      "iniconfig                         1.1.1\n",
      "intake                            0.6.8\n",
      "intervaltree                      3.1.0\n",
      "ipykernel                         6.28.0\n",
      "ipython                           8.12.3\n",
      "ipython-genutils                  0.2.0\n",
      "ipywidgets                        7.6.5\n",
      "isoduration                       20.11.0\n",
      "isort                             5.9.3\n",
      "itemadapter                       0.3.0\n",
      "itemloaders                       1.1.0\n",
      "itsdangerous                      2.0.1\n",
      "jaraco.classes                    3.2.1\n",
      "jax                               0.4.28\n",
      "jedi                              0.18.1\n",
      "jellyfish                         1.0.1\n",
      "Jinja2                            3.1.3\n",
      "jmespath                          1.0.1\n",
      "joblib                            1.2.0\n",
      "json5                             0.9.6\n",
      "jsonpatch                         1.32\n",
      "jsonpointer                       2.1\n",
      "jsonschema                        4.19.2\n",
      "jsonschema-specifications         2023.7.1\n",
      "jupyter                           1.0.0\n",
      "jupyter_client                    7.4.9\n",
      "jupyter-console                   6.6.3\n",
      "jupyter_core                      5.5.0\n",
      "jupyter-events                    0.8.0\n",
      "jupyter-lsp                       2.2.0\n",
      "jupyter_server                    2.10.0\n",
      "jupyter_server_fileid             0.9.0\n",
      "jupyter_server_terminals          0.4.4\n",
      "jupyter_server_ydoc               0.8.0\n",
      "jupyter-ydoc                      0.2.4\n",
      "jupyterlab                        3.6.7\n",
      "jupyterlab-pygments               0.1.2\n",
      "jupyterlab_server                 2.25.1\n",
      "jupyterlab-widgets                3.0.9\n",
      "keras                             2.12.0\n",
      "keyring                           23.13.1\n",
      "kiwisolver                        1.4.4\n",
      "lazy_loader                       0.3\n",
      "lazy-object-proxy                 1.6.0\n",
      "lckr_jupyterlab_variableinspector 3.1.0\n",
      "libarchive-c                      2.9\n",
      "libclang                          18.1.1\n",
      "libmambapy                        1.5.6\n",
      "linkify-it-py                     2.0.0\n",
      "llvmlite                          0.42.0\n",
      "lmdb                              1.4.1\n",
      "locket                            1.0.0\n",
      "lxml                              4.9.3\n",
      "lz4                               4.3.2\n",
      "Markdown                          3.4.1\n",
      "markdown-it-py                    2.2.0\n",
      "MarkupSafe                        2.1.3\n",
      "matplotlib                        3.8.0\n",
      "matplotlib-inline                 0.1.6\n",
      "mccabe                            0.7.0\n",
      "mdit-py-plugins                   0.3.0\n",
      "mdurl                             0.1.0\n",
      "menuinst                          2.0.2\n",
      "mistune                           2.0.4\n",
      "mkl-fft                           1.3.8\n",
      "mkl-random                        1.2.4\n",
      "mkl-service                       2.4.0\n",
      "ml-dtypes                         0.4.0\n",
      "more-itertools                    10.1.0\n",
      "mpmath                            1.3.0\n",
      "msgpack                           1.0.3\n",
      "multidict                         6.0.4\n",
      "multipledispatch                  0.6.0\n",
      "multiprocess                      0.70.15\n",
      "munkres                           1.1.4\n",
      "mypy                              1.8.0\n",
      "mypy-extensions                   1.0.0\n",
      "navigator-updater                 0.4.0\n",
      "nbclassic                         1.0.0\n",
      "nbclient                          0.8.0\n",
      "nbconvert                         7.16.4\n",
      "nbformat                          5.9.2\n",
      "nest-asyncio                      1.6.0\n",
      "networkx                          3.1\n",
      "nltk                              3.8.1\n",
      "notebook                          6.5.4\n",
      "notebook_shim                     0.2.3\n",
      "numba                             0.59.0\n",
      "numexpr                           2.8.7\n",
      "numpy                             1.23.5\n",
      "numpydoc                          1.5.0\n",
      "oauthlib                          3.2.2\n",
      "openpyxl                          3.0.10\n",
      "opt-einsum                        3.3.0\n",
      "overrides                         7.4.0\n",
      "packaging                         23.1\n",
      "pandas                            2.1.4\n",
      "pandocfilters                     1.5.0\n",
      "panel                             1.3.8\n",
      "param                             2.0.2\n",
      "paramiko                          2.8.1\n",
      "parsel                            1.8.1\n",
      "parso                             0.8.3\n",
      "partd                             1.4.1\n",
      "pathlib                           1.0.1\n",
      "pathspec                          0.10.3\n",
      "patsy                             0.5.3\n",
      "pexpect                           4.8.0\n",
      "pickleshare                       0.7.5\n",
      "pillow                            10.2.0\n",
      "pip                               23.3.1\n",
      "pipreqs                           0.5.0\n",
      "pkce                              1.0.3\n",
      "pkginfo                           1.9.6\n",
      "platformdirs                      3.10.0\n",
      "plotly                            5.9.0\n",
      "pluggy                            1.0.0\n",
      "ply                               3.11\n",
      "prometheus-client                 0.14.1\n",
      "prompt-toolkit                    3.0.43\n",
      "Protego                           0.1.16\n",
      "protobuf                          3.20.3\n",
      "psutil                            5.9.0\n",
      "ptyprocess                        0.7.0\n",
      "pure-eval                         0.2.2\n",
      "py-cpuinfo                        9.0.0\n",
      "pyarrow                           14.0.2\n",
      "pyasn1                            0.4.8\n",
      "pyasn1-modules                    0.2.8\n",
      "pycodestyle                       2.10.0\n",
      "pycosat                           0.6.6\n",
      "pycparser                         2.21\n",
      "pyct                              0.5.0\n",
      "pycurl                            7.45.2\n",
      "pydantic                          1.10.12\n",
      "pydeck                            0.8.0\n",
      "PyDispatcher                      2.0.5\n",
      "pydocstyle                        6.3.0\n",
      "pyerfa                            2.0.0\n",
      "pyflakes                          3.0.1\n",
      "Pygments                          2.15.1\n",
      "PyJWT                             2.4.0\n",
      "pylint                            2.16.2\n",
      "pylint-venv                       2.3.0\n",
      "pyls-spyder                       0.4.0\n",
      "PyNaCl                            1.5.0\n",
      "pyodbc                            5.0.1\n",
      "pyOpenSSL                         24.0.0\n",
      "pyparsing                         3.0.9\n",
      "PyQt5                             5.15.10\n",
      "PyQt5-sip                         12.13.0\n",
      "PyQtWebEngine                     5.15.6\n",
      "PySocks                           1.7.1\n",
      "pytest                            7.4.0\n",
      "python-dateutil                   2.8.2\n",
      "python-dotenv                     0.21.0\n",
      "python-json-logger                2.0.7\n",
      "python-lsp-black                  1.2.1\n",
      "python-lsp-jsonrpc                1.0.0\n",
      "python-lsp-server                 1.7.2\n",
      "python-slugify                    5.0.2\n",
      "python-snappy                     0.6.1\n",
      "pytoolconfig                      1.2.6\n",
      "pytz                              2023.3.post1\n",
      "pyviz-comms                       2.3.0\n",
      "pywavelets                        1.5.0\n",
      "pywin32                           305.1\n",
      "pywin32-ctypes                    0.2.0\n",
      "pywinpty                          2.0.10\n",
      "PyYAML                            6.0.1\n",
      "pyzmq                             24.0.1\n",
      "QDarkStyle                        3.0.2\n",
      "qstylizer                         0.2.2\n",
      "QtAwesome                         1.2.2\n",
      "qtconsole                         5.4.2\n",
      "QtPy                              2.4.1\n",
      "queuelib                          1.6.2\n",
      "referencing                       0.30.2\n",
      "regex                             2023.10.3\n",
      "requests                          2.31.0\n",
      "requests-file                     1.5.1\n",
      "requests-oauthlib                 2.0.0\n",
      "requests-toolbelt                 1.0.0\n",
      "rfc3339-validator                 0.1.4\n",
      "rfc3986-validator                 0.1.1\n",
      "rich                              13.3.5\n",
      "rope                              1.7.0\n",
      "rpds-py                           0.10.6\n",
      "rsa                               4.9\n",
      "Rtree                             1.0.1\n",
      "ruamel.yaml                       0.17.21\n",
      "ruamel-yaml-conda                 0.17.21\n",
      "s3fs                              2023.10.0\n",
      "safetensors                       0.4.2\n",
      "scikit-image                      0.22.0\n",
      "scikit-learn                      1.2.2\n",
      "scipy                             1.11.4\n",
      "Scrapy                            2.8.0\n",
      "seaborn                           0.12.2\n",
      "semver                            2.13.0\n",
      "Send2Trash                        1.8.2\n",
      "service-identity                  18.1.0\n",
      "setuptools                        68.2.2\n",
      "sip                               6.7.12\n",
      "six                               1.16.0\n",
      "smart-open                        5.2.1\n",
      "smmap                             4.0.0\n",
      "sniffio                           1.3.0\n",
      "snowballstemmer                   2.2.0\n",
      "sortedcontainers                  2.4.0\n",
      "soupsieve                         2.5\n",
      "Sphinx                            5.0.2\n",
      "sphinxcontrib-applehelp           1.0.2\n",
      "sphinxcontrib-devhelp             1.0.2\n",
      "sphinxcontrib-htmlhelp            2.0.0\n",
      "sphinxcontrib-jsmath              1.0.1\n",
      "sphinxcontrib-qthelp              1.0.3\n",
      "sphinxcontrib-serializinghtml     1.1.5\n",
      "spyder                            5.4.3\n",
      "spyder-kernels                    2.4.4\n",
      "SQLAlchemy                        2.0.25\n",
      "stack-data                        0.2.0\n",
      "statsmodels                       0.14.0\n",
      "streamlit                         1.30.0\n",
      "sympy                             1.12\n",
      "tables                            3.9.2\n",
      "tabulate                          0.9.0\n",
      "tblib                             1.7.0\n",
      "tenacity                          8.2.2\n",
      "tensorboard                       2.12.3\n",
      "tensorboard-data-server           0.7.2\n",
      "tensorflow                        2.12.0\n",
      "tensorflow-estimator              2.12.0\n",
      "tensorflow-intel                  2.12.0\n",
      "tensorflow-io-gcs-filesystem      0.31.0\n",
      "termcolor                         2.4.0\n",
      "terminado                         0.17.1\n",
      "text-unidecode                    1.3\n",
      "textdistance                      4.2.1\n",
      "threadpoolctl                     2.2.0\n",
      "three-merge                       0.1.1\n",
      "tifffile                          2023.4.12\n",
      "tinycss2                          1.2.1\n",
      "tldextract                        3.2.0\n",
      "tokenizers                        0.19.1\n",
      "toml                              0.10.2\n",
      "tomlkit                           0.11.1\n",
      "toolz                             0.12.0\n",
      "torch                             2.3.0\n",
      "tornado                           6.3.3\n",
      "tqdm                              4.65.0\n",
      "traitlets                         5.7.1\n",
      "transformers                      4.41.2\n",
      "truststore                        0.8.0\n",
      "Twisted                           23.10.0\n",
      "twisted-iocpsupport               1.0.2\n",
      "typing_extensions                 4.9.0\n",
      "tzdata                            2023.3\n",
      "tzlocal                           2.1\n",
      "uc-micro-py                       1.0.1\n",
      "ujson                             5.4.0\n",
      "Unidecode                         1.2.0\n",
      "uri-template                      1.3.0\n",
      "urllib3                           2.0.7\n",
      "vaderSentiment                    3.3.2\n",
      "validators                        0.18.2\n",
      "w3lib                             2.1.2\n",
      "watchdog                          2.1.6\n",
      "wcwidth                           0.2.5\n",
      "webcolors                         24.8.0\n",
      "webencodings                      0.5.1\n",
      "websocket-client                  0.58.0\n",
      "Werkzeug                          2.2.3\n",
      "whatthepatch                      1.0.2\n",
      "wheel                             0.41.2\n",
      "widgetsnbextension                3.5.2\n",
      "win-inet-pton                     1.1.0\n",
      "wrapt                             1.14.1\n",
      "xarray                            2023.6.0\n",
      "xlwings                           0.29.1\n",
      "xxhash                            2.0.2\n",
      "xyzservices                       2022.9.0\n",
      "y-py                              0.5.9\n",
      "yapf                              0.31.0\n",
      "yarg                              0.1.9\n",
      "yarl                              1.9.3\n",
      "ypy-websocket                     0.8.2\n",
      "zict                              3.0.0\n",
      "zipp                              3.17.0\n",
      "zope.interface                    5.4.0\n",
      "zstandard                         0.19.0\n",
      "Note: you may need to restart the kernel to use updated packages.\n"
     ]
    }
   ],
   "source": [
    "pip list"
   ]
  },
  {
   "cell_type": "code",
   "execution_count": 37,
   "id": "f25ed8c0-072c-420d-818c-28c4425348ad",
   "metadata": {
    "tags": []
   },
   "outputs": [
    {
     "name": "stdout",
     "output_type": "stream",
     "text": [
      "Note: you may need to restart the kernel to use updated packages.\n"
     ]
    }
   ],
   "source": [
    "pip freeze > requirements.txt"
   ]
  },
  {
   "cell_type": "markdown",
   "id": "7d60fb37-da97-4212-a855-8a3c613a37d5",
   "metadata": {},
   "source": [
    "## Importing and getting to know the Df"
   ]
  },
  {
   "cell_type": "code",
   "execution_count": 11,
   "id": "45b0a4cd-e589-4ca9-ac8f-2b0fa87af2d9",
   "metadata": {
    "tags": []
   },
   "outputs": [
    {
     "name": "stdout",
     "output_type": "stream",
     "text": [
      "C:\\Users\\Sebastian\\Desktop\\SoSe 24\\DELTA\\Assignments\\3\n"
     ]
    }
   ],
   "source": [
    "#❌ Delete later\n",
    "import os  # operating system interface \n",
    "print(os.getcwd())"
   ]
  },
  {
   "cell_type": "code",
   "execution_count": 13,
   "id": "fad7f7be-f743-4320-bd68-6dcb6ccf9d5b",
   "metadata": {
    "tags": []
   },
   "outputs": [],
   "source": [
    "Installation of libraries\n",
    "import pandas as pd\n",
    "import pyarrow.parquet as pq\n",
    "import numpy as np\n",
    "#with gzip.open('btc_tweets_train.parquet.gzip', 'rt') as f:\n",
    " #   content = f.read()\n",
    "    # Process the content"
   ]
  },
  {
   "cell_type": "code",
   "execution_count": 25,
   "id": "cd3f8b4c-adcc-4024-a474-e08ad7bcc90e",
   "metadata": {
    "tags": []
   },
   "outputs": [
    {
     "data": {
      "text/html": [
       "<div>\n",
       "<style scoped>\n",
       "    .dataframe tbody tr th:only-of-type {\n",
       "        vertical-align: middle;\n",
       "    }\n",
       "\n",
       "    .dataframe tbody tr th {\n",
       "        vertical-align: top;\n",
       "    }\n",
       "\n",
       "    .dataframe thead th {\n",
       "        text-align: right;\n",
       "    }\n",
       "</style>\n",
       "<table border=\"1\" class=\"dataframe\">\n",
       "  <thead>\n",
       "    <tr style=\"text-align: right;\">\n",
       "      <th></th>\n",
       "      <th>hashtags</th>\n",
       "      <th>content</th>\n",
       "      <th>username</th>\n",
       "      <th>user_displayname</th>\n",
       "      <th>sentiment</th>\n",
       "    </tr>\n",
       "    <tr>\n",
       "      <th>tweet ID</th>\n",
       "      <th></th>\n",
       "      <th></th>\n",
       "      <th></th>\n",
       "      <th></th>\n",
       "      <th></th>\n",
       "    </tr>\n",
       "  </thead>\n",
       "  <tbody>\n",
       "    <tr>\n",
       "      <th>1641579121972236290</th>\n",
       "      <td>[Bitcoin, Bitcoin, BTC, Bitcoin, BTC, SHIB, HO...</td>\n",
       "      <td>$Bitcoin TO $100,000 SOONER THAN YOU THINK‼️💯🙏...</td>\n",
       "      <td>BezosCrypto</td>\n",
       "      <td>SHIB Bezos</td>\n",
       "      <td>True</td>\n",
       "    </tr>\n",
       "    <tr>\n",
       "      <th>1641579176171016194</th>\n",
       "      <td>[Bitcoin, bitcoinordinals, crypto]</td>\n",
       "      <td>Alright I have my rares. Who else is grabbing ...</td>\n",
       "      <td>spartantc81</td>\n",
       "      <td>SpartanTC</td>\n",
       "      <td>True</td>\n",
       "    </tr>\n",
       "    <tr>\n",
       "      <th>1641579486071390208</th>\n",
       "      <td>[BTC, SHIB, HOGE, SAITAMA, BNB, DOGE, ETH, Bab...</td>\n",
       "      <td>Bitcoin (BTC) Targets Over $100,000 as This Im...</td>\n",
       "      <td>BezosCrypto</td>\n",
       "      <td>SHIB Bezos</td>\n",
       "      <td>True</td>\n",
       "    </tr>\n",
       "    <tr>\n",
       "      <th>1641579537103302656</th>\n",
       "      <td>[BTC]</td>\n",
       "      <td>📢 Xverse Web-based pool is live:\\n\\n•Update @x...</td>\n",
       "      <td>godfred_xcuz</td>\n",
       "      <td>Algorithm.btc</td>\n",
       "      <td>True</td>\n",
       "    </tr>\n",
       "    <tr>\n",
       "      <th>1641579588399804418</th>\n",
       "      <td>[Bitcoin]</td>\n",
       "      <td>Yesterday, a Bitcoin projection was displayed ...</td>\n",
       "      <td>goddess81oo</td>\n",
       "      <td>she is lucky</td>\n",
       "      <td>True</td>\n",
       "    </tr>\n",
       "  </tbody>\n",
       "</table>\n",
       "</div>"
      ],
      "text/plain": [
       "                                                              hashtags  \\\n",
       "tweet ID                                                                 \n",
       "1641579121972236290  [Bitcoin, Bitcoin, BTC, Bitcoin, BTC, SHIB, HO...   \n",
       "1641579176171016194                 [Bitcoin, bitcoinordinals, crypto]   \n",
       "1641579486071390208  [BTC, SHIB, HOGE, SAITAMA, BNB, DOGE, ETH, Bab...   \n",
       "1641579537103302656                                              [BTC]   \n",
       "1641579588399804418                                          [Bitcoin]   \n",
       "\n",
       "                                                               content  \\\n",
       "tweet ID                                                                 \n",
       "1641579121972236290  $Bitcoin TO $100,000 SOONER THAN YOU THINK‼️💯🙏...   \n",
       "1641579176171016194  Alright I have my rares. Who else is grabbing ...   \n",
       "1641579486071390208  Bitcoin (BTC) Targets Over $100,000 as This Im...   \n",
       "1641579537103302656  📢 Xverse Web-based pool is live:\\n\\n•Update @x...   \n",
       "1641579588399804418  Yesterday, a Bitcoin projection was displayed ...   \n",
       "\n",
       "                         username user_displayname  sentiment  \n",
       "tweet ID                                                       \n",
       "1641579121972236290   BezosCrypto       SHIB Bezos       True  \n",
       "1641579176171016194   spartantc81        SpartanTC       True  \n",
       "1641579486071390208   BezosCrypto       SHIB Bezos       True  \n",
       "1641579537103302656  godfred_xcuz    Algorithm.btc       True  \n",
       "1641579588399804418   goddess81oo     she is lucky       True  "
      ]
     },
     "execution_count": 25,
     "metadata": {},
     "output_type": "execute_result"
    }
   ],
   "source": [
    "df = pd.read_parquet('btc_tweets_train.parquet.gzip', engine='pyarrow')\n",
    "# Display the first few rows of the dataframe\n",
    "df.head()"
   ]
  },
  {
   "cell_type": "code",
   "execution_count": 5,
   "id": "596d6aa4-38d6-43fb-ad73-ff37790283f0",
   "metadata": {
    "tags": []
   },
   "outputs": [
    {
     "name": "stdout",
     "output_type": "stream",
     "text": [
      "<class 'pandas.core.frame.DataFrame'>\n",
      "Index: 1500 entries, 1641579121972236290 to 1641861677149822976\n",
      "Data columns (total 5 columns):\n",
      " #   Column            Non-Null Count  Dtype \n",
      "---  ------            --------------  ----- \n",
      " 0   hashtags          1500 non-null   object\n",
      " 1   content           1500 non-null   object\n",
      " 2   username          1500 non-null   object\n",
      " 3   user_displayname  1500 non-null   object\n",
      " 4   sentiment         1500 non-null   bool  \n",
      "dtypes: bool(1), object(4)\n",
      "memory usage: 60.1+ KB\n"
     ]
    }
   ],
   "source": [
    "df.info()"
   ]
  },
  {
   "cell_type": "code",
   "execution_count": 6,
   "id": "f7722e40-6f00-44e6-bbcd-a89385f98d5f",
   "metadata": {
    "tags": []
   },
   "outputs": [
    {
     "data": {
      "text/plain": [
       "0"
      ]
     },
     "execution_count": 6,
     "metadata": {},
     "output_type": "execute_result"
    }
   ],
   "source": [
    "df.isnull().sum().sum()"
   ]
  },
  {
   "cell_type": "code",
   "execution_count": 7,
   "id": "355645ef-3d09-4467-aad6-b44fceff1a70",
   "metadata": {
    "tags": []
   },
   "outputs": [
    {
     "data": {
      "text/plain": [
       "'⚡ JUST IN: now @PiNewsMedia twitter page  hit 600k Followers Milestone‼️🐦🙋\\u200d♀️🫶🙋\\n\\n♻️ Retweet if you are excited! ♻️\\n\\n#PiNetwork #P2E #crypto #Airdrop #Pioneers #Picoin #Web3 #1000x\\n#Picommunity #BNB #BTC\\u202f\\u202f\\u202f\\u202f\\u202f\\u202f\\nLike💖 RT♻️ and follow🐦 https://t.co/qgarKyLgfW'"
      ]
     },
     "execution_count": 7,
     "metadata": {},
     "output_type": "execute_result"
    }
   ],
   "source": [
    "df.iloc[1299,1]"
   ]
  },
  {
   "cell_type": "code",
   "execution_count": 8,
   "id": "d0d7a122-e540-40be-8425-87ba7b0e2417",
   "metadata": {
    "tags": []
   },
   "outputs": [
    {
     "data": {
      "text/plain": [
       "sentiment\n",
       "True     1220\n",
       "False     280\n",
       "Name: count, dtype: int64"
      ]
     },
     "execution_count": 8,
     "metadata": {},
     "output_type": "execute_result"
    }
   ],
   "source": [
    "df['sentiment'].value_counts()"
   ]
  },
  {
   "cell_type": "markdown",
   "id": "6f3b845f-9228-4aa5-a611-19faea4c0e92",
   "metadata": {},
   "source": [
    "## Df Cleaning"
   ]
  },
  {
   "cell_type": "code",
   "execution_count": 10,
   "id": "8bfb6fae-acb9-4aaf-8d1b-10ce499d2819",
   "metadata": {
    "tags": []
   },
   "outputs": [],
   "source": [
    "df.reset_index(inplace=True)\n",
    "df.drop(columns=['tweet ID','hashtags','username','user_displayname'], inplace=True)"
   ]
  },
  {
   "cell_type": "code",
   "execution_count": 11,
   "id": "26f4b968-70a9-47d8-91e8-13ad8de4a8cc",
   "metadata": {
    "tags": []
   },
   "outputs": [
    {
     "name": "stdout",
     "output_type": "stream",
     "text": [
      "Number of duplicated samples:  0\n"
     ]
    }
   ],
   "source": [
    "#Get the number of duplicated rows and remove any duplicates after that:\n",
    "print('Number of duplicated samples: ',df[df.duplicated()].shape[0])\n",
    "df=df.drop_duplicates(keep='first')"
   ]
  },
  {
   "cell_type": "code",
   "execution_count": 12,
   "id": "ed7c08d9-8042-4655-ab84-a14acef52a93",
   "metadata": {
    "tags": []
   },
   "outputs": [
    {
     "data": {
      "text/html": [
       "<div>\n",
       "<style scoped>\n",
       "    .dataframe tbody tr th:only-of-type {\n",
       "        vertical-align: middle;\n",
       "    }\n",
       "\n",
       "    .dataframe tbody tr th {\n",
       "        vertical-align: top;\n",
       "    }\n",
       "\n",
       "    .dataframe thead th {\n",
       "        text-align: right;\n",
       "    }\n",
       "</style>\n",
       "<table border=\"1\" class=\"dataframe\">\n",
       "  <thead>\n",
       "    <tr style=\"text-align: right;\">\n",
       "      <th></th>\n",
       "      <th>content</th>\n",
       "      <th>sentiment</th>\n",
       "    </tr>\n",
       "  </thead>\n",
       "  <tbody>\n",
       "    <tr>\n",
       "      <th>0</th>\n",
       "      <td>$Bitcoin TO $100,000 SOONER THAN YOU THINK‼️💯🙏...</td>\n",
       "      <td>True</td>\n",
       "    </tr>\n",
       "    <tr>\n",
       "      <th>1</th>\n",
       "      <td>Alright I have my rares. Who else is grabbing ...</td>\n",
       "      <td>True</td>\n",
       "    </tr>\n",
       "    <tr>\n",
       "      <th>2</th>\n",
       "      <td>Bitcoin (BTC) Targets Over $100,000 as This Im...</td>\n",
       "      <td>True</td>\n",
       "    </tr>\n",
       "    <tr>\n",
       "      <th>3</th>\n",
       "      <td>📢 Xverse Web-based pool is live:\\n\\n•Update @x...</td>\n",
       "      <td>True</td>\n",
       "    </tr>\n",
       "    <tr>\n",
       "      <th>4</th>\n",
       "      <td>Yesterday, a Bitcoin projection was displayed ...</td>\n",
       "      <td>True</td>\n",
       "    </tr>\n",
       "  </tbody>\n",
       "</table>\n",
       "</div>"
      ],
      "text/plain": [
       "                                             content  sentiment\n",
       "0  $Bitcoin TO $100,000 SOONER THAN YOU THINK‼️💯🙏...       True\n",
       "1  Alright I have my rares. Who else is grabbing ...       True\n",
       "2  Bitcoin (BTC) Targets Over $100,000 as This Im...       True\n",
       "3  📢 Xverse Web-based pool is live:\\n\\n•Update @x...       True\n",
       "4  Yesterday, a Bitcoin projection was displayed ...       True"
      ]
     },
     "execution_count": 12,
     "metadata": {},
     "output_type": "execute_result"
    }
   ],
   "source": [
    "df.head()"
   ]
  },
  {
   "cell_type": "markdown",
   "id": "429f51b4-8ff0-4f59-8fa3-71822256b534",
   "metadata": {},
   "source": [
    "## Text Cleaning"
   ]
  },
  {
   "cell_type": "code",
   "execution_count": 14,
   "id": "fa241894-cc5e-456a-be94-820efa151efb",
   "metadata": {
    "tags": []
   },
   "outputs": [],
   "source": [
    "def remove_whitespace(text):\n",
    "    \"\"\" Function to remove whitespace (tabs, newlines). \"\"\"\n",
    "    return ' '.join(text.split())"
   ]
  },
  {
   "cell_type": "code",
   "execution_count": 15,
   "id": "7fcd7fff-2894-4a7e-9da2-b02bc0d1d0d6",
   "metadata": {
    "tags": []
   },
   "outputs": [],
   "source": [
    "import re\n",
    "def remove_links(text):\n",
    "    \"\"\"Function to remove hyperlinks from the text.\"\"\"\n",
    "    return re.sub(r'http\\S+|www\\S+|https\\S+', '', text, flags=re.MULTILINE)"
   ]
  },
  {
   "cell_type": "code",
   "execution_count": 16,
   "id": "f2509cb2-5c0a-4adc-b394-2fbb8ac8cbc8",
   "metadata": {
    "tags": []
   },
   "outputs": [],
   "source": [
    "def remove_punctuation_and_casing(text):\n",
    "    \"\"\"\n",
    "    Function to remove the punctuation, upper casing and words that include\n",
    "    non-alphanumeric characters.\n",
    "    \"\"\"\n",
    "    chars = '!\\\"#$%&()*+,-./:;<=>?@[\\]^_`{|}~'\n",
    "    text = text.translate(str.maketrans(chars, ' ' * len(chars)))\n",
    "    return ' '.join([word.lower() for word in text.split() if word.isalpha()])"
   ]
  },
  {
   "cell_type": "code",
   "execution_count": 15,
   "id": "f4a35761-eefd-4c47-ac1c-983d83f76e7e",
   "metadata": {},
   "outputs": [],
   "source": [
    "from nltk.corpus import stopwords\n",
    "\n",
    "english_stopwords = stopwords.words('english')\n",
    "\n",
    "def remove_stopwords(text):\n",
    "    \"\"\" Function to remove stopwords. \"\"\"\n",
    "    return ' '.join([word for word in str(text).split() if not word in english_stopwords])"
   ]
  },
  {
   "cell_type": "code",
   "execution_count": 17,
   "id": "777d59bd-9850-4527-a5a6-6739fcac58c8",
   "metadata": {},
   "outputs": [],
   "source": [
    "# NLTK lemmatization\n",
    "from nltk.stem import WordNetLemmatizer\n",
    "lemmatizer = WordNetLemmatizer()\n",
    "\n",
    "def lemmatize_words(text, **kwargs):\n",
    "    \"\"\" Function to lemmatize words. \"\"\"\n",
    "    return ' '.join([lemmatizer.lemmatize(word, **kwargs) for word in text.split()])"
   ]
  },
  {
   "cell_type": "code",
   "execution_count": 19,
   "id": "796552a8-2ee5-4f77-8535-77d571ad0e63",
   "metadata": {},
   "outputs": [],
   "source": [
    "from nltk.tokenize import word_tokenize"
   ]
  },
  {
   "cell_type": "code",
   "execution_count": 20,
   "id": "209fed9a-8cc7-48f6-a886-5db01c80cb19",
   "metadata": {
    "tags": []
   },
   "outputs": [],
   "source": [
    "def preprocess_text(text):\n",
    "    \"\"\"Function to preprocess text by removing links, whitespace, punctuation, and converting to lower case.\"\"\"\n",
    "    text = remove_links(text)\n",
    "    text = remove_whitespace(text)\n",
    "    text = remove_punctuation_and_casing(text)\n",
    "    text = remove_stopwords(text)\n",
    "    text = lemmatize_words(text)\n",
    "    text =  ' '.join(word_tokenize(text)) #to return only the text and not a list\n",
    "#    text = stem_words(text)\n",
    "    return text"
   ]
  },
  {
   "cell_type": "code",
   "execution_count": 21,
   "id": "665d22be-0c7d-492c-bb0b-dbef58b8f2a1",
   "metadata": {
    "tags": []
   },
   "outputs": [],
   "source": [
    "df['cleaned_content'] = df['content'].apply(preprocess_text)"
   ]
  },
  {
   "cell_type": "code",
   "execution_count": 22,
   "id": "e1f70e5e-a505-48e9-b8bf-c2e33b4a5d4d",
   "metadata": {
    "tags": []
   },
   "outputs": [
    {
     "data": {
      "text/html": [
       "<div>\n",
       "<style scoped>\n",
       "    .dataframe tbody tr th:only-of-type {\n",
       "        vertical-align: middle;\n",
       "    }\n",
       "\n",
       "    .dataframe tbody tr th {\n",
       "        vertical-align: top;\n",
       "    }\n",
       "\n",
       "    .dataframe thead th {\n",
       "        text-align: right;\n",
       "    }\n",
       "</style>\n",
       "<table border=\"1\" class=\"dataframe\">\n",
       "  <thead>\n",
       "    <tr style=\"text-align: right;\">\n",
       "      <th></th>\n",
       "      <th>content</th>\n",
       "      <th>sentiment</th>\n",
       "      <th>cleaned_content</th>\n",
       "    </tr>\n",
       "  </thead>\n",
       "  <tbody>\n",
       "    <tr>\n",
       "      <th>0</th>\n",
       "      <td>$Bitcoin TO $100,000 SOONER THAN YOU THINK‼️💯🙏...</td>\n",
       "      <td>True</td>\n",
       "      <td>bitcoin sooner bitcoin whether believe btc bit...</td>\n",
       "    </tr>\n",
       "    <tr>\n",
       "      <th>1</th>\n",
       "      <td>Alright I have my rares. Who else is grabbing ...</td>\n",
       "      <td>True</td>\n",
       "      <td>alright rares else grabbing dogepunksbtc disco...</td>\n",
       "    </tr>\n",
       "    <tr>\n",
       "      <th>2</th>\n",
       "      <td>Bitcoin (BTC) Targets Over $100,000 as This Im...</td>\n",
       "      <td>True</td>\n",
       "      <td>bitcoin btc target important pattern reemerges...</td>\n",
       "    </tr>\n",
       "    <tr>\n",
       "      <th>3</th>\n",
       "      <td>📢 Xverse Web-based pool is live:\\n\\n•Update @x...</td>\n",
       "      <td>True</td>\n",
       "      <td>xverse web based pool live xverseapp chrome br...</td>\n",
       "    </tr>\n",
       "    <tr>\n",
       "      <th>4</th>\n",
       "      <td>Yesterday, a Bitcoin projection was displayed ...</td>\n",
       "      <td>True</td>\n",
       "      <td>yesterday bitcoin projection displayed europea...</td>\n",
       "    </tr>\n",
       "  </tbody>\n",
       "</table>\n",
       "</div>"
      ],
      "text/plain": [
       "                                             content  sentiment  \\\n",
       "0  $Bitcoin TO $100,000 SOONER THAN YOU THINK‼️💯🙏...       True   \n",
       "1  Alright I have my rares. Who else is grabbing ...       True   \n",
       "2  Bitcoin (BTC) Targets Over $100,000 as This Im...       True   \n",
       "3  📢 Xverse Web-based pool is live:\\n\\n•Update @x...       True   \n",
       "4  Yesterday, a Bitcoin projection was displayed ...       True   \n",
       "\n",
       "                                     cleaned_content  \n",
       "0  bitcoin sooner bitcoin whether believe btc bit...  \n",
       "1  alright rares else grabbing dogepunksbtc disco...  \n",
       "2  bitcoin btc target important pattern reemerges...  \n",
       "3  xverse web based pool live xverseapp chrome br...  \n",
       "4  yesterday bitcoin projection displayed europea...  "
      ]
     },
     "execution_count": 22,
     "metadata": {},
     "output_type": "execute_result"
    }
   ],
   "source": [
    "df.head()"
   ]
  },
  {
   "cell_type": "code",
   "execution_count": 42,
   "id": "8372bbd5-33ef-4194-878d-1e8c0b7b13ea",
   "metadata": {
    "tags": []
   },
   "outputs": [
    {
     "name": "stdout",
     "output_type": "stream",
     "text": [
      "Original Review:\n",
      "They want riots. Give them bank runs instead.\n",
      "\n",
      "#Silver #Gold #Bitcoin \n",
      "#IStandWithTrump https://t.co/wBQupqFyuj\n",
      "\n",
      "Cleaned Review:\n",
      "want riot give bank run instead silver gold bitcoin istandwithtrump\n"
     ]
    }
   ],
   "source": [
    "## After the process:\n",
    "# Check all is well\n",
    "ix = 12  # just one example, play with other play to further examine the effect of our clearning\n",
    "print('Original Review:\\n' + df.content[ix])  \n",
    "print('\\nCleaned Review:\\n' + df.cleaned_content[ix])\n",
    "#from nlp_foundations"
   ]
  },
  {
   "cell_type": "markdown",
   "id": "d4d8c0fb-6473-4b7e-acec-ff53b8898d9a",
   "metadata": {
    "tags": []
   },
   "source": [
    "## (1) Sentiment Dictionary Benchmark - vaderSentiment"
   ]
  },
  {
   "cell_type": "code",
   "execution_count": 29,
   "id": "306616a2-e03b-40a7-8fd7-7eafe1f658d1",
   "metadata": {
    "scrolled": true,
    "tags": []
   },
   "outputs": [],
   "source": [
    "#pip install vaderSentiment"
   ]
  },
  {
   "cell_type": "code",
   "execution_count": 21,
   "id": "3ec1835f-d992-44b3-81c2-0135129b560e",
   "metadata": {
    "tags": []
   },
   "outputs": [
    {
     "name": "stdout",
     "output_type": "stream",
     "text": [
      "Tweet: i love this product awesome\n",
      "Sentiment: {'neg': 0.0, 'neu': 0.265, 'pos': 0.735, 'compound': 0.8519}\n",
      "\n",
      "\n",
      "Tweet: this is the worst experience ever\n",
      "Sentiment: {'neg': 0.451, 'neu': 0.549, 'pos': 0.0, 'compound': -0.6249}\n",
      "\n",
      "\n"
     ]
    }
   ],
   "source": [
    "from vaderSentiment.vaderSentiment import SentimentIntensityAnalyzer\n",
    "import re\n",
    "\n",
    "def remove_links(text):\n",
    "    return re.sub(r'http\\S+|www\\S+|https\\S+', '', text, flags=re.MULTILINE)\n",
    "\n",
    "def remove_whitespace(text):\n",
    "    return ' '.join(text.split())\n",
    "\n",
    "def remove_punctuation_and_casing(text):\n",
    "    chars = '!\\\"#$%&()*+,-./:;<=>?@[\\]^_`{|}~'\n",
    "    text = text.translate(str.maketrans(chars, ' ' * len(chars)))\n",
    "    return ' '.join([word.lower() for word in text.split() if word.isalpha()])\n",
    "\n",
    "def preprocess_tweet(text):\n",
    "    text = remove_links(text)\n",
    "    text = remove_whitespace(text)\n",
    "    text = remove_punctuation_and_casing(text)\n",
    "    return text\n",
    "\n",
    "# Example tweets\n",
    "tweets = [\"I love this product! #awesome\", \"This is the worst experience ever! http://example.com\"]\n",
    "\n",
    "# Preprocess tweets\n",
    "preprocessed_tweets = [preprocess_tweet(tweet) for tweet in tweets]\n",
    "\n",
    "# Initialize VADER sentiment analyzer\n",
    "analyzer = SentimentIntensityAnalyzer()\n",
    "\n",
    "# Analyze sentiment\n",
    "for tweet in preprocessed_tweets:\n",
    "    sentiment = analyzer.polarity_scores(tweet)\n",
    "    print(f\"Tweet: {tweet}\")\n",
    "    print(f\"Sentiment: {sentiment}\")\n",
    "    print(\"\\n\")"
   ]
  },
  {
   "cell_type": "code",
   "execution_count": 31,
   "id": "def37ee6-9d06-4784-8252-695d784f172c",
   "metadata": {
    "tags": []
   },
   "outputs": [],
   "source": [
    "#dictionary = pd.DataFrame(df['cleaned_content'])"
   ]
  },
  {
   "cell_type": "code",
   "execution_count": 27,
   "id": "cae2d6b2-fe99-4778-a149-ba9e9026b3d8",
   "metadata": {},
   "outputs": [
    {
     "ename": "KeyError",
     "evalue": "'cleaned_content'",
     "output_type": "error",
     "traceback": [
      "\u001b[1;31m---------------------------------------------------------------------------\u001b[0m",
      "\u001b[1;31mKeyError\u001b[0m                                  Traceback (most recent call last)",
      "File \u001b[1;32m~\\anaconda3\\Lib\\site-packages\\pandas\\core\\indexes\\base.py:3791\u001b[0m, in \u001b[0;36mIndex.get_loc\u001b[1;34m(self, key)\u001b[0m\n\u001b[0;32m   3790\u001b[0m \u001b[38;5;28;01mtry\u001b[39;00m:\n\u001b[1;32m-> 3791\u001b[0m     \u001b[38;5;28;01mreturn\u001b[39;00m \u001b[38;5;28mself\u001b[39m\u001b[38;5;241m.\u001b[39m_engine\u001b[38;5;241m.\u001b[39mget_loc(casted_key)\n\u001b[0;32m   3792\u001b[0m \u001b[38;5;28;01mexcept\u001b[39;00m \u001b[38;5;167;01mKeyError\u001b[39;00m \u001b[38;5;28;01mas\u001b[39;00m err:\n",
      "File \u001b[1;32mindex.pyx:152\u001b[0m, in \u001b[0;36mpandas._libs.index.IndexEngine.get_loc\u001b[1;34m()\u001b[0m\n",
      "File \u001b[1;32mindex.pyx:181\u001b[0m, in \u001b[0;36mpandas._libs.index.IndexEngine.get_loc\u001b[1;34m()\u001b[0m\n",
      "File \u001b[1;32mpandas\\_libs\\hashtable_class_helper.pxi:7080\u001b[0m, in \u001b[0;36mpandas._libs.hashtable.PyObjectHashTable.get_item\u001b[1;34m()\u001b[0m\n",
      "File \u001b[1;32mpandas\\_libs\\hashtable_class_helper.pxi:7088\u001b[0m, in \u001b[0;36mpandas._libs.hashtable.PyObjectHashTable.get_item\u001b[1;34m()\u001b[0m\n",
      "\u001b[1;31mKeyError\u001b[0m: 'cleaned_content'",
      "\nThe above exception was the direct cause of the following exception:\n",
      "\u001b[1;31mKeyError\u001b[0m                                  Traceback (most recent call last)",
      "Cell \u001b[1;32mIn[27], line 10\u001b[0m\n\u001b[0;32m      7\u001b[0m     \u001b[38;5;28;01mreturn\u001b[39;00m sentiment_dict\n\u001b[0;32m      9\u001b[0m \u001b[38;5;66;03m# Apply sentiment analysis to each tweet\u001b[39;00m\n\u001b[1;32m---> 10\u001b[0m df[\u001b[38;5;124m'\u001b[39m\u001b[38;5;124mvader_sentiment\u001b[39m\u001b[38;5;124m'\u001b[39m] \u001b[38;5;241m=\u001b[39m df[\u001b[38;5;124m'\u001b[39m\u001b[38;5;124mcleaned_content\u001b[39m\u001b[38;5;124m'\u001b[39m]\u001b[38;5;241m.\u001b[39mapply(analyze_sentiment)\n\u001b[0;32m     12\u001b[0m \u001b[38;5;66;03m# Extract compound score for simplicity\u001b[39;00m\n\u001b[0;32m     13\u001b[0m df[\u001b[38;5;124m'\u001b[39m\u001b[38;5;124mvader_compound\u001b[39m\u001b[38;5;124m'\u001b[39m] \u001b[38;5;241m=\u001b[39m df[\u001b[38;5;124m'\u001b[39m\u001b[38;5;124mvader_sentiment\u001b[39m\u001b[38;5;124m'\u001b[39m]\u001b[38;5;241m.\u001b[39mapply(\u001b[38;5;28;01mlambda\u001b[39;00m x: x[\u001b[38;5;124m'\u001b[39m\u001b[38;5;124mcompound\u001b[39m\u001b[38;5;124m'\u001b[39m])\n",
      "File \u001b[1;32m~\\anaconda3\\Lib\\site-packages\\pandas\\core\\frame.py:3893\u001b[0m, in \u001b[0;36mDataFrame.__getitem__\u001b[1;34m(self, key)\u001b[0m\n\u001b[0;32m   3891\u001b[0m \u001b[38;5;28;01mif\u001b[39;00m \u001b[38;5;28mself\u001b[39m\u001b[38;5;241m.\u001b[39mcolumns\u001b[38;5;241m.\u001b[39mnlevels \u001b[38;5;241m>\u001b[39m \u001b[38;5;241m1\u001b[39m:\n\u001b[0;32m   3892\u001b[0m     \u001b[38;5;28;01mreturn\u001b[39;00m \u001b[38;5;28mself\u001b[39m\u001b[38;5;241m.\u001b[39m_getitem_multilevel(key)\n\u001b[1;32m-> 3893\u001b[0m indexer \u001b[38;5;241m=\u001b[39m \u001b[38;5;28mself\u001b[39m\u001b[38;5;241m.\u001b[39mcolumns\u001b[38;5;241m.\u001b[39mget_loc(key)\n\u001b[0;32m   3894\u001b[0m \u001b[38;5;28;01mif\u001b[39;00m is_integer(indexer):\n\u001b[0;32m   3895\u001b[0m     indexer \u001b[38;5;241m=\u001b[39m [indexer]\n",
      "File \u001b[1;32m~\\anaconda3\\Lib\\site-packages\\pandas\\core\\indexes\\base.py:3798\u001b[0m, in \u001b[0;36mIndex.get_loc\u001b[1;34m(self, key)\u001b[0m\n\u001b[0;32m   3793\u001b[0m     \u001b[38;5;28;01mif\u001b[39;00m \u001b[38;5;28misinstance\u001b[39m(casted_key, \u001b[38;5;28mslice\u001b[39m) \u001b[38;5;129;01mor\u001b[39;00m (\n\u001b[0;32m   3794\u001b[0m         \u001b[38;5;28misinstance\u001b[39m(casted_key, abc\u001b[38;5;241m.\u001b[39mIterable)\n\u001b[0;32m   3795\u001b[0m         \u001b[38;5;129;01mand\u001b[39;00m \u001b[38;5;28many\u001b[39m(\u001b[38;5;28misinstance\u001b[39m(x, \u001b[38;5;28mslice\u001b[39m) \u001b[38;5;28;01mfor\u001b[39;00m x \u001b[38;5;129;01min\u001b[39;00m casted_key)\n\u001b[0;32m   3796\u001b[0m     ):\n\u001b[0;32m   3797\u001b[0m         \u001b[38;5;28;01mraise\u001b[39;00m InvalidIndexError(key)\n\u001b[1;32m-> 3798\u001b[0m     \u001b[38;5;28;01mraise\u001b[39;00m \u001b[38;5;167;01mKeyError\u001b[39;00m(key) \u001b[38;5;28;01mfrom\u001b[39;00m \u001b[38;5;21;01merr\u001b[39;00m\n\u001b[0;32m   3799\u001b[0m \u001b[38;5;28;01mexcept\u001b[39;00m \u001b[38;5;167;01mTypeError\u001b[39;00m:\n\u001b[0;32m   3800\u001b[0m     \u001b[38;5;66;03m# If we have a listlike key, _check_indexing_error will raise\u001b[39;00m\n\u001b[0;32m   3801\u001b[0m     \u001b[38;5;66;03m#  InvalidIndexError. Otherwise we fall through and re-raise\u001b[39;00m\n\u001b[0;32m   3802\u001b[0m     \u001b[38;5;66;03m#  the TypeError.\u001b[39;00m\n\u001b[0;32m   3803\u001b[0m     \u001b[38;5;28mself\u001b[39m\u001b[38;5;241m.\u001b[39m_check_indexing_error(key)\n",
      "\u001b[1;31mKeyError\u001b[0m: 'cleaned_content'"
     ]
    }
   ],
   "source": [
    "from vaderSentiment.vaderSentiment import SentimentIntensityAnalyzer\n",
    "\n",
    "analyzer = SentimentIntensityAnalyzer()\n",
    "\n",
    "def analyze_sentiment(text):\n",
    "    sentiment_dict = analyzer.polarity_scores(text)\n",
    "    return sentiment_dict\n",
    "\n",
    "# Apply sentiment analysis to each tweet\n",
    "df['vader_sentiment'] = df['cleaned_content'].apply(analyze_sentiment)\n",
    "\n",
    "# Extract compound score for simplicity\n",
    "df['vader_compound'] = df['vader_sentiment'].apply(lambda x: x['compound'])"
   ]
  },
  {
   "cell_type": "code",
   "execution_count": 33,
   "id": "cb0e2a07-0334-4961-bba2-8f1a331656c1",
   "metadata": {
    "tags": []
   },
   "outputs": [
    {
     "name": "stdout",
     "output_type": "stream",
     "text": [
      "0    0.0000\n",
      "1   -0.1779\n",
      "2    0.2023\n",
      "3    0.2023\n",
      "4    0.0000\n",
      "Name: vader_compound, dtype: float64\n"
     ]
    }
   ],
   "source": [
    "print(df['vader_compound'].head())"
   ]
  },
  {
   "cell_type": "code",
   "execution_count": 34,
   "id": "e8d43cb0-e6b5-49be-811a-dfd24f2a8166",
   "metadata": {
    "tags": []
   },
   "outputs": [
    {
     "name": "stdout",
     "output_type": "stream",
     "text": [
      "0              {'neg': 0.0, 'neu': 1.0, 'pos': 0.0, 'compound': 0.0}\n",
      "1    {'neg': 0.172, 'neu': 0.701, 'pos': 0.127, 'compound': -0.1779}\n",
      "2       {'neg': 0.0, 'neu': 0.917, 'pos': 0.083, 'compound': 0.2023}\n",
      "3       {'neg': 0.0, 'neu': 0.904, 'pos': 0.096, 'compound': 0.2023}\n",
      "4              {'neg': 0.0, 'neu': 1.0, 'pos': 0.0, 'compound': 0.0}\n",
      "Name: vader_sentiment, dtype: object\n"
     ]
    }
   ],
   "source": [
    "pd.set_option('display.max_colwidth', None)\n",
    "print(df['vader_sentiment'].head())"
   ]
  },
  {
   "cell_type": "code",
   "execution_count": 35,
   "id": "18a584f6-b617-418d-864c-0b4e63938718",
   "metadata": {
    "tags": []
   },
   "outputs": [],
   "source": [
    "# Convert compound score to sentiment label\n",
    "def compound_to_binary_sentiment(compound_score):\n",
    "    if compound_score > 0:\n",
    "        return 1  # Positive\n",
    "    elif compound_score <= 0:\n",
    "        return 0  # Negative\n",
    "\n",
    "df['vader_label'] = df['vader_compound'].apply(compound_to_binary_sentiment)"
   ]
  },
  {
   "cell_type": "markdown",
   "id": "0f51ba41-c226-4f0a-98f8-5243549fabad",
   "metadata": {},
   "source": [
    "### Sentiment classifier assessment"
   ]
  },
  {
   "cell_type": "code",
   "execution_count": 37,
   "id": "124b129d-0a5d-4f42-9454-23645d1a946e",
   "metadata": {
    "tags": []
   },
   "outputs": [
    {
     "name": "stdout",
     "output_type": "stream",
     "text": [
      "Accuracy: 0.6006666666666667\n",
      "Precision: 0.7763493272404165\n",
      "Recall: 0.6006666666666667\n",
      "F1-score: 0.6446937459703418\n"
     ]
    }
   ],
   "source": [
    "#Comparison (If you have actual labels, you can evaluate the performance)\n",
    "if 'sentiment' in df.columns:\n",
    "    from sklearn.metrics import accuracy_score, precision_score, recall_score, f1_score\n",
    "\n",
    "    # Calculate metrics\n",
    "    accuracy = accuracy_score(df['sentiment'], df['vader_label'])\n",
    "    precision = precision_score(df['sentiment'], df['vader_label'], average='weighted')\n",
    "    recall = recall_score(df['sentiment'], df['vader_label'], average='weighted')\n",
    "    f1 = f1_score(df['sentiment'], df['vader_label'], average='weighted')\n",
    "\n",
    "    print(f\"Accuracy: {accuracy}\")\n",
    "    print(f\"Precision: {precision}\")\n",
    "    print(f\"Recall: {recall}\")\n",
    "    print(f\"F1-score: {f1}\")"
   ]
  },
  {
   "cell_type": "code",
   "execution_count": 38,
   "id": "2f7c71d2-86bc-48f1-b239-b23a51ea78b1",
   "metadata": {
    "scrolled": true,
    "tags": []
   },
   "outputs": [
    {
     "data": {
      "text/html": [
       "<div>\n",
       "<style scoped>\n",
       "    .dataframe tbody tr th:only-of-type {\n",
       "        vertical-align: middle;\n",
       "    }\n",
       "\n",
       "    .dataframe tbody tr th {\n",
       "        vertical-align: top;\n",
       "    }\n",
       "\n",
       "    .dataframe thead th {\n",
       "        text-align: right;\n",
       "    }\n",
       "</style>\n",
       "<table border=\"1\" class=\"dataframe\">\n",
       "  <thead>\n",
       "    <tr style=\"text-align: right;\">\n",
       "      <th></th>\n",
       "      <th>content</th>\n",
       "      <th>sentiment</th>\n",
       "      <th>cleaned_content</th>\n",
       "      <th>vader_sentiment</th>\n",
       "      <th>vader_compound</th>\n",
       "      <th>vader_label</th>\n",
       "    </tr>\n",
       "  </thead>\n",
       "  <tbody>\n",
       "    <tr>\n",
       "      <th>0</th>\n",
       "      <td>$Bitcoin TO $100,000 SOONER THAN YOU THINK‼️💯🙏\\n\\n#Bitcoin TO $100,000 WHETHER YOU BELIEVE OR NOT‼️💯🙏\\n\\n$BTC #Bitcoin #BTC   \\n\\n#Bitcoin #BTC #SHIB \\n#HOGE #SAITAMA #BNB   #DOGE #ETH #BabyFloki #AltCoinSeason https://t.co/rtlFlKlVCv</td>\n",
       "      <td>True</td>\n",
       "      <td>bitcoin sooner bitcoin whether believe btc bitcoin btc bitcoin btc shib hoge saitama bnb doge eth babyfloki altcoinseason</td>\n",
       "      <td>{'neg': 0.0, 'neu': 1.0, 'pos': 0.0, 'compound': 0.0}</td>\n",
       "      <td>0.0000</td>\n",
       "      <td>0</td>\n",
       "    </tr>\n",
       "    <tr>\n",
       "      <th>1</th>\n",
       "      <td>Alright I have my rares. Who else is grabbing some of these @DogePunksBTC? Been in the discord a bit today and lovin the vibes. #Bitcoin #bitcoinordinals #crypto https://t.co/oaSNb6zOfK</td>\n",
       "      <td>True</td>\n",
       "      <td>alright rares else grabbing dogepunksbtc discord bit today lovin vibe bitcoin bitcoinordinals crypto</td>\n",
       "      <td>{'neg': 0.172, 'neu': 0.701, 'pos': 0.127, 'compound': -0.1779}</td>\n",
       "      <td>-0.1779</td>\n",
       "      <td>0</td>\n",
       "    </tr>\n",
       "    <tr>\n",
       "      <th>2</th>\n",
       "      <td>Bitcoin (BTC) Targets Over $100,000 as This Important Pattern Reemerges, Analyst Says\\n\\n$Bitcoin TO $100,000 SOONER THAN YOU THINK‼️💯🙏\\n\\n#BTC TO $100,000 WHETHER YOU BELIEVE OR NOT‼️💯🙏\\n\\n#SHIB \\n#HOGE #SAITAMA #BNB   #DOGE #ETH #BabyFloki #AltCoinSeason  https://t.co/gU71C732NS</td>\n",
       "      <td>True</td>\n",
       "      <td>bitcoin btc target important pattern reemerges analyst say bitcoin sooner btc whether believe shib hoge saitama bnb doge eth babyfloki altcoinseason</td>\n",
       "      <td>{'neg': 0.0, 'neu': 0.917, 'pos': 0.083, 'compound': 0.2023}</td>\n",
       "      <td>0.2023</td>\n",
       "      <td>1</td>\n",
       "    </tr>\n",
       "    <tr>\n",
       "      <th>3</th>\n",
       "      <td>📢 Xverse Web-based pool is live:\\n\\n•Update @xverseApp Chrome Browser Extension wallet to V0.6.2\\n\\n•Stack @Stacks 👇\\n\\n https://t.co/s17rWwKnPD\\n\\n•Earn #BTC Yield\\n\\n•Continuous Stacking\\n\\n•Stacking amount Top up at any moment of the cycle https://t.co/sBm89okDyb</td>\n",
       "      <td>True</td>\n",
       "      <td>xverse web based pool live xverseapp chrome browser extension wallet stack btc yield stacking amount top moment cycle</td>\n",
       "      <td>{'neg': 0.0, 'neu': 0.904, 'pos': 0.096, 'compound': 0.2023}</td>\n",
       "      <td>0.2023</td>\n",
       "      <td>1</td>\n",
       "    </tr>\n",
       "    <tr>\n",
       "      <th>4</th>\n",
       "      <td>Yesterday, a Bitcoin projection was displayed on the European Central Bank building in Frankfurt, Germany.\\n🥰🥰\\n#Bitcoin https://t.co/rUEdQxZmgU</td>\n",
       "      <td>True</td>\n",
       "      <td>yesterday bitcoin projection displayed european central bank building frankfurt germany bitcoin</td>\n",
       "      <td>{'neg': 0.0, 'neu': 1.0, 'pos': 0.0, 'compound': 0.0}</td>\n",
       "      <td>0.0000</td>\n",
       "      <td>0</td>\n",
       "    </tr>\n",
       "  </tbody>\n",
       "</table>\n",
       "</div>"
      ],
      "text/plain": [
       "                                                                                                                                                                                                                                                                                     content  \\\n",
       "0                                                 $Bitcoin TO $100,000 SOONER THAN YOU THINK‼️💯🙏\\n\\n#Bitcoin TO $100,000 WHETHER YOU BELIEVE OR NOT‼️💯🙏\\n\\n$BTC #Bitcoin #BTC   \\n\\n#Bitcoin #BTC #SHIB \\n#HOGE #SAITAMA #BNB   #DOGE #ETH #BabyFloki #AltCoinSeason https://t.co/rtlFlKlVCv   \n",
       "1                                                                                                  Alright I have my rares. Who else is grabbing some of these @DogePunksBTC? Been in the discord a bit today and lovin the vibes. #Bitcoin #bitcoinordinals #crypto https://t.co/oaSNb6zOfK   \n",
       "2  Bitcoin (BTC) Targets Over $100,000 as This Important Pattern Reemerges, Analyst Says\\n\\n$Bitcoin TO $100,000 SOONER THAN YOU THINK‼️💯🙏\\n\\n#BTC TO $100,000 WHETHER YOU BELIEVE OR NOT‼️💯🙏\\n\\n#SHIB \\n#HOGE #SAITAMA #BNB   #DOGE #ETH #BabyFloki #AltCoinSeason  https://t.co/gU71C732NS   \n",
       "3                 📢 Xverse Web-based pool is live:\\n\\n•Update @xverseApp Chrome Browser Extension wallet to V0.6.2\\n\\n•Stack @Stacks 👇\\n\\n https://t.co/s17rWwKnPD\\n\\n•Earn #BTC Yield\\n\\n•Continuous Stacking\\n\\n•Stacking amount Top up at any moment of the cycle https://t.co/sBm89okDyb   \n",
       "4                                                                                                                                           Yesterday, a Bitcoin projection was displayed on the European Central Bank building in Frankfurt, Germany.\\n🥰🥰\\n#Bitcoin https://t.co/rUEdQxZmgU   \n",
       "\n",
       "   sentiment  \\\n",
       "0       True   \n",
       "1       True   \n",
       "2       True   \n",
       "3       True   \n",
       "4       True   \n",
       "\n",
       "                                                                                                                                        cleaned_content  \\\n",
       "0                             bitcoin sooner bitcoin whether believe btc bitcoin btc bitcoin btc shib hoge saitama bnb doge eth babyfloki altcoinseason   \n",
       "1                                                  alright rares else grabbing dogepunksbtc discord bit today lovin vibe bitcoin bitcoinordinals crypto   \n",
       "2  bitcoin btc target important pattern reemerges analyst say bitcoin sooner btc whether believe shib hoge saitama bnb doge eth babyfloki altcoinseason   \n",
       "3                                 xverse web based pool live xverseapp chrome browser extension wallet stack btc yield stacking amount top moment cycle   \n",
       "4                                                       yesterday bitcoin projection displayed european central bank building frankfurt germany bitcoin   \n",
       "\n",
       "                                                   vader_sentiment  \\\n",
       "0            {'neg': 0.0, 'neu': 1.0, 'pos': 0.0, 'compound': 0.0}   \n",
       "1  {'neg': 0.172, 'neu': 0.701, 'pos': 0.127, 'compound': -0.1779}   \n",
       "2     {'neg': 0.0, 'neu': 0.917, 'pos': 0.083, 'compound': 0.2023}   \n",
       "3     {'neg': 0.0, 'neu': 0.904, 'pos': 0.096, 'compound': 0.2023}   \n",
       "4            {'neg': 0.0, 'neu': 1.0, 'pos': 0.0, 'compound': 0.0}   \n",
       "\n",
       "   vader_compound  vader_label  \n",
       "0          0.0000            0  \n",
       "1         -0.1779            0  \n",
       "2          0.2023            1  \n",
       "3          0.2023            1  \n",
       "4          0.0000            0  "
      ]
     },
     "execution_count": 38,
     "metadata": {},
     "output_type": "execute_result"
    }
   ],
   "source": [
    "df.head()"
   ]
  },
  {
   "cell_type": "code",
   "execution_count": 39,
   "id": "9a1f8330-beaa-43a8-bad8-3d8cf938eb8f",
   "metadata": {
    "tags": []
   },
   "outputs": [
    {
     "data": {
      "text/plain": [
       "count    1500.000000\n",
       "mean        0.227724\n",
       "std         0.405509\n",
       "min        -0.895700\n",
       "25%         0.000000\n",
       "50%         0.128000\n",
       "75%         0.575150\n",
       "max         0.978300\n",
       "Name: vader_compound, dtype: float64"
      ]
     },
     "execution_count": 39,
     "metadata": {},
     "output_type": "execute_result"
    },
    {
     "data": {
      "image/png": "[encoded data removed]",
      "text/plain": [
       "<Figure size 640x480 with 1 Axes>"
      ]
     },
     "metadata": {},
     "output_type": "display_data"
    }
   ],
   "source": [
    "df['vader_compound'].hist(); \n",
    "df['vader_compound'].describe() # overall rather positive"
   ]
  },
  {
   "cell_type": "code",
   "execution_count": 40,
   "id": "d51158de-7e80-42d8-b77e-eceb9e65e0f3",
   "metadata": {
    "tags": []
   },
   "outputs": [],
   "source": [
    "#check #https://github.com/Humboldt-WI/delta/blob/master/demos/nlp/sentiment_analysis.ipynb"
   ]
  },
  {
   "cell_type": "code",
   "execution_count": 41,
   "id": "fc812712-5808-4a5c-b194-bb14fffa7640",
   "metadata": {
    "tags": []
   },
   "outputs": [],
   "source": [
    "#⚠️⚠️⚠️ [NOT DONE YET] Assess sentiment classification models\n",
    "from sklearn.metrics import accuracy_score, confusion_matrix, roc_auc_score, roc_curve\n",
    "\n",
    "def assess_sentiment_classifier(ytest, yhat, cut_off=0.5, plot_roc=True):\n",
    "    \"\"\"\n",
    "        Helper function to assess a classification model in terms of the AUC\n",
    "        and classification accuracy. We calculate the latter by comapring\n",
    "        continuous (e.g., probabilistic) classifier predictions to a cut_off.\n",
    "        Cases where the prediction exceeds the cut-off are classified as \n",
    "        positive.\n",
    "    \"\"\"\n",
    "    # Calculate discrete class predictions\n",
    "    yhat_c = np.where(yhat>cut_off, 1, 0)\n",
    "    \n",
    "    # Calculate classification accuracy and AUC\n",
    "    acc = accuracy_score(ytest, yhat_c)\n",
    "    auc = roc_auc_score(ytest, yhat)\n",
    "    \n",
    "    # Confusion matrix \n",
    "    cmat = confusion_matrix(ytest, yhat_c)\n",
    "    \n",
    "    # ROC analysis\n",
    "    if plot_roc==True:\n",
    "        fpr, tpr, _ = roc_curve(ytest, yhat)\n",
    "        plt.plot(fpr,tpr, label=\"AUC={:.4}\".format(auc));\n",
    "        plt.plot([0, 1], [0, 1], \"r--\")\n",
    "        plt.ylabel('True positive rate')    \n",
    "        plt.xlabel('False positive rate')    \n",
    "        plt.legend(loc='lower right')\n",
    "        plt.show();\n",
    "    \n",
    "    return(auc, acc, cmat)"
   ]
  },
  {
   "cell_type": "markdown",
   "id": "5e4720f1-b99b-4b08-854b-63eb43d66ba1",
   "metadata": {
    "jp-MarkdownHeadingCollapsed": true,
    "tags": []
   },
   "source": [
    "## Check dropping neutral (value of 0) compound values"
   ]
  },
  {
   "cell_type": "code",
   "execution_count": 43,
   "id": "6a012bc5-4103-49ea-a0a6-4551af2483fc",
   "metadata": {
    "tags": []
   },
   "outputs": [],
   "source": [
    "def compound_to_binary_sentiment_2(compound_score):\n",
    "    if compound_score >= 0.05:\n",
    "        return 1  # Positive\n",
    "    elif compound_score <= -0.05:\n",
    "        return 0  # Negative\n",
    "    else:\n",
    "        return None  # Neutral, will be ignored\n",
    "\n",
    "df['vader_binary_label_2'] = df['vader_compound'].apply(compound_to_binary_sentiment_2)"
   ]
  },
  {
   "cell_type": "code",
   "execution_count": 44,
   "id": "18c7128d-cded-44f4-b632-9cb1674306ac",
   "metadata": {
    "tags": []
   },
   "outputs": [],
   "source": [
    "temp = df.copy()\n",
    "temp = temp.dropna()"
   ]
  },
  {
   "cell_type": "code",
   "execution_count": 45,
   "id": "c0e782d7-94b9-4db1-8593-447fc59fbfa2",
   "metadata": {
    "tags": []
   },
   "outputs": [
    {
     "data": {
      "text/plain": [
       "0"
      ]
     },
     "execution_count": 45,
     "metadata": {},
     "output_type": "execute_result"
    }
   ],
   "source": [
    "temp['vader_binary_label_2'].isna().sum()"
   ]
  },
  {
   "cell_type": "code",
   "execution_count": 46,
   "id": "aadbb265-b9dc-420d-8ff5-25fe246ba186",
   "metadata": {
    "scrolled": true,
    "tags": []
   },
   "outputs": [
    {
     "name": "stdout",
     "output_type": "stream",
     "text": [
      "                                                                                                                                                                                                                                                                                     content  \\\n",
      "1                                                                                                  Alright I have my rares. Who else is grabbing some of these @DogePunksBTC? Been in the discord a bit today and lovin the vibes. #Bitcoin #bitcoinordinals #crypto https://t.co/oaSNb6zOfK   \n",
      "2  Bitcoin (BTC) Targets Over $100,000 as This Important Pattern Reemerges, Analyst Says\\n\\n$Bitcoin TO $100,000 SOONER THAN YOU THINK‼️💯🙏\\n\\n#BTC TO $100,000 WHETHER YOU BELIEVE OR NOT‼️💯🙏\\n\\n#SHIB \\n#HOGE #SAITAMA #BNB   #DOGE #ETH #BabyFloki #AltCoinSeason  https://t.co/gU71C732NS   \n",
      "3                 📢 Xverse Web-based pool is live:\\n\\n•Update @xverseApp Chrome Browser Extension wallet to V0.6.2\\n\\n•Stack @Stacks 👇\\n\\n https://t.co/s17rWwKnPD\\n\\n•Earn #BTC Yield\\n\\n•Continuous Stacking\\n\\n•Stacking amount Top up at any moment of the cycle https://t.co/sBm89okDyb   \n",
      "5                                                Unpopular opinion:\\n\\nThis pump isn’t going to stop and we are entering a full fledged bull run.\\n\\nHOWEVER, there will be a major sell off sometime between April and June next year.\\n#Crypto #Bitcoin #Investing https://t.co/4fOMtYvY3c   \n",
      "7                                                                                                                  Solid bid in major ALT/BTC pairs today. \\n\\nIf #Bitcoin continues to  consolidate up here, I'm expecting +15-20% across the wider altcoin market. https://t.co/YSiClL3Aza   \n",
      "\n",
      "   sentiment  \\\n",
      "1          1   \n",
      "2          1   \n",
      "3          1   \n",
      "5          0   \n",
      "7          1   \n",
      "\n",
      "                                                                                                                                        cleaned_content  \\\n",
      "1                                                  alright rares else grabbing dogepunksbtc discord bit today lovin vibe bitcoin bitcoinordinals crypto   \n",
      "2  bitcoin btc target important pattern reemerges analyst say bitcoin sooner btc whether believe shib hoge saitama bnb doge eth babyfloki altcoinseason   \n",
      "3                                 xverse web based pool live xverseapp chrome browser extension wallet stack btc yield stacking amount top moment cycle   \n",
      "5            unpopular opinion pump going stop entering full fledged bull run however major sell sometime april june next year crypto bitcoin investing   \n",
      "7                                                solid bid major alt btc pair today bitcoin continues consolidate expecting across wider altcoin market   \n",
      "\n",
      "                                                   vader_sentiment  \\\n",
      "1  {'neg': 0.172, 'neu': 0.701, 'pos': 0.127, 'compound': -0.1779}   \n",
      "2     {'neg': 0.0, 'neu': 0.917, 'pos': 0.083, 'compound': 0.2023}   \n",
      "3     {'neg': 0.0, 'neu': 0.904, 'pos': 0.096, 'compound': 0.2023}   \n",
      "5     {'neg': 0.099, 'neu': 0.901, 'pos': 0.0, 'compound': -0.296}   \n",
      "7     {'neg': 0.0, 'neu': 0.897, 'pos': 0.103, 'compound': 0.1531}   \n",
      "\n",
      "   vader_compound  vader_label  vader_binary_label_2  \n",
      "1         -0.1779            0                   0.0  \n",
      "2          0.2023            1                   1.0  \n",
      "3          0.2023            1                   1.0  \n",
      "5         -0.2960            0                   0.0  \n",
      "7          0.1531            1                   1.0  \n"
     ]
    }
   ],
   "source": [
    "# Convert boolean values to integers\n",
    "temp['sentiment'] = temp['sentiment'].astype(int)\n",
    "\n",
    "# Print the first few rows to verify the change\n",
    "print(temp.head())"
   ]
  },
  {
   "cell_type": "code",
   "execution_count": 47,
   "id": "bc59bd0a-30c7-4eae-a368-bbb19b11268c",
   "metadata": {
    "tags": []
   },
   "outputs": [
    {
     "name": "stdout",
     "output_type": "stream",
     "text": [
      "Accuracy: 0.8260437375745527\n",
      "Precision: 0.8307821552644649\n",
      "Recall: 0.8260437375745527\n",
      "F1-score: 0.8282008937981569\n"
     ]
    }
   ],
   "source": [
    "#Comparison (If you have actual labels, you can evaluate the performance)\n",
    "if 'sentiment' in temp.columns:\n",
    "    from sklearn.metrics import accuracy_score, precision_score, recall_score, f1_score\n",
    "\n",
    "    # Calculate metrics\n",
    "    accuracy = accuracy_score(temp['sentiment'], temp['vader_binary_label_2'])\n",
    "    precision = precision_score(temp['sentiment'], temp['vader_binary_label_2'], average='weighted')\n",
    "    recall = recall_score(temp['sentiment'], temp['vader_binary_label_2'], average='weighted')\n",
    "    f1 = f1_score(temp['sentiment'], temp['vader_binary_label_2'], average='weighted')\n",
    "\n",
    "    print(f\"Accuracy: {accuracy}\")\n",
    "    print(f\"Precision: {precision}\")\n",
    "    print(f\"Recall: {recall}\")\n",
    "    print(f\"F1-score: {f1}\")"
   ]
  },
  {
   "cell_type": "code",
   "execution_count": 48,
   "id": "dde02217-a5e5-4da2-8f37-6b0627b517cb",
   "metadata": {
    "tags": []
   },
   "outputs": [
    {
     "data": {
      "text/html": [
       "<div>\n",
       "<style scoped>\n",
       "    .dataframe tbody tr th:only-of-type {\n",
       "        vertical-align: middle;\n",
       "    }\n",
       "\n",
       "    .dataframe tbody tr th {\n",
       "        vertical-align: top;\n",
       "    }\n",
       "\n",
       "    .dataframe thead th {\n",
       "        text-align: right;\n",
       "    }\n",
       "</style>\n",
       "<table border=\"1\" class=\"dataframe\">\n",
       "  <thead>\n",
       "    <tr style=\"text-align: right;\">\n",
       "      <th></th>\n",
       "      <th>content</th>\n",
       "      <th>sentiment</th>\n",
       "      <th>cleaned_content</th>\n",
       "      <th>vader_sentiment</th>\n",
       "      <th>vader_compound</th>\n",
       "      <th>vader_label</th>\n",
       "      <th>vader_binary_label_2</th>\n",
       "    </tr>\n",
       "  </thead>\n",
       "  <tbody>\n",
       "    <tr>\n",
       "      <th>0</th>\n",
       "      <td>$Bitcoin TO $100,000 SOONER THAN YOU THINK‼️💯🙏\\n\\n#Bitcoin TO $100,000 WHETHER YOU BELIEVE OR NOT‼️💯🙏\\n\\n$BTC #Bitcoin #BTC   \\n\\n#Bitcoin #BTC #SHIB \\n#HOGE #SAITAMA #BNB   #DOGE #ETH #BabyFloki #AltCoinSeason https://t.co/rtlFlKlVCv</td>\n",
       "      <td>True</td>\n",
       "      <td>bitcoin sooner bitcoin whether believe btc bitcoin btc bitcoin btc shib hoge saitama bnb doge eth babyfloki altcoinseason</td>\n",
       "      <td>{'neg': 0.0, 'neu': 1.0, 'pos': 0.0, 'compound': 0.0}</td>\n",
       "      <td>0.0000</td>\n",
       "      <td>0</td>\n",
       "      <td>NaN</td>\n",
       "    </tr>\n",
       "    <tr>\n",
       "      <th>1</th>\n",
       "      <td>Alright I have my rares. Who else is grabbing some of these @DogePunksBTC? Been in the discord a bit today and lovin the vibes. #Bitcoin #bitcoinordinals #crypto https://t.co/oaSNb6zOfK</td>\n",
       "      <td>True</td>\n",
       "      <td>alright rares else grabbing dogepunksbtc discord bit today lovin vibe bitcoin bitcoinordinals crypto</td>\n",
       "      <td>{'neg': 0.172, 'neu': 0.701, 'pos': 0.127, 'compound': -0.1779}</td>\n",
       "      <td>-0.1779</td>\n",
       "      <td>0</td>\n",
       "      <td>0.0</td>\n",
       "    </tr>\n",
       "    <tr>\n",
       "      <th>2</th>\n",
       "      <td>Bitcoin (BTC) Targets Over $100,000 as This Important Pattern Reemerges, Analyst Says\\n\\n$Bitcoin TO $100,000 SOONER THAN YOU THINK‼️💯🙏\\n\\n#BTC TO $100,000 WHETHER YOU BELIEVE OR NOT‼️💯🙏\\n\\n#SHIB \\n#HOGE #SAITAMA #BNB   #DOGE #ETH #BabyFloki #AltCoinSeason  https://t.co/gU71C732NS</td>\n",
       "      <td>True</td>\n",
       "      <td>bitcoin btc target important pattern reemerges analyst say bitcoin sooner btc whether believe shib hoge saitama bnb doge eth babyfloki altcoinseason</td>\n",
       "      <td>{'neg': 0.0, 'neu': 0.917, 'pos': 0.083, 'compound': 0.2023}</td>\n",
       "      <td>0.2023</td>\n",
       "      <td>1</td>\n",
       "      <td>1.0</td>\n",
       "    </tr>\n",
       "    <tr>\n",
       "      <th>3</th>\n",
       "      <td>📢 Xverse Web-based pool is live:\\n\\n•Update @xverseApp Chrome Browser Extension wallet to V0.6.2\\n\\n•Stack @Stacks 👇\\n\\n https://t.co/s17rWwKnPD\\n\\n•Earn #BTC Yield\\n\\n•Continuous Stacking\\n\\n•Stacking amount Top up at any moment of the cycle https://t.co/sBm89okDyb</td>\n",
       "      <td>True</td>\n",
       "      <td>xverse web based pool live xverseapp chrome browser extension wallet stack btc yield stacking amount top moment cycle</td>\n",
       "      <td>{'neg': 0.0, 'neu': 0.904, 'pos': 0.096, 'compound': 0.2023}</td>\n",
       "      <td>0.2023</td>\n",
       "      <td>1</td>\n",
       "      <td>1.0</td>\n",
       "    </tr>\n",
       "    <tr>\n",
       "      <th>4</th>\n",
       "      <td>Yesterday, a Bitcoin projection was displayed on the European Central Bank building in Frankfurt, Germany.\\n🥰🥰\\n#Bitcoin https://t.co/rUEdQxZmgU</td>\n",
       "      <td>True</td>\n",
       "      <td>yesterday bitcoin projection displayed european central bank building frankfurt germany bitcoin</td>\n",
       "      <td>{'neg': 0.0, 'neu': 1.0, 'pos': 0.0, 'compound': 0.0}</td>\n",
       "      <td>0.0000</td>\n",
       "      <td>0</td>\n",
       "      <td>NaN</td>\n",
       "    </tr>\n",
       "  </tbody>\n",
       "</table>\n",
       "</div>"
      ],
      "text/plain": [
       "                                                                                                                                                                                                                                                                                     content  \\\n",
       "0                                                 $Bitcoin TO $100,000 SOONER THAN YOU THINK‼️💯🙏\\n\\n#Bitcoin TO $100,000 WHETHER YOU BELIEVE OR NOT‼️💯🙏\\n\\n$BTC #Bitcoin #BTC   \\n\\n#Bitcoin #BTC #SHIB \\n#HOGE #SAITAMA #BNB   #DOGE #ETH #BabyFloki #AltCoinSeason https://t.co/rtlFlKlVCv   \n",
       "1                                                                                                  Alright I have my rares. Who else is grabbing some of these @DogePunksBTC? Been in the discord a bit today and lovin the vibes. #Bitcoin #bitcoinordinals #crypto https://t.co/oaSNb6zOfK   \n",
       "2  Bitcoin (BTC) Targets Over $100,000 as This Important Pattern Reemerges, Analyst Says\\n\\n$Bitcoin TO $100,000 SOONER THAN YOU THINK‼️💯🙏\\n\\n#BTC TO $100,000 WHETHER YOU BELIEVE OR NOT‼️💯🙏\\n\\n#SHIB \\n#HOGE #SAITAMA #BNB   #DOGE #ETH #BabyFloki #AltCoinSeason  https://t.co/gU71C732NS   \n",
       "3                 📢 Xverse Web-based pool is live:\\n\\n•Update @xverseApp Chrome Browser Extension wallet to V0.6.2\\n\\n•Stack @Stacks 👇\\n\\n https://t.co/s17rWwKnPD\\n\\n•Earn #BTC Yield\\n\\n•Continuous Stacking\\n\\n•Stacking amount Top up at any moment of the cycle https://t.co/sBm89okDyb   \n",
       "4                                                                                                                                           Yesterday, a Bitcoin projection was displayed on the European Central Bank building in Frankfurt, Germany.\\n🥰🥰\\n#Bitcoin https://t.co/rUEdQxZmgU   \n",
       "\n",
       "   sentiment  \\\n",
       "0       True   \n",
       "1       True   \n",
       "2       True   \n",
       "3       True   \n",
       "4       True   \n",
       "\n",
       "                                                                                                                                        cleaned_content  \\\n",
       "0                             bitcoin sooner bitcoin whether believe btc bitcoin btc bitcoin btc shib hoge saitama bnb doge eth babyfloki altcoinseason   \n",
       "1                                                  alright rares else grabbing dogepunksbtc discord bit today lovin vibe bitcoin bitcoinordinals crypto   \n",
       "2  bitcoin btc target important pattern reemerges analyst say bitcoin sooner btc whether believe shib hoge saitama bnb doge eth babyfloki altcoinseason   \n",
       "3                                 xverse web based pool live xverseapp chrome browser extension wallet stack btc yield stacking amount top moment cycle   \n",
       "4                                                       yesterday bitcoin projection displayed european central bank building frankfurt germany bitcoin   \n",
       "\n",
       "                                                   vader_sentiment  \\\n",
       "0            {'neg': 0.0, 'neu': 1.0, 'pos': 0.0, 'compound': 0.0}   \n",
       "1  {'neg': 0.172, 'neu': 0.701, 'pos': 0.127, 'compound': -0.1779}   \n",
       "2     {'neg': 0.0, 'neu': 0.917, 'pos': 0.083, 'compound': 0.2023}   \n",
       "3     {'neg': 0.0, 'neu': 0.904, 'pos': 0.096, 'compound': 0.2023}   \n",
       "4            {'neg': 0.0, 'neu': 1.0, 'pos': 0.0, 'compound': 0.0}   \n",
       "\n",
       "   vader_compound  vader_label  vader_binary_label_2  \n",
       "0          0.0000            0                   NaN  \n",
       "1         -0.1779            0                   0.0  \n",
       "2          0.2023            1                   1.0  \n",
       "3          0.2023            1                   1.0  \n",
       "4          0.0000            0                   NaN  "
      ]
     },
     "execution_count": 48,
     "metadata": {},
     "output_type": "execute_result"
    }
   ],
   "source": [
    "# Print the DataFrame to see the results\n",
    "df.head()"
   ]
  },
  {
   "cell_type": "markdown",
   "id": "354fc1e0-ce15-4ad2-b034-53ad126dcacf",
   "metadata": {},
   "source": [
    "## Embedding - FastText"
   ]
  },
  {
   "cell_type": "code",
   "execution_count": 50,
   "id": "7e1746f3-0b15-489e-b9e2-ed6371fda554",
   "metadata": {
    "tags": []
   },
   "outputs": [
    {
     "name": "stdout",
     "output_type": "stream",
     "text": [
      "[-0.04764474  0.11847241  0.04632468  0.05748639  0.00948652 -0.20186818\n",
      "  0.16897526  0.38848242 -0.16237457 -0.1800465  -0.0762218  -0.33833113\n",
      "  0.03041693  0.05392764  0.1256625  -0.08672813  0.03015453 -0.11505637\n",
      " -0.14230908 -0.26454046  0.16627474  0.00775829  0.09408174  0.04817418\n",
      " -0.0363398  -0.01310277 -0.1459154  -0.07309866 -0.08191411  0.01965353\n",
      "  0.1539438  -0.14187902  0.13373014 -0.3601039   0.04098541  0.1398088\n",
      "  0.05873511  0.08489503 -0.19699545 -0.08087203  0.1195909  -0.21639304\n",
      " -0.04848268 -0.00382239 -0.01309082  0.06988137 -0.17773242 -0.05945305\n",
      " -0.12379873  0.12016299  0.08655808 -0.22404478 -0.18179138 -0.13137838\n",
      "  0.08108353  0.04095358  0.17327096  0.1040905  -0.0703511   0.01022117\n",
      " -0.0245492   0.05689473  0.06684849  0.03667828 -0.1756604   0.24172185\n",
      " -0.0565717   0.27430248 -0.19809054  0.25447956 -0.06409924  0.00109032\n",
      "  0.2607525  -0.0823366   0.20593281  0.09710435  0.04076246  0.06298625\n",
      " -0.0526026   0.07874861 -0.16834514  0.10412897 -0.15473548  0.05936904\n",
      " -0.18003377 -0.02138321  0.22617474  0.09420693  0.13746367  0.02760638\n",
      "  0.14924791  0.05034668 -0.02966843 -0.03971205  0.13218011 -0.05194268\n",
      "  0.07472833 -0.10140001 -0.1016297  -0.09403734]\n",
      "[('sister', 0.9719259142875671), ('singing', 0.9691458940505981), ('honors', 0.9659793376922607), ('climax', 0.9657314419746399), ('Philharmonic', 0.9655758738517761), ('packing', 0.965234637260437), ('native', 0.964148998260498), ('savage', 0.963609516620636), ('Vienna', 0.963226854801178), ('68', 0.962677538394928)]\n"
     ]
    }
   ],
   "source": [
    "from gensim.models import Word2Vec\n",
    "import nltk\n",
    "from nltk.corpus import brown\n",
    "\n",
    "# Download and load the sample dataset\n",
    "sentences = brown.sents()\n",
    "\n",
    "# Train the Word2Vec model\n",
    "model = Word2Vec(sentences, vector_size=100, window=5, min_count=2, workers=4)\n",
    "\n",
    "# Save the model\n",
    "model.save(\"word2vec.model\")\n",
    "\n",
    "# Load the model\n",
    "model = Word2Vec.load(\"word2vec.model\")\n",
    "\n",
    "# Get the vector for a word\n",
    "vector = model.wv['king']\n",
    "print(vector)\n",
    "\n",
    "# Find most similar words\n",
    "similar_words = model.wv.most_similar('king')\n",
    "print(similar_words)"
   ]
  },
  {
   "cell_type": "code",
   "execution_count": 51,
   "id": "be56b129-e227-41b5-b061-72fcf5a8fca4",
   "metadata": {
    "tags": []
   },
   "outputs": [],
   "source": [
    "from gensim.models import FastText"
   ]
  },
  {
   "cell_type": "code",
   "execution_count": 52,
   "id": "1065ac85-ede3-464d-a004-804d7e218373",
   "metadata": {
    "tags": []
   },
   "outputs": [
    {
     "data": {
      "text/plain": [
       "str"
      ]
     },
     "execution_count": 52,
     "metadata": {},
     "output_type": "execute_result"
    }
   ],
   "source": [
    "type(df['cleaned_content'].iloc[1,])"
   ]
  },
  {
   "cell_type": "code",
   "execution_count": 53,
   "id": "0ec03fcf-daba-42d9-97a4-0f7d2adfb049",
   "metadata": {
    "tags": []
   },
   "outputs": [
    {
     "data": {
      "text/plain": [
       "'alright rares else grabbing dogepunksbtc discord bit today lovin vibe bitcoin bitcoinordinals crypto'"
      ]
     },
     "execution_count": 53,
     "metadata": {},
     "output_type": "execute_result"
    }
   ],
   "source": [
    "df['cleaned_content'].iloc[1,]"
   ]
  },
  {
   "cell_type": "code",
   "execution_count": 54,
   "id": "7ddf1337-5419-49a2-b0fb-b0a8636e2260",
   "metadata": {
    "tags": []
   },
   "outputs": [
    {
     "name": "stdout",
     "output_type": "stream",
     "text": [
      "Vector for 'bitcoin': [-0.26274997  0.13016112  0.07315143  0.1777936   0.09191085  0.01267347\n",
      " -0.03025619  0.2608978  -0.04335129 -0.05235497 -0.06515345 -0.22618769\n",
      " -0.13754576  0.29661208  0.04499612 -0.33487636 -0.09974687 -0.30899066\n",
      " -0.36762556 -0.45120978 -0.25803977  0.06727767  0.2458139  -0.10217996\n",
      "  0.02549457 -0.2050726  -0.20499071  0.08421759  0.16403489 -0.0941276\n",
      "  0.1322491   0.06078641  0.03595886 -0.10030193 -0.2189915   0.3686725\n",
      "  0.1824091   0.2268956  -0.049452    0.3319413  -0.14699693 -0.14482062\n",
      " -0.00386215 -0.2591091  -0.19404322 -0.3489574  -0.0301068  -0.17946716\n",
      "  0.01645513  0.22457628  0.14051126  0.0880173   0.41175702  0.16537417\n",
      " -0.2556095  -0.04009161  0.17571291 -0.37105042 -0.0662753   0.01279589\n",
      "  0.07951727 -0.15344897 -0.09386282 -0.01983207  0.28796297 -0.09655376\n",
      " -0.02577505 -0.12937953 -0.05145531 -0.02706049  0.26852295  0.07789338\n",
      "  0.22971645 -0.1506384   0.21952486 -0.08159672 -0.06687325 -0.0968567\n",
      "  0.1176367   0.02004071 -0.06106353 -0.10921346  0.19785832 -0.3521437\n",
      " -0.18474607 -0.21623336 -0.27077365  0.06073556  0.09814202 -0.12948741\n",
      " -0.29408225 -0.24022816 -0.06656805  0.22347377  0.0186149   0.04901046\n",
      " -0.2400474  -0.0599302   0.10384569  0.18337579]\n",
      "Words similar to 'bitcoin': [('bitcoinmining', 0.9849457144737244), ('bitcoincash', 0.9796345233917236), ('bitcoiners', 0.9774349927902222), ('bitcoins', 0.9762845039367676), ('bitcoinmagazine', 0.970305860042572), ('marketplace', 0.9674522280693054), ('remain', 0.9639447927474976), ('news', 0.9592721462249756), ('cash', 0.959112823009491), ('marketing', 0.9574697017669678)]\n"
     ]
    }
   ],
   "source": [
    "# Tokenize the cleaned tweets (split by spaces)\n",
    "tokenized_tweets = [tweet.split() for tweet in df['cleaned_content']]\n",
    "\n",
    "# Train FastText model using Gensim's implementation\n",
    "fasttext_model = FastText(sentences=tokenized_tweets, vector_size=100, window=5, min_count=3, sg=1, epochs=10)\n",
    "\n",
    "# Save the model\n",
    "fasttext_model.save(\"fasttext.model\")\n",
    "\n",
    "# Load the model (for future use)\n",
    "fasttext_model = FastText.load(\"fasttext.model\")\n",
    "\n",
    "# Example: Get vector for a word \n",
    "print(f\"Vector for 'bitcoin': {fasttext_model.wv['bitcoin']}\")\n",
    "\n",
    "# Example: Get most similar words\n",
    "print(f\"Words similar to 'bitcoin': {fasttext_model.wv.most_similar('bitcoin')}\")"
   ]
  },
  {
   "cell_type": "code",
   "execution_count": 55,
   "id": "5c3a5839-8c99-4cb4-b058-f16e47666d32",
   "metadata": {
    "tags": []
   },
   "outputs": [
    {
     "data": {
      "text/plain": [
       "pandas.core.frame.DataFrame"
      ]
     },
     "execution_count": 55,
     "metadata": {},
     "output_type": "execute_result"
    }
   ],
   "source": [
    "type(df)"
   ]
  },
  {
   "cell_type": "markdown",
   "id": "26c808ef-dc02-478a-ac9d-3f58d9403f66",
   "metadata": {},
   "source": [
    "## (2) RNN-based language classifier (+ Simple linear model as benchmark)"
   ]
  },
  {
   "cell_type": "code",
   "execution_count": 57,
   "id": "fc65ff66-428c-4ee2-bced-58ff921369ff",
   "metadata": {
    "tags": []
   },
   "outputs": [],
   "source": [
    "from tensorflow import keras\n",
    "from tensorflow.keras import layers\n",
    "from tensorflow.keras.models import Sequential\n",
    "from tensorflow.keras.layers import InputLayer, LSTM, Dense, Dropout, SimpleRNN\n",
    "from tensorflow.keras.callbacks import ModelCheckpoint, EarlyStopping\n",
    "from tensorflow.keras.losses import MeanSquaredError\n",
    "from tensorflow.keras.metrics import RootMeanSquaredError\n",
    "from tensorflow.keras.optimizers import Adam\n",
    "from sklearn.model_selection import train_test_split"
   ]
  },
  {
   "cell_type": "markdown",
   "id": "203333f1-63be-4046-bed6-ff6905f8c1cf",
   "metadata": {
    "tags": []
   },
   "source": [
    "### Partitioning"
   ]
  },
  {
   "cell_type": "code",
   "execution_count": 59,
   "id": "232dc3ad-44dd-488d-b0ab-e88c99b39530",
   "metadata": {},
   "outputs": [],
   "source": [
    "X_train, X_val, y_train, y_val = train_test_split(df['cleaned_content'],df['sentiment'], test_size = 0.2, random_state = 5)"
   ]
  },
  {
   "cell_type": "code",
   "execution_count": 60,
   "id": "734ecfbb-c903-485e-a075-fff692121664",
   "metadata": {
    "tags": []
   },
   "outputs": [
    {
     "data": {
      "text/plain": [
       "((1200,), (300,), (1200,), (300,))"
      ]
     },
     "execution_count": 60,
     "metadata": {},
     "output_type": "execute_result"
    }
   ],
   "source": [
    "X_train.shape, X_val.shape, y_train.shape, y_val.shape"
   ]
  },
  {
   "cell_type": "code",
   "execution_count": 61,
   "id": "47d082b5-3e22-4a47-8baf-3584909fbcaf",
   "metadata": {
    "tags": []
   },
   "outputs": [
    {
     "data": {
      "text/plain": [
       "pandas.core.series.Series"
      ]
     },
     "execution_count": 61,
     "metadata": {},
     "output_type": "execute_result"
    }
   ],
   "source": [
    "type(X_train)"
   ]
  },
  {
   "cell_type": "markdown",
   "id": "a673aa6e-dda3-42df-878f-98d67f5d1a19",
   "metadata": {
    "tags": []
   },
   "source": [
    "### Building vocabulary - Tokenizing & Padding"
   ]
  },
  {
   "cell_type": "code",
   "execution_count": 63,
   "id": "9629b30a-087c-42a6-85b1-e52fec07b4b6",
   "metadata": {
    "tags": []
   },
   "outputs": [],
   "source": [
    "from keras.preprocessing.text import Tokenizer\n",
    "from tensorflow.keras.preprocessing.sequence import pad_sequences"
   ]
  },
  {
   "cell_type": "code",
   "execution_count": 64,
   "id": "ede4519a-9569-421f-9fbf-ddbd7a10c0f7",
   "metadata": {
    "tags": []
   },
   "outputs": [],
   "source": [
    "# Tokenize the text\n",
    "tokenizer = Tokenizer(num_words=5000, oov_token=1)\n",
    "# The oov_token is a placeholder token that replaces any OOV words during the text_to_sequence calls.\n",
    "#This ensures that your model can handle new, unseen words gracefully.\n",
    "tokenizer.fit_on_texts(X_train)"
   ]
  },
  {
   "cell_type": "code",
   "execution_count": 65,
   "id": "0a7fc973-9efb-40c4-9446-762f769eaaa0",
   "metadata": {
    "tags": []
   },
   "outputs": [
    {
     "name": "stdout",
     "output_type": "stream",
     "text": [
      "1200\n"
     ]
    }
   ],
   "source": [
    "# On how many tweets did we train?\n",
    "print(tokenizer.document_count)"
   ]
  },
  {
   "cell_type": "code",
   "execution_count": 66,
   "id": "018ef035-83e7-4cfd-97a2-03b3205c29db",
   "metadata": {
    "tags": []
   },
   "outputs": [
    {
     "data": {
      "text/plain": [
       "4869"
      ]
     },
     "execution_count": 66,
     "metadata": {},
     "output_type": "execute_result"
    }
   ],
   "source": [
    "# How many unique words?\n",
    "len(tokenizer.word_counts)"
   ]
  },
  {
   "cell_type": "code",
   "execution_count": 67,
   "id": "fc7a39c1-0558-48fb-8b5c-a674abb9f126",
   "metadata": {
    "tags": []
   },
   "outputs": [
    {
     "name": "stdout",
     "output_type": "stream",
     "text": [
      "The word <bitcoin> appeared in 840 tweets.\n"
     ]
    }
   ],
   "source": [
    "# A dictionary of words storing in how many documents a word appeared\n",
    "word = 'bitcoin'  \n",
    "n = tokenizer.word_docs[word]\n",
    "print('The word <{}> appeared in {} tweets.'.format(word, n))"
   ]
  },
  {
   "cell_type": "code",
   "execution_count": 68,
   "id": "66072337-4eb8-4335-aac7-837798e986b4",
   "metadata": {
    "tags": []
   },
   "outputs": [],
   "source": [
    "X_train_seq = tokenizer.texts_to_sequences(X_train)\n",
    "X_val_seq = tokenizer.texts_to_sequences(X_val)"
   ]
  },
  {
   "cell_type": "code",
   "execution_count": 69,
   "id": "3cf17446-3dde-4b52-aa85-bcda124203dc",
   "metadata": {
    "tags": []
   },
   "outputs": [
    {
     "data": {
      "image/png": "[encoded data removed]",
      "text/plain": [
       "<Figure size 640x480 with 1 Axes>"
      ]
     },
     "metadata": {},
     "output_type": "display_data"
    }
   ],
   "source": [
    "import matplotlib.pyplot as plt\n",
    "# Calculate the number of tokens per document\n",
    "num_tokens_per_doc = [len(seq) for seq in X_train_seq]\n",
    "\n",
    "# Plot the distribution\n",
    "plt.hist(num_tokens_per_doc, bins=50)\n",
    "plt.xlabel('Number of Tokens')\n",
    "plt.ylabel('Number of Tweet')\n",
    "plt.title('Distribution of Tokens per Tweet')\n",
    "plt.show()"
   ]
  },
  {
   "cell_type": "code",
   "execution_count": 70,
   "id": "d0e29cda-92ba-43f0-99f8-4755c97cd60b",
   "metadata": {
    "tags": []
   },
   "outputs": [
    {
     "name": "stdout",
     "output_type": "stream",
     "text": [
      "Recommended max length for padding: 28\n"
     ]
    }
   ],
   "source": [
    "import numpy as np\n",
    "\n",
    "# Calculate the 95th percentile of the number of tokens per document\n",
    "max_length = int(np.percentile(num_tokens_per_doc, 95))\n",
    "print(f\"Recommended max length for padding: {max_length}\")\n"
   ]
  },
  {
   "cell_type": "code",
   "execution_count": 71,
   "id": "1b4c2d0a-9701-439f-968d-c3f50e1ac188",
   "metadata": {
    "tags": []
   },
   "outputs": [],
   "source": [
    "# Pad the sequences\n",
    "max_length = 28  # Set max length for padding\n",
    "X_train_pad = pad_sequences(X_train_seq, maxlen=max_length, padding='post')\n",
    "X_val_pad = pad_sequences(X_val_seq, maxlen=max_length, padding='post')"
   ]
  },
  {
   "cell_type": "markdown",
   "id": "571d6bfb-c5d4-4c3f-8250-f9b99c1d45bc",
   "metadata": {},
   "source": [
    "### Load own (FastText) Embeddings"
   ]
  },
  {
   "cell_type": "code",
   "execution_count": 73,
   "id": "baa420fd-39bd-4830-8001-f03250f679ba",
   "metadata": {
    "tags": []
   },
   "outputs": [
    {
     "name": "stdout",
     "output_type": "stream",
     "text": [
      "Embedding matrix shape: (4871, 100)\n"
     ]
    }
   ],
   "source": [
    "# Create an embedding matrix\n",
    "embedding_dim = 100  # Must match the dimension of FastText vectors\n",
    "vocab_size = len(tokenizer.word_index) + 1   #it's the total number of unique words in your tokenizer’s vocabulary plus one. The +1 accounts for the padding token (index 0).\n",
    "embedding_matrix = np.zeros((vocab_size, embedding_dim)) #embedding_matrix is initialized as a matrix of zeros with shape (vocab_size, embedding_dim). \n",
    "                                                        #This matrix will eventually hold the FastText vectors for each word in your vocabulary.\n",
    "\n",
    "for word, i in tokenizer.word_index.items():\n",
    "    if word in fasttext_model.wv:\n",
    "        embedding_matrix[i] = fasttext_model.wv[word]\n",
    "\n",
    "print(f\"Embedding matrix shape: {embedding_matrix.shape}\")"
   ]
  },
  {
   "cell_type": "code",
   "execution_count": 74,
   "id": "89610a60-20a7-4b5b-8a6f-f2ad5ae5e026",
   "metadata": {
    "tags": []
   },
   "outputs": [
    {
     "data": {
      "text/plain": [
       "array([[ 0.        ,  0.        ,  0.        , ...,  0.        ,\n",
       "         0.        ,  0.        ],\n",
       "       [ 0.00404984, -0.00230946, -0.00228412, ...,  0.00901384,\n",
       "         0.0011077 , -0.00440051],\n",
       "       [-0.26274997,  0.13016112,  0.07315143, ..., -0.0599302 ,\n",
       "         0.10384569,  0.18337579],\n",
       "       ...,\n",
       "       [-0.13822372,  0.07843146, -0.0256828 , ..., -0.01402523,\n",
       "         0.07254304,  0.11016664],\n",
       "       [-0.1886448 ,  0.09219406, -0.02018028, ..., -0.02343419,\n",
       "         0.10416009,  0.15975772],\n",
       "       [-0.11922463,  0.05875463, -0.03698539, ..., -0.04085422,\n",
       "         0.10469684,  0.12545283]])"
      ]
     },
     "execution_count": 74,
     "metadata": {},
     "output_type": "execute_result"
    }
   ],
   "source": [
    "embedding_matrix"
   ]
  },
  {
   "cell_type": "markdown",
   "id": "90e76ea6-deb3-4f8c-885b-abfd9ad8b138",
   "metadata": {
    "tags": []
   },
   "source": [
    "### Simple Linear Model as benchmark"
   ]
  },
  {
   "cell_type": "code",
   "execution_count": 77,
   "id": "6f53ccec-3963-4478-bbe1-060622eaeaad",
   "metadata": {
    "tags": []
   },
   "outputs": [
    {
     "data": {
      "text/html": [
       "<div>\n",
       "<style scoped>\n",
       "    .dataframe tbody tr th:only-of-type {\n",
       "        vertical-align: middle;\n",
       "    }\n",
       "\n",
       "    .dataframe tbody tr th {\n",
       "        vertical-align: top;\n",
       "    }\n",
       "\n",
       "    .dataframe thead th {\n",
       "        text-align: right;\n",
       "    }\n",
       "</style>\n",
       "<table border=\"1\" class=\"dataframe\">\n",
       "  <thead>\n",
       "    <tr style=\"text-align: right;\">\n",
       "      <th></th>\n",
       "      <th>content</th>\n",
       "      <th>sentiment</th>\n",
       "      <th>cleaned_content</th>\n",
       "      <th>vader_sentiment</th>\n",
       "      <th>vader_compound</th>\n",
       "      <th>vader_label</th>\n",
       "      <th>vader_binary_label_2</th>\n",
       "    </tr>\n",
       "  </thead>\n",
       "  <tbody>\n",
       "    <tr>\n",
       "      <th>0</th>\n",
       "      <td>$Bitcoin TO $100,000 SOONER THAN YOU THINK‼️💯🙏\\n\\n#Bitcoin TO $100,000 WHETHER YOU BELIEVE OR NOT‼️💯🙏\\n\\n$BTC #Bitcoin #BTC   \\n\\n#Bitcoin #BTC #SHIB \\n#HOGE #SAITAMA #BNB   #DOGE #ETH #BabyFloki #AltCoinSeason https://t.co/rtlFlKlVCv</td>\n",
       "      <td>True</td>\n",
       "      <td>bitcoin sooner bitcoin whether believe btc bitcoin btc bitcoin btc shib hoge saitama bnb doge eth babyfloki altcoinseason</td>\n",
       "      <td>{'neg': 0.0, 'neu': 1.0, 'pos': 0.0, 'compound': 0.0}</td>\n",
       "      <td>0.0000</td>\n",
       "      <td>0</td>\n",
       "      <td>NaN</td>\n",
       "    </tr>\n",
       "    <tr>\n",
       "      <th>1</th>\n",
       "      <td>Alright I have my rares. Who else is grabbing some of these @DogePunksBTC? Been in the discord a bit today and lovin the vibes. #Bitcoin #bitcoinordinals #crypto https://t.co/oaSNb6zOfK</td>\n",
       "      <td>True</td>\n",
       "      <td>alright rares else grabbing dogepunksbtc discord bit today lovin vibe bitcoin bitcoinordinals crypto</td>\n",
       "      <td>{'neg': 0.172, 'neu': 0.701, 'pos': 0.127, 'compound': -0.1779}</td>\n",
       "      <td>-0.1779</td>\n",
       "      <td>0</td>\n",
       "      <td>0.0</td>\n",
       "    </tr>\n",
       "    <tr>\n",
       "      <th>2</th>\n",
       "      <td>Bitcoin (BTC) Targets Over $100,000 as This Important Pattern Reemerges, Analyst Says\\n\\n$Bitcoin TO $100,000 SOONER THAN YOU THINK‼️💯🙏\\n\\n#BTC TO $100,000 WHETHER YOU BELIEVE OR NOT‼️💯🙏\\n\\n#SHIB \\n#HOGE #SAITAMA #BNB   #DOGE #ETH #BabyFloki #AltCoinSeason  https://t.co/gU71C732NS</td>\n",
       "      <td>True</td>\n",
       "      <td>bitcoin btc target important pattern reemerges analyst say bitcoin sooner btc whether believe shib hoge saitama bnb doge eth babyfloki altcoinseason</td>\n",
       "      <td>{'neg': 0.0, 'neu': 0.917, 'pos': 0.083, 'compound': 0.2023}</td>\n",
       "      <td>0.2023</td>\n",
       "      <td>1</td>\n",
       "      <td>1.0</td>\n",
       "    </tr>\n",
       "    <tr>\n",
       "      <th>3</th>\n",
       "      <td>📢 Xverse Web-based pool is live:\\n\\n•Update @xverseApp Chrome Browser Extension wallet to V0.6.2\\n\\n•Stack @Stacks 👇\\n\\n https://t.co/s17rWwKnPD\\n\\n•Earn #BTC Yield\\n\\n•Continuous Stacking\\n\\n•Stacking amount Top up at any moment of the cycle https://t.co/sBm89okDyb</td>\n",
       "      <td>True</td>\n",
       "      <td>xverse web based pool live xverseapp chrome browser extension wallet stack btc yield stacking amount top moment cycle</td>\n",
       "      <td>{'neg': 0.0, 'neu': 0.904, 'pos': 0.096, 'compound': 0.2023}</td>\n",
       "      <td>0.2023</td>\n",
       "      <td>1</td>\n",
       "      <td>1.0</td>\n",
       "    </tr>\n",
       "    <tr>\n",
       "      <th>4</th>\n",
       "      <td>Yesterday, a Bitcoin projection was displayed on the European Central Bank building in Frankfurt, Germany.\\n🥰🥰\\n#Bitcoin https://t.co/rUEdQxZmgU</td>\n",
       "      <td>True</td>\n",
       "      <td>yesterday bitcoin projection displayed european central bank building frankfurt germany bitcoin</td>\n",
       "      <td>{'neg': 0.0, 'neu': 1.0, 'pos': 0.0, 'compound': 0.0}</td>\n",
       "      <td>0.0000</td>\n",
       "      <td>0</td>\n",
       "      <td>NaN</td>\n",
       "    </tr>\n",
       "  </tbody>\n",
       "</table>\n",
       "</div>"
      ],
      "text/plain": [
       "                                                                                                                                                                                                                                                                                     content  \\\n",
       "0                                                 $Bitcoin TO $100,000 SOONER THAN YOU THINK‼️💯🙏\\n\\n#Bitcoin TO $100,000 WHETHER YOU BELIEVE OR NOT‼️💯🙏\\n\\n$BTC #Bitcoin #BTC   \\n\\n#Bitcoin #BTC #SHIB \\n#HOGE #SAITAMA #BNB   #DOGE #ETH #BabyFloki #AltCoinSeason https://t.co/rtlFlKlVCv   \n",
       "1                                                                                                  Alright I have my rares. Who else is grabbing some of these @DogePunksBTC? Been in the discord a bit today and lovin the vibes. #Bitcoin #bitcoinordinals #crypto https://t.co/oaSNb6zOfK   \n",
       "2  Bitcoin (BTC) Targets Over $100,000 as This Important Pattern Reemerges, Analyst Says\\n\\n$Bitcoin TO $100,000 SOONER THAN YOU THINK‼️💯🙏\\n\\n#BTC TO $100,000 WHETHER YOU BELIEVE OR NOT‼️💯🙏\\n\\n#SHIB \\n#HOGE #SAITAMA #BNB   #DOGE #ETH #BabyFloki #AltCoinSeason  https://t.co/gU71C732NS   \n",
       "3                 📢 Xverse Web-based pool is live:\\n\\n•Update @xverseApp Chrome Browser Extension wallet to V0.6.2\\n\\n•Stack @Stacks 👇\\n\\n https://t.co/s17rWwKnPD\\n\\n•Earn #BTC Yield\\n\\n•Continuous Stacking\\n\\n•Stacking amount Top up at any moment of the cycle https://t.co/sBm89okDyb   \n",
       "4                                                                                                                                           Yesterday, a Bitcoin projection was displayed on the European Central Bank building in Frankfurt, Germany.\\n🥰🥰\\n#Bitcoin https://t.co/rUEdQxZmgU   \n",
       "\n",
       "   sentiment  \\\n",
       "0       True   \n",
       "1       True   \n",
       "2       True   \n",
       "3       True   \n",
       "4       True   \n",
       "\n",
       "                                                                                                                                        cleaned_content  \\\n",
       "0                             bitcoin sooner bitcoin whether believe btc bitcoin btc bitcoin btc shib hoge saitama bnb doge eth babyfloki altcoinseason   \n",
       "1                                                  alright rares else grabbing dogepunksbtc discord bit today lovin vibe bitcoin bitcoinordinals crypto   \n",
       "2  bitcoin btc target important pattern reemerges analyst say bitcoin sooner btc whether believe shib hoge saitama bnb doge eth babyfloki altcoinseason   \n",
       "3                                 xverse web based pool live xverseapp chrome browser extension wallet stack btc yield stacking amount top moment cycle   \n",
       "4                                                       yesterday bitcoin projection displayed european central bank building frankfurt germany bitcoin   \n",
       "\n",
       "                                                   vader_sentiment  \\\n",
       "0            {'neg': 0.0, 'neu': 1.0, 'pos': 0.0, 'compound': 0.0}   \n",
       "1  {'neg': 0.172, 'neu': 0.701, 'pos': 0.127, 'compound': -0.1779}   \n",
       "2     {'neg': 0.0, 'neu': 0.917, 'pos': 0.083, 'compound': 0.2023}   \n",
       "3     {'neg': 0.0, 'neu': 0.904, 'pos': 0.096, 'compound': 0.2023}   \n",
       "4            {'neg': 0.0, 'neu': 1.0, 'pos': 0.0, 'compound': 0.0}   \n",
       "\n",
       "   vader_compound  vader_label  vader_binary_label_2  \n",
       "0          0.0000            0                   NaN  \n",
       "1         -0.1779            0                   0.0  \n",
       "2          0.2023            1                   1.0  \n",
       "3          0.2023            1                   1.0  \n",
       "4          0.0000            0                   NaN  "
      ]
     },
     "execution_count": 77,
     "metadata": {},
     "output_type": "execute_result"
    }
   ],
   "source": [
    "df.head()"
   ]
  },
  {
   "cell_type": "code",
   "execution_count": 83,
   "id": "8b11b257-03f9-44fa-a052-fd96242e3477",
   "metadata": {
    "tags": []
   },
   "outputs": [
    {
     "data": {
      "text/plain": [
       "106                                              asset money market fund touch new trillion record ici say marketwatch snap hood corz bkkt amc nio btc shib hoge saitama bnb doge eth babyfloki altcoinseason\n",
       "75                                                           giveaway eth monkey nft amp amp friend hour nfts apt solnft egld solana sol binance btc aptos polygonnft cekilis hamstercoin nftgiveaway cnft ad\n",
       "559                                                                   cuz asked politely nft btc ordinal gold nft necklace guy affordable version bitapes btc chain get p carrythekey holder get bitapes bayc\n",
       "11                                                                                                                                                                                 bitcoin somethig different\n",
       "390     good morning crypto world patience key good thing coming way spxc amp get ready spacexcoin huge babydoge coinbase lunaclassic lunc lunaclassic babydogearmy binance bitcoin kucoin coinbase robinhood\n",
       "                                                                                                        ...                                                                                                  \n",
       "1424                                       happen know hashrate spiked exahash signaling miner coming back online higher hash rate strengthens security confirms resilience lumerin btc marketplace hashpower\n",
       "1142                                 yes need bitcoin defi without bridge op ed dominic w smart contract icp hold send receive btc natively protocol level without need bridge trusted third party beincrypto\n",
       "998                                                                 ask wen game wen kiba pump wen wen new favourite gif p kiba stay trust devs process kibainu kibainuworld kiba swap bnb crypto bitcoin nft\n",
       "206                                                                                                                                                            owning mining bitcoin national security threat\n",
       "867                                                                                                                               buy altcoins week would pick btc wan wan tron knc sol cardano shib bnb avax\n",
       "Name: cleaned_content, Length: 1200, dtype: object"
      ]
     },
     "execution_count": 83,
     "metadata": {},
     "output_type": "execute_result"
    }
   ],
   "source": [
    "X_train"
   ]
  },
  {
   "cell_type": "code",
   "execution_count": null,
   "id": "f99ff710-482d-4999-b828-d64b0d064814",
   "metadata": {
    "tags": []
   },
   "outputs": [],
   "source": [
    "#❌ Don't run\n",
    "# Extract test set cases \n",
    "#yhat = df.loc[X_val.index, 'sentiment_score']\n",
    "\n",
    "# Compute test set performance\n",
    "#auc, acc, _ = assess_sentiment_classifier(y_val, yhat, cut_off=0, plot_roc=False)\n",
    "\n",
    "# We will create many more models. Let's put every model's score into a data frame\n",
    "#df_scores = pd.DataFrame(index=['Acc', 'AUC'], columns=['Lexicon'], data=[acc, auc])\n",
    "#df_scores"
   ]
  },
  {
   "cell_type": "code",
   "execution_count": 99,
   "id": "4f2ac239-31ae-4bac-9126-fa43959f05f8",
   "metadata": {
    "tags": []
   },
   "outputs": [
    {
     "data": {
      "image/png": "[encoded data removed]",
      "text/plain": [
       "<Figure size 640x480 with 1 Axes>"
      ]
     },
     "metadata": {},
     "output_type": "display_data"
    },
    {
     "name": "stdout",
     "output_type": "stream",
     "text": [
      "LASSO sentiment classifier:\tAUC=0.5039\tAccuracy=0.8167\n"
     ]
    },
    {
     "ename": "NameError",
     "evalue": "name 'df_scores' is not defined",
     "output_type": "error",
     "traceback": [
      "\u001b[1;31m---------------------------------------------------------------------------\u001b[0m",
      "\u001b[1;31mNameError\u001b[0m                                 Traceback (most recent call last)",
      "Cell \u001b[1;32mIn[99], line 13\u001b[0m\n\u001b[0;32m     10\u001b[0m \u001b[38;5;28mprint\u001b[39m(\u001b[38;5;124m\"\u001b[39m\u001b[38;5;124mLASSO sentiment classifier:\u001b[39m\u001b[38;5;130;01m\\t\u001b[39;00m\u001b[38;5;124mAUC=\u001b[39m\u001b[38;5;132;01m{:.4f}\u001b[39;00m\u001b[38;5;130;01m\\t\u001b[39;00m\u001b[38;5;124mAccuracy=\u001b[39m\u001b[38;5;132;01m{:.4f}\u001b[39;00m\u001b[38;5;124m\"\u001b[39m\u001b[38;5;241m.\u001b[39mformat(auc, acc))\n\u001b[0;32m     12\u001b[0m \u001b[38;5;66;03m# Add results to our data frame to keep track of results\u001b[39;00m\n\u001b[1;32m---> 13\u001b[0m df_scores[\u001b[38;5;124m'\u001b[39m\u001b[38;5;124mLASSO\u001b[39m\u001b[38;5;124m'\u001b[39m] \u001b[38;5;241m=\u001b[39m [acc, auc]\n",
      "\u001b[1;31mNameError\u001b[0m: name 'df_scores' is not defined"
     ]
    }
   ],
   "source": [
    "# Estimate LASSO model\n",
    "from sklearn.linear_model import LogisticRegression\n",
    "\n",
    "classifier = LogisticRegression(solver=\"liblinear\", penalty='l1', )\n",
    "classifier.fit(X_train_pad, y_train)\n",
    "yhat = classifier.predict_proba(X_val_pad)[:,1]  # output is probability of both classes\n",
    "\n",
    "# Compute performance\n",
    "auc, acc, cmat = assess_sentiment_classifier(y_val, yhat)\n",
    "print(\"LASSO sentiment classifier:\\tAUC={:.4f}\\tAccuracy={:.4f}\".format(auc, acc))\n",
    "\n",
    "# Add results to our data frame to keep track of results\n",
    "df_scores['LASSO'] = [acc, auc]"
   ]
  },
  {
   "cell_type": "markdown",
   "id": "dff8e25b-4072-439d-9898-308b2fd53654",
   "metadata": {},
   "source": [
    "### RNN Model"
   ]
  },
  {
   "cell_type": "code",
   "execution_count": 87,
   "id": "f8d9b542-4554-4685-bca8-d369c59fc6cc",
   "metadata": {
    "tags": []
   },
   "outputs": [
    {
     "name": "stdout",
     "output_type": "stream",
     "text": [
      "Model: \"sequential\"\n",
      "_________________________________________________________________\n",
      " Layer (type)                Output Shape              Param #   \n",
      "=================================================================\n",
      " simple_rnn (SimpleRNN)      (None, 100)               42200     \n",
      "                                                                 \n",
      " dense (Dense)               (None, 1)                 101       \n",
      "                                                                 \n",
      "=================================================================\n",
      "Total params: 42,301\n",
      "Trainable params: 42,301\n",
      "Non-trainable params: 0\n",
      "_________________________________________________________________\n"
     ]
    }
   ],
   "source": [
    "# Model definition (Simple Regression)\n",
    "SR_model = Sequential() # Input shape\n",
    "SR_model.add(SimpleRNN(100, activation='relu', input_shape=(5, 321)))  # First RNN layer with 50 units\n",
    "SR_model.add(Dense(1))  # Output layer\n",
    "SR_model.summary()"
   ]
  },
  {
   "cell_type": "code",
   "execution_count": 89,
   "id": "fe7f6707-6d7a-4f38-92cf-989a18a9656d",
   "metadata": {},
   "outputs": [
    {
     "name": "stdout",
     "output_type": "stream",
     "text": [
      "Model: \"sequential_1\"\n",
      "_________________________________________________________________\n",
      " Layer (type)                Output Shape              Param #   \n",
      "=================================================================\n",
      " embedding (Embedding)       (None, 28, 100)           487100    \n",
      "                                                                 \n",
      " lstm (LSTM)                 (None, 128)               117248    \n",
      "                                                                 \n",
      " dropout (Dropout)           (None, 128)               0         \n",
      "                                                                 \n",
      " dense_1 (Dense)             (None, 1)                 129       \n",
      "                                                                 \n",
      "=================================================================\n",
      "Total params: 604,477\n",
      "Trainable params: 117,377\n",
      "Non-trainable params: 487,100\n",
      "_________________________________________________________________\n"
     ]
    }
   ],
   "source": [
    "from keras.models import Sequential\n",
    "from keras.layers import Embedding, LSTM, Dense, Dropout\n",
    "\n",
    "model = Sequential()\n",
    "model.add(Embedding(input_dim=vocab_size, output_dim=embedding_dim, weights=[embedding_matrix], input_length=max_length, trainable=False))\n",
    "model.add(LSTM(128, return_sequences=False))\n",
    "model.add(Dropout(0.5))\n",
    "model.add(Dense(1, activation='sigmoid'))\n",
    "\n",
    "model.compile(optimizer='adam', loss='binary_crossentropy', metrics=['accuracy'])\n",
    "model.summary()\n"
   ]
  },
  {
   "cell_type": "code",
   "execution_count": 91,
   "id": "c00674d1-f2d3-40e8-852c-3f6528f74260",
   "metadata": {},
   "outputs": [
    {
     "name": "stdout",
     "output_type": "stream",
     "text": [
      "Epoch 1/10\n",
      "38/38 [==============================] - 3s 25ms/step - loss: 0.5201 - accuracy: 0.7983 - val_loss: 0.4540 - val_accuracy: 0.8167\n",
      "Epoch 2/10\n",
      "38/38 [==============================] - 0s 13ms/step - loss: 0.4808 - accuracy: 0.8058 - val_loss: 0.4517 - val_accuracy: 0.8167\n",
      "Epoch 3/10\n",
      "38/38 [==============================] - 1s 15ms/step - loss: 0.4560 - accuracy: 0.8108 - val_loss: 0.4446 - val_accuracy: 0.8167\n",
      "Epoch 4/10\n",
      "38/38 [==============================] - 0s 12ms/step - loss: 0.4483 - accuracy: 0.8092 - val_loss: 0.4545 - val_accuracy: 0.8167\n",
      "Epoch 5/10\n",
      "38/38 [==============================] - 0s 12ms/step - loss: 0.4474 - accuracy: 0.8075 - val_loss: 0.4506 - val_accuracy: 0.8167\n",
      "Epoch 6/10\n",
      "38/38 [==============================] - 0s 12ms/step - loss: 0.4508 - accuracy: 0.8092 - val_loss: 0.4491 - val_accuracy: 0.8100\n",
      "Epoch 7/10\n",
      "38/38 [==============================] - 0s 13ms/step - loss: 0.4522 - accuracy: 0.8083 - val_loss: 0.4519 - val_accuracy: 0.8167\n",
      "Epoch 8/10\n",
      "38/38 [==============================] - 1s 14ms/step - loss: 0.4450 - accuracy: 0.8108 - val_loss: 0.4498 - val_accuracy: 0.8100\n",
      "Epoch 9/10\n",
      "38/38 [==============================] - 1s 13ms/step - loss: 0.4470 - accuracy: 0.8117 - val_loss: 0.4494 - val_accuracy: 0.8133\n",
      "Epoch 10/10\n",
      "38/38 [==============================] - 0s 12ms/step - loss: 0.4435 - accuracy: 0.8125 - val_loss: 0.4555 - val_accuracy: 0.7800\n"
     ]
    }
   ],
   "source": [
    "#Train the model\n",
    "history = model.fit(X_train_pad, y_train, epochs=10, batch_size=32, validation_data=(X_val_pad, y_val))\n",
    "#⚠️Check if there's an argument to pass the weights. For 1 and 0, how many times are going to be outweighted"
   ]
  },
  {
   "cell_type": "code",
   "execution_count": 93,
   "id": "bb8cdb2c-d7ba-43e7-a690-033fc948656c",
   "metadata": {
    "tags": []
   },
   "outputs": [
    {
     "name": "stdout",
     "output_type": "stream",
     "text": [
      "10/10 [==============================] - 0s 6ms/step - loss: 0.4555 - accuracy: 0.7800\n",
      "Test Accuracy: 0.7799999713897705\n",
      "10/10 [==============================] - 0s 5ms/step\n",
      "              precision    recall  f1-score   support\n",
      "\n",
      "       False       0.24      0.09      0.13        55\n",
      "        True       0.82      0.93      0.87       245\n",
      "\n",
      "    accuracy                           0.78       300\n",
      "   macro avg       0.53      0.51      0.50       300\n",
      "weighted avg       0.71      0.78      0.74       300\n",
      "\n"
     ]
    }
   ],
   "source": [
    "# Evaluate the model on the test set\n",
    "loss, accuracy = model.evaluate(X_val_pad, y_val)\n",
    "print(f\"Test Accuracy: {accuracy}\")\n",
    "\n",
    "# Predict on test data\n",
    "y_pred = model.predict(X_val_pad)\n",
    "y_pred = (y_pred > 0.5).astype(\"int32\")\n",
    "\n",
    "from sklearn.metrics import classification_report\n",
    "print(classification_report(y_val, y_pred))\n"
   ]
  },
  {
   "cell_type": "markdown",
   "id": "cbe4bb50-877b-4d18-bd25-d5cc619a7aeb",
   "metadata": {
    "tags": []
   },
   "source": [
    "Interpretation of the Results\n",
    "Class Imbalance: The model seems to have a significant class imbalance issue, where it overwhelmingly predicts the \"True\" class (Class 1) and fails to correctly identify the \"False\" class (Class 0).\n",
    "\n",
    "High Precision for False but Low Recall: The model is very conservative when predicting the \"False\" class (high precision), but it misses most of the actual \"False\" instances (low recall).\n",
    "\n",
    "Potential Overfitting to True Class: The model might be overfitting to the \"True\" class, leading to high recall and reasonable precision but at the cost of completely neglecting the \"False\" class."
   ]
  },
  {
   "cell_type": "markdown",
   "id": "84e537f2-9d5d-4c09-a550-42449ee9260c",
   "metadata": {},
   "source": [
    "#### The following interpretation was made for a different model trained in the past\n",
    "### False (Class 0):\n",
    "\n",
    "Precision: 1.00\n",
    "All predictions made for the \"False\" class are correct. However, given the other metrics, this likely means very few predictions were made as \"False.\"\n",
    "Recall: 0.02\n",
    "The model only correctly identified 2% of the actual \"False\" instances. This indicates that the model is largely missing instances of this class.\n",
    "F1-Score: 0.04\n",
    "The low F1-score reflects the imbalance between the high precision and very low recall.\n",
    "Support: 55\n",
    "There are 55 instances of the \"False\" class in the dataset.\n",
    "\n",
    "\n",
    "### True (Class 1):\n",
    "Precision: 0.82\n",
    "82% of the predictions for the \"True\" class are correct.\n",
    "Recall: 1.00\n",
    "The model correctly identifies 100% of the \"True\" instances. However, this could mean that the model is over-predicting this class.\n",
    "F1-Score: 0.90\n",
    "The F1-score is high due to the perfect recall and reasonably good precision.\n",
    "Support: 245\n",
    "There are 245 instances of the \"True\" class in the dataset.\n",
    "Accuracy: 0.82\n",
    "\n",
    "The model correctly predicted 82% of the total instances in the dataset.\n",
    "\n",
    "### Macro Average:\n",
    "Precision: 0.91\n",
    "Average precision across both classes.\n",
    "Recall: 0.51\n",
    "Average recall across both classes. The low value here reflects the poor performance on the \"False\" class.\n",
    "F1-Score: 0.47\n",
    "Average F1-score across both classes, showing an imbalance due to the very low performance on the \"False\" class.\n",
    "\n",
    "### Weighted Average:\n",
    "Precision: 0.85\n",
    "Recall: 0.82\n",
    "F1-Score: 0.74\n",
    "These metrics are weighted by the support (number of instances) for each class, showing a more balanced view but still reflecting the issues with class imbalance."
   ]
  },
  {
   "cell_type": "markdown",
   "id": "81e4b3a6-7d63-4bf8-8b15-d299a857470f",
   "metadata": {},
   "source": [
    "## (3) Pre-trained DistilBERT"
   ]
  },
  {
   "cell_type": "code",
   "execution_count": null,
   "id": "52c5303d-f51c-48d7-a510-4e8727c55dee",
   "metadata": {
    "scrolled": true,
    "tags": []
   },
   "outputs": [],
   "source": [
    "pip install transformers torch"
   ]
  },
  {
   "cell_type": "markdown",
   "id": "82226ae0-f9fc-49e6-8a06-0dd1f735fa7c",
   "metadata": {},
   "source": [
    "####  Load the Pre-trained DistilBERT Model"
   ]
  },
  {
   "cell_type": "code",
   "execution_count": 101,
   "id": "555bac03-f830-4a5c-b292-7fc5390268f8",
   "metadata": {
    "tags": []
   },
   "outputs": [],
   "source": [
    "from transformers import DistilBertTokenizer, DistilBertForSequenceClassification, pipeline\n",
    "\n",
    "# Load the tokenizer and model\n",
    "tokenizer_DTB = DistilBertTokenizer.from_pretrained('distilbert-base-uncased-finetuned-sst-2-english')\n",
    "DTB_model = DistilBertForSequenceClassification.from_pretrained('distilbert-base-uncased-finetuned-sst-2-english')\n",
    "\n",
    "# Alternatively, use a pipeline for easier handling\n",
    "sentiment_analysis = pipeline(\"sentiment-analysis\", model=DTB_model, tokenizer=tokenizer_DTB)"
   ]
  },
  {
   "cell_type": "markdown",
   "id": "9e76f868-3bb0-40e0-a737-3b67da794f18",
   "metadata": {},
   "source": [
    "#### Re-tokenize test set"
   ]
  },
  {
   "cell_type": "code",
   "execution_count": 107,
   "id": "57084ff0-eacd-4dbc-9f06-c79d94b27736",
   "metadata": {
    "tags": []
   },
   "outputs": [
    {
     "name": "stderr",
     "output_type": "stream",
     "text": [
      "C:\\Users\\Sebastian\\AppData\\Local\\Temp\\ipykernel_56340\\286850867.py:14: DeprecationWarning: In future, it will be an error for 'np.bool_' scalars to be interpreted as an index\n",
      "  labels_val = torch.tensor(list(y_val.values))\n"
     ]
    }
   ],
   "source": [
    "import torch\n",
    "\n",
    "# Tokenize the validation set\n",
    "#⚠️Check why on the validation set and not in the train set\n",
    "tokens_val = tokenizer_DTB(\n",
    "    list(X_val),\n",
    "    padding=True,\n",
    "    truncation=True,\n",
    "    max_length=40,  # Adjust this if your sequences are longer or shorter\n",
    "    return_tensors='pt'\n",
    ")\n",
    "\n",
    "# Convert the labels to a tensor\n",
    "labels_val = torch.tensor(list(y_val.values))"
   ]
  },
  {
   "cell_type": "markdown",
   "id": "775d0383-31c5-4945-9872-50544a307ff7",
   "metadata": {
    "tags": []
   },
   "source": [
    "#### Evaluate models on the test set"
   ]
  },
  {
   "cell_type": "code",
   "execution_count": 121,
   "id": "49386c89-b9bf-4d55-9fdc-732cebe3e6d5",
   "metadata": {
    "tags": []
   },
   "outputs": [
    {
     "name": "stdout",
     "output_type": "stream",
     "text": [
      "              precision    recall  f1-score   support\n",
      "\n",
      "       False       0.23      0.95      0.36        55\n",
      "        True       0.96      0.27      0.43       245\n",
      "\n",
      "    accuracy                           0.40       300\n",
      "   macro avg       0.59      0.61      0.40       300\n",
      "weighted avg       0.82      0.40      0.41       300\n",
      "\n"
     ]
    }
   ],
   "source": [
    "# Disable gradient calculation for evaluation\n",
    "with torch.no_grad():\n",
    "    outputs = DTB_model(**tokens_val)\n",
    "\n",
    "# Get the predicted class (0 or 1)\n",
    "predictions = torch.argmax(outputs.logits, dim=1)\n",
    "\n",
    "# Convert predictions to NumPy array for comparison\n",
    "predictions = predictions.numpy()\n",
    "\n",
    "# Evaluate the predictions\n",
    "print(classification_report(y_val, predictions))"
   ]
  },
  {
   "cell_type": "markdown",
   "id": "a4b92ce7-745b-4fda-9de7-99640d504e9a",
   "metadata": {},
   "source": [
    "## (4) Fine-tuning a DistilBERT model"
   ]
  },
  {
   "cell_type": "code",
   "execution_count": 71,
   "id": "71255340-630e-44a1-8076-df8b3ec0391d",
   "metadata": {
    "tags": []
   },
   "outputs": [
    {
     "name": "stderr",
     "output_type": "stream",
     "text": [
      "Some weights of DistilBertForSequenceClassification were not initialized from the model checkpoint at distilbert-base-uncased and are newly initialized: ['classifier.bias', 'classifier.weight', 'pre_classifier.bias', 'pre_classifier.weight']\n",
      "You should probably TRAIN this model on a down-stream task to be able to use it for predictions and inference.\n"
     ]
    }
   ],
   "source": [
    "#Install libraries\n",
    "from transformers import Trainer, TrainingArguments\n",
    "# Load the tokenizer and model\n",
    "tokenizer_3 = DistilBertTokenizer.from_pretrained('distilbert-base-uncased')\n",
    "model_FTD = DistilBertForSequenceClassification.from_pretrained('distilbert-base-uncased', num_labels=2)"
   ]
  },
  {
   "cell_type": "code",
   "execution_count": 59,
   "id": "ad2363da-907b-4739-a856-9db9ff8d3eec",
   "metadata": {
    "tags": []
   },
   "outputs": [],
   "source": [
    "# Create different datasets and new partition\n",
    "X_train_2, X_val_2, y_train_2, y_val_2 = train_test_split(df['cleaned_content'],df['sentiment'], test_size = 0.2, random_state = 8)"
   ]
  },
  {
   "cell_type": "markdown",
   "id": "efdf4ac7-3399-4404-85c7-282d8f462146",
   "metadata": {
    "tags": []
   },
   "source": [
    "#### Prepare dataset"
   ]
  },
  {
   "cell_type": "code",
   "execution_count": 63,
   "id": "f64a7ef9-f753-469b-bdc8-35428b30a154",
   "metadata": {
    "tags": []
   },
   "outputs": [],
   "source": [
    "import torch"
   ]
  },
  {
   "cell_type": "code",
   "execution_count": 109,
   "id": "b2ea6044-cb23-42f5-841a-b1db1b17b7a0",
   "metadata": {
    "tags": []
   },
   "outputs": [],
   "source": [
    "# Assume X_train and X_val contain the raw text data and y_train and y_val contain the labels\n",
    "train_encodings = tokenizer_3(list(X_train_2), truncation=True, padding=True, max_length=50, return_tensors='pt')\n",
    "val_encodings = tokenizer_3(list(X_val_2), truncation=True, padding=True, max_length=50, return_tensors='pt')\n",
    "\n",
    "# Convert labels to tensor\n",
    "train_labels = torch.tensor(y_train_2.values)\n",
    "val_labels = torch.tensor(y_val_2.values)\n",
    "\n",
    "# Create a Dataset class to handle the encodings and labels\n",
    "class TweetDataset(torch.utils.data.Dataset):\n",
    "    def __init__(self, encodings, labels):\n",
    "        self.encodings = encodings\n",
    "        self.labels = labels\n",
    "\n",
    "    def __getitem__(self, idx):\n",
    "        item = {key: torch.tensor(val[idx]) for key, val in self.encodings.items()}\n",
    "        item['labels'] = self.labels[idx]\n",
    "        return item\n",
    "\n",
    "    def __len__(self):\n",
    "        return len(self.labels)\n",
    "\n",
    "train_dataset = TweetDataset(train_encodings, train_labels)\n",
    "val_dataset = TweetDataset(val_encodings, val_labels)"
   ]
  },
  {
   "cell_type": "code",
   "execution_count": 113,
   "id": "8b7e9e8b-fcb4-44fd-9788-e8bb66132b33",
   "metadata": {
    "scrolled": true,
    "tags": []
   },
   "outputs": [
    {
     "name": "stdout",
     "output_type": "stream",
     "text": [
      "dict_keys(['input_ids', 'attention_mask'])\n"
     ]
    }
   ],
   "source": [
    "print(train_encodings.keys())"
   ]
  },
  {
   "cell_type": "code",
   "execution_count": 115,
   "id": "e921e91e-4f99-49eb-b7ae-47c1ef040b9c",
   "metadata": {
    "tags": []
   },
   "outputs": [
    {
     "name": "stdout",
     "output_type": "stream",
     "text": [
      "torch.Size([1200, 50])\n",
      "torch.Size([1200, 50])\n"
     ]
    }
   ],
   "source": [
    "print(train_encodings['input_ids'].size())  # Should output: torch.Size([batch_size, max_length])\n",
    "print(train_encodings['attention_mask'].size())  # Should output: torch.Size([batch_size, max_length])"
   ]
  },
  {
   "cell_type": "code",
   "execution_count": 119,
   "id": "84fe9801-54c4-4f3b-91c0-b93c9cf5cb7c",
   "metadata": {
    "tags": []
   },
   "outputs": [
    {
     "name": "stdout",
     "output_type": "stream",
     "text": [
      "torch.Size([1200, 2])\n"
     ]
    }
   ],
   "source": [
    "outputs = model_FTD(**train_encodings)\n",
    "logits = outputs.logits\n",
    "print(logits.size())  # Should output something like: torch.Size([batch_size, 2])"
   ]
  },
  {
   "cell_type": "code",
   "execution_count": 131,
   "id": "f2354cc6-963c-4a16-81fc-a44fd2420db6",
   "metadata": {
    "tags": []
   },
   "outputs": [],
   "source": [
    "train_labels = train_labels.long()"
   ]
  },
  {
   "cell_type": "code",
   "execution_count": 133,
   "id": "85733a0a-4042-4bc1-9703-e5313834ed43",
   "metadata": {
    "tags": []
   },
   "outputs": [
    {
     "name": "stdout",
     "output_type": "stream",
     "text": [
      "torch.Size([1200])\n",
      "tensor([1, 0, 1,  ..., 0, 1, 1])\n"
     ]
    }
   ],
   "source": [
    "print(train_labels.shape)  # Should be [batch_size], e.g., torch.Size([16])\n",
    "print(train_labels)  # Should contain values like [0, 1, 0, 1, ...]"
   ]
  },
  {
   "cell_type": "markdown",
   "id": "ebc831b8-8987-4cc1-b455-153324e64f75",
   "metadata": {},
   "source": [
    "#### Define Training arguments"
   ]
  },
  {
   "cell_type": "code",
   "execution_count": 67,
   "id": "42880189-e82a-4aac-b403-730676f2d55a",
   "metadata": {
    "scrolled": true,
    "tags": []
   },
   "outputs": [],
   "source": [
    "training_args = TrainingArguments(\n",
    "    output_dir='./results',          # output directory\n",
    "    num_train_epochs=1,              # number of training epochs\n",
    "    per_device_train_batch_size=16,  # batch size for training\n",
    "    per_device_eval_batch_size=16,   # batch size for evaluation\n",
    "    warmup_steps=500,                # number of warmup steps for learning rate scheduler\n",
    "    weight_decay=0.01,               # strength of weight decay\n",
    "    logging_dir='./logs',            # directory for storing logs\n",
    "    logging_steps=10,\n",
    ")"
   ]
  },
  {
   "cell_type": "markdown",
   "id": "033b2eef-b977-4120-bcfe-448071786dc0",
   "metadata": {},
   "source": [
    "#### Train the Model"
   ]
  },
  {
   "cell_type": "code",
   "execution_count": 137,
   "id": "2903b949-9b0d-48b5-8bfa-c2525fd1a5c9",
   "metadata": {
    "tags": []
   },
   "outputs": [],
   "source": [
    "class CustomTrainer(Trainer):\n",
    "    def compute_loss(self, model_FTD, inputs, return_outputs=False):\n",
    "        labels = inputs.get(\"labels\")\n",
    "        # Forward pass\n",
    "        outputs = model_FTD(**inputs)\n",
    "        logits = outputs.get(\"logits\")\n",
    "        \n",
    "        # Print shapes for debugging\n",
    "        print(f\"Logits shape: {logits.shape}\")\n",
    "        print(f\"Labels shape: {labels.shape}\")\n",
    "        \n",
    "        # Compute loss\n",
    "        loss = torch.nn.functional.cross_entropy(logits, labels)\n",
    "        return (loss, outputs) if return_outputs else loss"
   ]
  },
  {
   "cell_type": "code",
   "execution_count": 139,
   "id": "56d5cf12-5d60-420a-991e-972cd8eef5cc",
   "metadata": {
    "scrolled": true,
    "tags": []
   },
   "outputs": [
    {
     "name": "stderr",
     "output_type": "stream",
     "text": [
      "C:\\Users\\Sebastian\\AppData\\Local\\Temp\\ipykernel_59900\\1170925390.py:16: UserWarning: To copy construct from a tensor, it is recommended to use sourceTensor.clone().detach() or sourceTensor.clone().detach().requires_grad_(True), rather than torch.tensor(sourceTensor).\n",
      "  item = {key: torch.tensor(val[idx]) for key, val in self.encodings.items()}\n"
     ]
    },
    {
     "ename": "ValueError",
     "evalue": "Target size (torch.Size([16])) must be the same as input size (torch.Size([16, 2]))",
     "output_type": "error",
     "traceback": [
      "\u001b[1;31m---------------------------------------------------------------------------\u001b[0m",
      "\u001b[1;31mValueError\u001b[0m                                Traceback (most recent call last)",
      "Cell \u001b[1;32mIn[139], line 9\u001b[0m\n\u001b[0;32m      1\u001b[0m trainer \u001b[38;5;241m=\u001b[39m CustomTrainer(\n\u001b[0;32m      2\u001b[0m     model\u001b[38;5;241m=\u001b[39mmodel_FTD,                         \u001b[38;5;66;03m# the instantiated 🤗 Transformers model to be trained\u001b[39;00m\n\u001b[0;32m      3\u001b[0m     args\u001b[38;5;241m=\u001b[39mtraining_args,                  \u001b[38;5;66;03m# training arguments, defined above\u001b[39;00m\n\u001b[0;32m      4\u001b[0m     train_dataset\u001b[38;5;241m=\u001b[39mtrain_dataset,         \u001b[38;5;66;03m# training dataset\u001b[39;00m\n\u001b[0;32m      5\u001b[0m     eval_dataset\u001b[38;5;241m=\u001b[39mval_dataset             \u001b[38;5;66;03m# evaluation dataset\u001b[39;00m\n\u001b[0;32m      6\u001b[0m )\n\u001b[0;32m      8\u001b[0m \u001b[38;5;66;03m# Fine-tune the model\u001b[39;00m\n\u001b[1;32m----> 9\u001b[0m trainer\u001b[38;5;241m.\u001b[39mtrain()\n",
      "File \u001b[1;32m~\\anaconda3\\Lib\\site-packages\\transformers\\trainer.py:1885\u001b[0m, in \u001b[0;36mTrainer.train\u001b[1;34m(self, resume_from_checkpoint, trial, ignore_keys_for_eval, **kwargs)\u001b[0m\n\u001b[0;32m   1883\u001b[0m         hf_hub_utils\u001b[38;5;241m.\u001b[39menable_progress_bars()\n\u001b[0;32m   1884\u001b[0m \u001b[38;5;28;01melse\u001b[39;00m:\n\u001b[1;32m-> 1885\u001b[0m     \u001b[38;5;28;01mreturn\u001b[39;00m inner_training_loop(\n\u001b[0;32m   1886\u001b[0m         args\u001b[38;5;241m=\u001b[39margs,\n\u001b[0;32m   1887\u001b[0m         resume_from_checkpoint\u001b[38;5;241m=\u001b[39mresume_from_checkpoint,\n\u001b[0;32m   1888\u001b[0m         trial\u001b[38;5;241m=\u001b[39mtrial,\n\u001b[0;32m   1889\u001b[0m         ignore_keys_for_eval\u001b[38;5;241m=\u001b[39mignore_keys_for_eval,\n\u001b[0;32m   1890\u001b[0m     )\n",
      "File \u001b[1;32m~\\anaconda3\\Lib\\site-packages\\transformers\\trainer.py:2216\u001b[0m, in \u001b[0;36mTrainer._inner_training_loop\u001b[1;34m(self, batch_size, args, resume_from_checkpoint, trial, ignore_keys_for_eval)\u001b[0m\n\u001b[0;32m   2213\u001b[0m     \u001b[38;5;28mself\u001b[39m\u001b[38;5;241m.\u001b[39mcontrol \u001b[38;5;241m=\u001b[39m \u001b[38;5;28mself\u001b[39m\u001b[38;5;241m.\u001b[39mcallback_handler\u001b[38;5;241m.\u001b[39mon_step_begin(args, \u001b[38;5;28mself\u001b[39m\u001b[38;5;241m.\u001b[39mstate, \u001b[38;5;28mself\u001b[39m\u001b[38;5;241m.\u001b[39mcontrol)\n\u001b[0;32m   2215\u001b[0m \u001b[38;5;28;01mwith\u001b[39;00m \u001b[38;5;28mself\u001b[39m\u001b[38;5;241m.\u001b[39maccelerator\u001b[38;5;241m.\u001b[39maccumulate(model):\n\u001b[1;32m-> 2216\u001b[0m     tr_loss_step \u001b[38;5;241m=\u001b[39m \u001b[38;5;28mself\u001b[39m\u001b[38;5;241m.\u001b[39mtraining_step(model, inputs)\n\u001b[0;32m   2218\u001b[0m \u001b[38;5;28;01mif\u001b[39;00m (\n\u001b[0;32m   2219\u001b[0m     args\u001b[38;5;241m.\u001b[39mlogging_nan_inf_filter\n\u001b[0;32m   2220\u001b[0m     \u001b[38;5;129;01mand\u001b[39;00m \u001b[38;5;129;01mnot\u001b[39;00m is_torch_xla_available()\n\u001b[0;32m   2221\u001b[0m     \u001b[38;5;129;01mand\u001b[39;00m (torch\u001b[38;5;241m.\u001b[39misnan(tr_loss_step) \u001b[38;5;129;01mor\u001b[39;00m torch\u001b[38;5;241m.\u001b[39misinf(tr_loss_step))\n\u001b[0;32m   2222\u001b[0m ):\n\u001b[0;32m   2223\u001b[0m     \u001b[38;5;66;03m# if loss is nan or inf simply add the average of previous logged losses\u001b[39;00m\n\u001b[0;32m   2224\u001b[0m     tr_loss \u001b[38;5;241m+\u001b[39m\u001b[38;5;241m=\u001b[39m tr_loss \u001b[38;5;241m/\u001b[39m (\u001b[38;5;241m1\u001b[39m \u001b[38;5;241m+\u001b[39m \u001b[38;5;28mself\u001b[39m\u001b[38;5;241m.\u001b[39mstate\u001b[38;5;241m.\u001b[39mglobal_step \u001b[38;5;241m-\u001b[39m \u001b[38;5;28mself\u001b[39m\u001b[38;5;241m.\u001b[39m_globalstep_last_logged)\n",
      "File \u001b[1;32m~\\anaconda3\\Lib\\site-packages\\transformers\\trainer.py:3238\u001b[0m, in \u001b[0;36mTrainer.training_step\u001b[1;34m(self, model, inputs)\u001b[0m\n\u001b[0;32m   3235\u001b[0m     \u001b[38;5;28;01mreturn\u001b[39;00m loss_mb\u001b[38;5;241m.\u001b[39mreduce_mean()\u001b[38;5;241m.\u001b[39mdetach()\u001b[38;5;241m.\u001b[39mto(\u001b[38;5;28mself\u001b[39m\u001b[38;5;241m.\u001b[39margs\u001b[38;5;241m.\u001b[39mdevice)\n\u001b[0;32m   3237\u001b[0m \u001b[38;5;28;01mwith\u001b[39;00m \u001b[38;5;28mself\u001b[39m\u001b[38;5;241m.\u001b[39mcompute_loss_context_manager():\n\u001b[1;32m-> 3238\u001b[0m     loss \u001b[38;5;241m=\u001b[39m \u001b[38;5;28mself\u001b[39m\u001b[38;5;241m.\u001b[39mcompute_loss(model, inputs)\n\u001b[0;32m   3240\u001b[0m \u001b[38;5;28;01mdel\u001b[39;00m inputs\n\u001b[0;32m   3241\u001b[0m torch\u001b[38;5;241m.\u001b[39mcuda\u001b[38;5;241m.\u001b[39mempty_cache()\n",
      "Cell \u001b[1;32mIn[137], line 5\u001b[0m, in \u001b[0;36mCustomTrainer.compute_loss\u001b[1;34m(self, model_FTD, inputs, return_outputs)\u001b[0m\n\u001b[0;32m      3\u001b[0m labels \u001b[38;5;241m=\u001b[39m inputs\u001b[38;5;241m.\u001b[39mget(\u001b[38;5;124m\"\u001b[39m\u001b[38;5;124mlabels\u001b[39m\u001b[38;5;124m\"\u001b[39m)\n\u001b[0;32m      4\u001b[0m \u001b[38;5;66;03m# Forward pass\u001b[39;00m\n\u001b[1;32m----> 5\u001b[0m outputs \u001b[38;5;241m=\u001b[39m model_FTD(\u001b[38;5;241m*\u001b[39m\u001b[38;5;241m*\u001b[39minputs)\n\u001b[0;32m      6\u001b[0m logits \u001b[38;5;241m=\u001b[39m outputs\u001b[38;5;241m.\u001b[39mget(\u001b[38;5;124m\"\u001b[39m\u001b[38;5;124mlogits\u001b[39m\u001b[38;5;124m\"\u001b[39m)\n\u001b[0;32m      8\u001b[0m \u001b[38;5;66;03m# Print shapes for debugging\u001b[39;00m\n",
      "File \u001b[1;32m~\\anaconda3\\Lib\\site-packages\\torch\\nn\\modules\\module.py:1532\u001b[0m, in \u001b[0;36mModule._wrapped_call_impl\u001b[1;34m(self, *args, **kwargs)\u001b[0m\n\u001b[0;32m   1530\u001b[0m     \u001b[38;5;28;01mreturn\u001b[39;00m \u001b[38;5;28mself\u001b[39m\u001b[38;5;241m.\u001b[39m_compiled_call_impl(\u001b[38;5;241m*\u001b[39margs, \u001b[38;5;241m*\u001b[39m\u001b[38;5;241m*\u001b[39mkwargs)  \u001b[38;5;66;03m# type: ignore[misc]\u001b[39;00m\n\u001b[0;32m   1531\u001b[0m \u001b[38;5;28;01melse\u001b[39;00m:\n\u001b[1;32m-> 1532\u001b[0m     \u001b[38;5;28;01mreturn\u001b[39;00m \u001b[38;5;28mself\u001b[39m\u001b[38;5;241m.\u001b[39m_call_impl(\u001b[38;5;241m*\u001b[39margs, \u001b[38;5;241m*\u001b[39m\u001b[38;5;241m*\u001b[39mkwargs)\n",
      "File \u001b[1;32m~\\anaconda3\\Lib\\site-packages\\torch\\nn\\modules\\module.py:1541\u001b[0m, in \u001b[0;36mModule._call_impl\u001b[1;34m(self, *args, **kwargs)\u001b[0m\n\u001b[0;32m   1536\u001b[0m \u001b[38;5;66;03m# If we don't have any hooks, we want to skip the rest of the logic in\u001b[39;00m\n\u001b[0;32m   1537\u001b[0m \u001b[38;5;66;03m# this function, and just call forward.\u001b[39;00m\n\u001b[0;32m   1538\u001b[0m \u001b[38;5;28;01mif\u001b[39;00m \u001b[38;5;129;01mnot\u001b[39;00m (\u001b[38;5;28mself\u001b[39m\u001b[38;5;241m.\u001b[39m_backward_hooks \u001b[38;5;129;01mor\u001b[39;00m \u001b[38;5;28mself\u001b[39m\u001b[38;5;241m.\u001b[39m_backward_pre_hooks \u001b[38;5;129;01mor\u001b[39;00m \u001b[38;5;28mself\u001b[39m\u001b[38;5;241m.\u001b[39m_forward_hooks \u001b[38;5;129;01mor\u001b[39;00m \u001b[38;5;28mself\u001b[39m\u001b[38;5;241m.\u001b[39m_forward_pre_hooks\n\u001b[0;32m   1539\u001b[0m         \u001b[38;5;129;01mor\u001b[39;00m _global_backward_pre_hooks \u001b[38;5;129;01mor\u001b[39;00m _global_backward_hooks\n\u001b[0;32m   1540\u001b[0m         \u001b[38;5;129;01mor\u001b[39;00m _global_forward_hooks \u001b[38;5;129;01mor\u001b[39;00m _global_forward_pre_hooks):\n\u001b[1;32m-> 1541\u001b[0m     \u001b[38;5;28;01mreturn\u001b[39;00m forward_call(\u001b[38;5;241m*\u001b[39margs, \u001b[38;5;241m*\u001b[39m\u001b[38;5;241m*\u001b[39mkwargs)\n\u001b[0;32m   1543\u001b[0m \u001b[38;5;28;01mtry\u001b[39;00m:\n\u001b[0;32m   1544\u001b[0m     result \u001b[38;5;241m=\u001b[39m \u001b[38;5;28;01mNone\u001b[39;00m\n",
      "File \u001b[1;32m~\\anaconda3\\Lib\\site-packages\\transformers\\models\\distilbert\\modeling_distilbert.py:1028\u001b[0m, in \u001b[0;36mDistilBertForSequenceClassification.forward\u001b[1;34m(self, input_ids, attention_mask, head_mask, inputs_embeds, labels, output_attentions, output_hidden_states, return_dict)\u001b[0m\n\u001b[0;32m   1026\u001b[0m     \u001b[38;5;28;01melif\u001b[39;00m \u001b[38;5;28mself\u001b[39m\u001b[38;5;241m.\u001b[39mconfig\u001b[38;5;241m.\u001b[39mproblem_type \u001b[38;5;241m==\u001b[39m \u001b[38;5;124m\"\u001b[39m\u001b[38;5;124mmulti_label_classification\u001b[39m\u001b[38;5;124m\"\u001b[39m:\n\u001b[0;32m   1027\u001b[0m         loss_fct \u001b[38;5;241m=\u001b[39m BCEWithLogitsLoss()\n\u001b[1;32m-> 1028\u001b[0m         loss \u001b[38;5;241m=\u001b[39m loss_fct(logits, labels)\n\u001b[0;32m   1030\u001b[0m \u001b[38;5;28;01mif\u001b[39;00m \u001b[38;5;129;01mnot\u001b[39;00m return_dict:\n\u001b[0;32m   1031\u001b[0m     output \u001b[38;5;241m=\u001b[39m (logits,) \u001b[38;5;241m+\u001b[39m distilbert_output[\u001b[38;5;241m1\u001b[39m:]\n",
      "File \u001b[1;32m~\\anaconda3\\Lib\\site-packages\\torch\\nn\\modules\\module.py:1532\u001b[0m, in \u001b[0;36mModule._wrapped_call_impl\u001b[1;34m(self, *args, **kwargs)\u001b[0m\n\u001b[0;32m   1530\u001b[0m     \u001b[38;5;28;01mreturn\u001b[39;00m \u001b[38;5;28mself\u001b[39m\u001b[38;5;241m.\u001b[39m_compiled_call_impl(\u001b[38;5;241m*\u001b[39margs, \u001b[38;5;241m*\u001b[39m\u001b[38;5;241m*\u001b[39mkwargs)  \u001b[38;5;66;03m# type: ignore[misc]\u001b[39;00m\n\u001b[0;32m   1531\u001b[0m \u001b[38;5;28;01melse\u001b[39;00m:\n\u001b[1;32m-> 1532\u001b[0m     \u001b[38;5;28;01mreturn\u001b[39;00m \u001b[38;5;28mself\u001b[39m\u001b[38;5;241m.\u001b[39m_call_impl(\u001b[38;5;241m*\u001b[39margs, \u001b[38;5;241m*\u001b[39m\u001b[38;5;241m*\u001b[39mkwargs)\n",
      "File \u001b[1;32m~\\anaconda3\\Lib\\site-packages\\torch\\nn\\modules\\module.py:1541\u001b[0m, in \u001b[0;36mModule._call_impl\u001b[1;34m(self, *args, **kwargs)\u001b[0m\n\u001b[0;32m   1536\u001b[0m \u001b[38;5;66;03m# If we don't have any hooks, we want to skip the rest of the logic in\u001b[39;00m\n\u001b[0;32m   1537\u001b[0m \u001b[38;5;66;03m# this function, and just call forward.\u001b[39;00m\n\u001b[0;32m   1538\u001b[0m \u001b[38;5;28;01mif\u001b[39;00m \u001b[38;5;129;01mnot\u001b[39;00m (\u001b[38;5;28mself\u001b[39m\u001b[38;5;241m.\u001b[39m_backward_hooks \u001b[38;5;129;01mor\u001b[39;00m \u001b[38;5;28mself\u001b[39m\u001b[38;5;241m.\u001b[39m_backward_pre_hooks \u001b[38;5;129;01mor\u001b[39;00m \u001b[38;5;28mself\u001b[39m\u001b[38;5;241m.\u001b[39m_forward_hooks \u001b[38;5;129;01mor\u001b[39;00m \u001b[38;5;28mself\u001b[39m\u001b[38;5;241m.\u001b[39m_forward_pre_hooks\n\u001b[0;32m   1539\u001b[0m         \u001b[38;5;129;01mor\u001b[39;00m _global_backward_pre_hooks \u001b[38;5;129;01mor\u001b[39;00m _global_backward_hooks\n\u001b[0;32m   1540\u001b[0m         \u001b[38;5;129;01mor\u001b[39;00m _global_forward_hooks \u001b[38;5;129;01mor\u001b[39;00m _global_forward_pre_hooks):\n\u001b[1;32m-> 1541\u001b[0m     \u001b[38;5;28;01mreturn\u001b[39;00m forward_call(\u001b[38;5;241m*\u001b[39margs, \u001b[38;5;241m*\u001b[39m\u001b[38;5;241m*\u001b[39mkwargs)\n\u001b[0;32m   1543\u001b[0m \u001b[38;5;28;01mtry\u001b[39;00m:\n\u001b[0;32m   1544\u001b[0m     result \u001b[38;5;241m=\u001b[39m \u001b[38;5;28;01mNone\u001b[39;00m\n",
      "File \u001b[1;32m~\\anaconda3\\Lib\\site-packages\\torch\\nn\\modules\\loss.py:731\u001b[0m, in \u001b[0;36mBCEWithLogitsLoss.forward\u001b[1;34m(self, input, target)\u001b[0m\n\u001b[0;32m    730\u001b[0m \u001b[38;5;28;01mdef\u001b[39;00m \u001b[38;5;21mforward\u001b[39m(\u001b[38;5;28mself\u001b[39m, \u001b[38;5;28minput\u001b[39m: Tensor, target: Tensor) \u001b[38;5;241m-\u001b[39m\u001b[38;5;241m>\u001b[39m Tensor:\n\u001b[1;32m--> 731\u001b[0m     \u001b[38;5;28;01mreturn\u001b[39;00m F\u001b[38;5;241m.\u001b[39mbinary_cross_entropy_with_logits(\u001b[38;5;28minput\u001b[39m, target,\n\u001b[0;32m    732\u001b[0m                                               \u001b[38;5;28mself\u001b[39m\u001b[38;5;241m.\u001b[39mweight,\n\u001b[0;32m    733\u001b[0m                                               pos_weight\u001b[38;5;241m=\u001b[39m\u001b[38;5;28mself\u001b[39m\u001b[38;5;241m.\u001b[39mpos_weight,\n\u001b[0;32m    734\u001b[0m                                               reduction\u001b[38;5;241m=\u001b[39m\u001b[38;5;28mself\u001b[39m\u001b[38;5;241m.\u001b[39mreduction)\n",
      "File \u001b[1;32m~\\anaconda3\\Lib\\site-packages\\torch\\nn\\functional.py:3224\u001b[0m, in \u001b[0;36mbinary_cross_entropy_with_logits\u001b[1;34m(input, target, weight, size_average, reduce, reduction, pos_weight)\u001b[0m\n\u001b[0;32m   3221\u001b[0m     reduction_enum \u001b[38;5;241m=\u001b[39m _Reduction\u001b[38;5;241m.\u001b[39mget_enum(reduction)\n\u001b[0;32m   3223\u001b[0m \u001b[38;5;28;01mif\u001b[39;00m \u001b[38;5;129;01mnot\u001b[39;00m (target\u001b[38;5;241m.\u001b[39msize() \u001b[38;5;241m==\u001b[39m \u001b[38;5;28minput\u001b[39m\u001b[38;5;241m.\u001b[39msize()):\n\u001b[1;32m-> 3224\u001b[0m     \u001b[38;5;28;01mraise\u001b[39;00m \u001b[38;5;167;01mValueError\u001b[39;00m(\u001b[38;5;124mf\u001b[39m\u001b[38;5;124m\"\u001b[39m\u001b[38;5;124mTarget size (\u001b[39m\u001b[38;5;132;01m{\u001b[39;00mtarget\u001b[38;5;241m.\u001b[39msize()\u001b[38;5;132;01m}\u001b[39;00m\u001b[38;5;124m) must be the same as input size (\u001b[39m\u001b[38;5;132;01m{\u001b[39;00m\u001b[38;5;28minput\u001b[39m\u001b[38;5;241m.\u001b[39msize()\u001b[38;5;132;01m}\u001b[39;00m\u001b[38;5;124m)\u001b[39m\u001b[38;5;124m\"\u001b[39m)\n\u001b[0;32m   3226\u001b[0m \u001b[38;5;28;01mreturn\u001b[39;00m torch\u001b[38;5;241m.\u001b[39mbinary_cross_entropy_with_logits(\u001b[38;5;28minput\u001b[39m, target, weight, pos_weight, reduction_enum)\n",
      "\u001b[1;31mValueError\u001b[0m: Target size (torch.Size([16])) must be the same as input size (torch.Size([16, 2]))"
     ]
    }
   ],
   "source": [
    "trainer = CustomTrainer(\n",
    "    model=model_FTD,                         # the instantiated 🤗 Transformers model to be trained\n",
    "    args=training_args,                  # training arguments, defined above\n",
    "    train_dataset=train_dataset,         # training dataset\n",
    "    eval_dataset=val_dataset             # evaluation dataset\n",
    ")\n",
    "\n",
    "# Fine-tune the model\n",
    "trainer.train()"
   ]
  },
  {
   "cell_type": "markdown",
   "id": "a3880aaf-aa33-4ded-9087-f727efd3483c",
   "metadata": {},
   "source": [
    "#### Apply the Model to the Test Set"
   ]
  },
  {
   "cell_type": "code",
   "execution_count": null,
   "id": "731856aa-e8b7-4b29-ac61-b59e96da113a",
   "metadata": {},
   "outputs": [],
   "source": [
    "# Tokenize the test set\n",
    "test_encodings = tokenizer(list(X_val), truncation=True, padding=True, max_length=512)\n",
    "test_dataset = TweetDataset(test_encodings, torch.tensor(y_val.values))\n",
    "\n",
    "# Predict on the test set\n",
    "predictions_3 = trainer.predict(test_dataset)\n",
    "pred_labels_3 = torch.argmax(torch.tensor(predictions_3.predictions), axis=1)\n",
    "\n",
    "# Evaluate the predictions\n",
    "print(classification_report(y_val_2), pred_labels_3.numpy()))"
   ]
  },
  {
   "cell_type": "code",
   "execution_count": null,
   "id": "8eeca6fb-2f9c-4add-9da0-d23e13a5da44",
   "metadata": {},
   "outputs": [],
   "source": []
  },
  {
   "cell_type": "code",
   "execution_count": null,
   "id": "40cb097e-b44f-4bba-b152-9d48d1bcb97f",
   "metadata": {},
   "outputs": [],
   "source": []
  },
  {
   "cell_type": "markdown",
   "id": "4fdbcd57-7a62-4037-8dae-cbde68cd0385",
   "metadata": {
    "tags": []
   },
   "source": [
    "## Extra Stuff - To review  "
   ]
  },
  {
   "cell_type": "code",
   "execution_count": null,
   "id": "4bf0b6b0-f2da-4cb6-9268-4765031e6e08",
   "metadata": {},
   "outputs": [],
   "source": [
    "import pysentiment2 as ps\n",
    "dc = ps.HIV4() # import Harvard IV-4 dictionary\n",
    "\n",
    "def get_sentiment_score(text):\n",
    "    score = round(dc.get_score(dc.tokenize(text))['Polarity'], 2)\n",
    "    return score"
   ]
  },
  {
   "cell_type": "code",
   "execution_count": null,
   "id": "a231e811-77ce-4256-9ca1-e71d5c7294da",
   "metadata": {},
   "outputs": [],
   "source": [
    "# Do the cleaning\n",
    "# CAUTION: depending on your data set size, the processing might take a while \n",
    "import time  # To keep an eye on runtimes\n",
    "start = time.time()\n",
    "imdb_data['review_clean'] = text_cleaning(imdb_data.review)\n",
    "print('Duration: {:.0f} sec'.format(time.time()-start))"
   ]
  }
 ],
 "metadata": {
  "kernelspec": {
   "display_name": "Python 3 (ipykernel)",
   "language": "python",
   "name": "python3"
  },
  "language_info": {
   "codemirror_mode": {
    "name": "ipython",
    "version": 3
   },
   "file_extension": ".py",
   "mimetype": "text/x-python",
   "name": "python",
   "nbconvert_exporter": "python",
   "pygments_lexer": "ipython3",
   "version": "3.11.7"
  }
 },
 "nbformat": 4,
 "nbformat_minor": 5
}
