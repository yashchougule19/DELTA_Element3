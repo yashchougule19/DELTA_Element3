{
 "cells": [
  {
   "cell_type": "code",
   "execution_count": null,
   "metadata": {
    "scrolled": true,
    "tags": []
   },
   "outputs": [],
   "source": [
    "# ⚠️ to check and maybe fix\n",
    "# Extra: Generate requirements file\n",
    "!pip install pipreqs\n",
    "\n",
    "# Use one of these two to generate the file, check which one works\n",
    "!pipreqs . --force\n",
    "!pip freeze > requirements.txt\n",
    "\n",
    "# Check the file\n",
    "# Check the generated file\n",
    "with open('requirements.txt', 'r') as file:\n",
    "    print(file.read())\n",
    "\n",
    "# If it's generated empty, check installed packages\n",
    "#pip list\n",
    "# and then run one of the two generators."
   ]
  },
  {
   "cell_type": "markdown",
   "metadata": {
    "jp-MarkdownHeadingCollapsed": true,
    "tags": []
   },
   "source": [
    "# ⚠️ [S] DELTA Portfolio Task 3: Natural language processing"
   ]
  },
  {
   "cell_type": "markdown",
   "metadata": {},
   "source": [
    "[s] [This is from the other element, thus need to be changed] <br>\n",
    "The following jupyter notebook is the computational essay required for the subjet Delta. <br>\n",
    "The goal is to perform a sentiment analysis on a database composed of tweets about an specific topic , alongside the necessary previous steps for it's application.<br>\n",
    "Submitted by: <u>Sebastian Guardia (Student ID:640621)</u>\n",
    "\n",
    "Your task is to perform sentiment analysis using a sentiment dictionary, an RNN model, a pre-trained Transformer and a fine-tuned Transformer. The data is separated into a train set of 1500 tweets and a test set of 500 tweets\n",
    "**The structure of the notebook is as follows:**\n",
    "1. Libraries and dataset loading.\n",
    "2. Partitioning and scaling the dataset. \n",
    "3. Definition of dataset structure. \n",
    "4. Simple RNN Model.\n",
    "5. LSTM Model.\n",
    "6. Plotting predictions.\n",
    "7. Conclusion."
   ]
  },
  {
   "cell_type": "markdown",
   "metadata": {
    "jp-MarkdownHeadingCollapsed": true,
    "tags": []
   },
   "source": [
    "# ⚠️ [Y] **DELTA ELEMENT 2: TIME SERISE FORECASTING USING RNN**"
   ]
  },
  {
   "cell_type": "markdown",
   "metadata": {},
   "source": [
    "[This is from the other element, thus need to be changed] <br>\n",
    "This notebook focuses on the development, training, and evaluation of neural network models for handling time-series data. Key concepts and techniques discussed include:\n",
    "\n",
    "- **Time-Series Data Handling**: The use of functions to prepare time-series data for modeling with RNNs.\n",
    "\n",
    "- **Data Partitioning**: Dividing data into training and test sets to ensure a robust evaluation of model performance and avoid overfitting. (Note: Last 20% of data from the laballed dataset forms the testset)\n",
    "\n",
    "- **Model Checkpoints**: For saving the best performing models during training to prevent data loss and facilitate easy reloading for further use.\n",
    "\n",
    "- **Training and Evaluation**: For assessing whether training was successful, including monitoring metrics like loss and accuracy on both training and validation datasets.\n",
    "\n",
    "- **Model Performance Analysis**: Examining model performance through the evolution of training and validation loss, with specific attention to signs of overfitting or underfitting.\n",
    "\n",
    "- **Visualization and Metrics**: Use of custom functions to plot model predictions against actual values and calculate the Mean Squared Error (MSE) to evaluate model accuracy.\n",
    "\n",
    "- **RNN Architectures**: GRU (Gated Recurrent Unit) and LSTM (Long Short-Term Memory) networks and their capabilities to capture long-term dependencies in sequential data."
   ]
  },
  {
   "cell_type": "markdown",
   "metadata": {
    "tags": []
   },
   "source": [
    "# ❌ ~~~"
   ]
  },
  {
   "cell_type": "markdown",
   "metadata": {},
   "source": [
    "## Data Preprocessing"
   ]
  },
  {
   "cell_type": "code",
   "execution_count": 1,
   "metadata": {
    "tags": []
   },
   "outputs": [],
   "source": [
    "import pandas as pd"
   ]
  },
  {
   "cell_type": "code",
   "execution_count": 3,
   "metadata": {
    "tags": []
   },
   "outputs": [],
   "source": [
    "# Import dataframes\n",
    "train_df = pd.read_parquet('btc_tweets_train.parquet.gzip')\n",
    "test_df = pd.read_parquet('btc_tweets_test.parquet.gzip')\n",
    "\n",
    "#Index resetting\n",
    "train_df = train_df.reset_index()\n",
    "test_df = test_df.reset_index()"
   ]
  },
  {
   "cell_type": "code",
   "execution_count": 5,
   "metadata": {
    "tags": []
   },
   "outputs": [
    {
     "data": {
      "text/html": [
       "<div>\n",
       "<style scoped>\n",
       "    .dataframe tbody tr th:only-of-type {\n",
       "        vertical-align: middle;\n",
       "    }\n",
       "\n",
       "    .dataframe tbody tr th {\n",
       "        vertical-align: top;\n",
       "    }\n",
       "\n",
       "    .dataframe thead th {\n",
       "        text-align: right;\n",
       "    }\n",
       "</style>\n",
       "<table border=\"1\" class=\"dataframe\">\n",
       "  <thead>\n",
       "    <tr style=\"text-align: right;\">\n",
       "      <th></th>\n",
       "      <th>tweet ID</th>\n",
       "      <th>hashtags</th>\n",
       "      <th>content</th>\n",
       "      <th>username</th>\n",
       "      <th>user_displayname</th>\n",
       "      <th>sentiment</th>\n",
       "    </tr>\n",
       "  </thead>\n",
       "  <tbody>\n",
       "    <tr>\n",
       "      <th>0</th>\n",
       "      <td>1641579121972236290</td>\n",
       "      <td>[Bitcoin, Bitcoin, BTC, Bitcoin, BTC, SHIB, HO...</td>\n",
       "      <td>$Bitcoin TO $100,000 SOONER THAN YOU THINK‼️💯🙏...</td>\n",
       "      <td>BezosCrypto</td>\n",
       "      <td>SHIB Bezos</td>\n",
       "      <td>True</td>\n",
       "    </tr>\n",
       "    <tr>\n",
       "      <th>1</th>\n",
       "      <td>1641579176171016194</td>\n",
       "      <td>[Bitcoin, bitcoinordinals, crypto]</td>\n",
       "      <td>Alright I have my rares. Who else is grabbing ...</td>\n",
       "      <td>spartantc81</td>\n",
       "      <td>SpartanTC</td>\n",
       "      <td>True</td>\n",
       "    </tr>\n",
       "    <tr>\n",
       "      <th>2</th>\n",
       "      <td>1641579486071390208</td>\n",
       "      <td>[BTC, SHIB, HOGE, SAITAMA, BNB, DOGE, ETH, Bab...</td>\n",
       "      <td>Bitcoin (BTC) Targets Over $100,000 as This Im...</td>\n",
       "      <td>BezosCrypto</td>\n",
       "      <td>SHIB Bezos</td>\n",
       "      <td>True</td>\n",
       "    </tr>\n",
       "    <tr>\n",
       "      <th>3</th>\n",
       "      <td>1641579537103302656</td>\n",
       "      <td>[BTC]</td>\n",
       "      <td>📢 Xverse Web-based pool is live:\\n\\n•Update @x...</td>\n",
       "      <td>godfred_xcuz</td>\n",
       "      <td>Algorithm.btc</td>\n",
       "      <td>True</td>\n",
       "    </tr>\n",
       "    <tr>\n",
       "      <th>4</th>\n",
       "      <td>1641579588399804418</td>\n",
       "      <td>[Bitcoin]</td>\n",
       "      <td>Yesterday, a Bitcoin projection was displayed ...</td>\n",
       "      <td>goddess81oo</td>\n",
       "      <td>she is lucky</td>\n",
       "      <td>True</td>\n",
       "    </tr>\n",
       "  </tbody>\n",
       "</table>\n",
       "</div>"
      ],
      "text/plain": [
       "              tweet ID                                           hashtags  \\\n",
       "0  1641579121972236290  [Bitcoin, Bitcoin, BTC, Bitcoin, BTC, SHIB, HO...   \n",
       "1  1641579176171016194                 [Bitcoin, bitcoinordinals, crypto]   \n",
       "2  1641579486071390208  [BTC, SHIB, HOGE, SAITAMA, BNB, DOGE, ETH, Bab...   \n",
       "3  1641579537103302656                                              [BTC]   \n",
       "4  1641579588399804418                                          [Bitcoin]   \n",
       "\n",
       "                                             content      username  \\\n",
       "0  $Bitcoin TO $100,000 SOONER THAN YOU THINK‼️💯🙏...   BezosCrypto   \n",
       "1  Alright I have my rares. Who else is grabbing ...   spartantc81   \n",
       "2  Bitcoin (BTC) Targets Over $100,000 as This Im...   BezosCrypto   \n",
       "3  📢 Xverse Web-based pool is live:\\n\\n•Update @x...  godfred_xcuz   \n",
       "4  Yesterday, a Bitcoin projection was displayed ...   goddess81oo   \n",
       "\n",
       "  user_displayname  sentiment  \n",
       "0       SHIB Bezos       True  \n",
       "1        SpartanTC       True  \n",
       "2       SHIB Bezos       True  \n",
       "3    Algorithm.btc       True  \n",
       "4     she is lucky       True  "
      ]
     },
     "execution_count": 5,
     "metadata": {},
     "output_type": "execute_result"
    }
   ],
   "source": [
    "train_df.head()"
   ]
  },
  {
   "cell_type": "code",
   "execution_count": 7,
   "metadata": {
    "tags": []
   },
   "outputs": [
    {
     "name": "stdout",
     "output_type": "stream",
     "text": [
      "<class 'pandas.core.frame.DataFrame'>\n",
      "RangeIndex: 1500 entries, 0 to 1499\n",
      "Data columns (total 6 columns):\n",
      " #   Column            Non-Null Count  Dtype \n",
      "---  ------            --------------  ----- \n",
      " 0   tweet ID          1500 non-null   int64 \n",
      " 1   hashtags          1500 non-null   object\n",
      " 2   content           1500 non-null   object\n",
      " 3   username          1500 non-null   object\n",
      " 4   user_displayname  1500 non-null   object\n",
      " 5   sentiment         1500 non-null   bool  \n",
      "dtypes: bool(1), int64(1), object(4)\n",
      "memory usage: 60.2+ KB\n"
     ]
    },
    {
     "data": {
      "text/plain": [
       "((1500, 6), None, 0)"
      ]
     },
     "execution_count": 7,
     "metadata": {},
     "output_type": "execute_result"
    }
   ],
   "source": [
    "# Take a first glance of the data base\n",
    "def df_info(df):\n",
    "    return df.shape, df.info(), df.isnull().sum().sum()\n",
    "\n",
    "df_info(train_df)"
   ]
  },
  {
   "cell_type": "code",
   "execution_count": 9,
   "metadata": {
    "tags": []
   },
   "outputs": [
    {
     "data": {
      "text/plain": [
       "sentiment\n",
       "True     1220\n",
       "False     280\n",
       "Name: count, dtype: int64"
      ]
     },
     "execution_count": 9,
     "metadata": {},
     "output_type": "execute_result"
    }
   ],
   "source": [
    "# Check for class imbalance\n",
    "train_df['sentiment'].value_counts()"
   ]
  },
  {
   "cell_type": "code",
   "execution_count": 11,
   "metadata": {
    "tags": []
   },
   "outputs": [],
   "source": [
    "# ⚠️ Check if we are going to use username for the bot cleaning, otherwise delete that column as well\n",
    "# Drop unnecessary columns\n",
    "train_df = train_df.drop(['tweet ID', 'user_displayname', 'hashtags'], axis=1)\n",
    "test_df = test_df.drop(['tweet ID', 'user_displayname', 'hashtags'], axis=1)"
   ]
  },
  {
   "cell_type": "code",
   "execution_count": 13,
   "metadata": {
    "tags": []
   },
   "outputs": [
    {
     "data": {
      "text/html": [
       "<div>\n",
       "<style scoped>\n",
       "    .dataframe tbody tr th:only-of-type {\n",
       "        vertical-align: middle;\n",
       "    }\n",
       "\n",
       "    .dataframe tbody tr th {\n",
       "        vertical-align: top;\n",
       "    }\n",
       "\n",
       "    .dataframe thead th {\n",
       "        text-align: right;\n",
       "    }\n",
       "</style>\n",
       "<table border=\"1\" class=\"dataframe\">\n",
       "  <thead>\n",
       "    <tr style=\"text-align: right;\">\n",
       "      <th></th>\n",
       "      <th>content</th>\n",
       "      <th>username</th>\n",
       "      <th>sentiment</th>\n",
       "    </tr>\n",
       "  </thead>\n",
       "  <tbody>\n",
       "    <tr>\n",
       "      <th>0</th>\n",
       "      <td>$Bitcoin TO $100,000 SOONER THAN YOU THINK‼️💯🙏...</td>\n",
       "      <td>BezosCrypto</td>\n",
       "      <td>True</td>\n",
       "    </tr>\n",
       "    <tr>\n",
       "      <th>1</th>\n",
       "      <td>Alright I have my rares. Who else is grabbing ...</td>\n",
       "      <td>spartantc81</td>\n",
       "      <td>True</td>\n",
       "    </tr>\n",
       "    <tr>\n",
       "      <th>2</th>\n",
       "      <td>Bitcoin (BTC) Targets Over $100,000 as This Im...</td>\n",
       "      <td>BezosCrypto</td>\n",
       "      <td>True</td>\n",
       "    </tr>\n",
       "  </tbody>\n",
       "</table>\n",
       "</div>"
      ],
      "text/plain": [
       "                                             content     username  sentiment\n",
       "0  $Bitcoin TO $100,000 SOONER THAN YOU THINK‼️💯🙏...  BezosCrypto       True\n",
       "1  Alright I have my rares. Who else is grabbing ...  spartantc81       True\n",
       "2  Bitcoin (BTC) Targets Over $100,000 as This Im...  BezosCrypto       True"
      ]
     },
     "execution_count": 13,
     "metadata": {},
     "output_type": "execute_result"
    }
   ],
   "source": [
    "# Snapshot of the dataframe we will be working with\n",
    "train_df.head(3)"
   ]
  },
  {
   "cell_type": "markdown",
   "metadata": {},
   "source": [
    "## Text preparation for analysis"
   ]
  },
  {
   "cell_type": "code",
   "execution_count": 16,
   "metadata": {
    "tags": []
   },
   "outputs": [],
   "source": [
    "from sklearn.feature_extraction.text import TfidfVectorizer\n",
    "from sklearn.metrics.pairwise import cosine_similarity\n",
    "from imblearn.over_sampling import SMOTE\n",
    "import nltk\n",
    "from nltk.corpus import stopwords\n",
    "import re\n",
    "import emoji\n",
    "from urllib.parse import urlparse\n",
    "\n",
    "class DataPreprocessor:\n",
    "    def __init__(self, df, content_column, sentiment_column):\n",
    "        \"\"\"\n",
    "        Initialize the DataPreprocessor class with the DataFrame and relevant columns.\n",
    "\n",
    "        Parameters:\n",
    "        - df: pd.DataFrame\n",
    "            The DataFrame containing the dataset.\n",
    "        - content_column: str\n",
    "            The name of the column containing the text content to analyze.\n",
    "        - sentiment_column: str\n",
    "            The name of the column containing the sentiment labels.\n",
    "        \"\"\"\n",
    "        self.df = df\n",
    "        self.content_column = content_column\n",
    "        self.sentiment_column = sentiment_column\n",
    "    \n",
    "    def remove_similar_content(self, similarity_threshold=0.65):\n",
    "        \"\"\"\n",
    "        Removes samples with similar content based on cosine similarity.\n",
    "\n",
    "        Parameters:\n",
    "        - similarity_threshold: float (default=0.65)\n",
    "            The threshold for cosine similarity above which samples are considered similar.\n",
    "        \"\"\"\n",
    "        tfidf = TfidfVectorizer(stop_words='english')\n",
    "        tfidf_matrix = tfidf.fit_transform(self.df[self.content_column])\n",
    "        cosine_sim = cosine_similarity(tfidf_matrix, tfidf_matrix)\n",
    "\n",
    "        indices_to_remove = set()\n",
    "\n",
    "        for i in range(len(cosine_sim)):\n",
    "            for j in range(i + 1, len(cosine_sim)):\n",
    "                if cosine_sim[i, j] > similarity_threshold:\n",
    "                    indices_to_remove.add(i)\n",
    "                    indices_to_remove.add(j)\n",
    "\n",
    "        self.df = self.df.drop(index=indices_to_remove).reset_index(drop=True)\n",
    "        return self.df\n",
    "\n",
    "    def clean_text(self):\n",
    "        \"\"\"\n",
    "        Cleans text data by removing punctuation, stopwords, and applying lemmatization.\n",
    "        \"\"\"\n",
    "        nltk.download('stopwords')\n",
    "        stop_words = set(stopwords.words('english'))\n",
    "\n",
    "        def clean(tweet):\n",
    "            # Convert emojis to text # Converts emojis to text, e.g., \"😊\" becomes \":smiling_face:\"\n",
    "            tweet = emoji.demojize(tweet, delimiters=(\" \", \" \"))\n",
    "            # Remove links\n",
    "            tweet = re.sub(r'http\\S+|www\\S+|https\\S+', '', tweet, flags=re.MULTILINE)\n",
    "            # Remove punctuation and numbers\n",
    "            tweet = re.sub(r'[^a-zA-Z\\s]', '', tweet)\n",
    "            # Tokenize\n",
    "            words = nltk.word_tokenize(tweet)\n",
    "            # Remove stop words\n",
    "            words = [word for word in words if word.lower() not in stop_words]\n",
    "            # Lemmatize words\n",
    "            lemmatizer = nltk.WordNetLemmatizer()\n",
    "            words = [lemmatizer.lemmatize(word.lower()) for word in words]\n",
    "            return ' '.join(words)\n",
    "        \n",
    "        self.df['cleaned_content'] = self.df[self.content_column].apply(clean)\n",
    "        return self.df\n",
    "    \n",
    "# ⚠️Clarify that we tried using this\n",
    "    def handle_class_imbalance_with_SMOTE(self):\n",
    "        \"\"\"\n",
    "        Handles class imbalance using SMOTE (Synthetic Minority Over-sampling Technique).\n",
    "        \"\"\"\n",
    "        \n",
    "        tfidf = TfidfVectorizer(stop_words='english')\n",
    "        X = tfidf.fit_transform(self.df[self.content_column])\n",
    "        y = self.df[self.sentiment_column]\n",
    "        \n",
    "        # Apply SMOTE to the vectorized text\n",
    "        smote = SMOTE(random_state=21)\n",
    "        X_resampled, y_resampled = smote.fit_resample(X, y)\n",
    "\n",
    "        self.df = pd.DataFrame(X_resampled.toarray(), columns=tfidf.get_feature_names_out())\n",
    "        self.df[self.sentiment_column] = y_resampled\n",
    "        return self.df\n",
    " \n",
    "    def preprocess(self, remove_similar=True, balance_classes=True, clean_text=True):\n",
    "        \"\"\"\n",
    "        Performs the full preprocessing pipeline.\n",
    "\n",
    "        Parameters:\n",
    "        - remove_similar: bool (default=True)\n",
    "            Whether to remove similar content.\n",
    "        - balance_classes: bool (default=True)\n",
    "            Whether to handle class imbalance.\n",
    "        - clean_text: bool (default=True)\n",
    "            Whether to clean text data.\n",
    "        \"\"\"\n",
    "        if remove_similar:\n",
    "            self.remove_similar_content()\n",
    "        if balance_classes:\n",
    "            self.handle_class_imbalance_with_SMOTE()\n",
    "        if clean_text:\n",
    "            self.clean_text()\n",
    "\n",
    "        return self.df"
   ]
  },
  {
   "cell_type": "markdown",
   "metadata": {},
   "source": [
    "🔷🔷🔷 Argumentation of the usage of: <br>\n",
    "    Cosine similarity <br>\n",
    "    Why we decided to deal with class imbalance this way, then we found that it's not a good idea to handle class imbalance for text this way."
   ]
  },
  {
   "cell_type": "code",
   "execution_count": 19,
   "metadata": {
    "tags": []
   },
   "outputs": [
    {
     "name": "stderr",
     "output_type": "stream",
     "text": [
      "[nltk_data] Downloading package stopwords to\n",
      "[nltk_data]     C:\\Users\\Sebastian\\AppData\\Roaming\\nltk_data...\n",
      "[nltk_data]   Package stopwords is already up-to-date!\n",
      "[nltk_data] Downloading package stopwords to\n",
      "[nltk_data]     C:\\Users\\Sebastian\\AppData\\Roaming\\nltk_data...\n",
      "[nltk_data]   Package stopwords is already up-to-date!\n"
     ]
    }
   ],
   "source": [
    "# Initialize the class object for both 'train' and 'test' datasets\n",
    "train_preprocesser = DataPreprocessor(df=train_df, content_column='content', sentiment_column='sentiment')\n",
    "test_preprocesser = DataPreprocessor(df=test_df, content_column='content', sentiment_column='sentiment')\n",
    "\n",
    "# Clean datasets\n",
    "cleaned_train_df = train_preprocesser.preprocess(remove_similar=True, balance_classes=False, clean_text=True)\n",
    "cleaned_test_df = test_preprocesser.preprocess(remove_similar=True, balance_classes=False, clean_text=True)"
   ]
  },
  {
   "cell_type": "code",
   "execution_count": 21,
   "metadata": {
    "tags": []
   },
   "outputs": [
    {
     "name": "stdout",
     "output_type": "stream",
     "text": [
      "Original Review:\n",
      "📢 Xverse Web-based pool is live:\n",
      "\n",
      "•Update @xverseApp Chrome Browser Extension wallet to V0.6.2\n",
      "\n",
      "•Stack @Stacks 👇\n",
      "\n",
      " https://t.co/s17rWwKnPD\n",
      "\n",
      "•Earn #BTC Yield\n",
      "\n",
      "•Continuous Stacking\n",
      "\n",
      "•Stacking amount Top up at any moment of the cycle https://t.co/sBm89okDyb\n",
      "\n",
      "Cleaned Review:\n",
      "loudspeaker xverse webbased pool live update xverseapp chrome browser extension wallet v stack stack backhandindexpointingdown earn btc yield continuous stacking stacking amount top moment cycle\n"
     ]
    }
   ],
   "source": [
    "# Cleaned content check\n",
    "ix = 1  # Enter one entry number to further examine the effect of the text cleaning process\n",
    "print('Original Review:\\n' + cleaned_train_df.content[ix])  \n",
    "print('\\nCleaned Review:\\n' + cleaned_train_df.cleaned_content[ix])"
   ]
  },
  {
   "cell_type": "code",
   "execution_count": 23,
   "metadata": {
    "tags": []
   },
   "outputs": [
    {
     "name": "stdout",
     "output_type": "stream",
     "text": [
      "Train DataFrame Shape: (1399, 4)\n",
      "Test DataFrame Shape: (475, 4)\n",
      "\n",
      "First 5 rows of Train DataFrame:\n",
      "                                              content      username  sentiment  \\\n",
      "0  Alright I have my rares. Who else is grabbing ...   spartantc81       True   \n",
      "1  📢 Xverse Web-based pool is live:\\n\\n•Update @x...  godfred_xcuz       True   \n",
      "2  Yesterday, a Bitcoin projection was displayed ...   goddess81oo       True   \n",
      "\n",
      "                                     cleaned_content  \n",
      "0  alright rares else grabbing dogepunksbtc disco...  \n",
      "1  loudspeaker xverse webbased pool live update x...  \n",
      "2  yesterday bitcoin projection displayed europea...  \n",
      "\n",
      "First 5 rows of Test DataFrame:\n",
      "                                              content      username  sentiment  \\\n",
      "0  #crypto $crypto #btc \\nI am Chinese crypto alp...     huahuayjy       True   \n",
      "1  #Bitcoin would have to fall another 80% to rea...  luke_broyles      False   \n",
      "2  #Giveaway $1000 Matic in 3Days\\n\\n🏆To win\\n1️⃣...  cryptomarsdo       True   \n",
      "\n",
      "                                     cleaned_content  \n",
      "0  crypto crypto btc chinese crypto alpha althoug...  \n",
      "1  bitcoin would fall another reach low year ago ...  \n",
      "2  giveaway matic day trophy win keycap follow ma...  \n",
      "\n",
      "Value Counts in Train DataFrame for 'sentiment':\n",
      " sentiment\n",
      "True     1125\n",
      "False     274\n",
      "Name: count, dtype: int64\n",
      "\n",
      "Value Counts in Test DataFrame for 'sentiment':\n",
      " sentiment\n",
      "True     379\n",
      "False     96\n",
      "Name: count, dtype: int64\n"
     ]
    }
   ],
   "source": [
    "# Output checking\n",
    "def df_summary(train_df, test_df, column):\n",
    "    \n",
    "    print(\"Train DataFrame Shape:\", train_df.shape)\n",
    "    print(\"Test DataFrame Shape:\", test_df.shape)\n",
    "    print(\"\\nFirst 5 rows of Train DataFrame:\\n\", train_df.head(3))\n",
    "    print(\"\\nFirst 5 rows of Test DataFrame:\\n\", test_df.head(3))\n",
    "    print(\"\\nValue Counts in Train DataFrame for '{}':\\n\".format(column), train_df[column].value_counts())\n",
    "    print(\"\\nValue Counts in Test DataFrame for '{}':\\n\".format(column), test_df[column].value_counts())\n",
    "\n",
    "df_summary(cleaned_train_df, cleaned_test_df, 'sentiment')"
   ]
  },
  {
   "cell_type": "markdown",
   "metadata": {},
   "source": [
    "🔷🔷🔷 **NOTE: Both the cleaned datasets above are still imbalanced with True values largly outnumbered than False. The imbalance needs to be taken care of by assigning class weights dring model training.**"
   ]
  },
  {
   "cell_type": "markdown",
   "metadata": {},
   "source": [
    "## 1. Sentiment Dictionary - vaderSentiment "
   ]
  },
  {
   "cell_type": "code",
   "execution_count": 27,
   "metadata": {
    "tags": []
   },
   "outputs": [],
   "source": [
    "from vaderSentiment.vaderSentiment import SentimentIntensityAnalyzer\n",
    "\n",
    "vs_analyzer = SentimentIntensityAnalyzer()\n",
    "\n",
    "def analyze_sentiment(text):\n",
    "    sentiment_dict = vs_analyzer.polarity_scores(text)\n",
    "    return sentiment_dict\n",
    "\n",
    "# Apply sentiment analysis to each entry\n",
    "cleaned_train_df['vader_sentiment'] = cleaned_train_df['cleaned_content'].apply(analyze_sentiment)"
   ]
  },
  {
   "cell_type": "code",
   "execution_count": 29,
   "metadata": {
    "tags": []
   },
   "outputs": [
    {
     "name": "stdout",
     "output_type": "stream",
     "text": [
      "0    {'neg': 0.172, 'neu': 0.701, 'pos': 0.127, 'compound': -0.1779}\n",
      "1         {'neg': 0.0, 'neu': 0.93, 'pos': 0.07, 'compound': 0.2023}\n",
      "2              {'neg': 0.0, 'neu': 1.0, 'pos': 0.0, 'compound': 0.0}\n",
      "3       {'neg': 0.0, 'neu': 0.918, 'pos': 0.082, 'compound': 0.2235}\n",
      "4              {'neg': 0.0, 'neu': 1.0, 'pos': 0.0, 'compound': 0.0}\n",
      "Name: vader_sentiment, dtype: object\n"
     ]
    }
   ],
   "source": [
    "# Review the vader sentiment generated values\n",
    "pd.set_option('display.max_colwidth', None)\n",
    "print(cleaned_train_df['vader_sentiment'].head())"
   ]
  },
  {
   "cell_type": "code",
   "execution_count": 31,
   "metadata": {
    "tags": []
   },
   "outputs": [],
   "source": [
    "# Extract compound score for simplicity\n",
    "cleaned_train_df['vader_compound'] = cleaned_train_df['vader_sentiment'].apply(lambda x: x['compound'])\n",
    "\n",
    "# Convert compound score to sentiment label\n",
    "def compound_to_binary_sentiment(compound_score):\n",
    "    if compound_score >= -0.05:\n",
    "        return 1  # Positive\n",
    "    else:\n",
    "        return 0  # Negative\n",
    "\n",
    "cleaned_train_df['vader_label'] = cleaned_train_df['vader_compound'].apply(compound_to_binary_sentiment)"
   ]
  },
  {
   "cell_type": "markdown",
   "metadata": {},
   "source": [
    "🔷 Argumentation of why we set the threshold like that - 0 being considered as positive"
   ]
  },
  {
   "cell_type": "markdown",
   "metadata": {},
   "source": [
    "### Sentiment Dictionary Assessment"
   ]
  },
  {
   "cell_type": "code",
   "execution_count": 35,
   "metadata": {
    "tags": []
   },
   "outputs": [
    {
     "data": {
      "text/plain": [
       "count    1399.000\n",
       "mean        0.206\n",
       "std         0.420\n",
       "min        -0.896\n",
       "25%         0.000\n",
       "50%         0.077\n",
       "75%         0.571\n",
       "max         0.983\n",
       "Name: vader_compound, dtype: float64"
      ]
     },
     "execution_count": 35,
     "metadata": {},
     "output_type": "execute_result"
    },
    {
     "data": {
      "image/png": "[encoded data removed]",
      "text/plain": [
       "<Figure size 640x480 with 1 Axes>"
      ]
     },
     "metadata": {},
     "output_type": "display_data"
    }
   ],
   "source": [
    "# Representation of the values generated by vaderSentiment\n",
    "cleaned_train_df['vader_compound'].hist(); \n",
    "cleaned_train_df['vader_compound'].describe().round(3)"
   ]
  },
  {
   "cell_type": "code",
   "execution_count": 37,
   "metadata": {
    "tags": []
   },
   "outputs": [
    {
     "name": "stdout",
     "output_type": "stream",
     "text": [
      "Accuracy: 0.7934238741958541\n",
      "Precision: 0.7903064879026481\n",
      "Recall: 0.7934238741958541\n",
      "F1-score: 0.7918106109812331\n"
     ]
    }
   ],
   "source": [
    "# Performance evaluation with metrics in contrast to real labels\n",
    "#❓ YASH\n",
    "from sklearn.metrics import accuracy_score, precision_score, recall_score, f1_score\n",
    "\n",
    "if 'sentiment' in cleaned_train_df.columns:\n",
    "    \n",
    "    accuracy = accuracy_score(cleaned_train_df['sentiment'], cleaned_train_df['vader_label'])\n",
    "    precision = precision_score(cleaned_train_df['sentiment'], cleaned_train_df['vader_label'], average='weighted')\n",
    "    recall = recall_score(cleaned_train_df['sentiment'], cleaned_train_df['vader_label'], average='weighted')\n",
    "    f1 = f1_score(cleaned_train_df['sentiment'], cleaned_train_df['vader_label'], average='weighted')\n",
    "\n",
    "    print(f\"Accuracy: {accuracy}\")\n",
    "    print(f\"Precision: {precision}\")\n",
    "    print(f\"Recall: {recall}\")\n",
    "    print(f\"F1-score: {f1}\")"
   ]
  },
  {
   "cell_type": "code",
   "execution_count": 39,
   "metadata": {
    "tags": []
   },
   "outputs": [],
   "source": [
    "# Assess sentiment classification models\n",
    "import numpy as np\n",
    "import matplotlib.pyplot as plt\n",
    "from sklearn.metrics import confusion_matrix, roc_auc_score, roc_curve\n",
    "\n",
    "def assess_sentiment_classifier(ytest, yhat, cut_off=0.5, plot_roc=True):\n",
    "    \"\"\"\n",
    "        Helper function to assess a classification model in terms of the AUC\n",
    "        and classification accuracy. We calculate the latter by comapring\n",
    "        continuous (e.g., probabilistic) classifier predictions to a cut_off.\n",
    "        Cases where the prediction exceeds the cut-off are classified as \n",
    "        positive.\n",
    "    \"\"\"\n",
    "    # Calculate discrete class predictions\n",
    "    yhat_c = np.where(yhat>cut_off, 1, 0)\n",
    "    \n",
    "    # Calculate classification accuracy and AUC\n",
    "    acc = accuracy_score(ytest, yhat_c)\n",
    "    auc = roc_auc_score(ytest, yhat)\n",
    "    \n",
    "    # Confusion matrix \n",
    "    cmat = confusion_matrix(ytest, yhat_c)\n",
    "    \n",
    "    # ROC analysis\n",
    "    if plot_roc==True:\n",
    "        fpr, tpr, _ = roc_curve(ytest, yhat)\n",
    "        plt.plot(fpr,tpr, label=\"AUC={:.4}\".format(auc));\n",
    "        plt.plot([0, 1], [0, 1], \"r--\")\n",
    "        plt.ylabel('True positive rate')    \n",
    "        plt.xlabel('False positive rate')    \n",
    "        plt.legend(loc='lower right')\n",
    "        plt.show();\n",
    "    \n",
    "    return(auc, acc, cmat)"
   ]
  },
  {
   "cell_type": "code",
   "execution_count": 41,
   "metadata": {
    "tags": []
   },
   "outputs": [
    {
     "data": {
      "image/png": "[encoded data removed]",
      "text/plain": [
       "<Figure size 640x480 with 1 Axes>"
      ]
     },
     "metadata": {},
     "output_type": "display_data"
    },
    {
     "name": "stdout",
     "output_type": "stream",
     "text": [
      "Lexicon-based sentiment classifier:\tAUC=0.6645\tAccuracy=0.7934\n"
     ]
    }
   ],
   "source": [
    "# Assess lexicon-based sentiment classifier\n",
    "auc, acc, cmat = assess_sentiment_classifier(ytest=cleaned_train_df['sentiment'], yhat=cleaned_train_df['vader_label'], cut_off=0)\n",
    "print(\"Lexicon-based sentiment classifier:\\tAUC={:.4f}\\tAccuracy={:.4f}\".format(auc, acc))"
   ]
  },
  {
   "cell_type": "code",
   "execution_count": 43,
   "metadata": {
    "tags": []
   },
   "outputs": [
    {
     "data": {
      "text/plain": [
       "array([[124, 150],\n",
       "       [139, 986]], dtype=int64)"
      ]
     },
     "execution_count": 43,
     "metadata": {},
     "output_type": "execute_result"
    }
   ],
   "source": [
    "cmat"
   ]
  },
  {
   "cell_type": "markdown",
   "metadata": {},
   "source": [
    "🔷 Argumentation of: <br>\n",
    "Why we used these metrics <br>\n",
    "Why weighted average is important to use <br>\n",
    "🔷 Explanation of the results, what do them imply? <br>\n",
    "check #https://github.com/Humboldt-WI/delta/blob/master/demos/nlp/sentiment_analysis.ipynb <br>\n",
    "Some ideas: <br>\n",
    "- It can be not the most suitable thing to emply as the it assigns polarity scores including 0 which is neutral, whereas or real labels don't have a neutral value. That's why we tried finding the perfect threshold.\n",
    "- It's a simple/ straightforward method to apply sentiment analysis."
   ]
  },
  {
   "cell_type": "markdown",
   "metadata": {
    "tags": []
   },
   "source": [
    "## Text data representation / Embedding: FastText"
   ]
  },
  {
   "cell_type": "code",
   "execution_count": 47,
   "metadata": {
    "tags": []
   },
   "outputs": [],
   "source": [
    "from gensim.models import FastText\n",
    "\n",
    "# Tokenize the cleaned tweets (split by spaces)\n",
    "tokenized_tweets_FT = [tweet.split() for tweet in cleaned_train_df['cleaned_content']]\n",
    "\n",
    "# Train FastText model using Gensim's implementation\n",
    "fasttext_model = FastText(sentences=tokenized_tweets_FT, vector_size=50, window=3, min_count=5, sg=1, epochs=10)\n",
    "\n",
    "# Save the model\n",
    "fasttext_model.save(\"fasttext.model\")\n",
    "\n",
    "# Load the model (for future use)\n",
    "fasttext_model = FastText.load(\"fasttext.model\")"
   ]
  },
  {
   "cell_type": "markdown",
   "metadata": {},
   "source": [
    "🔷 Argumentation of why we set the parameters like that. Explanation in notion"
   ]
  },
  {
   "cell_type": "code",
   "execution_count": 49,
   "metadata": {
    "tags": []
   },
   "outputs": [
    {
     "name": "stdout",
     "output_type": "stream",
     "text": [
      "Number of words in the vocabulary: 1008\n",
      "Top 5 words and their occurrences:\n",
      "bitcoin: 1092\n",
      "btc: 772\n",
      "crypto: 341\n",
      "eth: 230\n",
      "amp: 161\n"
     ]
    }
   ],
   "source": [
    "#Getting to know the vocabulary\n",
    "# Number of words in the vocabulary\n",
    "vocab_size = len(fasttext_model.wv)\n",
    "print(f\"Number of words in the vocabulary: {vocab_size}\")\n",
    "\n",
    "# Words and their counts\n",
    "word_counts = {word: fasttext_model.wv.get_vecattr(word, \"count\") for word in fasttext_model.wv.index_to_key}\n",
    "\n",
    "# Top 5 most frequent words\n",
    "top_5_words = sorted(word_counts.items(), key=lambda item: item[1], reverse=True)[:5]\n",
    "print(\"Top 5 words and their occurrences:\")\n",
    "for word, count in top_5_words:\n",
    "    print(f\"{word}: {count}\")"
   ]
  },
  {
   "cell_type": "code",
   "execution_count": 51,
   "metadata": {
    "tags": []
   },
   "outputs": [
    {
     "name": "stdout",
     "output_type": "stream",
     "text": [
      "Vector for 'bitcoin':\n",
      ": [-0.10820235 -0.12251399  0.07233661 -0.25930828  0.08487593  0.13877237\n",
      " -0.09841596  0.3045307  -0.1965145   0.45839456  0.20566405  0.253747\n",
      "  0.22156276 -0.476637    0.15573896 -0.05303401  0.01160884 -0.00276965\n",
      "  0.1751046  -0.03902841 -0.02481505  0.32279226  0.25173226  0.14742139\n",
      " -0.19585243 -0.06029785 -0.41755232 -0.05043276 -0.48652604  0.4511543\n",
      "  0.5769853   0.11665926 -0.11377411  0.3388958   0.2766564   0.07326406\n",
      "  0.15636544  0.32466552  0.24188451 -0.22356284 -0.11161     0.3874414\n",
      " -0.13283387  0.3342555  -0.14730057 -0.35790658  0.14961068 -0.12112088\n",
      " -0.04866797  0.18863334]\n",
      "Words similar to 'bitcoin':\n",
      ": [('trading', 0.9962952136993408), ('investing', 0.9929301142692566), ('bitcoiners', 0.9897925853729248), ('bitcoinordinals', 0.9896777868270874), ('trending', 0.9889988303184509), ('rocket', 0.9876421093940735), ('bitcoins', 0.9866493344306946), ('current', 0.9862271547317505), ('trade', 0.9842700958251953), ('ordinal', 0.9841916561126709)]\n"
     ]
    }
   ],
   "source": [
    "# See the vector for a specific word \n",
    "word_info = 'bitcoin' \n",
    "print(f\"Vector for '{word_info}':\\n: {fasttext_model.wv[word_info]}\")\n",
    "\n",
    "# Get most similar words\n",
    "print(f\"Words similar to '{word_info}':\\n: {fasttext_model.wv.most_similar(word_info)}\")"
   ]
  },
  {
   "cell_type": "markdown",
   "metadata": {},
   "source": [
    "## 2. RNN-based Language Classifier"
   ]
  },
  {
   "cell_type": "code",
   "execution_count": 54,
   "metadata": {
    "tags": []
   },
   "outputs": [
    {
     "data": {
      "text/plain": [
       "((1119,), (280,), (1119,), (280,))"
      ]
     },
     "execution_count": 54,
     "metadata": {},
     "output_type": "execute_result"
    }
   ],
   "source": [
    "# ⚠️ Check if we used all imported libraries \n",
    "from tensorflow import keras\n",
    "from tensorflow.keras import layers\n",
    "from tensorflow.keras.models import Sequential\n",
    "from tensorflow.keras.layers import InputLayer, LSTM, Dense, Dropout, SimpleRNN, Embedding\n",
    "from tensorflow.keras.callbacks import ModelCheckpoint, EarlyStopping\n",
    "from tensorflow.keras.losses import MeanSquaredError\n",
    "from tensorflow.keras.metrics import RootMeanSquaredError\n",
    "from tensorflow.keras.optimizers import Adam\n",
    "from sklearn.model_selection import train_test_split\n",
    "\n",
    "# Data partitioning for validation set\n",
    "X_train, X_val, y_train, y_val = train_test_split(cleaned_train_df['cleaned_content'],cleaned_train_df['sentiment'], test_size = 0.2, random_state = 5)\n",
    "X_train.shape, X_val.shape, y_train.shape, y_val.shape"
   ]
  },
  {
   "cell_type": "markdown",
   "metadata": {},
   "source": [
    "### Vocabulary building"
   ]
  },
  {
   "cell_type": "code",
   "execution_count": 57,
   "metadata": {
    "tags": []
   },
   "outputs": [],
   "source": [
    "from keras.preprocessing.text import Tokenizer\n",
    "from tensorflow.keras.preprocessing.sequence import pad_sequences\n",
    "\n",
    "# Tokenize the text\n",
    "tokenizer = Tokenizer(num_words=2000, oov_token=1)\n",
    "# The oov_token is a placeholder token that replaces any OOV words during the text_to_sequence calls.\n",
    "#This ensures that the model can handle new, unseen words gracefully.\n",
    "tokenizer.fit_on_texts(X_train)"
   ]
  },
  {
   "cell_type": "code",
   "execution_count": 59,
   "metadata": {
    "tags": []
   },
   "outputs": [
    {
     "name": "stdout",
     "output_type": "stream",
     "text": [
      "Dimension of word vectors: 50\n",
      "Number of unique words: 5459\n",
      "Top 5 most frequent words:\n",
      "bitcoin: 879\n",
      "btc: 612\n",
      "crypto: 270\n",
      "eth: 172\n",
      "amp: 122\n"
     ]
    }
   ],
   "source": [
    "# Getting to know the vocabulary\n",
    "\n",
    "#Check the vector dimensions using it with Keras\n",
    "vector_dim = fasttext_model.wv.vector_size\n",
    "print(f\"Dimension of word vectors: {vector_dim}\")\n",
    "\n",
    "# Number of words in the vocabulary\n",
    "print(\"Number of unique words:\", len(tokenizer.word_counts))\n",
    "\n",
    "# Top 5 most frequent words\n",
    "top_n_words = sorted(tokenizer.word_counts.items(), key=lambda x: x[1], reverse=True)[:5]\n",
    "print(\"Top 5 most frequent words:\")\n",
    "for word, count in top_n_words:\n",
    "    print(f\"{word}: {count}\")"
   ]
  },
  {
   "cell_type": "code",
   "execution_count": 61,
   "metadata": {
    "tags": []
   },
   "outputs": [
    {
     "name": "stdout",
     "output_type": "stream",
     "text": [
      "The word <bitcoin> appeared in 774 tweets.\n"
     ]
    }
   ],
   "source": [
    "# See the vector for a specific word\n",
    "word_info = 'bitcoin'\n",
    "n = tokenizer.word_docs[word_info]\n",
    "print('The word <{}> appeared in {} tweets.'.format(word_info, n))"
   ]
  },
  {
   "cell_type": "code",
   "execution_count": 63,
   "metadata": {
    "tags": []
   },
   "outputs": [],
   "source": [
    "# Convert each text into a sequence of integers,\n",
    "# where each integer represents a specific word in the tokenizer's vocabulary.\n",
    "# Based on the X_train's 'fit_on_texts'\n",
    "X_train_seq = tokenizer.texts_to_sequences(X_train)\n",
    "X_val_seq = tokenizer.texts_to_sequences(X_val)"
   ]
  },
  {
   "cell_type": "code",
   "execution_count": 65,
   "metadata": {
    "tags": []
   },
   "outputs": [
    {
     "data": {
      "image/png": "[encoded data removed]",
      "text/plain": [
       "<Figure size 640x480 with 1 Axes>"
      ]
     },
     "metadata": {},
     "output_type": "display_data"
    }
   ],
   "source": [
    "# Calculate the number of tokens per tweet\n",
    "tokens_per_tweet = [len(seq) for seq in X_train_seq]\n",
    "\n",
    "# Plot the distribution\n",
    "plt.hist(tokens_per_tweet, bins=50)\n",
    "plt.xlabel('Number of Tokens')\n",
    "plt.ylabel('Number of Tweets')\n",
    "plt.title('Distribution of Tokens per Tweet')\n",
    "plt.show()"
   ]
  },
  {
   "cell_type": "markdown",
   "metadata": {},
   "source": [
    "#### Using Pre-trained Embeddings from FastText\n",
    "In order to leverage the FastText embeddings we previously generated, we create an Embedding layer in Keras that uses the FastText embeddings:"
   ]
  },
  {
   "cell_type": "code",
   "execution_count": 67,
   "metadata": {
    "tags": []
   },
   "outputs": [],
   "source": [
    "# Pad the sequences\n",
    "max_length = 42  # Set max length for padding\n",
    "X_train_pad = pad_sequences(X_train_seq, maxlen=max_length, padding='post')\n",
    "X_val_pad = pad_sequences(X_val_seq, maxlen=max_length, padding='post')"
   ]
  },
  {
   "cell_type": "markdown",
   "metadata": {
    "tags": []
   },
   "source": [
    "🔷 Since each tweet is considerably small in lenght, it makes sense to include all the pads to get all the context possible"
   ]
  },
  {
   "cell_type": "code",
   "execution_count": 69,
   "metadata": {
    "tags": []
   },
   "outputs": [
    {
     "name": "stdout",
     "output_type": "stream",
     "text": [
      "Embedding matrix shape: (5461, 50)\n"
     ]
    }
   ],
   "source": [
    "# Create an embedding matrix\n",
    "embedding_dim = 50  # Must match the dimension of FastText vectors\n",
    "vocab_size = len(tokenizer.word_index) + 1   #it's the total number of unique words in your tokenizer’s vocabulary plus one. The +1 accounts for the padding token (index 0).\n",
    "embedding_matrix = np.zeros((vocab_size, embedding_dim)) #embedding_matrix is initialized as a matrix of zeros with shape (vocab_size, embedding_dim). \n",
    "                                                        #This matrix will eventually hold the FastText vectors for each word in your vocabulary.\n",
    "\n",
    "for word, i in tokenizer.word_index.items():\n",
    "    if word in fasttext_model.wv:\n",
    "        embedding_matrix[i] = fasttext_model.wv[word]\n",
    "\n",
    "print(f\"Embedding matrix shape: {embedding_matrix.shape}\")"
   ]
  },
  {
   "cell_type": "markdown",
   "metadata": {},
   "source": [
    "🔷❌ \"As we can see, the shape matches our requirements\" or something like that. We need to argument this well."
   ]
  },
  {
   "cell_type": "markdown",
   "metadata": {},
   "source": [
    "### ⚠️❓❌ Logistic benchmark model with pad sequences (embeddings) from FastText \n",
    "Maybe we don't need this "
   ]
  },
  {
   "cell_type": "code",
   "execution_count": 71,
   "metadata": {
    "tags": []
   },
   "outputs": [
    {
     "data": {
      "image/png": "[encoded data removed]",
      "text/plain": [
       "<Figure size 640x480 with 1 Axes>"
      ]
     },
     "metadata": {},
     "output_type": "display_data"
    },
    {
     "name": "stdout",
     "output_type": "stream",
     "text": [
      "LASSO sentiment classifier:\tAUC=0.5173\tAccuracy=0.7929\n"
     ]
    }
   ],
   "source": [
    "# Estimate LASSO model\n",
    "from sklearn.linear_model import LogisticRegression\n",
    "\n",
    "classifier = LogisticRegression(solver=\"liblinear\", penalty='l1')\n",
    "classifier.fit(X_train_pad, y_train)\n",
    "yhat_lr = classifier.predict_proba(X_val_pad)[:,1]  # output is probability of both classes\n",
    "\n",
    "# Compute performance\n",
    "auc, acc, cmat = assess_sentiment_classifier(y_val, yhat_lr)\n",
    "print(\"LASSO sentiment classifier:\\tAUC={:.4f}\\tAccuracy={:.4f}\".format(auc, acc))"
   ]
  },
  {
   "cell_type": "markdown",
   "metadata": {},
   "source": [
    "### RNN Model"
   ]
  },
  {
   "cell_type": "code",
   "execution_count": 73,
   "metadata": {},
   "outputs": [
    {
     "name": "stdout",
     "output_type": "stream",
     "text": [
      "Model: \"sequential\"\n",
      "_________________________________________________________________\n",
      " Layer (type)                Output Shape              Param #   \n",
      "=================================================================\n",
      " embedding (Embedding)       (None, 42, 50)            273050    \n",
      "                                                                 \n",
      " lstm (LSTM)                 (None, 128)               91648     \n",
      "                                                                 \n",
      " dropout (Dropout)           (None, 128)               0         \n",
      "                                                                 \n",
      " dense (Dense)               (None, 1)                 129       \n",
      "                                                                 \n",
      "=================================================================\n",
      "Total params: 364,827\n",
      "Trainable params: 91,777\n",
      "Non-trainable params: 273,050\n",
      "_________________________________________________________________\n"
     ]
    }
   ],
   "source": [
    "# Define the RNN model with Keras \n",
    "RNN_model = Sequential()\n",
    "RNN_model.add(Embedding(input_dim=vocab_size, output_dim=embedding_dim, weights=[embedding_matrix], input_length=max_length, trainable=False))\n",
    "RNN_model.add(LSTM(128, return_sequences=False))\n",
    "RNN_model.add(Dropout(0.5))\n",
    "RNN_model.add(Dense(1, activation='sigmoid'))\n",
    "\n",
    "RNN_model.compile(optimizer='adam', metrics=['accuracy'], loss='binary_crossentropy')\n",
    "RNN_model.summary()"
   ]
  },
  {
   "cell_type": "code",
   "execution_count": 75,
   "metadata": {},
   "outputs": [
    {
     "name": "stdout",
     "output_type": "stream",
     "text": [
      "Epoch 1/5\n",
      "35/35 [==============================] - 9s 88ms/step - loss: 0.5534 - accuracy: 0.7927 - val_loss: 0.5003 - val_accuracy: 0.7964\n",
      "Epoch 2/5\n",
      "35/35 [==============================] - 2s 44ms/step - loss: 0.4977 - accuracy: 0.8061 - val_loss: 0.4981 - val_accuracy: 0.7964\n",
      "Epoch 3/5\n",
      "35/35 [==============================] - 3s 73ms/step - loss: 0.4942 - accuracy: 0.8061 - val_loss: 0.5022 - val_accuracy: 0.7964\n",
      "Epoch 4/5\n",
      "35/35 [==============================] - 2s 67ms/step - loss: 0.4958 - accuracy: 0.7989 - val_loss: 0.5129 - val_accuracy: 0.7964\n",
      "Epoch 5/5\n",
      "35/35 [==============================] - 3s 73ms/step - loss: 0.4916 - accuracy: 0.8061 - val_loss: 0.4875 - val_accuracy: 0.7964\n"
     ]
    }
   ],
   "source": [
    "#Train the model\n",
    "history = RNN_model.fit(X_train_pad, y_train, epochs=5, batch_size=32, validation_data=(X_val_pad, y_val))\n",
    "#⚠️Check if there's an argument to pass the weights. For 1 and 0, how many times are going to be outweighted\n",
    "# ⚠️We should add a stop callbacks in case the accuracy doesn't improve in like two epochs"
   ]
  },
  {
   "cell_type": "code",
   "execution_count": 77,
   "metadata": {
    "tags": []
   },
   "outputs": [
    {
     "name": "stdout",
     "output_type": "stream",
     "text": [
      "9/9 [==============================] - 0s 24ms/step - loss: 0.4875 - accuracy: 0.7964\n",
      "Test Accuracy: 0.7964285612106323\n",
      "9/9 [==============================] - 1s 22ms/step\n",
      "              precision    recall  f1-score   support\n",
      "\n",
      "       False       0.00      0.00      0.00        57\n",
      "        True       0.80      1.00      0.89       223\n",
      "\n",
      "    accuracy                           0.80       280\n",
      "   macro avg       0.40      0.50      0.44       280\n",
      "weighted avg       0.63      0.80      0.71       280\n",
      "\n"
     ]
    },
    {
     "name": "stderr",
     "output_type": "stream",
     "text": [
      "C:\\Users\\Sebastian\\anaconda3\\Lib\\site-packages\\sklearn\\metrics\\_classification.py:1344: UndefinedMetricWarning: Precision and F-score are ill-defined and being set to 0.0 in labels with no predicted samples. Use `zero_division` parameter to control this behavior.\n",
      "  _warn_prf(average, modifier, msg_start, len(result))\n",
      "C:\\Users\\Sebastian\\anaconda3\\Lib\\site-packages\\sklearn\\metrics\\_classification.py:1344: UndefinedMetricWarning: Precision and F-score are ill-defined and being set to 0.0 in labels with no predicted samples. Use `zero_division` parameter to control this behavior.\n",
      "  _warn_prf(average, modifier, msg_start, len(result))\n",
      "C:\\Users\\Sebastian\\anaconda3\\Lib\\site-packages\\sklearn\\metrics\\_classification.py:1344: UndefinedMetricWarning: Precision and F-score are ill-defined and being set to 0.0 in labels with no predicted samples. Use `zero_division` parameter to control this behavior.\n",
      "  _warn_prf(average, modifier, msg_start, len(result))\n"
     ]
    }
   ],
   "source": [
    "# Evaluate the model on the test set\n",
    "loss, accuracy = RNN_model.evaluate(X_val_pad, y_val)\n",
    "print(f\"Test Accuracy: {accuracy}\")\n",
    "\n",
    "# Predict on validation data\n",
    "y_pred = RNN_model.predict(X_val_pad)\n",
    "y_pred = (y_pred > 0.5).astype(\"int32\")\n",
    "\n",
    "from sklearn.metrics import classification_report\n",
    "print(classification_report(y_val, y_pred))x`"
   ]
  },
  {
   "cell_type": "markdown",
   "metadata": {},
   "source": [
    "🔷⚠️ Fill interpretation on what's going on <br>\n",
    "Maybe try to change hyperparameters \n",
    "+ Regularization"
   ]
  },
  {
   "cell_type": "markdown",
   "metadata": {},
   "source": [
    "## 3. Pre-trained DistilBERT"
   ]
  },
  {
   "cell_type": "code",
   "execution_count": 79,
   "metadata": {
    "scrolled": true,
    "tags": []
   },
   "outputs": [],
   "source": [
    "from transformers import AutoTokenizer, AutoModelForSequenceClassification, pipeline\n",
    "import torch\n",
    "\n",
    "# Load the pre-trained model and tokenizer from Hugging Face\n",
    "tokenizer_PT_DTB = AutoTokenizer.from_pretrained(\"DT12the/distilbert-sentiment-analysis\")\n",
    "PT_DTB_model = AutoModelForSequenceClassification.from_pretrained(\"DT12the/distilbert-sentiment-analysis\")"
   ]
  },
  {
   "cell_type": "code",
   "execution_count": 81,
   "metadata": {
    "tags": []
   },
   "outputs": [],
   "source": [
    "# Since the model is pre-trained and fine-tuned for sentiment analysis, we don't need to train it further on the data.\n",
    "# We are only using this model to make predictions on the test (or validation) set, thus we tokenize it.\n",
    "tokens_val_PT_DTB = tokenizer_PT_DTB(\n",
    "    list(X_val),\n",
    "    padding=True,\n",
    "    truncation=True,\n",
    "    max_length=40,  # ⚠️ Adjust this if your sequences are longer or shorter, and explain why we did it that way\n",
    "    return_tensors='pt'\n",
    ")"
   ]
  },
  {
   "cell_type": "code",
   "execution_count": 83,
   "metadata": {
    "tags": []
   },
   "outputs": [
    {
     "name": "stdout",
     "output_type": "stream",
     "text": [
      "              precision    recall  f1-score   support\n",
      "\n",
      "       False       0.16      0.70      0.26        57\n",
      "        True       0.45      0.06      0.11       223\n",
      "\n",
      "    accuracy                           0.19       280\n",
      "   macro avg       0.31      0.38      0.19       280\n",
      "weighted avg       0.39      0.19      0.14       280\n",
      "\n"
     ]
    }
   ],
   "source": [
    "# Make predictions on the validation set\n",
    "with torch.no_grad():\n",
    "    outputs_PT_DTB = PT_DTB_model(**tokens_val_PT_DTB)\n",
    "\n",
    "# Get predicted class labels\n",
    "predictions_PT_DTB = torch.argmax(outputs_PT_DTB.logits, dim=1)\n",
    "\n",
    "# Convert predictions to NumPy array for comparison\n",
    "predictions_PT_DTB = predictions_PT_DTB.numpy()\n",
    "\n",
    "# Evaluate the model\n",
    "print(classification_report(y_val, predictions_PT_DTB))"
   ]
  },
  {
   "cell_type": "markdown",
   "metadata": {},
   "source": [
    "## 4. Fine-tuned DistilBERT"
   ]
  },
  {
   "cell_type": "code",
   "execution_count": 85,
   "metadata": {
    "tags": []
   },
   "outputs": [],
   "source": [
    "from transformers import DistilBertTokenizer, DistilBertForSequenceClassification, TrainingArguments,  Trainer\n",
    "\n",
    "# Load the tokenizer and model\n",
    "tokenizer_DTB = DistilBertTokenizer.from_pretrained('distilbert-base-uncased-finetuned-sst-2-english')\n",
    "DTB_model = DistilBertForSequenceClassification.from_pretrained('distilbert-base-uncased-finetuned-sst-2-english')\n",
    "\n",
    "# Alternatively, use a pipeline for easier handling\n",
    "sentiment_analysis = pipeline(\"sentiment-analysis\", model=DTB_model, tokenizer=tokenizer_DTB)"
   ]
  },
  {
   "cell_type": "code",
   "execution_count": 87,
   "metadata": {
    "tags": []
   },
   "outputs": [],
   "source": [
    "# Tokenize the training and validation set\n",
    "tokens_train = tokenizer_DTB(\n",
    "    list(X_train),\n",
    "    padding=True,\n",
    "    truncation=True,\n",
    "    max_length=40,  # Adjust this according to your sequence lengths\n",
    "    return_tensors='pt'\n",
    ")\n",
    "\n",
    "tokens_val = tokenizer_DTB(\n",
    "    list(X_val),\n",
    "    padding=True,\n",
    "    truncation=True,\n",
    "    max_length=40,  # ⚠️ Adjust this if your sequences are longer or shorter, and explain why we did it that way\n",
    "    return_tensors='pt'\n",
    ")\n",
    "\n",
    "# Convert the labels to a tensor\n",
    "labels_train = torch.tensor(list(map(int, y_train.values)), dtype=torch.long)\n",
    "labels_val = torch.tensor(list(map(int, y_val.values)), dtype=torch.long)"
   ]
  },
  {
   "cell_type": "code",
   "execution_count": 91,
   "metadata": {
    "tags": []
   },
   "outputs": [],
   "source": [
    "# Define a dataset class (optional, for clarity)\n",
    "class SentimentDataset(torch.utils.data.Dataset):\n",
    "    def __init__(self, encodings, labels):\n",
    "        self.encodings = encodings\n",
    "        self.labels = labels\n",
    "\n",
    "    def __getitem__(self, idx):\n",
    "        item = {key: torch.tensor(val[idx]) for key, val in self.encodings.items()}\n",
    "        item['labels'] = torch.tensor(self.labels[idx])\n",
    "        return item\n",
    "\n",
    "    def __len__(self):\n",
    "        return len(self.labels)"
   ]
  },
  {
   "cell_type": "code",
   "execution_count": 94,
   "metadata": {
    "scrolled": true,
    "tags": []
   },
   "outputs": [
    {
     "name": "stderr",
     "output_type": "stream",
     "text": [
      "C:\\Users\\Sebastian\\AppData\\Local\\Temp\\ipykernel_20508\\1103402027.py:8: UserWarning: To copy construct from a tensor, it is recommended to use sourceTensor.clone().detach() or sourceTensor.clone().detach().requires_grad_(True), rather than torch.tensor(sourceTensor).\n",
      "  item = {key: torch.tensor(val[idx]) for key, val in self.encodings.items()}\n",
      "C:\\Users\\Sebastian\\AppData\\Local\\Temp\\ipykernel_20508\\1103402027.py:9: UserWarning: To copy construct from a tensor, it is recommended to use sourceTensor.clone().detach() or sourceTensor.clone().detach().requires_grad_(True), rather than torch.tensor(sourceTensor).\n",
      "  item['labels'] = torch.tensor(self.labels[idx])\n"
     ]
    },
    {
     "data": {
      "text/html": [
       "\n",
       "    <div>\n",
       "      \n",
       "      <progress value='70' max='70' style='width:300px; height:20px; vertical-align: middle;'></progress>\n",
       "      [70/70 03:57, Epoch 1/1]\n",
       "    </div>\n",
       "    <table border=\"1\" class=\"dataframe\">\n",
       "  <thead>\n",
       " <tr style=\"text-align: left;\">\n",
       "      <th>Step</th>\n",
       "      <th>Training Loss</th>\n",
       "    </tr>\n",
       "  </thead>\n",
       "  <tbody>\n",
       "    <tr>\n",
       "      <td>10</td>\n",
       "      <td>0.146900</td>\n",
       "    </tr>\n",
       "    <tr>\n",
       "      <td>20</td>\n",
       "      <td>0.124100</td>\n",
       "    </tr>\n",
       "    <tr>\n",
       "      <td>30</td>\n",
       "      <td>0.151200</td>\n",
       "    </tr>\n",
       "    <tr>\n",
       "      <td>40</td>\n",
       "      <td>0.202900</td>\n",
       "    </tr>\n",
       "    <tr>\n",
       "      <td>50</td>\n",
       "      <td>0.155600</td>\n",
       "    </tr>\n",
       "    <tr>\n",
       "      <td>60</td>\n",
       "      <td>0.495200</td>\n",
       "    </tr>\n",
       "    <tr>\n",
       "      <td>70</td>\n",
       "      <td>0.387100</td>\n",
       "    </tr>\n",
       "  </tbody>\n",
       "</table><p>"
      ],
      "text/plain": [
       "<IPython.core.display.HTML object>"
      ]
     },
     "metadata": {},
     "output_type": "display_data"
    },
    {
     "data": {
      "text/plain": [
       "TrainOutput(global_step=70, training_loss=0.23757960285459245, metrics={'train_runtime': 241.1299, 'train_samples_per_second': 4.641, 'train_steps_per_second': 0.29, 'total_flos': 11580548366880.0, 'train_loss': 0.23757960285459245, 'epoch': 1.0})"
      ]
     },
     "execution_count": 94,
     "metadata": {},
     "output_type": "execute_result"
    }
   ],
   "source": [
    "##### Set up training arguments\n",
    "training_args = TrainingArguments(\n",
    "    output_dir='./results',          # output directory\n",
    "    num_train_epochs=1,              # number of training epochs\n",
    "    per_device_train_batch_size=16,  # batch size for training\n",
    "    per_device_eval_batch_size=16,   # batch size for evaluation\n",
    "    logging_dir='./logs',            # directory for storing logs\n",
    "    logging_steps=10,\n",
    ")\n",
    "# Define training and evaluation datasets\n",
    "train_dataset = SentimentDataset(tokens_train, labels_train)\n",
    "val_dataset = SentimentDataset(tokens_val, labels_val)   \n",
    "\n",
    "# Train DistilBERT model\n",
    "trainer = Trainer(\n",
    "    model=DTB_model,                 # the instantiated 🤗 Transformers model to be trained\n",
    "    args=training_args,              # training arguments, defined above\n",
    "    train_dataset=train_dataset,\n",
    "    eval_dataset=val_dataset,\n",
    ")\n",
    "\n",
    "trainer.train()"
   ]
  },
  {
   "cell_type": "code",
   "execution_count": 96,
   "metadata": {
    "tags": []
   },
   "outputs": [
    {
     "name": "stdout",
     "output_type": "stream",
     "text": [
      "              precision    recall  f1-score   support\n",
      "\n",
      "       False       0.55      0.54      0.55        57\n",
      "        True       0.88      0.89      0.89       223\n",
      "\n",
      "    accuracy                           0.82       280\n",
      "   macro avg       0.72      0.72      0.72       280\n",
      "weighted avg       0.82      0.82      0.82       280\n",
      "\n"
     ]
    }
   ],
   "source": [
    "# Evaluate model on the test set\n",
    "# Disable gradient calculation for evaluation\n",
    "with torch.no_grad():\n",
    "    outputs_DTB = DTB_model(**tokens_val)\n",
    "\n",
    "# Get the predicted class (0 or 1)\n",
    "predictions_DTB = torch.argmax(outputs_DTB.logits, dim=1)\n",
    "\n",
    "# Convert predictions to NumPy array for comparison\n",
    "predictions_DTB = predictions_DTB.numpy()\n",
    "\n",
    "# Evaluate the predictions\n",
    "print(classification_report(y_val, predictions_DTB))"
   ]
  },
  {
   "cell_type": "markdown",
   "metadata": {},
   "source": [
    "🔷 If we were to run more epochs (like 3, the performance metrics would improve)"
   ]
  },
  {
   "cell_type": "markdown",
   "metadata": {
    "tags": []
   },
   "source": [
    "## Models comparison"
   ]
  },
  {
   "cell_type": "markdown",
   "metadata": {},
   "source": [
    "See https://github.com/Humboldt-WI/delta/blob/master/demos/nlp/sentiment_analysis.ipynb <br>\n",
    "Create a container in which we store the results of different models. Good options are either a dictionary or a data set. In this notebook, we use the latter approach. To ensure comparability across different approaches, we will re-calculate the performance of the lexicon-based model for the observations of the test set."
   ]
  },
  {
   "cell_type": "markdown",
   "metadata": {},
   "source": [
    "Before that, we need to clean our test set"
   ]
  },
  {
   "cell_type": "code",
   "execution_count": 99,
   "metadata": {},
   "outputs": [
    {
     "name": "stdout",
     "output_type": "stream",
     "text": [
      "Original Review:\n",
      "#Bitcoin would have to fall another 80% to reach the lows of 3 years ago.\n",
      "\n",
      "Rates have already skyrocketed, most crypto platforms (including FTX) died, and sentiment is dead as most think it’s over.\n",
      "\n",
      "Even if #Bitcoin falls 50% to $14k new lows (which I doubt), this is remarkable.\n",
      "\n",
      "Cleaned Review:\n",
      "bitcoin would fall another reach low year ago rate already skyrocketed crypto platform including ftx died sentiment dead think even bitcoin fall k new low doubt remarkable\n"
     ]
    }
   ],
   "source": [
    "# Cleaned content check\n",
    "ix = 1  # Enter one entry number to further examine the effect of the text cleaning process\n",
    "print('Original Review:\\n' + cleaned_test_df.content[ix])  \n",
    "print('\\nCleaned Review:\\n' + cleaned_test_df.cleaned_content[ix])"
   ]
  },
  {
   "cell_type": "markdown",
   "metadata": {},
   "source": [
    "### Vader Sentiment"
   ]
  },
  {
   "cell_type": "code",
   "execution_count": 113,
   "metadata": {
    "tags": []
   },
   "outputs": [],
   "source": [
    "# Apply the same sentiment analysis we used for the train dataset to the test dataset\n",
    "cleaned_test_df['vader_sentiment'] = cleaned_test_df['cleaned_content'].apply(analyze_sentiment)\n",
    "# Extract compound score for simplicity\n",
    "cleaned_test_df['vader_compound'] = cleaned_test_df['vader_sentiment'].apply(lambda x: x['compound'])\n",
    "# Convert compound score to sentiment label\n",
    "cleaned_test_df['vader_label'] = cleaned_test_df['vader_compound'].apply(compound_to_binary_sentiment)"
   ]
  },
  {
   "cell_type": "code",
   "execution_count": 129,
   "metadata": {
    "tags": []
   },
   "outputs": [
    {
     "name": "stdout",
     "output_type": "stream",
     "text": [
      "Accuracy: 0.7789473684210526\n",
      "Precision: 0.7729718135940654\n",
      "Recall: 0.7789473684210526\n",
      "F1-score: 0.7757766435165815\n"
     ]
    }
   ],
   "source": [
    "if 'sentiment' in cleaned_test_df.columns:\n",
    "    \n",
    "    accuracy = accuracy_score(cleaned_test_df['sentiment'], cleaned_test_df['vader_label'])\n",
    "    precision = precision_score(cleaned_test_df['sentiment'], cleaned_test_df['vader_label'], average='weighted')\n",
    "    recall = recall_score(cleaned_test_df['sentiment'], cleaned_test_df['vader_label'], average='weighted')\n",
    "    f1 = f1_score(cleaned_test_df['sentiment'], cleaned_test_df['vader_label'], average='weighted')\n",
    "\n",
    "    print(f\"Accuracy: {accuracy}\")\n",
    "    print(f\"Precision: {precision}\")\n",
    "    print(f\"Recall: {recall}\")\n",
    "    print(f\"F1-score: {f1}\")"
   ]
  },
  {
   "cell_type": "code",
   "execution_count": 131,
   "metadata": {
    "tags": []
   },
   "outputs": [
    {
     "data": {
      "image/png": "[encoded data removed]",
      "text/plain": [
       "<Figure size 640x480 with 1 Axes>"
      ]
     },
     "metadata": {},
     "output_type": "display_data"
    }
   ],
   "source": [
    "# Assess vaderSentiment on testset\n",
    "auc, acc, cmat = assess_sentiment_classifier(ytest=cleaned_test_df['sentiment'], yhat=cleaned_test_df['vader_label'], cut_off=0)"
   ]
  },
  {
   "cell_type": "markdown",
   "metadata": {},
   "source": [
    "### RNN"
   ]
  },
  {
   "cell_type": "code",
   "execution_count": null,
   "metadata": {},
   "outputs": [],
   "source": [
    "# Run model on test data\n",
    "y_test_pred = RNN_model.predict(X_val_pad)\n",
    "y_pred = (y_pred > 0.5).astype(\"int32\")\n",
    "\n",
    "from sklearn.metrics import classification_report\n",
    "print(classification_report(y_val, y_pred))"
   ]
  },
  {
   "cell_type": "markdown",
   "metadata": {},
   "source": [
    "### Pre-trained DistilBERT"
   ]
  },
  {
   "cell_type": "code",
   "execution_count": null,
   "metadata": {},
   "outputs": [],
   "source": []
  },
  {
   "cell_type": "markdown",
   "metadata": {},
   "source": [
    "### Fine-tuned DistilBERT"
   ]
  },
  {
   "cell_type": "code",
   "execution_count": null,
   "metadata": {},
   "outputs": [],
   "source": []
  }
 ],
 "metadata": {
  "kernelspec": {
   "display_name": "Python 3 (ipykernel)",
   "language": "python",
   "name": "python3"
  },
  "language_info": {
   "codemirror_mode": {
    "name": "ipython",
    "version": 3
   },
   "file_extension": ".py",
   "mimetype": "text/x-python",
   "name": "python",
   "nbconvert_exporter": "python",
   "pygments_lexer": "ipython3",
   "version": "3.11.7"
  }
 },
 "nbformat": 4,
 "nbformat_minor": 4
}
