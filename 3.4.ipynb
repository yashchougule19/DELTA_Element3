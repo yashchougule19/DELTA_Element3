{
 "cells": [
  {
   "cell_type": "code",
   "execution_count": null,
   "metadata": {},
   "outputs": [],
   "source": [
    "# Extra: Generate requirements file\n",
    "!pip install pipreqs\n",
    "\n",
    "# Use one of these two to generate the file, check which one works\n",
    "!pipreqs . --force\n",
    "!pip freeze > requirements.txt\n",
    "\n",
    "# Check the file\n",
    "# Check the generated file\n",
    "with open('requirements.txt', 'r') as file:\n",
    "    print(file.read())\n",
    "\n",
    "# If it's generated empty, check installed packages\n",
    "pip list\n",
    "# and then run one of the two generators."
   ]
  },
  {
   "cell_type": "markdown",
   "metadata": {
    "jp-MarkdownHeadingCollapsed": true,
    "tags": []
   },
   "source": [
    "# ⚠️ [S] DELTA Portfolio Task 3: Natural language processing"
   ]
  },
  {
   "cell_type": "markdown",
   "metadata": {},
   "source": [
    "[s] [This is from the other element, thus need to be changed] <br>\n",
    "The following jupyter notebook is the computational essay required for the subjet Delta. <br>\n",
    "The goal is to perform a sentiment analysis on a database composed of tweets about an specific topic , alongside the necessary previous steps for it's application.<br>\n",
    "Submitted by: <u>Sebastian Guardia (Student ID:640621)</u>\n",
    "\n",
    "Your task is to perform sentiment analysis using a sentiment dictionary, an RNN model, a pre-trained Transformer and a fine-tuned Transformer. The data is separated into a train set of 1500 tweets and a test set of 500 tweets\n",
    "**The structure of the notebook is as follows:**\n",
    "1. Libraries and dataset loading.\n",
    "2. Partitioning and scaling the dataset. \n",
    "3. Definition of dataset structure. \n",
    "4. Simple RNN Model.\n",
    "5. LSTM Model.\n",
    "6. Plotting predictions.\n",
    "7. Conclusion."
   ]
  },
  {
   "cell_type": "markdown",
   "metadata": {
    "jp-MarkdownHeadingCollapsed": true,
    "tags": []
   },
   "source": [
    "# ⚠️ [Y] **DELTA ELEMENT 2: TIME SERISE FORECASTING USING RNN**"
   ]
  },
  {
   "cell_type": "markdown",
   "metadata": {},
   "source": [
    "[This is from the other element, thus need to be changed] <br>\n",
    "This notebook focuses on the development, training, and evaluation of neural network models for handling time-series data. Key concepts and techniques discussed include:\n",
    "\n",
    "- **Time-Series Data Handling**: The use of functions to prepare time-series data for modeling with RNNs.\n",
    "\n",
    "- **Data Partitioning**: Dividing data into training and test sets to ensure a robust evaluation of model performance and avoid overfitting. (Note: Last 20% of data from the laballed dataset forms the testset)\n",
    "\n",
    "- **Model Checkpoints**: For saving the best performing models during training to prevent data loss and facilitate easy reloading for further use.\n",
    "\n",
    "- **Training and Evaluation**: For assessing whether training was successful, including monitoring metrics like loss and accuracy on both training and validation datasets.\n",
    "\n",
    "- **Model Performance Analysis**: Examining model performance through the evolution of training and validation loss, with specific attention to signs of overfitting or underfitting.\n",
    "\n",
    "- **Visualization and Metrics**: Use of custom functions to plot model predictions against actual values and calculate the Mean Squared Error (MSE) to evaluate model accuracy.\n",
    "\n",
    "- **RNN Architectures**: GRU (Gated Recurrent Unit) and LSTM (Long Short-Term Memory) networks and their capabilities to capture long-term dependencies in sequential data."
   ]
  },
  {
   "cell_type": "markdown",
   "metadata": {
    "tags": []
   },
   "source": [
    "# ❌ ~~~"
   ]
  },
  {
   "cell_type": "markdown",
   "metadata": {},
   "source": [
    "## Data Preprocessing"
   ]
  },
  {
   "cell_type": "code",
   "execution_count": 3,
   "metadata": {
    "tags": []
   },
   "outputs": [],
   "source": [
    "import pandas as pd"
   ]
  },
  {
   "cell_type": "code",
   "execution_count": 5,
   "metadata": {
    "tags": []
   },
   "outputs": [],
   "source": [
    "# Import dataframes\n",
    "train_df = pd.read_parquet('datasets/btc_tweets_train.parquet.gzip')\n",
    "test_df = pd.read_parquet('datasets/btc_tweets_test.parquet.gzip')\n",
    "\n",
    "#Index resetting\n",
    "train_df = train_df.reset_index()\n",
    "test_df = test_df.reset_index()"
   ]
  },
  {
   "cell_type": "code",
   "execution_count": 7,
   "metadata": {
    "tags": []
   },
   "outputs": [
    {
     "data": {
      "text/html": [
       "<div>\n",
       "<style scoped>\n",
       "    .dataframe tbody tr th:only-of-type {\n",
       "        vertical-align: middle;\n",
       "    }\n",
       "\n",
       "    .dataframe tbody tr th {\n",
       "        vertical-align: top;\n",
       "    }\n",
       "\n",
       "    .dataframe thead th {\n",
       "        text-align: right;\n",
       "    }\n",
       "</style>\n",
       "<table border=\"1\" class=\"dataframe\">\n",
       "  <thead>\n",
       "    <tr style=\"text-align: right;\">\n",
       "      <th></th>\n",
       "      <th>tweet ID</th>\n",
       "      <th>hashtags</th>\n",
       "      <th>content</th>\n",
       "      <th>username</th>\n",
       "      <th>user_displayname</th>\n",
       "      <th>sentiment</th>\n",
       "    </tr>\n",
       "  </thead>\n",
       "  <tbody>\n",
       "    <tr>\n",
       "      <th>0</th>\n",
       "      <td>1641579121972236290</td>\n",
       "      <td>[Bitcoin, Bitcoin, BTC, Bitcoin, BTC, SHIB, HO...</td>\n",
       "      <td>$Bitcoin TO $100,000 SOONER THAN YOU THINK‼️💯🙏...</td>\n",
       "      <td>BezosCrypto</td>\n",
       "      <td>SHIB Bezos</td>\n",
       "      <td>True</td>\n",
       "    </tr>\n",
       "    <tr>\n",
       "      <th>1</th>\n",
       "      <td>1641579176171016194</td>\n",
       "      <td>[Bitcoin, bitcoinordinals, crypto]</td>\n",
       "      <td>Alright I have my rares. Who else is grabbing ...</td>\n",
       "      <td>spartantc81</td>\n",
       "      <td>SpartanTC</td>\n",
       "      <td>True</td>\n",
       "    </tr>\n",
       "    <tr>\n",
       "      <th>2</th>\n",
       "      <td>1641579486071390208</td>\n",
       "      <td>[BTC, SHIB, HOGE, SAITAMA, BNB, DOGE, ETH, Bab...</td>\n",
       "      <td>Bitcoin (BTC) Targets Over $100,000 as This Im...</td>\n",
       "      <td>BezosCrypto</td>\n",
       "      <td>SHIB Bezos</td>\n",
       "      <td>True</td>\n",
       "    </tr>\n",
       "    <tr>\n",
       "      <th>3</th>\n",
       "      <td>1641579537103302656</td>\n",
       "      <td>[BTC]</td>\n",
       "      <td>📢 Xverse Web-based pool is live:\\n\\n•Update @x...</td>\n",
       "      <td>godfred_xcuz</td>\n",
       "      <td>Algorithm.btc</td>\n",
       "      <td>True</td>\n",
       "    </tr>\n",
       "    <tr>\n",
       "      <th>4</th>\n",
       "      <td>1641579588399804418</td>\n",
       "      <td>[Bitcoin]</td>\n",
       "      <td>Yesterday, a Bitcoin projection was displayed ...</td>\n",
       "      <td>goddess81oo</td>\n",
       "      <td>she is lucky</td>\n",
       "      <td>True</td>\n",
       "    </tr>\n",
       "  </tbody>\n",
       "</table>\n",
       "</div>"
      ],
      "text/plain": [
       "              tweet ID                                           hashtags  \\\n",
       "0  1641579121972236290  [Bitcoin, Bitcoin, BTC, Bitcoin, BTC, SHIB, HO...   \n",
       "1  1641579176171016194                 [Bitcoin, bitcoinordinals, crypto]   \n",
       "2  1641579486071390208  [BTC, SHIB, HOGE, SAITAMA, BNB, DOGE, ETH, Bab...   \n",
       "3  1641579537103302656                                              [BTC]   \n",
       "4  1641579588399804418                                          [Bitcoin]   \n",
       "\n",
       "                                             content      username  \\\n",
       "0  $Bitcoin TO $100,000 SOONER THAN YOU THINK‼️💯🙏...   BezosCrypto   \n",
       "1  Alright I have my rares. Who else is grabbing ...   spartantc81   \n",
       "2  Bitcoin (BTC) Targets Over $100,000 as This Im...   BezosCrypto   \n",
       "3  📢 Xverse Web-based pool is live:\\n\\n•Update @x...  godfred_xcuz   \n",
       "4  Yesterday, a Bitcoin projection was displayed ...   goddess81oo   \n",
       "\n",
       "  user_displayname  sentiment  \n",
       "0       SHIB Bezos       True  \n",
       "1        SpartanTC       True  \n",
       "2       SHIB Bezos       True  \n",
       "3    Algorithm.btc       True  \n",
       "4     she is lucky       True  "
      ]
     },
     "execution_count": 7,
     "metadata": {},
     "output_type": "execute_result"
    }
   ],
   "source": [
    "train_df.head()"
   ]
  },
  {
   "cell_type": "code",
   "execution_count": 10,
   "metadata": {
    "tags": []
   },
   "outputs": [],
   "source": [
    "# ❓ What is this for? should we keep it?\n",
    "#test_df.rename(columns={test_df.columns[0]: 'tweet ID'}, inplace=True)"
   ]
  },
  {
   "cell_type": "code",
   "execution_count": 16,
   "metadata": {
    "tags": []
   },
   "outputs": [
    {
     "name": "stdout",
     "output_type": "stream",
     "text": [
      "<class 'pandas.core.frame.DataFrame'>\n",
      "RangeIndex: 1500 entries, 0 to 1499\n",
      "Data columns (total 6 columns):\n",
      " #   Column            Non-Null Count  Dtype \n",
      "---  ------            --------------  ----- \n",
      " 0   tweet ID          1500 non-null   int64 \n",
      " 1   hashtags          1500 non-null   object\n",
      " 2   content           1500 non-null   object\n",
      " 3   username          1500 non-null   object\n",
      " 4   user_displayname  1500 non-null   object\n",
      " 5   sentiment         1500 non-null   bool  \n",
      "dtypes: bool(1), int64(1), object(4)\n",
      "memory usage: 60.2+ KB\n"
     ]
    },
    {
     "data": {
      "text/plain": [
       "((1500, 6), None, 0)"
      ]
     },
     "execution_count": 16,
     "metadata": {},
     "output_type": "execute_result"
    }
   ],
   "source": [
    "# ❓ Do you think we should keep the head part? I'd get rid of it since we see it just above\n",
    "# Take a first glance of the data base\n",
    "def df_info(df):\n",
    "    return df.shape, df.info(), df.isnull().sum().sum(),# df.head()\n",
    "\n",
    "df_info(train_df)"
   ]
  },
  {
   "cell_type": "code",
   "execution_count": 21,
   "metadata": {
    "tags": []
   },
   "outputs": [
    {
     "data": {
      "text/plain": [
       "sentiment\n",
       "True     1220\n",
       "False     280\n",
       "Name: count, dtype: int64"
      ]
     },
     "execution_count": 21,
     "metadata": {},
     "output_type": "execute_result"
    }
   ],
   "source": [
    "# Check for class imbalance\n",
    "train_df['sentiment'].value_counts()"
   ]
  },
  {
   "cell_type": "code",
   "execution_count": 23,
   "metadata": {
    "tags": []
   },
   "outputs": [],
   "source": [
    "# ⚠️ Check if we are going to use username for the bot cleaning, otherwise delete that column as well\n",
    "# Drop unnecessary columns\n",
    "train_df = train_df.drop(['tweet ID', 'user_displayname', 'hashtags'], axis=1)\n",
    "test_df = test_df.drop(['tweet ID', 'user_displayname', 'hashtags'], axis=1)"
   ]
  },
  {
   "cell_type": "code",
   "execution_count": 39,
   "metadata": {
    "tags": []
   },
   "outputs": [
    {
     "data": {
      "text/html": [
       "<div>\n",
       "<style scoped>\n",
       "    .dataframe tbody tr th:only-of-type {\n",
       "        vertical-align: middle;\n",
       "    }\n",
       "\n",
       "    .dataframe tbody tr th {\n",
       "        vertical-align: top;\n",
       "    }\n",
       "\n",
       "    .dataframe thead th {\n",
       "        text-align: right;\n",
       "    }\n",
       "</style>\n",
       "<table border=\"1\" class=\"dataframe\">\n",
       "  <thead>\n",
       "    <tr style=\"text-align: right;\">\n",
       "      <th></th>\n",
       "      <th>content</th>\n",
       "      <th>username</th>\n",
       "      <th>sentiment</th>\n",
       "    </tr>\n",
       "  </thead>\n",
       "  <tbody>\n",
       "    <tr>\n",
       "      <th>0</th>\n",
       "      <td>$Bitcoin TO $100,000 SOONER THAN YOU THINK‼️💯🙏...</td>\n",
       "      <td>BezosCrypto</td>\n",
       "      <td>True</td>\n",
       "    </tr>\n",
       "    <tr>\n",
       "      <th>1</th>\n",
       "      <td>Alright I have my rares. Who else is grabbing ...</td>\n",
       "      <td>spartantc81</td>\n",
       "      <td>True</td>\n",
       "    </tr>\n",
       "    <tr>\n",
       "      <th>2</th>\n",
       "      <td>Bitcoin (BTC) Targets Over $100,000 as This Im...</td>\n",
       "      <td>BezosCrypto</td>\n",
       "      <td>True</td>\n",
       "    </tr>\n",
       "  </tbody>\n",
       "</table>\n",
       "</div>"
      ],
      "text/plain": [
       "                                             content     username  sentiment\n",
       "0  $Bitcoin TO $100,000 SOONER THAN YOU THINK‼️💯🙏...  BezosCrypto       True\n",
       "1  Alright I have my rares. Who else is grabbing ...  spartantc81       True\n",
       "2  Bitcoin (BTC) Targets Over $100,000 as This Im...  BezosCrypto       True"
      ]
     },
     "execution_count": 39,
     "metadata": {},
     "output_type": "execute_result"
    }
   ],
   "source": [
    "# Snapshot of the dataframe we will be working with\n",
    "train_df.head(3)"
   ]
  },
  {
   "cell_type": "code",
   "execution_count": 83,
   "metadata": {
    "tags": []
   },
   "outputs": [
    {
     "data": {
      "text/html": [
       "<div>\n",
       "<style scoped>\n",
       "    .dataframe tbody tr th:only-of-type {\n",
       "        vertical-align: middle;\n",
       "    }\n",
       "\n",
       "    .dataframe tbody tr th {\n",
       "        vertical-align: top;\n",
       "    }\n",
       "\n",
       "    .dataframe thead th {\n",
       "        text-align: right;\n",
       "    }\n",
       "</style>\n",
       "<table border=\"1\" class=\"dataframe\">\n",
       "  <thead>\n",
       "    <tr style=\"text-align: right;\">\n",
       "      <th></th>\n",
       "      <th>content</th>\n",
       "      <th>username</th>\n",
       "      <th>sentiment</th>\n",
       "      <th>cleaned_content</th>\n",
       "    </tr>\n",
       "  </thead>\n",
       "  <tbody>\n",
       "    <tr>\n",
       "      <th>0</th>\n",
       "      <td>Alright I have my rares. Who else is grabbing ...</td>\n",
       "      <td>spartantc81</td>\n",
       "      <td>True</td>\n",
       "      <td>alright rares else grabbing dogepunksbtc disco...</td>\n",
       "    </tr>\n",
       "    <tr>\n",
       "      <th>1</th>\n",
       "      <td>📢 Xverse Web-based pool is live:\\n\\n•Update @x...</td>\n",
       "      <td>godfred_xcuz</td>\n",
       "      <td>True</td>\n",
       "      <td>loudspeaker xverse webbased pool live update x...</td>\n",
       "    </tr>\n",
       "    <tr>\n",
       "      <th>2</th>\n",
       "      <td>Yesterday, a Bitcoin projection was displayed ...</td>\n",
       "      <td>goddess81oo</td>\n",
       "      <td>True</td>\n",
       "      <td>yesterday bitcoin projection displayed europea...</td>\n",
       "    </tr>\n",
       "  </tbody>\n",
       "</table>\n",
       "</div>"
      ],
      "text/plain": [
       "                                             content      username  sentiment  \\\n",
       "0  Alright I have my rares. Who else is grabbing ...   spartantc81       True   \n",
       "1  📢 Xverse Web-based pool is live:\\n\\n•Update @x...  godfred_xcuz       True   \n",
       "2  Yesterday, a Bitcoin projection was displayed ...   goddess81oo       True   \n",
       "\n",
       "                                     cleaned_content  \n",
       "0  alright rares else grabbing dogepunksbtc disco...  \n",
       "1  loudspeaker xverse webbased pool live update x...  \n",
       "2  yesterday bitcoin projection displayed europea...  "
      ]
     },
     "execution_count": 83,
     "metadata": {},
     "output_type": "execute_result"
    }
   ],
   "source": [
    "cleaned_train_df.head(3)"
   ]
  },
  {
   "cell_type": "markdown",
   "metadata": {},
   "source": [
    "## Text preparation for analysis"
   ]
  },
  {
   "cell_type": "code",
   "execution_count": 32,
   "metadata": {
    "tags": []
   },
   "outputs": [
    {
     "name": "stdout",
     "output_type": "stream",
     "text": [
      "Number of duplicated samples:  0\n"
     ]
    }
   ],
   "source": [
    "# ❓ Might want to delete this part, check\n",
    "# Get the number of duplicated rows and remove any duplicates after that:\n",
    "print('Number of duplicated samples: ',train_df[train_df.duplicated()].shape[0])\n",
    "train_df = train_df.drop_duplicates(keep='first')"
   ]
  },
  {
   "cell_type": "code",
   "execution_count": 56,
   "metadata": {
    "tags": []
   },
   "outputs": [],
   "source": [
    "from sklearn.feature_extraction.text import TfidfVectorizer\n",
    "from sklearn.metrics.pairwise import cosine_similarity\n",
    "from imblearn.over_sampling import SMOTE\n",
    "import nltk\n",
    "from nltk.corpus import stopwords\n",
    "import re\n",
    "import emoji\n",
    "from urllib.parse import urlparse\n",
    "\n",
    "class DataPreprocessor:\n",
    "    def __init__(self, df, content_column, sentiment_column):\n",
    "        \"\"\"\n",
    "        Initialize the DataPreprocessor class with the DataFrame and relevant columns.\n",
    "\n",
    "        Parameters:\n",
    "        - df: pd.DataFrame\n",
    "            The DataFrame containing the dataset.\n",
    "        - content_column: str\n",
    "            The name of the column containing the text content to analyze.\n",
    "        - sentiment_column: str\n",
    "            The name of the column containing the sentiment labels.\n",
    "        \"\"\"\n",
    "        self.df = df\n",
    "        self.content_column = content_column\n",
    "        self.sentiment_column = sentiment_column\n",
    "    \n",
    "    def remove_similar_content(self, similarity_threshold=0.65):\n",
    "        \"\"\"\n",
    "        Removes samples with similar content based on cosine similarity.\n",
    "\n",
    "        Parameters:\n",
    "        - similarity_threshold: float (default=0.65)\n",
    "            The threshold for cosine similarity above which samples are considered similar.\n",
    "        \"\"\"\n",
    "        tfidf = TfidfVectorizer(stop_words='english')\n",
    "        tfidf_matrix = tfidf.fit_transform(self.df[self.content_column])\n",
    "        cosine_sim = cosine_similarity(tfidf_matrix, tfidf_matrix)\n",
    "\n",
    "        indices_to_remove = set()\n",
    "\n",
    "        for i in range(len(cosine_sim)):\n",
    "            for j in range(i + 1, len(cosine_sim)):\n",
    "                if cosine_sim[i, j] > similarity_threshold:\n",
    "                    indices_to_remove.add(i)\n",
    "                    indices_to_remove.add(j)\n",
    "\n",
    "        self.df = self.df.drop(index=indices_to_remove).reset_index(drop=True)\n",
    "        return self.df\n",
    "    \n",
    "# ❓ Are we going to add the part of deleting the fake usernames? It might add some extra points\n",
    "    \n",
    "    def clean_text(self):\n",
    "        \"\"\"\n",
    "        Cleans text data by removing punctuation, stopwords, and applying lemmatization.\n",
    "        \"\"\"\n",
    "        # ❓ Maybe we can get rid of this part, we download it every time we run the code\n",
    "        #nltk.download('stopwords')\n",
    "        stop_words = set(stopwords.words('english'))\n",
    "\n",
    "        def clean(tweet):\n",
    "            # Convert emojis to text # Converts emojis to text, e.g., \"😊\" becomes \":smiling_face:\"\n",
    "            tweet = emoji.demojize(tweet, delimiters=(\" \", \" \"))\n",
    "            # Remove links\n",
    "            tweet = re.sub(r'http\\S+|www\\S+|https\\S+', '', tweet, flags=re.MULTILINE)\n",
    "            # Remove punctuation and numbers\n",
    "            tweet = re.sub(r'[^a-zA-Z\\s]', '', tweet)\n",
    "            # Tokenize\n",
    "            words = nltk.word_tokenize(tweet)\n",
    "            # Remove stop words\n",
    "            words = [word for word in words if word.lower() not in stop_words]\n",
    "            # Lemmatize words\n",
    "            lemmatizer = nltk.WordNetLemmatizer()\n",
    "            words = [lemmatizer.lemmatize(word.lower()) for word in words]\n",
    "            return ' '.join(words)\n",
    "        \n",
    "        self.df['cleaned_content'] = self.df[self.content_column].apply(clean)\n",
    "        return self.df\n",
    "    \n",
    "    def handle_class_imbalance_with_SMOTE(self):\n",
    "        \"\"\"\n",
    "        Handles class imbalance using SMOTE (Synthetic Minority Over-sampling Technique).\n",
    "        \"\"\"\n",
    "        \n",
    "        tfidf = TfidfVectorizer(stop_words='english')\n",
    "        X = tfidf.fit_transform(self.df[self.content_column])\n",
    "        y = self.df[self.sentiment_column]\n",
    "        \n",
    "        # Apply SMOTE to the vectorized text\n",
    "        smote = SMOTE(random_state=21)\n",
    "        X_resampled, y_resampled = smote.fit_resample(X, y)\n",
    "\n",
    "        self.df = pd.DataFrame(X_resampled.toarray(), columns=tfidf.get_feature_names_out())\n",
    "        self.df[self.sentiment_column] = y_resampled\n",
    "        return self.df\n",
    "# ❓ This is not funciontal yet isn't it?\n",
    "    \n",
    "    def preprocess(self, remove_similar=True, balance_classes=True, clean_text=True):\n",
    "        \"\"\"\n",
    "        Performs the full preprocessing pipeline.\n",
    "\n",
    "        Parameters:\n",
    "        - remove_similar: bool (default=True)\n",
    "            Whether to remove similar content.\n",
    "        - balance_classes: bool (default=True)\n",
    "            Whether to handle class imbalance.\n",
    "        - clean_text: bool (default=True)\n",
    "            Whether to clean text data.\n",
    "        \"\"\"\n",
    "        if remove_similar:\n",
    "            self.remove_similar_content()\n",
    "        if balance_classes:\n",
    "            self.handle_class_imbalance_with_SMOTE()\n",
    "        if clean_text:\n",
    "            self.clean_text()\n",
    "\n",
    "        return self.df"
   ]
  },
  {
   "cell_type": "markdown",
   "metadata": {},
   "source": [
    "🔷 Argumentation of the usage of: <br>\n",
    "    Cosine similarity <br>\n",
    "    Why we decided to deal with class imbalance this way"
   ]
  },
  {
   "cell_type": "code",
   "execution_count": null,
   "metadata": {
    "tags": []
   },
   "outputs": [],
   "source": [
    "# ⚠️This was needed to run\n",
    "!pip install emoji"
   ]
  },
  {
   "cell_type": "code",
   "execution_count": null,
   "metadata": {
    "tags": []
   },
   "outputs": [],
   "source": [
    "# Initialize the class object for both 'train' and 'test' datasets\n",
    "train_preprocesser = DataPreprocessor(df=train_df, content_column='content', sentiment_column='sentiment')\n",
    "test_preprocesser = DataPreprocessor(df=test_df, content_column='content', sentiment_column='sentiment')\n",
    "\n",
    "# Clean datasets\n",
    "cleaned_train_df = train_preprocesser.preprocess(remove_similar=True, balance_classes=False, clean_text=True)\n",
    "cleaned_test_df = test_preprocesser.preprocess(remove_similar=True, balance_classes=False, clean_text=True)"
   ]
  },
  {
   "cell_type": "code",
   "execution_count": 104,
   "metadata": {
    "tags": []
   },
   "outputs": [
    {
     "name": "stdout",
     "output_type": "stream",
     "text": [
      "Original Review:\n",
      "📢 Xverse Web-based pool is live:\n",
      "\n",
      "•Update @xverseApp Chrome Browser Extension wallet to V0.6.2\n",
      "\n",
      "•Stack @Stacks 👇\n",
      "\n",
      " https://t.co/s17rWwKnPD\n",
      "\n",
      "•Earn #BTC Yield\n",
      "\n",
      "•Continuous Stacking\n",
      "\n",
      "•Stacking amount Top up at any moment of the cycle https://t.co/sBm89okDyb\n",
      "\n",
      "Cleaned Review:\n",
      "loudspeaker xverse webbased pool live update xverseapp chrome browser extension wallet v stack stack backhandindexpointingdown earn btc yield continuous stacking stacking amount top moment cycle\n"
     ]
    }
   ],
   "source": [
    "# Cleaned content check\n",
    "ix = 1  # Enter one entry number to further examine the effect of the text cleaning process\n",
    "print('Original Review:\\n' + cleaned_train_df.content[ix])  \n",
    "print('\\nCleaned Review:\\n' + cleaned_train_df.cleaned_content[ix])"
   ]
  },
  {
   "cell_type": "code",
   "execution_count": 99,
   "metadata": {
    "tags": []
   },
   "outputs": [
    {
     "name": "stdout",
     "output_type": "stream",
     "text": [
      "Train DataFrame Shape: (1399, 4)\n",
      "Test DataFrame Shape: (475, 4)\n",
      "\n",
      "First 5 rows of Train DataFrame:\n",
      "                                              content      username  sentiment  \\\n",
      "0  Alright I have my rares. Who else is grabbing ...   spartantc81       True   \n",
      "1  📢 Xverse Web-based pool is live:\\n\\n•Update @x...  godfred_xcuz       True   \n",
      "2  Yesterday, a Bitcoin projection was displayed ...   goddess81oo       True   \n",
      "\n",
      "                                     cleaned_content  \n",
      "0  alright rares else grabbing dogepunksbtc disco...  \n",
      "1  loudspeaker xverse webbased pool live update x...  \n",
      "2  yesterday bitcoin projection displayed europea...  \n",
      "\n",
      "First 5 rows of Test DataFrame:\n",
      "                                              content      username  sentiment  \\\n",
      "0  #crypto $crypto #btc \\nI am Chinese crypto alp...     huahuayjy       True   \n",
      "1  #Bitcoin would have to fall another 80% to rea...  luke_broyles      False   \n",
      "2  #Giveaway $1000 Matic in 3Days\\n\\n🏆To win\\n1️⃣...  cryptomarsdo       True   \n",
      "\n",
      "                                     cleaned_content  \n",
      "0  crypto crypto btc chinese crypto alpha althoug...  \n",
      "1  bitcoin would fall another reach low year ago ...  \n",
      "2  giveaway matic day trophy win keycap follow ma...  \n",
      "\n",
      "Value Counts in Train DataFrame for 'sentiment':\n",
      " sentiment\n",
      "True     1125\n",
      "False     274\n",
      "Name: count, dtype: int64\n",
      "\n",
      "Value Counts in Test DataFrame for 'sentiment':\n",
      " sentiment\n",
      "True     379\n",
      "False     96\n",
      "Name: count, dtype: int64\n"
     ]
    }
   ],
   "source": [
    "# Output checking\n",
    "def df_summary(train_df, test_df, column):\n",
    "    \n",
    "    print(\"Train DataFrame Shape:\", train_df.shape)\n",
    "    print(\"Test DataFrame Shape:\", test_df.shape)\n",
    "    print(\"\\nFirst 5 rows of Train DataFrame:\\n\", train_df.head(3))\n",
    "    print(\"\\nFirst 5 rows of Test DataFrame:\\n\", test_df.head(3))\n",
    "    print(\"\\nValue Counts in Train DataFrame for '{}':\\n\".format(column), train_df[column].value_counts())\n",
    "    print(\"\\nValue Counts in Test DataFrame for '{}':\\n\".format(column), test_df[column].value_counts())\n",
    "\n",
    "df_summary(cleaned_train_df, cleaned_test_df, 'sentiment')"
   ]
  },
  {
   "cell_type": "markdown",
   "metadata": {
    "tags": []
   },
   "source": [
    "⚠️ I suggest we write comments at the end of each section to fulfil the requirement of: <br>\n",
    "\"reasonable discussion of the reasoning behind implementational details, the training process, the classification metrics, as well as the performance and usefulness of the four NLP approaches.\"\n",
    "🔷"
   ]
  },
  {
   "cell_type": "markdown",
   "metadata": {},
   "source": [
    "**NOTE: Both the cleaned datasets above are still imbalanced with True values largly outnumbered than False. The imbalance needs to be taken care of by assigning class weights dring model training.**"
   ]
  },
  {
   "cell_type": "markdown",
   "metadata": {},
   "source": [
    "## 1. Sentiment Dictionary - vaderSentiment "
   ]
  },
  {
   "cell_type": "code",
   "execution_count": 118,
   "metadata": {
    "tags": []
   },
   "outputs": [],
   "source": [
    "from vaderSentiment.vaderSentiment import SentimentIntensityAnalyzer\n",
    "\n",
    "vs_analyzer = SentimentIntensityAnalyzer()\n",
    "\n",
    "def analyze_sentiment(text):\n",
    "    sentiment_dict = vs_analyzer.polarity_scores(text)\n",
    "    return sentiment_dict\n",
    "\n",
    "# Apply sentiment analysis to each entry\n",
    "cleaned_train_df['vader_sentiment'] = cleaned_train_df['cleaned_content'].apply(analyze_sentiment)"
   ]
  },
  {
   "cell_type": "code",
   "execution_count": 132,
   "metadata": {
    "tags": []
   },
   "outputs": [
    {
     "name": "stdout",
     "output_type": "stream",
     "text": [
      "0    {'neg': 0.172, 'neu': 0.701, 'pos': 0.127, 'compound': -0.1779}\n",
      "1         {'neg': 0.0, 'neu': 0.93, 'pos': 0.07, 'compound': 0.2023}\n",
      "2              {'neg': 0.0, 'neu': 1.0, 'pos': 0.0, 'compound': 0.0}\n",
      "3       {'neg': 0.0, 'neu': 0.918, 'pos': 0.082, 'compound': 0.2235}\n",
      "4              {'neg': 0.0, 'neu': 1.0, 'pos': 0.0, 'compound': 0.0}\n",
      "Name: vader_sentiment, dtype: object\n"
     ]
    }
   ],
   "source": [
    "# Review the vader sentiment generated values\n",
    "pd.set_option('display.max_colwidth', None)\n",
    "print(cleaned_train_df['vader_sentiment'].head())"
   ]
  },
  {
   "cell_type": "code",
   "execution_count": 137,
   "metadata": {
    "tags": []
   },
   "outputs": [],
   "source": [
    "# Extract compound score for simplicity\n",
    "cleaned_train_df['vader_compound'] = cleaned_train_df['vader_sentiment'].apply(lambda x: x['compound'])\n",
    "\n",
    "# Convert compound score to sentiment label\n",
    "# ⚠️❓ Should we simply count the '<= 0' values as negatives ? \n",
    "def compound_to_binary_sentiment(compound_score):\n",
    "    if compound_score > 0:\n",
    "        return 1  # Positive\n",
    "    elif compound_score <= 0:\n",
    "        return 0  # Negative\n",
    "\n",
    "cleaned_train_df['vader_label'] = cleaned_train_df['vader_compound'].apply(compound_to_binary_sentiment)"
   ]
  },
  {
   "cell_type": "markdown",
   "metadata": {},
   "source": [
    "🔷 Argumentation of why we set the threshold like that"
   ]
  },
  {
   "cell_type": "markdown",
   "metadata": {},
   "source": [
    "### Sentiment Dictionary Assessment"
   ]
  },
  {
   "cell_type": "code",
   "execution_count": 165,
   "metadata": {
    "tags": []
   },
   "outputs": [
    {
     "data": {
      "text/plain": [
       "count    1399.000\n",
       "mean        0.206\n",
       "std         0.420\n",
       "min        -0.896\n",
       "25%         0.000\n",
       "50%         0.077\n",
       "75%         0.571\n",
       "max         0.983\n",
       "Name: vader_compound, dtype: float64"
      ]
     },
     "execution_count": 165,
     "metadata": {},
     "output_type": "execute_result"
    },
    {
     "data": {
      "image/png": "[encoded data removed]",
      "text/plain": [
       "<Figure size 640x480 with 1 Axes>"
      ]
     },
     "metadata": {},
     "output_type": "display_data"
    }
   ],
   "source": [
    "# Representation of the values generated by vaderSentiment\n",
    "cleaned_train_df['vader_compound'].hist(); \n",
    "cleaned_train_df['vader_compound'].describe().round(3)"
   ]
  },
  {
   "cell_type": "code",
   "execution_count": 143,
   "metadata": {
    "tags": []
   },
   "outputs": [
    {
     "name": "stdout",
     "output_type": "stream",
     "text": [
      "Accuracy: 0.5854181558255898\n",
      "Precision: 0.7558645762003526\n",
      "Recall: 0.5854181558255898\n",
      "F1-score: 0.628099210007195\n"
     ]
    }
   ],
   "source": [
    "# Performance evaluation with metrics in contrast to real labels\n",
    "#❓ Should we create a class to do the comparisons ?\n",
    "from sklearn.metrics import accuracy_score, precision_score, recall_score, f1_score\n",
    "\n",
    "if 'sentiment' in cleaned_train_df.columns:\n",
    "    \n",
    "    accuracy = accuracy_score(cleaned_train_df['sentiment'], cleaned_train_df['vader_label'])\n",
    "    precision = precision_score(cleaned_train_df['sentiment'], cleaned_train_df['vader_label'], average='weighted')\n",
    "    recall = recall_score(cleaned_train_df['sentiment'], cleaned_train_df['vader_label'], average='weighted')\n",
    "    f1 = f1_score(cleaned_train_df['sentiment'], cleaned_train_df['vader_label'], average='weighted')\n",
    "\n",
    "    print(f\"Accuracy: {accuracy}\")\n",
    "    print(f\"Precision: {precision}\")\n",
    "    print(f\"Recall: {recall}\")\n",
    "    print(f\"F1-score: {f1}\")"
   ]
  },
  {
   "cell_type": "code",
   "execution_count": 175,
   "metadata": {
    "tags": []
   },
   "outputs": [],
   "source": [
    "# Assess sentiment classification models\n",
    "import numpy as np\n",
    "import matplotlib.pyplot as plt\n",
    "from sklearn.metrics import confusion_matrix, roc_auc_score, roc_curve\n",
    "\n",
    "def assess_sentiment_classifier(ytest, yhat, cut_off=0.5, plot_roc=True):\n",
    "    \"\"\"\n",
    "        Helper function to assess a classification model in terms of the AUC\n",
    "        and classification accuracy. We calculate the latter by comapring\n",
    "        continuous (e.g., probabilistic) classifier predictions to a cut_off.\n",
    "        Cases where the prediction exceeds the cut-off are classified as \n",
    "        positive.\n",
    "    \"\"\"\n",
    "    # Calculate discrete class predictions\n",
    "    yhat_c = np.where(yhat>cut_off, 1, 0)\n",
    "    \n",
    "    # Calculate classification accuracy and AUC\n",
    "    acc = accuracy_score(ytest, yhat_c)\n",
    "    auc = roc_auc_score(ytest, yhat)\n",
    "    \n",
    "    # Confusion matrix \n",
    "    cmat = confusion_matrix(ytest, yhat_c)\n",
    "    \n",
    "    # ROC analysis\n",
    "    if plot_roc==True:\n",
    "        fpr, tpr, _ = roc_curve(ytest, yhat)\n",
    "        plt.plot(fpr,tpr, label=\"AUC={:.4}\".format(auc));\n",
    "        plt.plot([0, 1], [0, 1], \"r--\")\n",
    "        plt.ylabel('True positive rate')    \n",
    "        plt.xlabel('False positive rate')    \n",
    "        plt.legend(loc='lower right')\n",
    "        plt.show();\n",
    "    \n",
    "    return(auc, acc, cmat)"
   ]
  },
  {
   "cell_type": "code",
   "execution_count": 184,
   "metadata": {
    "tags": []
   },
   "outputs": [
    {
     "data": {
      "image/png": "[encoded data removed]",
      "text/plain": [
       "<Figure size 640x480 with 1 Axes>"
      ]
     },
     "metadata": {},
     "output_type": "display_data"
    },
    {
     "name": "stdout",
     "output_type": "stream",
     "text": [
      "Lexicon-based sentiment classifier:\tAUC=0.6152\tAccuracy=0.5854\n"
     ]
    }
   ],
   "source": [
    "# Assess lexicon-based sentiment classifier\n",
    "auc, acc, cmat = assess_sentiment_classifier(ytest=cleaned_train_df['sentiment'], yhat=cleaned_train_df['vader_label'], cut_off=0)\n",
    "print(\"Lexicon-based sentiment classifier:\\tAUC={:.4f}\\tAccuracy={:.4f}\".format(auc, acc))"
   ]
  },
  {
   "cell_type": "code",
   "execution_count": 187,
   "metadata": {
    "tags": []
   },
   "outputs": [
    {
     "data": {
      "text/plain": [
       "array([[182,  92],\n",
       "       [488, 637]], dtype=int64)"
      ]
     },
     "execution_count": 187,
     "metadata": {},
     "output_type": "execute_result"
    }
   ],
   "source": [
    "cmat"
   ]
  },
  {
   "cell_type": "markdown",
   "metadata": {},
   "source": [
    "🔷 Argumentation of: <br>\n",
    "Why we used these metrics <br>\n",
    "Why weighted average is important to use <br>\n",
    "🔷 Explanation of the results, what do them imply? <br>\n",
    "check #https://github.com/Humboldt-WI/delta/blob/master/demos/nlp/sentiment_analysis.ipynb <br>\n",
    "Some ideas: <br>\n",
    "- It can be not the most suitable thing to emply as the it assigns polarity scores including 0 which is neutral, whereas or real labels don't have a neutral value\n",
    "- It's a simple/ straightforward method to apply sentiment analysis."
   ]
  },
  {
   "cell_type": "markdown",
   "metadata": {
    "jp-MarkdownHeadingCollapsed": true,
    "tags": []
   },
   "source": [
    "## Text data representation / Embedding: FastText"
   ]
  },
  {
   "cell_type": "code",
   "execution_count": null,
   "metadata": {
    "tags": []
   },
   "outputs": [],
   "source": [
    "from gensim.models import FastText\n",
    "\n",
    "# Tokenize the cleaned tweets (split by spaces)\n",
    "tokenized_tweets_FT = [tweet.split() for tweet in cleaned_train_df['cleaned_content']]\n",
    "\n",
    "# Train FastText model using Gensim's implementation\n",
    "fasttext_model = FastText(sentences=tokenized_tweets_FT, vector_size=100, window=3, min_count=5, sg=1, epochs=10)\n",
    "\n",
    "# Save the model\n",
    "fasttext_model.save(\"fasttext.model\")\n",
    "\n",
    "# Load the model (for future use)\n",
    "fasttext_model = FastText.load(\"fasttext.model\")"
   ]
  },
  {
   "cell_type": "markdown",
   "metadata": {},
   "source": [
    "🔷 Argumentation of why we set the parameters like that. Explanation in notion"
   ]
  },
  {
   "cell_type": "code",
   "execution_count": 252,
   "metadata": {
    "tags": []
   },
   "outputs": [
    {
     "name": "stdout",
     "output_type": "stream",
     "text": [
      "Number of words in the vocabulary: 1008\n",
      "Top 5 words and their occurrences:\n",
      "bitcoin: 1092\n",
      "btc: 772\n",
      "crypto: 341\n",
      "eth: 230\n",
      "amp: 161\n"
     ]
    }
   ],
   "source": [
    "#Getting to know the vocabulary\n",
    "\n",
    "# Number of words in the vocabulary\n",
    "vocab_size = len(fasttext_model.wv)\n",
    "print(f\"Number of words in the vocabulary: {vocab_size}\")\n",
    "\n",
    "# Words and their counts\n",
    "word_counts = {word: fasttext_model.wv.get_vecattr(word, \"count\") for word in fasttext_model.wv.index_to_key}\n",
    "\n",
    "# Top 5 most frequent words\n",
    "top_5_words = sorted(word_counts.items(), key=lambda item: item[1], reverse=True)[:5]\n",
    "print(\"Top 5 words and their occurrences:\")\n",
    "for word, count in top_5_words:\n",
    "    print(f\"{word}: {count}\")"
   ]
  },
  {
   "cell_type": "code",
   "execution_count": 238,
   "metadata": {
    "tags": []
   },
   "outputs": [
    {
     "name": "stdout",
     "output_type": "stream",
     "text": [
      "Vector for 'bitcoin':\n",
      ": [ 0.1321453   0.12010717  0.04648108  0.16354541  0.07435092  0.17683123\n",
      "  0.0461157   0.27213517  0.09930971 -0.2037804  -0.13120864 -0.03159364\n",
      "  0.01838671  0.386711    0.21967079 -0.2846033   0.00816252 -0.00310216\n",
      " -0.21321578 -0.43916965 -0.20946917  0.0541461   0.27496937 -0.08217407\n",
      " -0.12067789 -0.11522529 -0.07398232  0.18454635  0.03429808 -0.16177458\n",
      "  0.11932881  0.27889326  0.16988038  0.17900886 -0.3388475   0.34745264\n",
      " -0.0322962   0.09571039 -0.36981082  0.18969087 -0.25206098 -0.13307747\n",
      "  0.1449645  -0.2836776  -0.25226203 -0.2699835  -0.17970455 -0.15076378\n",
      " -0.07728162  0.08858436  0.21311939  0.02643363  0.266006   -0.06956034\n",
      " -0.15955694 -0.07029492 -0.00086952 -0.19871049 -0.00430273 -0.08045126\n",
      " -0.11204569 -0.09096897 -0.29110548  0.06616174  0.1393991   0.16509531\n",
      " -0.02623042 -0.16407897 -0.10242737  0.03392855  0.00156191 -0.04851926\n",
      "  0.05187404 -0.25078565  0.10735223 -0.11914465  0.10927148 -0.16387798\n",
      "  0.04575658  0.04917726 -0.04208943 -0.10705162  0.08600762 -0.2055646\n",
      " -0.1191716   0.19559488 -0.16054277  0.03172966 -0.01609788 -0.12266149\n",
      " -0.47714362  0.0494284  -0.07233244  0.08805358  0.17654195  0.10203713\n",
      " -0.13021483  0.00673466  0.14296408  0.01952545]\n",
      "Words similar to 'bitcoin':\n",
      ": [('investing', 0.9936670064926147), ('bitcoinordinals', 0.9923230409622192), ('bitcoiners', 0.9916786551475525), ('bitcoins', 0.9891166090965271), ('litecoin', 0.9891069531440735), ('trading', 0.9886376857757568), ('bitcoinmagazine', 0.987455427646637), ('chain', 0.9873701930046082), ('reefchain', 0.987007737159729), ('gain', 0.9869283437728882)]\n"
     ]
    }
   ],
   "source": [
    "# See the vector for a specific word \n",
    "word_info = 'bitcoin' \n",
    "print(f\"Vector for '{word_info}':\\n: {fasttext_model.wv[word_info]}\")\n",
    "\n",
    "# Get most similar words\n",
    "print(f\"Words similar to '{word_info}':\\n: {fasttext_model.wv.most_similar(word_info)}\")"
   ]
  },
  {
   "cell_type": "markdown",
   "metadata": {},
   "source": [
    "## 2. RNN-based Language Classifier"
   ]
  },
  {
   "cell_type": "code",
   "execution_count": 270,
   "metadata": {
    "tags": []
   },
   "outputs": [
    {
     "data": {
      "text/plain": [
       "((1119,), (280,), (1119,), (280,))"
      ]
     },
     "execution_count": 270,
     "metadata": {},
     "output_type": "execute_result"
    }
   ],
   "source": [
    "# ⚠️ Check if we used all imported libraries \n",
    "from tensorflow import keras\n",
    "from tensorflow.keras import layers\n",
    "from tensorflow.keras.models import Sequential\n",
    "from tensorflow.keras.layers import InputLayer, LSTM, Dense, Dropout, SimpleRNN\n",
    "from tensorflow.keras.callbacks import ModelCheckpoint, EarlyStopping\n",
    "from tensorflow.keras.losses import MeanSquaredError\n",
    "from tensorflow.keras.metrics import RootMeanSquaredError\n",
    "from tensorflow.keras.optimizers import Adam\n",
    "from sklearn.model_selection import train_test_split\n",
    "\n",
    "# Data partitioning for validation set\n",
    "X_train, X_val, y_train, y_val = train_test_split(cleaned_train_df['cleaned_content'],cleaned_train_df['sentiment'], test_size = 0.2, random_state = 5)\n",
    "X_train.shape, X_val.shape, y_train.shape, y_val.shape"
   ]
  },
  {
   "cell_type": "markdown",
   "metadata": {},
   "source": [
    "### Vocabulary building"
   ]
  },
  {
   "cell_type": "code",
   "execution_count": 326,
   "metadata": {
    "tags": []
   },
   "outputs": [],
   "source": [
    "from keras.preprocessing.text import Tokenizer\n",
    "from tensorflow.keras.preprocessing.sequence import pad_sequences\n",
    "\n",
    "# Tokenize the text\n",
    "tokenizer = Tokenizer(num_words=2000, oov_token=1)\n",
    "# The oov_token is a placeholder token that replaces any OOV words during the text_to_sequence calls.\n",
    "#This ensures that the model can handle new, unseen words gracefully.\n",
    "tokenizer.fit_on_texts(X_train)"
   ]
  },
  {
   "cell_type": "code",
   "execution_count": 349,
   "metadata": {
    "tags": []
   },
   "outputs": [
    {
     "name": "stdout",
     "output_type": "stream",
     "text": [
      "Dimension of word vectors: 100\n",
      "Number of unique words: 5459\n",
      "Top 5 most frequent words:\n",
      "bitcoin: 879\n",
      "btc: 612\n",
      "crypto: 270\n",
      "eth: 172\n",
      "amp: 122\n"
     ]
    }
   ],
   "source": [
    "# Getting to know the vocabulary\n",
    "\n",
    "#Check the vector dimensions using it with Keras\n",
    "vector_dim = fasttext_model.wv.vector_size\n",
    "print(f\"Dimension of word vectors: {vector_dim}\")\n",
    "\n",
    "# Number of words in the vocabulary\n",
    "print(\"Number of unique words:\", len(tokenizer.word_counts))\n",
    "\n",
    "# Top 5 most frequent words\n",
    "top_n_words = sorted(tokenizer.word_counts.items(), key=lambda x: x[1], reverse=True)[:5]\n",
    "print(\"Top 5 most frequent words:\")\n",
    "for word, count in top_n_words:\n",
    "    print(f\"{word}: {count}\")"
   ]
  },
  {
   "cell_type": "code",
   "execution_count": 320,
   "metadata": {
    "tags": []
   },
   "outputs": [
    {
     "name": "stdout",
     "output_type": "stream",
     "text": [
      "The word <bitcoin> appeared in 774 tweets.\n"
     ]
    }
   ],
   "source": [
    "# See the vector for a specific word\n",
    "word_info = 'bitcoin'\n",
    "n = tokenizer.word_docs[word_info]\n",
    "print('The word <{}> appeared in {} tweets.'.format(word_info, n))"
   ]
  },
  {
   "cell_type": "code",
   "execution_count": 331,
   "metadata": {
    "tags": []
   },
   "outputs": [],
   "source": [
    "# Convert each text into a sequence of integers,\n",
    "# where each integer represents a specific word in the tokenizer's vocabulary.\n",
    "# Based on the X_train's 'fit_on_texts'\n",
    "X_train_seq = tokenizer.texts_to_sequences(X_train)\n",
    "X_val_seq = tokenizer.texts_to_sequences(X_val)"
   ]
  },
  {
   "cell_type": "code",
   "execution_count": 335,
   "metadata": {
    "tags": []
   },
   "outputs": [
    {
     "data": {
      "image/png": "[encoded data removed]",
      "text/plain": [
       "<Figure size 640x480 with 1 Axes>"
      ]
     },
     "metadata": {},
     "output_type": "display_data"
    }
   ],
   "source": [
    "# Calculate the number of tokens per tweet\n",
    "tokens_per_tweet = [len(seq) for seq in X_train_seq]\n",
    "\n",
    "# Plot the distribution\n",
    "plt.hist(tokens_per_tweet, bins=50)\n",
    "plt.xlabel('Number of Tokens')\n",
    "plt.ylabel('Number of Tweet')\n",
    "plt.title('Distribution of Tokens per Tweet')\n",
    "plt.show()"
   ]
  },
  {
   "cell_type": "code",
   "execution_count": 338,
   "metadata": {
    "tags": []
   },
   "outputs": [
    {
     "name": "stdout",
     "output_type": "stream",
     "text": [
      "Recommended max length for padding: 32\n"
     ]
    }
   ],
   "source": [
    "# Calculate the 95th percentile of the number of tokens per tweet\n",
    "max_length = int(np.percentile(tokens_per_tweet, 95))\n",
    "print(f\"Recommended max length for padding: {max_length}\")"
   ]
  },
  {
   "cell_type": "code",
   "execution_count": 341,
   "metadata": {
    "tags": []
   },
   "outputs": [],
   "source": [
    "# Pad the sequences\n",
    "max_length = 32  # Set max length for padding\n",
    "X_train_pad = pad_sequences(X_train_seq, maxlen=max_length, padding='post')\n",
    "X_val_pad = pad_sequences(X_val_seq, maxlen=max_length, padding='post')"
   ]
  },
  {
   "cell_type": "markdown",
   "metadata": {},
   "source": [
    "#### Using Pre-trained Embeddings from FastText\n",
    "In order to leverage the FastText embeddings we previously generated, we create an Embedding layer in Keras that uses the FastText embeddings:"
   ]
  },
  {
   "cell_type": "code",
   "execution_count": 353,
   "metadata": {
    "tags": []
   },
   "outputs": [
    {
     "name": "stdout",
     "output_type": "stream",
     "text": [
      "Embedding matrix shape: (5461, 100)\n"
     ]
    }
   ],
   "source": [
    "# Create an embedding matrix\n",
    "embedding_dim = 100  # Must match the dimension of FastText vectors\n",
    "vocab_size = len(tokenizer.word_index) + 1   #it's the total number of unique words in your tokenizer’s vocabulary plus one. The +1 accounts for the padding token (index 0).\n",
    "embedding_matrix = np.zeros((vocab_size, embedding_dim)) #embedding_matrix is initialized as a matrix of zeros with shape (vocab_size, embedding_dim). \n",
    "                                                        #This matrix will eventually hold the FastText vectors for each word in your vocabulary.\n",
    "\n",
    "for word, i in tokenizer.word_index.items():\n",
    "    if word in fasttext_model.wv:\n",
    "        embedding_matrix[i] = fasttext_model.wv[word]\n",
    "\n",
    "print(f\"Embedding matrix shape: {embedding_matrix.shape}\")"
   ]
  },
  {
   "cell_type": "code",
   "execution_count": 366,
   "metadata": {
    "tags": []
   },
   "outputs": [
    {
     "data": {
      "text/plain": [
       "array([[  1, 468,   1, ...,   0,   0,   0],\n",
       "       [130,  49,   4, ...,   0,   0,   0],\n",
       "       [  1,   1,   1, ...,   0,   0,   0],\n",
       "       ...,\n",
       "       [  3, 444,   1, ...,   0,   0,   0],\n",
       "       [  1,   1,  33, ...,   0,   0,   0],\n",
       "       [301, 342, 435, ...,   0,   0,   0]])"
      ]
     },
     "execution_count": 366,
     "metadata": {},
     "output_type": "execute_result"
    }
   ],
   "source": [
    "X_val_pad"
   ]
  },
  {
   "cell_type": "markdown",
   "metadata": {},
   "source": [
    "### Logistic benchmark model"
   ]
  },
  {
   "cell_type": "code",
   "execution_count": 368,
   "metadata": {
    "tags": []
   },
   "outputs": [],
   "source": [
    "# ⚠️❓❌ Maybe we don't need this"
   ]
  },
  {
   "cell_type": "code",
   "execution_count": 363,
   "metadata": {
    "tags": []
   },
   "outputs": [
    {
     "data": {
      "image/png": "[encoded data removed]",
      "text/plain": [
       "<Figure size 640x480 with 1 Axes>"
      ]
     },
     "metadata": {},
     "output_type": "display_data"
    },
    {
     "name": "stdout",
     "output_type": "stream",
     "text": [
      "LASSO sentiment classifier:\tAUC=0.5150\tAccuracy=0.7964\n"
     ]
    }
   ],
   "source": [
    "# Estimate LASSO model\n",
    "from sklearn.linear_model import LogisticRegression\n",
    "\n",
    "classifier = LogisticRegression(solver=\"liblinear\", penalty='l1')\n",
    "classifier.fit(X_train_pad, y_train)\n",
    "yhat_lr = classifier.predict_proba(X_val_pad)[:,1]  # output is probability of both classes\n",
    "\n",
    "# Compute performance\n",
    "auc, acc, cmat = assess_sentiment_classifier(y_val, yhat_lr)\n",
    "print(\"LASSO sentiment classifier:\\tAUC={:.4f}\\tAccuracy={:.4f}\".format(auc, acc))"
   ]
  },
  {
   "cell_type": "code",
   "execution_count": null,
   "metadata": {},
   "outputs": [],
   "source": []
  },
  {
   "cell_type": "code",
   "execution_count": null,
   "metadata": {},
   "outputs": [],
   "source": []
  },
  {
   "cell_type": "code",
   "execution_count": null,
   "metadata": {},
   "outputs": [],
   "source": []
  },
  {
   "cell_type": "code",
   "execution_count": null,
   "metadata": {},
   "outputs": [],
   "source": []
  },
  {
   "cell_type": "markdown",
   "metadata": {
    "jp-MarkdownHeadingCollapsed": true,
    "tags": []
   },
   "source": [
    "## Models comparison"
   ]
  },
  {
   "cell_type": "markdown",
   "metadata": {},
   "source": [
    "See https://github.com/Humboldt-WI/delta/blob/master/demos/nlp/sentiment_analysis.ipynb <br>\n",
    "Create a container in which we store the results of different models. Good options are either a dictionary or a data set. In this notebook, we use the latter approach. To ensure comparability across different approaches, we will re-calculate the performance of the lexicon-based model for the observations of the test set."
   ]
  },
  {
   "cell_type": "code",
   "execution_count": null,
   "metadata": {},
   "outputs": [],
   "source": []
  },
  {
   "cell_type": "code",
   "execution_count": null,
   "metadata": {},
   "outputs": [],
   "source": []
  }
 ],
 "metadata": {
  "kernelspec": {
   "display_name": "Python 3 (ipykernel)",
   "language": "python",
   "name": "python3"
  },
  "language_info": {
   "codemirror_mode": {
    "name": "ipython",
    "version": 3
   },
   "file_extension": ".py",
   "mimetype": "text/x-python",
   "name": "python",
   "nbconvert_exporter": "python",
   "pygments_lexer": "ipython3",
   "version": "3.11.7"
  }
 },
 "nbformat": 4,
 "nbformat_minor": 4
}
