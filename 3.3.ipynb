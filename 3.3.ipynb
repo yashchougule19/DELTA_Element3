{
 "cells": [
  {
   "cell_type": "code",
   "execution_count": 1,
   "metadata": {},
   "outputs": [],
   "source": [
    "#! pip install pipreqs"
   ]
  },
  {
   "cell_type": "code",
   "execution_count": 2,
   "metadata": {},
   "outputs": [],
   "source": [
    "#! pipreqs --encoding=utf-8 c:/Users/Diya/Documents/GItHub/DELTA_Element3"
   ]
  },
  {
   "cell_type": "markdown",
   "metadata": {},
   "source": [
    "# 0. Import Libraries "
   ]
  },
  {
   "cell_type": "code",
   "execution_count": 1,
   "metadata": {},
   "outputs": [],
   "source": [
    "# For preprocessing\n",
    "import pandas as pd\n",
    "import numpy as np\n",
    "import matplotlib.pyplot as plt\n",
    "import seaborn as sns\n",
    "\n",
    "from Data_Preprocess import DataPreprocessor\n",
    "\n",
    "from Classification_Scores import ClassificationEvaluator\n",
    "\n",
    "from Data_Augmentation import DataAugmentor\n",
    "\n",
    "# For VaderSentiment\n",
    "from vaderSentiment.vaderSentiment import SentimentIntensityAnalyzer\n",
    "\n",
    "# For RNN model \n",
    "import nltk\n",
    "from nltk.tokenize import word_tokenize\n",
    "from gensim.models import FastText\n",
    "from sklearn.model_selection import train_test_split\n",
    "from tensorflow.keras.preprocessing.text import Tokenizer\n",
    "from tensorflow.keras.preprocessing.sequence import pad_sequences\n",
    "from tensorflow.keras.models import Sequential\n",
    "from tensorflow.keras.layers import Input, Embedding, LSTM, GRU, Dense, Dropout, Bidirectional\n",
    "from tensorflow.keras.callbacks import EarlyStopping\n",
    "from tensorflow.keras.optimizers import Adam\n",
    "from tensorflow.keras.regularizers import l2\n",
    "from sklearn.model_selection import train_test_split\n",
    "from sklearn.utils import class_weight\n",
    "from tensorflow.keras.metrics import AUC, Precision, Recall\n",
    "\n",
    "# For DistilBERT\n",
    "import torch\n",
    "from transformers import DistilBertTokenizer, DistilBertForSequenceClassification, TextClassificationPipeline, TrainingArguments, Trainer\n",
    "from transformers import AutoTokenizer, AutoModelForSequenceClassification, pipeline"
   ]
  },
  {
   "cell_type": "markdown",
   "metadata": {},
   "source": [
    "# 1. Data Preprocessing"
   ]
  },
  {
   "cell_type": "markdown",
   "metadata": {},
   "source": [
    "### 1.1. Importing and understanding the data."
   ]
  },
  {
   "cell_type": "code",
   "execution_count": 3,
   "metadata": {},
   "outputs": [],
   "source": [
    "# Importing the train and test datasets\n",
    "train_df = pd.read_parquet('btc_tweets_train.parquet.gzip').reset_index()\n",
    "test_df = pd.read_parquet('btc_tweets_test.parquet.gzip').reset_index()"
   ]
  },
  {
   "cell_type": "code",
   "execution_count": 4,
   "metadata": {},
   "outputs": [],
   "source": [
    "# Running a few checks to understand the datasets (shape, empty tweets, info and head)\n",
    "def df_info(df):\n",
    "    print(f'shape of the datafreme: {df.shape}')\n",
    "    print(f'Number of empty values: {df.isnull().sum().sum()}')\n",
    "    print(df.info())\n",
    "    print(df.head())"
   ]
  },
  {
   "cell_type": "code",
   "execution_count": 5,
   "metadata": {},
   "outputs": [
    {
     "name": "stdout",
     "output_type": "stream",
     "text": [
      "shape of the datafreme: (2438, 6)\n",
      "Number of empty values: 3000\n",
      "<class 'pandas.core.frame.DataFrame'>\n",
      "RangeIndex: 2438 entries, 0 to 2437\n",
      "Data columns (total 6 columns):\n",
      " #   Column           Non-Null Count  Dtype  \n",
      "---  ------           --------------  -----  \n",
      " 0   Unnamed: 0.1     2438 non-null   int64  \n",
      " 1   Unnamed: 0       1438 non-null   float64\n",
      " 2   content          1438 non-null   object \n",
      " 3   username         1438 non-null   object \n",
      " 4   sentiment        2438 non-null   int64  \n",
      " 5   cleaned_content  2438 non-null   object \n",
      "dtypes: float64(1), int64(2), object(3)\n",
      "memory usage: 114.4+ KB\n",
      "None\n",
      "   Unnamed: 0.1  Unnamed: 0  \\\n",
      "0             0       443.0   \n",
      "1             1         NaN   \n",
      "2             2      1366.0   \n",
      "3             3       259.0   \n",
      "4             4         NaN   \n",
      "\n",
      "                                             content       username  \\\n",
      "0  $BTC dominance about to dump, finally somethin...  TrueGemHunter   \n",
      "1                                                NaN            NaN   \n",
      "2  $HTML\\n\\nFuture of Website Building! Dextools ...    Crizalcalls   \n",
      "3  ✅ Elizabeth Warren declaring war on #crypto in...  coreycosta123   \n",
      "4                                                NaN            NaN   \n",
      "\n",
      "   sentiment                                    cleaned_content  \n",
      "0          1  $BTC dominance about to dump, finally somethin...  \n",
      "1          0  ['the us embassy is just selling all their # b...  \n",
      "2          1  $HTML Future of Website Building! Dextools Upd...  \n",
      "3          0   Elizabeth Warren declaring war on #crypto in ...  \n",
      "4          0  ['@ level39 dear @ senwarren # bitcoin this is...  \n"
     ]
    }
   ],
   "source": [
    "df_info(train_df)"
   ]
  },
  {
   "cell_type": "code",
   "execution_count": 5,
   "metadata": {},
   "outputs": [
    {
     "name": "stdout",
     "output_type": "stream",
     "text": [
      "shape of the datafreme: (500, 6)\n",
      "Number of empty values: 0\n",
      "<class 'pandas.core.frame.DataFrame'>\n",
      "RangeIndex: 500 entries, 0 to 499\n",
      "Data columns (total 6 columns):\n",
      " #   Column            Non-Null Count  Dtype \n",
      "---  ------            --------------  ----- \n",
      " 0   tweet ID          500 non-null    int64 \n",
      " 1   hashtags          500 non-null    object\n",
      " 2   content           500 non-null    object\n",
      " 3   username          500 non-null    object\n",
      " 4   user_displayname  500 non-null    object\n",
      " 5   sentiment         500 non-null    bool  \n",
      "dtypes: bool(1), int64(1), object(4)\n",
      "memory usage: 20.1+ KB\n",
      "None\n",
      "              tweet ID                                           hashtags  \\\n",
      "0  1641861708246552576                                      [crypto, btc]   \n",
      "1  1641861783898972167                                 [Bitcoin, Bitcoin]   \n",
      "2  1641862152532418562  [Giveaway, BTC, SolanaGiveaways, Giveaway, Air...   \n",
      "3  1641862338369183753  [EOS, USDT, BTC, crypto, Bitcoin, etherium, Bi...   \n",
      "4  1641862430434131968                        [BTC, ETH, BSC, GroveToken]   \n",
      "\n",
      "                                             content      username  \\\n",
      "0  #crypto $crypto #btc \\nI am Chinese crypto alp...     huahuayjy   \n",
      "1  #Bitcoin would have to fall another 80% to rea...  luke_broyles   \n",
      "2  #Giveaway $1000 Matic in 3Days\\n\\n🏆To win\\n1️⃣...  cryptomarsdo   \n",
      "3  Up or Down?\\n\\n!!! $EOS #EOS !!!\\n\\nVS\\n\\n$USD...  andreyukrnet   \n",
      "4  Mid Day Mix-up is LIVE! Never know who might s...    JustAman04   \n",
      "\n",
      "         user_displayname  sentiment  \n",
      "0  花花研究院 | Crypto Alpha🇨🇳       True  \n",
      "1            Luke Broyles      False  \n",
      "2             Crypto Mars       True  \n",
      "3          Andrey Ukraine       True  \n",
      "4         Justin Anderson       True  \n"
     ]
    }
   ],
   "source": [
    "df_info(test_df)"
   ]
  },
  {
   "cell_type": "code",
   "execution_count": 6,
   "metadata": {},
   "outputs": [],
   "source": [
    "# Dropping the unnecessary features.\n",
    "# Note: Although 'hashtags' feature is removed, hashtags in the tweet are differently handled in DataPreprocess class\n",
    "train_df = train_df.drop(['tweet ID', 'user_displayname', 'hashtags'], axis=1)\n",
    "test_df = test_df.drop(['tweet ID', 'user_displayname', 'hashtags'], axis=1)"
   ]
  },
  {
   "cell_type": "code",
   "execution_count": 6,
   "metadata": {},
   "outputs": [],
   "source": [
    "# Converting the sentiment labels from bool to int\n",
    "train_df['sentiment'] = train_df['sentiment'].astype(int)\n",
    "test_df['sentiment'] = test_df['sentiment'].astype(int)"
   ]
  },
  {
   "cell_type": "markdown",
   "metadata": {},
   "source": [
    "The DataPreprocessor class imported from DataPreprocess.py is an all in one class that has various methods required for processing the raw tweets before feeding them to any model. Methods are defined individually to foster flexibility, allowing customization of data perprocessing steps per the advantages and limitations of the specific model. At the same time, doing so improves both, redability of the code and understandability of the underlying process.\n",
    "\n",
    "Below is the description of each method briefing the logic and reason.\n",
    "\n",
    "1. **Remove_spam_content( )**<br>\n",
    "Tweets that are highly similar in their content (similarity>80%>) are removed. Bots often generate repeated content. I went through filtered out tweets and noticed that almost all of them were irrlevent to bitcoin and crypto.\n",
    "\n",
    "2. **Remove_hashtags( )**<br> \n",
    "Initially, I removed all hashtags from tweets, but later realized that complete removal is inappropriate as it causes relevant data loss. *This method retains top 30 most frequent hashtags as all of them are related to bitcoin and crypto. Noticed significant improvement in classification after its implementation.*\n",
    "\n",
    "3. **Remove_link( )**<br>\n",
    "Removes link(s) from the tweet, if any.\n",
    "\n",
    "4. **Remove_whitespace_html( )**<br>\n",
    "Removes all the whitespace and HTML tags from the tweet.\n",
    "\n",
    "5. **Remove_emojis( )**<br>\n",
    "Similar t hashtahs, but *only expression and emotion related emojis are retained while all others removed. The retained emojis are then demojized as the add sentiment to the tweet.*\n",
    "\n",
    "6. **Clean( )**<br>\n",
    "This method removes punctuations and stop words and applies lemmatization. *It's wrth to note that a significant performance improvement is observed when numbers and '$' character is retained in the tweet. This makes sense as the tweets are relaed to bitcoin and many of them have its price mentioned.*\n"
   ]
  },
  {
   "cell_type": "markdown",
   "metadata": {},
   "source": [
    "### A few trials"
   ]
  },
  {
   "cell_type": "code",
   "execution_count": 8,
   "metadata": {},
   "outputs": [],
   "source": [
    "# def extract_special_characters(text):\n",
    "#     # Regular expression to match special characters\n",
    "#     return re.findall(r'[^a-zA-Z0-9\\s]', text)\n",
    "\n",
    "# # Extract special characters from the selected column (e.g., 'content')\n",
    "# df = train_df.copy()\n",
    "# df['special_chars'] = df['content'].apply(extract_special_characters)\n",
    "\n",
    "# # Flatten the list of special characters and count their frequency\n",
    "# special_chars_list = df['special_chars'].sum()\n",
    "# special_chars_count = Counter(special_chars_list)\n",
    "\n",
    "# # Get the most common special characters\n",
    "# most_common_special_chars = special_chars_count.most_common()\n",
    "\n",
    "# # Display the results\n",
    "# for char, count in most_common_special_chars:\n",
    "#     print(f\"'{char}': {count}\")"
   ]
  },
  {
   "cell_type": "code",
   "execution_count": 9,
   "metadata": {},
   "outputs": [],
   "source": [
    "# def extract_emojis(text):\n",
    "#     return ''.join(char for char in text if char in emoji.EMOJI_DATA)\n",
    "\n",
    "# # Extract emojis from the selected column (e.g., 'content')\n",
    "# #column_to_use = 'cleaned_content' if 'cleaned_content' in df.columns else 'content'\n",
    "# df = train_df.copy()\n",
    "# df['emojis'] = df['content'].apply(extract_emojis)\n",
    "\n",
    "# # Flatten the list of emojis and count the frequency of each emoji\n",
    "# emoji_list = df['emojis'].sum()\n",
    "# emoji_count = Counter(emoji_list)\n",
    "\n",
    "# # Get the top 50 most used emojis\n",
    "# top_50_emojis = emoji_count.most_common(200)\n",
    "\n",
    "# # Display the results\n",
    "# for emoji_char, count in top_50_emojis:\n",
    "#     print(f\"{emoji_char}: {count}\")\n"
   ]
  },
  {
   "cell_type": "markdown",
   "metadata": {},
   "source": [
    "**NOTE: both the cleaned datasets above are still imbalanced with True values largly outnumbered than False. The imbalance needs to be taken care of by assigning class weights dring model training.**"
   ]
  },
  {
   "cell_type": "markdown",
   "metadata": {},
   "source": [
    "# 2. Benchmark: vaderSentiment Sentiment Dictionary"
   ]
  },
  {
   "cell_type": "markdown",
   "metadata": {},
   "source": [
    "For sentiment analysis using VADER, it's best to apply VADER to the raw, uncleaned text to leverage its strengths in handling informal language, punctuation, and emojis. However, when it comes to Links, it is best to remove them. Links are irrelevent to the sentiment and could add unnecessary noise, potentially influencing the sentiment. Also after multiple iterations, it was obseved that most of the emojis are adding no value but noise. Hence only expression specific emojis are retained and ret all are removed. "
   ]
  },
  {
   "cell_type": "markdown",
   "metadata": {},
   "source": [
    "The preprocessing flow for vaderSentiment\n",
    "- Remove spam tweets\n",
    "- Remove links\n",
    "- Remove unnecessary hashtags\n",
    "- Remove whitespace and HTML tags\n",
    "- Remove unnecessary emojis\n",
    "- Then apply vader sentiment dictionary on the cleaned tweets"
   ]
  },
  {
   "cell_type": "markdown",
   "metadata": {},
   "source": [
    "### 2.1. Getting the dataset ready for VaderSentiment"
   ]
  },
  {
   "cell_type": "code",
   "execution_count": 12,
   "metadata": {},
   "outputs": [],
   "source": [
    "vader_test_df = test_df.copy()\n",
    "\n",
    "# Initialize the DataPreprocessor class for vaderSentiment\n",
    "vader_test_datapreprocessor = DataPreprocessor(df=test_df, content_column='content')"
   ]
  },
  {
   "cell_type": "code",
   "execution_count": 13,
   "metadata": {},
   "outputs": [
    {
     "name": "stderr",
     "output_type": "stream",
     "text": [
      "c:\\Users\\Diya\\Documents\\GItHub\\DELTA_Element3\\DataPreprocess.py:114: MarkupResemblesLocatorWarning: The input looks more like a filename than markup. You may want to open this file and pass the filehandle into Beautiful Soup.\n",
      "  tweet = BeautifulSoup(tweet, 'html.parser').get_text()\n"
     ]
    }
   ],
   "source": [
    "# Getting the dataset ready by removing spam, unnecessary hashtags, links, whitespace, HTML tags and emojis\n",
    "vader_test_df = vader_test_datapreprocessor.preprocess( remove_spam=True,\n",
    "                                                        remove_hashtags=True, \n",
    "                                                        remove_link=True, \n",
    "                                                        remove_whitespace_html=True, \n",
    "                                                        remove_emoji=True )"
   ]
  },
  {
   "cell_type": "code",
   "execution_count": 14,
   "metadata": {},
   "outputs": [
    {
     "data": {
      "text/html": [
       "<div>\n",
       "<style scoped>\n",
       "    .dataframe tbody tr th:only-of-type {\n",
       "        vertical-align: middle;\n",
       "    }\n",
       "\n",
       "    .dataframe tbody tr th {\n",
       "        vertical-align: top;\n",
       "    }\n",
       "\n",
       "    .dataframe thead th {\n",
       "        text-align: right;\n",
       "    }\n",
       "</style>\n",
       "<table border=\"1\" class=\"dataframe\">\n",
       "  <thead>\n",
       "    <tr style=\"text-align: right;\">\n",
       "      <th></th>\n",
       "      <th>content</th>\n",
       "      <th>username</th>\n",
       "      <th>sentiment</th>\n",
       "      <th>cleaned_content</th>\n",
       "    </tr>\n",
       "  </thead>\n",
       "  <tbody>\n",
       "    <tr>\n",
       "      <th>0</th>\n",
       "      <td>#crypto $crypto #btc \\nI am Chinese crypto alp...</td>\n",
       "      <td>huahuayjy</td>\n",
       "      <td>1</td>\n",
       "      <td>#crypto $crypto #btc I am Chinese crypto alpha...</td>\n",
       "    </tr>\n",
       "    <tr>\n",
       "      <th>1</th>\n",
       "      <td>#Bitcoin would have to fall another 80% to rea...</td>\n",
       "      <td>luke_broyles</td>\n",
       "      <td>0</td>\n",
       "      <td>#Bitcoin would have to fall another 80% to rea...</td>\n",
       "    </tr>\n",
       "    <tr>\n",
       "      <th>2</th>\n",
       "      <td>#Giveaway $1000 Matic in 3Days\\n\\n🏆To win\\n1️⃣...</td>\n",
       "      <td>cryptomarsdo</td>\n",
       "      <td>1</td>\n",
       "      <td>#Giveaway $1000 Matic in 3Days To win  keycap_...</td>\n",
       "    </tr>\n",
       "    <tr>\n",
       "      <th>3</th>\n",
       "      <td>Up or Down?\\n\\n!!! $EOS #EOS !!!\\n\\nVS\\n\\n$USD...</td>\n",
       "      <td>andreyukrnet</td>\n",
       "      <td>1</td>\n",
       "      <td>Up or Down? !!! $EOS !!! VS $USDT #USDT AND $B...</td>\n",
       "    </tr>\n",
       "    <tr>\n",
       "      <th>4</th>\n",
       "      <td>Mid Day Mix-up is LIVE! Never know who might s...</td>\n",
       "      <td>JustAman04</td>\n",
       "      <td>1</td>\n",
       "      <td>Mid Day Mix-up is LIVE! Never know who might s...</td>\n",
       "    </tr>\n",
       "  </tbody>\n",
       "</table>\n",
       "</div>"
      ],
      "text/plain": [
       "                                             content      username  sentiment  \\\n",
       "0  #crypto $crypto #btc \\nI am Chinese crypto alp...     huahuayjy          1   \n",
       "1  #Bitcoin would have to fall another 80% to rea...  luke_broyles          0   \n",
       "2  #Giveaway $1000 Matic in 3Days\\n\\n🏆To win\\n1️⃣...  cryptomarsdo          1   \n",
       "3  Up or Down?\\n\\n!!! $EOS #EOS !!!\\n\\nVS\\n\\n$USD...  andreyukrnet          1   \n",
       "4  Mid Day Mix-up is LIVE! Never know who might s...    JustAman04          1   \n",
       "\n",
       "                                     cleaned_content  \n",
       "0  #crypto $crypto #btc I am Chinese crypto alpha...  \n",
       "1  #Bitcoin would have to fall another 80% to rea...  \n",
       "2  #Giveaway $1000 Matic in 3Days To win  keycap_...  \n",
       "3  Up or Down? !!! $EOS !!! VS $USDT #USDT AND $B...  \n",
       "4  Mid Day Mix-up is LIVE! Never know who might s...  "
      ]
     },
     "execution_count": 14,
     "metadata": {},
     "output_type": "execute_result"
    }
   ],
   "source": [
    "vader_test_df.head()"
   ]
  },
  {
   "cell_type": "code",
   "execution_count": 15,
   "metadata": {},
   "outputs": [
    {
     "data": {
      "text/plain": [
       "('🚨BREAKING NEWS🚨\\n\\nTron founder Justin Sun ( @justinsuntron ) makes a bold move and offers to purchase ALL 41,500 #Bitcoin from the US Government at a 10% discount! 💸\\n\\n💰 Is this the deal of the century? \\n\\nStay tuned to find out!\\n\\n#Crypto #BTC #Investment #USA #Tron #Bitcoin… https://t.co/F39PWK76xR',\n",
       " 'BREAKING NEWS Tron founder Justin Sun ( @justinsuntron ) makes a bold move and offers to purchase ALL 41,500 #Bitcoin from the US Government at a 10% discount!   Is this the deal of the century? Stay tuned to find out! #Crypto #BTC #Bitcoin…',\n",
       " 1)"
      ]
     },
     "execution_count": 15,
     "metadata": {},
     "output_type": "execute_result"
    }
   ],
   "source": [
    "# look over an example to see if the tweets are cleaned as expected\n",
    "index = 43\n",
    "vader_test_df['content'].iloc[index], vader_test_df['cleaned_content'].iloc[index], vader_test_df['sentiment'][index]"
   ]
  },
  {
   "cell_type": "markdown",
   "metadata": {},
   "source": [
    "### 2.2. Fitting the VaderSentiment on cleaned test data"
   ]
  },
  {
   "cell_type": "code",
   "execution_count": 16,
   "metadata": {},
   "outputs": [],
   "source": [
    "# Initialize the VADER sentiment analyzer\n",
    "analyzer = SentimentIntensityAnalyzer()\n",
    "\n",
    "# Function to apply VADER sentiment analysis and get the compound score\n",
    "def get_sentiment_score(text):\n",
    "    sentiment_dict = analyzer.polarity_scores(text)\n",
    "    return sentiment_dict['compound']  # 'compound' score is a normalized score between -1 (negative) and +1 (positive)\n",
    "\n",
    "# Apply sentiment analysis to the 'content' column and create a new column for the sentiment score\n",
    "vader_test_df['vader_sentiment'] = vader_test_df['cleaned_content'].apply(get_sentiment_score)\n",
    "\n",
    "# Classify the sentiment based on the compound score.\n",
    "# Threshold of -0.05 results in the best classification performance\n",
    "def classify_sentiment(score):\n",
    "    if score >= -0.05:\n",
    "        return True\n",
    "    else:\n",
    "        return False\n",
    "\n",
    "# Apply the classification and create a new column for the sentiment label\n",
    "vader_test_df['vader_sentiment_label'] = vader_test_df['vader_sentiment'].apply(classify_sentiment).astype(int)\n"
   ]
  },
  {
   "cell_type": "code",
   "execution_count": 17,
   "metadata": {},
   "outputs": [
    {
     "data": {
      "text/html": [
       "<div>\n",
       "<style scoped>\n",
       "    .dataframe tbody tr th:only-of-type {\n",
       "        vertical-align: middle;\n",
       "    }\n",
       "\n",
       "    .dataframe tbody tr th {\n",
       "        vertical-align: top;\n",
       "    }\n",
       "\n",
       "    .dataframe thead th {\n",
       "        text-align: right;\n",
       "    }\n",
       "</style>\n",
       "<table border=\"1\" class=\"dataframe\">\n",
       "  <thead>\n",
       "    <tr style=\"text-align: right;\">\n",
       "      <th></th>\n",
       "      <th>content</th>\n",
       "      <th>username</th>\n",
       "      <th>sentiment</th>\n",
       "      <th>cleaned_content</th>\n",
       "      <th>vader_sentiment</th>\n",
       "      <th>vader_sentiment_label</th>\n",
       "    </tr>\n",
       "  </thead>\n",
       "  <tbody>\n",
       "    <tr>\n",
       "      <th>0</th>\n",
       "      <td>#crypto $crypto #btc \\nI am Chinese crypto alp...</td>\n",
       "      <td>huahuayjy</td>\n",
       "      <td>1</td>\n",
       "      <td>#crypto $crypto #btc I am Chinese crypto alpha...</td>\n",
       "      <td>0.4835</td>\n",
       "      <td>1</td>\n",
       "    </tr>\n",
       "    <tr>\n",
       "      <th>1</th>\n",
       "      <td>#Bitcoin would have to fall another 80% to rea...</td>\n",
       "      <td>luke_broyles</td>\n",
       "      <td>0</td>\n",
       "      <td>#Bitcoin would have to fall another 80% to rea...</td>\n",
       "      <td>-0.8519</td>\n",
       "      <td>0</td>\n",
       "    </tr>\n",
       "    <tr>\n",
       "      <th>2</th>\n",
       "      <td>#Giveaway $1000 Matic in 3Days\\n\\n🏆To win\\n1️⃣...</td>\n",
       "      <td>cryptomarsdo</td>\n",
       "      <td>1</td>\n",
       "      <td>#Giveaway $1000 Matic in 3Days To win  keycap_...</td>\n",
       "      <td>0.8555</td>\n",
       "      <td>1</td>\n",
       "    </tr>\n",
       "    <tr>\n",
       "      <th>3</th>\n",
       "      <td>Up or Down?\\n\\n!!! $EOS #EOS !!!\\n\\nVS\\n\\n$USD...</td>\n",
       "      <td>andreyukrnet</td>\n",
       "      <td>1</td>\n",
       "      <td>Up or Down? !!! $EOS !!! VS $USDT #USDT AND $B...</td>\n",
       "      <td>0.0000</td>\n",
       "      <td>1</td>\n",
       "    </tr>\n",
       "    <tr>\n",
       "      <th>4</th>\n",
       "      <td>Mid Day Mix-up is LIVE! Never know who might s...</td>\n",
       "      <td>JustAman04</td>\n",
       "      <td>1</td>\n",
       "      <td>Mid Day Mix-up is LIVE! Never know who might s...</td>\n",
       "      <td>-0.4184</td>\n",
       "      <td>0</td>\n",
       "    </tr>\n",
       "  </tbody>\n",
       "</table>\n",
       "</div>"
      ],
      "text/plain": [
       "                                             content      username  sentiment  \\\n",
       "0  #crypto $crypto #btc \\nI am Chinese crypto alp...     huahuayjy          1   \n",
       "1  #Bitcoin would have to fall another 80% to rea...  luke_broyles          0   \n",
       "2  #Giveaway $1000 Matic in 3Days\\n\\n🏆To win\\n1️⃣...  cryptomarsdo          1   \n",
       "3  Up or Down?\\n\\n!!! $EOS #EOS !!!\\n\\nVS\\n\\n$USD...  andreyukrnet          1   \n",
       "4  Mid Day Mix-up is LIVE! Never know who might s...    JustAman04          1   \n",
       "\n",
       "                                     cleaned_content  vader_sentiment  \\\n",
       "0  #crypto $crypto #btc I am Chinese crypto alpha...           0.4835   \n",
       "1  #Bitcoin would have to fall another 80% to rea...          -0.8519   \n",
       "2  #Giveaway $1000 Matic in 3Days To win  keycap_...           0.8555   \n",
       "3  Up or Down? !!! $EOS !!! VS $USDT #USDT AND $B...           0.0000   \n",
       "4  Mid Day Mix-up is LIVE! Never know who might s...          -0.4184   \n",
       "\n",
       "   vader_sentiment_label  \n",
       "0                      1  \n",
       "1                      0  \n",
       "2                      1  \n",
       "3                      1  \n",
       "4                      0  "
      ]
     },
     "execution_count": 17,
     "metadata": {},
     "output_type": "execute_result"
    }
   ],
   "source": [
    "vader_test_df.head()"
   ]
  },
  {
   "cell_type": "markdown",
   "metadata": {},
   "source": [
    "### 2.3. Evaluating the vaderSentiment classification performance"
   ]
  },
  {
   "cell_type": "code",
   "execution_count": 18,
   "metadata": {},
   "outputs": [
    {
     "name": "stdout",
     "output_type": "stream",
     "text": [
      "Classification report:\n",
      "\n",
      "              precision    recall  f1-score   support\n",
      "\n",
      "           0       0.58      0.45      0.51        96\n",
      "           1       0.87      0.92      0.89       387\n",
      "\n",
      "    accuracy                           0.83       483\n",
      "   macro avg       0.73      0.68      0.70       483\n",
      "weighted avg       0.81      0.83      0.82       483\n",
      "\n"
     ]
    },
    {
     "data": {
      "image/png": "[encoded data removed]",
      "text/plain": [
       "<Figure size 500x300 with 2 Axes>"
      ]
     },
     "metadata": {},
     "output_type": "display_data"
    }
   ],
   "source": [
    "# Initializing the classification performance evaluator class for vader\n",
    "vader_performance_evaluator = ClassificationEvaluator(true_labels = vader_test_df['sentiment'], \n",
    "                                                      predicted_labels = vader_test_df['vader_sentiment_label'])\n",
    "\n",
    "vader_performance_evaluator.evaluate()\n",
    "vader_performance_evaluator.plot_confusion_matrix()"
   ]
  },
  {
   "cell_type": "markdown",
   "metadata": {},
   "source": [
    "- VaderSentiment is better off in identifying positive sentiments.\n",
    "- Recall 92% indicates model captures most of the positive tweets.\n",
    "- This is expected anyways, since the dataset is imbalanced."
   ]
  },
  {
   "cell_type": "markdown",
   "metadata": {},
   "source": [
    "# 3. RNN "
   ]
  },
  {
   "cell_type": "markdown",
   "metadata": {},
   "source": [
    "### 3.1. Getting the dataset ready for training the embeddings"
   ]
  },
  {
   "cell_type": "markdown",
   "metadata": {},
   "source": [
    "- retain the stop words"
   ]
  },
  {
   "cell_type": "code",
   "execution_count": 9,
   "metadata": {},
   "outputs": [],
   "source": [
    "# Initialize the DataPreprocessor class for DistilBERT\n",
    "rnn_train_datapreprocessor = DataPreprocessor(df=train_df, content_column='content')\n",
    "rnn_test_datapreprocessor = DataPreprocessor(df=test_df, content_column='content')"
   ]
  },
  {
   "cell_type": "code",
   "execution_count": 10,
   "metadata": {},
   "outputs": [
    {
     "name": "stderr",
     "output_type": "stream",
     "text": [
      "[nltk_data] Downloading package stopwords to\n",
      "[nltk_data]     C:\\Users\\Diya\\AppData\\Roaming\\nltk_data...\n",
      "[nltk_data]   Package stopwords is already up-to-date!\n",
      "c:\\Users\\Diya\\Documents\\GItHub\\DELTA_Element3\\Data_Preprocess.py:114: MarkupResemblesLocatorWarning: The input looks more like a filename than markup. You may want to open this file and pass the filehandle into Beautiful Soup.\n",
      "  tweet = BeautifulSoup(tweet, 'html.parser').get_text()\n",
      "[nltk_data] Downloading package stopwords to\n",
      "[nltk_data]     C:\\Users\\Diya\\AppData\\Roaming\\nltk_data...\n",
      "[nltk_data]   Package stopwords is already up-to-date!\n"
     ]
    }
   ],
   "source": [
    "rnn_train_df = rnn_train_datapreprocessor.preprocess(clean_text=True) #remove_spam=True, remove_hashtags=True, remove_link=True, remove_whitespace_html=True, remove_emoji=True, clean_text=True)\n",
    "rnn_test_df = rnn_test_datapreprocessor.preprocess(remove_spam=True, remove_hashtags=True, remove_link=True, remove_whitespace_html=True, remove_emoji=True, clean_text=True)"
   ]
  },
  {
   "cell_type": "code",
   "execution_count": 15,
   "metadata": {},
   "outputs": [
    {
     "data": {
      "text/plain": [
       "(\"Monday April 3 @PubKey_NYC \\n\\nYou got @arbedout &amp; @tpacchia literally telling you how to change #Bitcoin and you haven't RSVPed yet, anon?\\n\\nhttps://t.co/jfD3TbgASF\",\n",
       " 'monday april 3 pubkeynyc you got arbedout tpacchia literally telling you how to change bitcoin and you havent rsvped yet anon',\n",
       " 0)"
      ]
     },
     "execution_count": 15,
     "metadata": {},
     "output_type": "execute_result"
    }
   ],
   "source": [
    "i = 43\n",
    "rnn_train_df['content'][i], rnn_train_df['cleaned_content'][i], rnn_train_df['sentiment'][i]"
   ]
  },
  {
   "cell_type": "code",
   "execution_count": 16,
   "metadata": {},
   "outputs": [
    {
     "data": {
      "text/html": [
       "<div>\n",
       "<style scoped>\n",
       "    .dataframe tbody tr th:only-of-type {\n",
       "        vertical-align: middle;\n",
       "    }\n",
       "\n",
       "    .dataframe tbody tr th {\n",
       "        vertical-align: top;\n",
       "    }\n",
       "\n",
       "    .dataframe thead th {\n",
       "        text-align: right;\n",
       "    }\n",
       "</style>\n",
       "<table border=\"1\" class=\"dataframe\">\n",
       "  <thead>\n",
       "    <tr style=\"text-align: right;\">\n",
       "      <th></th>\n",
       "      <th>Unnamed: 0.1</th>\n",
       "      <th>Unnamed: 0</th>\n",
       "      <th>content</th>\n",
       "      <th>username</th>\n",
       "      <th>sentiment</th>\n",
       "      <th>cleaned_content</th>\n",
       "    </tr>\n",
       "  </thead>\n",
       "  <tbody>\n",
       "    <tr>\n",
       "      <th>0</th>\n",
       "      <td>0</td>\n",
       "      <td>443.0</td>\n",
       "      <td>$BTC dominance about to dump, finally somethin...</td>\n",
       "      <td>TrueGemHunter</td>\n",
       "      <td>1</td>\n",
       "      <td>$ btc dominance about to dump finally somethin...</td>\n",
       "    </tr>\n",
       "    <tr>\n",
       "      <th>1</th>\n",
       "      <td>1</td>\n",
       "      <td>NaN</td>\n",
       "      <td>NaN</td>\n",
       "      <td>NaN</td>\n",
       "      <td>0</td>\n",
       "      <td>the u embassy is just selling all their btc ta...</td>\n",
       "    </tr>\n",
       "    <tr>\n",
       "      <th>2</th>\n",
       "      <td>2</td>\n",
       "      <td>1366.0</td>\n",
       "      <td>$HTML\\n\\nFuture of Website Building! Dextools ...</td>\n",
       "      <td>Crizalcalls</td>\n",
       "      <td>1</td>\n",
       "      <td>$ html future of website building dextools upd...</td>\n",
       "    </tr>\n",
       "    <tr>\n",
       "      <th>3</th>\n",
       "      <td>3</td>\n",
       "      <td>259.0</td>\n",
       "      <td>✅ Elizabeth Warren declaring war on #crypto in...</td>\n",
       "      <td>coreycosta123</td>\n",
       "      <td>0</td>\n",
       "      <td>elizabeth warren declaring war on crypto in he...</td>\n",
       "    </tr>\n",
       "    <tr>\n",
       "      <th>4</th>\n",
       "      <td>4</td>\n",
       "      <td>NaN</td>\n",
       "      <td>NaN</td>\n",
       "      <td>NaN</td>\n",
       "      <td>0</td>\n",
       "      <td>level39 dear senwarren bitcoin this is not bad...</td>\n",
       "    </tr>\n",
       "  </tbody>\n",
       "</table>\n",
       "</div>"
      ],
      "text/plain": [
       "   Unnamed: 0.1  Unnamed: 0  \\\n",
       "0             0       443.0   \n",
       "1             1         NaN   \n",
       "2             2      1366.0   \n",
       "3             3       259.0   \n",
       "4             4         NaN   \n",
       "\n",
       "                                             content       username  \\\n",
       "0  $BTC dominance about to dump, finally somethin...  TrueGemHunter   \n",
       "1                                                NaN            NaN   \n",
       "2  $HTML\\n\\nFuture of Website Building! Dextools ...    Crizalcalls   \n",
       "3  ✅ Elizabeth Warren declaring war on #crypto in...  coreycosta123   \n",
       "4                                                NaN            NaN   \n",
       "\n",
       "   sentiment                                    cleaned_content  \n",
       "0          1  $ btc dominance about to dump finally somethin...  \n",
       "1          0  the u embassy is just selling all their btc ta...  \n",
       "2          1  $ html future of website building dextools upd...  \n",
       "3          0  elizabeth warren declaring war on crypto in he...  \n",
       "4          0  level39 dear senwarren bitcoin this is not bad...  "
      ]
     },
     "execution_count": 16,
     "metadata": {},
     "output_type": "execute_result"
    }
   ],
   "source": [
    "rnn_train_df.head()"
   ]
  },
  {
   "cell_type": "markdown",
   "metadata": {},
   "source": [
    "### 3.2. Training the FastText embeddings"
   ]
  },
  {
   "cell_type": "code",
   "execution_count": 17,
   "metadata": {},
   "outputs": [
    {
     "name": "stderr",
     "output_type": "stream",
     "text": [
      "[nltk_data] Downloading package punkt to\n",
      "[nltk_data]     C:\\Users\\Diya\\AppData\\Roaming\\nltk_data...\n",
      "[nltk_data]   Package punkt is already up-to-date!\n",
      "[nltk_data] Downloading package wordnet to\n",
      "[nltk_data]     C:\\Users\\Diya\\AppData\\Roaming\\nltk_data...\n",
      "[nltk_data]   Package wordnet is already up-to-date!\n"
     ]
    },
    {
     "data": {
      "text/plain": [
       "True"
      ]
     },
     "execution_count": 17,
     "metadata": {},
     "output_type": "execute_result"
    }
   ],
   "source": [
    "nltk.download('punkt')\n",
    "nltk.download('wordnet')"
   ]
  },
  {
   "cell_type": "code",
   "execution_count": 18,
   "metadata": {},
   "outputs": [],
   "source": [
    "# Tokenize the cleaned tweets (split by spaces)\n",
    "tokenized_tweets = [tweet.split() for tweet in rnn_train_df['cleaned_content']]\n",
    "\n",
    "# Train FastText model using Gensim's implementation\n",
    "fasttext_model = FastText(sentences=tokenized_tweets, vector_size=50, window=5, min_count=1, sg=0, epochs=10)\n",
    "\n",
    "# Save the model\n",
    "#fasttext_model.save(\"fasttext_vs50.model\")\n",
    "\n",
    "# Load the model (for future use)\n",
    "#fasttext_model = FastText.load(\"fasttext_vs50.model\")"
   ]
  },
  {
   "cell_type": "code",
   "execution_count": 25,
   "metadata": {},
   "outputs": [
    {
     "name": "stdout",
     "output_type": "stream",
     "text": [
      "Vector for 'bitcoin': [-0.7462917  -0.1547877   0.8550019  -0.00572459 -0.74927485  0.16655871\n",
      " -1.1898413   1.1516181  -0.7010081   0.7355806   0.9997075  -0.07384373\n",
      "  0.652238   -0.5498794  -0.514207    1.478595    0.85175705 -1.0318505\n",
      " -1.1096131  -0.96385473 -0.39946282  0.7417136   0.35058436  0.6129817\n",
      "  0.31800032  0.67708856 -1.022326    0.12649255 -1.1333061   0.43851632\n",
      "  2.0460682   0.5114148  -0.6536693   1.7598643   0.00857843  0.5464688\n",
      " -0.31911486  0.19682886  0.00350784 -0.02400152  0.39999673  1.0152947\n",
      " -0.469352    1.1571726   0.6467812  -1.9454188   0.9541514   0.03775151\n",
      " -0.10713018  1.2694911 ]\n",
      "Words similar to 'bitcoin': [('bitcoinfrogs', 0.9999935626983643), ('swanbitcoin', 0.9999934434890747), ('bitcoinbaytpa', 0.9999919533729553), ('bitcoincows', 0.9999915957450867), ('bitcoinjunglecr', 0.9999904632568359), ('bitcoinpunks', 0.9999889731407166), ('bitcoinlivedb', 0.999988853931427), ('bitcoinwith', 0.9999847412109375), ('bitcoinapes', 0.9999834895133972), ('pacificbitcoin', 0.9999833703041077)]\n"
     ]
    }
   ],
   "source": [
    "# Example: Get vector for a word \n",
    "print(f\"Vector for 'bitcoin': {fasttext_model.wv['bitcoin']}\")\n",
    "\n",
    "# Example: Get most similar words\n",
    "print(f\"Words similar to 'bitcoin': {fasttext_model.wv.most_similar('bitcoin')}\")"
   ]
  },
  {
   "cell_type": "markdown",
   "metadata": {},
   "source": [
    "### 3.3. Building and Training the RNN model"
   ]
  },
  {
   "cell_type": "markdown",
   "metadata": {},
   "source": [
    "Tweet length plot to decide on sequence length."
   ]
  },
  {
   "cell_type": "code",
   "execution_count": 22,
   "metadata": {},
   "outputs": [
    {
     "data": {
      "image/png": "[encoded data removed]",
      "text/plain": [
       "<Figure size 600x300 with 1 Axes>"
      ]
     },
     "metadata": {},
     "output_type": "display_data"
    }
   ],
   "source": [
    "# List of tweets to be used for rnn training\n",
    "tweets = rnn_train_df['cleaned_content'].to_list()\n",
    "\n",
    "# Tokenize each tweet to calculate its length\n",
    "tweet_lengths = [len(word_tokenize(tweet)) for tweet in tweets]\n",
    "\n",
    "# Plot for the tweet length distribution\n",
    "plt.figure(figsize=(6, 3))\n",
    "sns.histplot(tweet_lengths, bins=20, kde=True, color='grey')\n",
    "plt.title('Tweet Length Distribution')\n",
    "plt.xlabel('Number of Tokens')\n",
    "plt.ylabel('Frequency')\n",
    "plt.grid(axis='y', linestyle='--', alpha=0.7)\n",
    "plt.show()\n"
   ]
  },
  {
   "cell_type": "markdown",
   "metadata": {},
   "source": [
    "Sequence length of 50 farly covers all the tweets."
   ]
  },
  {
   "cell_type": "code",
   "execution_count": 23,
   "metadata": {},
   "outputs": [],
   "source": [
    "# Parameters\n",
    "max_sequence_length = 65\n",
    "embedding_dim = 50\n",
    "embedding_matrix = fasttext_model.wv.vectors # embedding matrix to be passed as trained weights in the RNN embedding layer\n",
    "vocab_size = len(fasttext_model.wv)"
   ]
  },
  {
   "cell_type": "code",
   "execution_count": 28,
   "metadata": {},
   "outputs": [],
   "source": [
    "#fasttext_model.wv.vector_size, len(tokenizer.word_counts), vocab_size, tokenizer.word_index.items()"
   ]
  },
  {
   "cell_type": "code",
   "execution_count": 24,
   "metadata": {},
   "outputs": [],
   "source": [
    "# Tokenize the tweets\n",
    "tokenizer = Tokenizer(num_words=vocab_size, oov_token='OOV')\n",
    "tokenizer.fit_on_texts(rnn_train_df['cleaned_content'])\n",
    "\n",
    "# sequences are tweets transformed into arrays where each word is sequentially replaced by a number which corresponds to the index of that word in the vocabulary\n",
    "train_sequences = tokenizer.texts_to_sequences(rnn_train_df['cleaned_content']) \n",
    "padded_train_sequences = pad_sequences(train_sequences, maxlen=max_sequence_length, padding='post')\n",
    "\n",
    "test_sequences = tokenizer.texts_to_sequences(rnn_test_df['cleaned_content'])\n",
    "padded_test_sequences = pad_sequences(test_sequences, maxlen=max_sequence_length, padding='post')"
   ]
  },
  {
   "cell_type": "code",
   "execution_count": 30,
   "metadata": {},
   "outputs": [
    {
     "data": {
      "text/plain": [
       "array([[  13,   13,    5, ...,    0,    0,    0],\n",
       "       [   3,  167,   34, ...,    8, 4777,    0],\n",
       "       [ 122,  377,  471, ...,    0,    0,    0],\n",
       "       ...,\n",
       "       [   1,    1, 2960, ...,    0,    0,    0],\n",
       "       [ 356,  542,  685, ...,    0,    0,    0],\n",
       "       [  88,  336,  270, ...,    0,    0,    0]])"
      ]
     },
     "execution_count": 30,
     "metadata": {},
     "output_type": "execute_result"
    }
   ],
   "source": [
    "padded_test_sequences"
   ]
  },
  {
   "cell_type": "code",
   "execution_count": 25,
   "metadata": {},
   "outputs": [
    {
     "data": {
      "text/plain": [
       "((2438, 65), (2438,))"
      ]
     },
     "execution_count": 25,
     "metadata": {},
     "output_type": "execute_result"
    }
   ],
   "source": [
    "# Dimension check\n",
    "padded_train_sequences.shape, rnn_train_df['sentiment'].shape"
   ]
  },
  {
   "cell_type": "code",
   "execution_count": 26,
   "metadata": {},
   "outputs": [],
   "source": [
    "# Split the data to training and validation\n",
    "X_train, X_val, y_train, y_val = train_test_split(padded_train_sequences, rnn_train_df['sentiment'], test_size = 0.2, random_state = 9)\n",
    "# Changing the dtype from series to array\n",
    "y_train = y_train.to_numpy()\n",
    "y_val = y_val.to_numpy()\n",
    "\n",
    "# Preparing the test data\n",
    "rnn_X_test = padded_test_sequences\n",
    "rnn_y_test = rnn_test_df['sentiment'].to_numpy()"
   ]
  },
  {
   "cell_type": "code",
   "execution_count": 27,
   "metadata": {},
   "outputs": [
    {
     "data": {
      "text/plain": [
       "{0: 0.9475218658892128, 1: 1.0586319218241043}"
      ]
     },
     "execution_count": 27,
     "metadata": {},
     "output_type": "execute_result"
    }
   ],
   "source": [
    "# Calculate the class weights to handle imbalance\n",
    "class_weights = class_weight.compute_class_weight(class_weight='balanced', classes=np.unique(y_train), y=y_train)\n",
    "class_weights = dict(enumerate(class_weights))\n",
    "class_weights"
   ]
  },
  {
   "cell_type": "code",
   "execution_count": 28,
   "metadata": {},
   "outputs": [],
   "source": [
    "# Build the RNN model\n",
    "def build_rnn_model(embd_dim, rnn_type='LSTM', bidirectional=False):\n",
    "    model = Sequential()\n",
    "    model.add(Input(shape=(max_sequence_length,)))\n",
    "    model.add(Embedding(input_dim = vocab_size, \n",
    "                        output_dim = embd_dim, \n",
    "                        weights=[embedding_matrix],  \n",
    "                        trainable=False))\n",
    "    \n",
    "    if rnn_type == 'LSTM':\n",
    "        rnn_layer = LSTM(units = 64, return_sequences = False, kernel_regularizer=l2(0.02))\n",
    "    elif rnn_type == 'GRU':\n",
    "        rnn_layer = GRU(units = 64, return_sequences= False, kernel_regularizer=l2(0.02))\n",
    "        \n",
    "    if bidirectional:\n",
    "        model.add(Bidirectional(rnn_layer))\n",
    "    else:\n",
    "        model.add(rnn_layer)\n",
    "        \n",
    "    model.add(Dropout(0.2))\n",
    "    model.add(Dense(1, activation = 'sigmoid', kernel_regularizer=l2(0.02)))\n",
    "    \n",
    "    model.compile(optimizer=Adam(learning_rate=0.000196), loss='binary_crossentropy', metrics=['accuracy']) #, ['accuracy'], Precision(), , AUC(), Recall())\n",
    "    return model"
   ]
  },
  {
   "cell_type": "code",
   "execution_count": 29,
   "metadata": {},
   "outputs": [
    {
     "data": {
      "text/html": [
       "<pre style=\"white-space:pre;overflow-x:auto;line-height:normal;font-family:Menlo,'DejaVu Sans Mono',consolas,'Courier New',monospace\"><span style=\"font-weight: bold\">Model: \"sequential\"</span>\n",
       "</pre>\n"
      ],
      "text/plain": [
       "\u001b[1mModel: \"sequential\"\u001b[0m\n"
      ]
     },
     "metadata": {},
     "output_type": "display_data"
    },
    {
     "data": {
      "text/html": [
       "<pre style=\"white-space:pre;overflow-x:auto;line-height:normal;font-family:Menlo,'DejaVu Sans Mono',consolas,'Courier New',monospace\">┏━━━━━━━━━━━━━━━━━━━━━━━━━━━━━━━━━┳━━━━━━━━━━━━━━━━━━━━━━━━┳━━━━━━━━━━━━━━━┓\n",
       "┃<span style=\"font-weight: bold\"> Layer (type)                    </span>┃<span style=\"font-weight: bold\"> Output Shape           </span>┃<span style=\"font-weight: bold\">       Param # </span>┃\n",
       "┡━━━━━━━━━━━━━━━━━━━━━━━━━━━━━━━━━╇━━━━━━━━━━━━━━━━━━━━━━━━╇━━━━━━━━━━━━━━━┩\n",
       "│ embedding (<span style=\"color: #0087ff; text-decoration-color: #0087ff\">Embedding</span>)           │ (<span style=\"color: #00d7ff; text-decoration-color: #00d7ff\">None</span>, <span style=\"color: #00af00; text-decoration-color: #00af00\">65</span>, <span style=\"color: #00af00; text-decoration-color: #00af00\">50</span>)         │       <span style=\"color: #00af00; text-decoration-color: #00af00\">337,700</span> │\n",
       "├─────────────────────────────────┼────────────────────────┼───────────────┤\n",
       "│ lstm (<span style=\"color: #0087ff; text-decoration-color: #0087ff\">LSTM</span>)                     │ (<span style=\"color: #00d7ff; text-decoration-color: #00d7ff\">None</span>, <span style=\"color: #00af00; text-decoration-color: #00af00\">64</span>)             │        <span style=\"color: #00af00; text-decoration-color: #00af00\">29,440</span> │\n",
       "├─────────────────────────────────┼────────────────────────┼───────────────┤\n",
       "│ dropout (<span style=\"color: #0087ff; text-decoration-color: #0087ff\">Dropout</span>)               │ (<span style=\"color: #00d7ff; text-decoration-color: #00d7ff\">None</span>, <span style=\"color: #00af00; text-decoration-color: #00af00\">64</span>)             │             <span style=\"color: #00af00; text-decoration-color: #00af00\">0</span> │\n",
       "├─────────────────────────────────┼────────────────────────┼───────────────┤\n",
       "│ dense (<span style=\"color: #0087ff; text-decoration-color: #0087ff\">Dense</span>)                   │ (<span style=\"color: #00d7ff; text-decoration-color: #00d7ff\">None</span>, <span style=\"color: #00af00; text-decoration-color: #00af00\">1</span>)              │            <span style=\"color: #00af00; text-decoration-color: #00af00\">65</span> │\n",
       "└─────────────────────────────────┴────────────────────────┴───────────────┘\n",
       "</pre>\n"
      ],
      "text/plain": [
       "┏━━━━━━━━━━━━━━━━━━━━━━━━━━━━━━━━━┳━━━━━━━━━━━━━━━━━━━━━━━━┳━━━━━━━━━━━━━━━┓\n",
       "┃\u001b[1m \u001b[0m\u001b[1mLayer (type)                   \u001b[0m\u001b[1m \u001b[0m┃\u001b[1m \u001b[0m\u001b[1mOutput Shape          \u001b[0m\u001b[1m \u001b[0m┃\u001b[1m \u001b[0m\u001b[1m      Param #\u001b[0m\u001b[1m \u001b[0m┃\n",
       "┡━━━━━━━━━━━━━━━━━━━━━━━━━━━━━━━━━╇━━━━━━━━━━━━━━━━━━━━━━━━╇━━━━━━━━━━━━━━━┩\n",
       "│ embedding (\u001b[38;5;33mEmbedding\u001b[0m)           │ (\u001b[38;5;45mNone\u001b[0m, \u001b[38;5;34m65\u001b[0m, \u001b[38;5;34m50\u001b[0m)         │       \u001b[38;5;34m337,700\u001b[0m │\n",
       "├─────────────────────────────────┼────────────────────────┼───────────────┤\n",
       "│ lstm (\u001b[38;5;33mLSTM\u001b[0m)                     │ (\u001b[38;5;45mNone\u001b[0m, \u001b[38;5;34m64\u001b[0m)             │        \u001b[38;5;34m29,440\u001b[0m │\n",
       "├─────────────────────────────────┼────────────────────────┼───────────────┤\n",
       "│ dropout (\u001b[38;5;33mDropout\u001b[0m)               │ (\u001b[38;5;45mNone\u001b[0m, \u001b[38;5;34m64\u001b[0m)             │             \u001b[38;5;34m0\u001b[0m │\n",
       "├─────────────────────────────────┼────────────────────────┼───────────────┤\n",
       "│ dense (\u001b[38;5;33mDense\u001b[0m)                   │ (\u001b[38;5;45mNone\u001b[0m, \u001b[38;5;34m1\u001b[0m)              │            \u001b[38;5;34m65\u001b[0m │\n",
       "└─────────────────────────────────┴────────────────────────┴───────────────┘\n"
      ]
     },
     "metadata": {},
     "output_type": "display_data"
    },
    {
     "data": {
      "text/html": [
       "<pre style=\"white-space:pre;overflow-x:auto;line-height:normal;font-family:Menlo,'DejaVu Sans Mono',consolas,'Courier New',monospace\"><span style=\"font-weight: bold\"> Total params: </span><span style=\"color: #00af00; text-decoration-color: #00af00\">367,205</span> (1.40 MB)\n",
       "</pre>\n"
      ],
      "text/plain": [
       "\u001b[1m Total params: \u001b[0m\u001b[38;5;34m367,205\u001b[0m (1.40 MB)\n"
      ]
     },
     "metadata": {},
     "output_type": "display_data"
    },
    {
     "data": {
      "text/html": [
       "<pre style=\"white-space:pre;overflow-x:auto;line-height:normal;font-family:Menlo,'DejaVu Sans Mono',consolas,'Courier New',monospace\"><span style=\"font-weight: bold\"> Trainable params: </span><span style=\"color: #00af00; text-decoration-color: #00af00\">29,505</span> (115.25 KB)\n",
       "</pre>\n"
      ],
      "text/plain": [
       "\u001b[1m Trainable params: \u001b[0m\u001b[38;5;34m29,505\u001b[0m (115.25 KB)\n"
      ]
     },
     "metadata": {},
     "output_type": "display_data"
    },
    {
     "data": {
      "text/html": [
       "<pre style=\"white-space:pre;overflow-x:auto;line-height:normal;font-family:Menlo,'DejaVu Sans Mono',consolas,'Courier New',monospace\"><span style=\"font-weight: bold\"> Non-trainable params: </span><span style=\"color: #00af00; text-decoration-color: #00af00\">337,700</span> (1.29 MB)\n",
       "</pre>\n"
      ],
      "text/plain": [
       "\u001b[1m Non-trainable params: \u001b[0m\u001b[38;5;34m337,700\u001b[0m (1.29 MB)\n"
      ]
     },
     "metadata": {},
     "output_type": "display_data"
    }
   ],
   "source": [
    "# Initialize the model\n",
    "model = build_rnn_model(embd_dim=embedding_dim, rnn_type='LSTM', bidirectional=False)\n",
    "model.summary()"
   ]
  },
  {
   "cell_type": "code",
   "execution_count": 34,
   "metadata": {},
   "outputs": [
    {
     "name": "stdout",
     "output_type": "stream",
     "text": [
      "Epoch 1/80\n",
      "\u001b[1m61/61\u001b[0m \u001b[32m━━━━━━━━━━━━━━━━━━━━\u001b[0m\u001b[37m\u001b[0m \u001b[1m1s\u001b[0m 16ms/step - accuracy: 0.6549 - loss: 0.6603 - val_accuracy: 0.6455 - val_loss: 0.6795\n",
      "Epoch 2/80\n",
      "\u001b[1m61/61\u001b[0m \u001b[32m━━━━━━━━━━━━━━━━━━━━\u001b[0m\u001b[37m\u001b[0m \u001b[1m1s\u001b[0m 15ms/step - accuracy: 0.6494 - loss: 0.6595 - val_accuracy: 0.6455 - val_loss: 0.6789\n",
      "Epoch 3/80\n",
      "\u001b[1m61/61\u001b[0m \u001b[32m━━━━━━━━━━━━━━━━━━━━\u001b[0m\u001b[37m\u001b[0m \u001b[1m1s\u001b[0m 15ms/step - accuracy: 0.6612 - loss: 0.6633 - val_accuracy: 0.6557 - val_loss: 0.6681\n",
      "Epoch 4/80\n",
      "\u001b[1m61/61\u001b[0m \u001b[32m━━━━━━━━━━━━━━━━━━━━\u001b[0m\u001b[37m\u001b[0m \u001b[1m1s\u001b[0m 15ms/step - accuracy: 0.6728 - loss: 0.6500 - val_accuracy: 0.6660 - val_loss: 0.6648\n",
      "Epoch 5/80\n",
      "\u001b[1m61/61\u001b[0m \u001b[32m━━━━━━━━━━━━━━━━━━━━\u001b[0m\u001b[37m\u001b[0m \u001b[1m1s\u001b[0m 16ms/step - accuracy: 0.6573 - loss: 0.6592 - val_accuracy: 0.6701 - val_loss: 0.6635\n",
      "Epoch 6/80\n",
      "\u001b[1m61/61\u001b[0m \u001b[32m━━━━━━━━━━━━━━━━━━━━\u001b[0m\u001b[37m\u001b[0m \u001b[1m1s\u001b[0m 15ms/step - accuracy: 0.6761 - loss: 0.6474 - val_accuracy: 0.6783 - val_loss: 0.6644\n",
      "Epoch 7/80\n",
      "\u001b[1m61/61\u001b[0m \u001b[32m━━━━━━━━━━━━━━━━━━━━\u001b[0m\u001b[37m\u001b[0m \u001b[1m1s\u001b[0m 15ms/step - accuracy: 0.6572 - loss: 0.6512 - val_accuracy: 0.6701 - val_loss: 0.6609\n",
      "Epoch 8/80\n",
      "\u001b[1m61/61\u001b[0m \u001b[32m━━━━━━━━━━━━━━━━━━━━\u001b[0m\u001b[37m\u001b[0m \u001b[1m1s\u001b[0m 15ms/step - accuracy: 0.6586 - loss: 0.6545 - val_accuracy: 0.6680 - val_loss: 0.6589\n",
      "Epoch 9/80\n",
      "\u001b[1m61/61\u001b[0m \u001b[32m━━━━━━━━━━━━━━━━━━━━\u001b[0m\u001b[37m\u001b[0m \u001b[1m1s\u001b[0m 16ms/step - accuracy: 0.6619 - loss: 0.6510 - val_accuracy: 0.6803 - val_loss: 0.6571\n",
      "Epoch 10/80\n",
      "\u001b[1m61/61\u001b[0m \u001b[32m━━━━━━━━━━━━━━━━━━━━\u001b[0m\u001b[37m\u001b[0m \u001b[1m1s\u001b[0m 16ms/step - accuracy: 0.6554 - loss: 0.6534 - val_accuracy: 0.6578 - val_loss: 0.6586\n",
      "Epoch 11/80\n",
      "\u001b[1m61/61\u001b[0m \u001b[32m━━━━━━━━━━━━━━━━━━━━\u001b[0m\u001b[37m\u001b[0m \u001b[1m1s\u001b[0m 16ms/step - accuracy: 0.6605 - loss: 0.6433 - val_accuracy: 0.6680 - val_loss: 0.6616\n",
      "Epoch 12/80\n",
      "\u001b[1m61/61\u001b[0m \u001b[32m━━━━━━━━━━━━━━━━━━━━\u001b[0m\u001b[37m\u001b[0m \u001b[1m1s\u001b[0m 15ms/step - accuracy: 0.6443 - loss: 0.6599 - val_accuracy: 0.6455 - val_loss: 0.6672\n"
     ]
    }
   ],
   "source": [
    "# Train the model\n",
    "early_stopping = EarlyStopping(monitor='val_loss', patience=3, restore_best_weights=True)\n",
    "history = model.fit(X_train, y_train, epochs=80, batch_size=32, validation_data=(X_val, y_val), class_weight=class_weights, callbacks=[early_stopping])"
   ]
  },
  {
   "cell_type": "code",
   "execution_count": 35,
   "metadata": {},
   "outputs": [
    {
     "name": "stdout",
     "output_type": "stream",
     "text": [
      "\u001b[1m16/16\u001b[0m \u001b[32m━━━━━━━━━━━━━━━━━━━━\u001b[0m\u001b[37m\u001b[0m \u001b[1m0s\u001b[0m 7ms/step - accuracy: 0.6799 - loss: 0.7056\n"
     ]
    }
   ],
   "source": [
    "# Evaluate the model\n",
    "loss, accuracy = model.evaluate(rnn_X_test, rnn_y_test)"
   ]
  },
  {
   "cell_type": "code",
   "execution_count": 36,
   "metadata": {},
   "outputs": [
    {
     "name": "stdout",
     "output_type": "stream",
     "text": [
      "\u001b[1m16/16\u001b[0m \u001b[32m━━━━━━━━━━━━━━━━━━━━\u001b[0m\u001b[37m\u001b[0m \u001b[1m0s\u001b[0m 6ms/step\n"
     ]
    }
   ],
   "source": [
    "# Predicting sentiments on new tweets\n",
    "rnn_predictions = model.predict(rnn_X_test)\n",
    "# Convert probabilities to binary predictions\n",
    "rnn_predictions_discrete = (rnn_predictions >= 0.5).astype(int)  "
   ]
  },
  {
   "cell_type": "code",
   "execution_count": 39,
   "metadata": {},
   "outputs": [],
   "source": [
    "# u = 24\n",
    "# rnn_predictions[u], rnn_predictions_discrete[u], rnn_y_test[u], rnn_test_df['cleaned_content'].iloc[u]"
   ]
  },
  {
   "cell_type": "code",
   "execution_count": 40,
   "metadata": {},
   "outputs": [],
   "source": [
    "#rnn_predictions"
   ]
  },
  {
   "cell_type": "code",
   "execution_count": 37,
   "metadata": {},
   "outputs": [
    {
     "name": "stdout",
     "output_type": "stream",
     "text": [
      "Classification report:\n",
      "\n",
      "              precision    recall  f1-score   support\n",
      "\n",
      "           0       0.30      0.43      0.35        96\n",
      "           1       0.84      0.75      0.79       387\n",
      "\n",
      "    accuracy                           0.69       483\n",
      "   macro avg       0.57      0.59      0.57       483\n",
      "weighted avg       0.73      0.69      0.71       483\n",
      "\n"
     ]
    },
    {
     "data": {
      "image/png": "[encoded data removed]",
      "text/plain": [
       "<Figure size 500x300 with 2 Axes>"
      ]
     },
     "metadata": {},
     "output_type": "display_data"
    },
    {
     "data": {
      "image/png": "[encoded data removed]",
      "text/plain": [
       "<Figure size 400x300 with 1 Axes>"
      ]
     },
     "metadata": {},
     "output_type": "display_data"
    },
    {
     "name": "stdout",
     "output_type": "stream",
     "text": [
      "AUC: 0.59\n"
     ]
    },
    {
     "data": {
      "image/png": "[encoded data removed]",
      "text/plain": [
       "<Figure size 450x300 with 1 Axes>"
      ]
     },
     "metadata": {},
     "output_type": "display_data"
    }
   ],
   "source": [
    "# Initializing the performance evaluator class for RNN\n",
    "rnn_performance_evaluator = ClassificationEvaluator(true_labels=rnn_y_test, \n",
    "                                                    predicted_labels=rnn_predictions_discrete, \n",
    "                                                    predicted_probs=rnn_predictions)\n",
    "\n",
    "rnn_performance_evaluator.evaluate()\n",
    "rnn_performance_evaluator.plot_confusion_matrix()\n",
    "rnn_performance_evaluator.plot_roc_auc()\n",
    "rnn_performance_evaluator.plot_precision_recall_auc()"
   ]
  },
  {
   "cell_type": "markdown",
   "metadata": {},
   "source": [
    "### 3.4. Hyperparameter tuning"
   ]
  },
  {
   "cell_type": "code",
   "execution_count": null,
   "metadata": {},
   "outputs": [],
   "source": [
    "from keras_tuner import BayesianOptimization"
   ]
  },
  {
   "cell_type": "code",
   "execution_count": null,
   "metadata": {},
   "outputs": [],
   "source": [
    "def build_hypermodel(hp):\n",
    "    model = Sequential()\n",
    "    model.add(Input(shape=(max_sequence_length,)))\n",
    "    model.add(Embedding(input_dim=vocab_size, \n",
    "                        output_dim=embedding_dim,\n",
    "                        weights=[embedding_matrix],  \n",
    "                        trainable=False))\n",
    "    \n",
    "    # Choose between LSTM and GRU\n",
    "    rnn_type = hp.Choice('rnn_type', ['LSTM', 'GRU'])\n",
    "    rnn_units = hp.Int('rnn_units', min_value=32, max_value=128, step=32)\n",
    "    \n",
    "    if rnn_type == 'LSTM':\n",
    "        rnn_layer = LSTM(units=rnn_units, return_sequences=False, kernel_regularizer=l2(hp.Float('l2', 0.0, 0.1, step=0.01)))\n",
    "    else:\n",
    "        rnn_layer = GRU(units=rnn_units, return_sequences=False, kernel_regularizer=l2(hp.Float('l2', 0.0, 0.1, step=0.01)))\n",
    "    \n",
    "    # Add Bidirectional wrapper if specified\n",
    "    if hp.Boolean('bidirectional'):\n",
    "        model.add(Bidirectional(rnn_layer))\n",
    "    else:\n",
    "        model.add(rnn_layer)\n",
    "    \n",
    "    model.add(Dropout(rate=hp.Float('dropout', 0.1, 0.5, step=0.1)))\n",
    "    model.add(Dense(1, activation='sigmoid', kernel_regularizer=l2(hp.Float('l2_dense', 0.0, 0.1, step=0.01))))\n",
    "    \n",
    "    # Compile the model\n",
    "    model.compile(optimizer=Adam(learning_rate=hp.Float('learning_rate', 1e-5, 1e-3, sampling='log')),\n",
    "                  loss='binary_crossentropy', \n",
    "                  metrics=['accuracy'])\n",
    "    return model\n"
   ]
  },
  {
   "cell_type": "code",
   "execution_count": null,
   "metadata": {},
   "outputs": [],
   "source": [
    "tuner = BayesianOptimization(\n",
    "    build_hypermodel,\n",
    "    objective='val_accuracy',\n",
    "    max_trials=100,  # You can adjust this based on your computational resources\n",
    "    executions_per_trial=2,  # Averages the results over multiple runs\n",
    "    directory='bayesian_optimization',\n",
    "    project_name='rnn_tuning'\n",
    ")"
   ]
  },
  {
   "cell_type": "code",
   "execution_count": null,
   "metadata": {},
   "outputs": [],
   "source": [
    "# Early stopping callback\n",
    "hpt_early_stopping = EarlyStopping(monitor='val_loss', patience=5, restore_best_weights=True)\n",
    "\n",
    "# # Start the search\n",
    "tuner.search(X_train, y_train,\n",
    "             epochs=10,\n",
    "             validation_data=(X_val, y_val),\n",
    "             batch_size=16,\n",
    "             callbacks=[early_stopping])\n",
    "\n",
    "\n",
    "# # Get the best hyperparameters and model\n",
    "best_hps = tuner.get_best_hyperparameters(num_trials=1)[0]\n",
    "best_model = tuner.get_best_models(num_models=1)[0]\n",
    "\n",
    "# Print the best hyperparameters\n",
    "print(f\"Best RNN type: {best_hps.get('rnn_type')}\")\n",
    "print(f\"Best number of RNN units: {best_hps.get('rnn_units')}\")\n",
    "print(f\"Use bidirectional: {best_hps.get('bidirectional')}\")\n",
    "print(f\"Best dropout rate: {best_hps.get('dropout')}\")\n",
    "print(f\"Best learning rate: {best_hps.get('learning_rate')}\")\n",
    "\n",
    "# Summary of the best model\n",
    "best_model.summary()"
   ]
  },
  {
   "cell_type": "markdown",
   "metadata": {},
   "source": [
    "# 4. DistilBERT"
   ]
  },
  {
   "cell_type": "markdown",
   "metadata": {},
   "source": [
    "### 4.1. Data preprocessing: DistilBERT"
   ]
  },
  {
   "cell_type": "code",
   "execution_count": 42,
   "metadata": {},
   "outputs": [],
   "source": [
    "# Initialize the DataPreprocessor class for DistilBERT\n",
    "dtb_train_datapreprocessor = DataPreprocessor(df=train_df, content_column='content')\n",
    "dtb_test_datapreprocessor = DataPreprocessor(df=test_df, content_column='content')"
   ]
  },
  {
   "cell_type": "code",
   "execution_count": 43,
   "metadata": {},
   "outputs": [
    {
     "name": "stderr",
     "output_type": "stream",
     "text": [
      "c:\\Users\\Diya\\Documents\\GItHub\\DELTA_Element3\\DataPreprocess.py:114: MarkupResemblesLocatorWarning: The input looks more like a filename than markup. You may want to open this file and pass the filehandle into Beautiful Soup.\n",
      "  tweet = BeautifulSoup(tweet, 'html.parser').get_text()\n",
      "c:\\Users\\Diya\\Documents\\GItHub\\DELTA_Element3\\DataPreprocess.py:114: MarkupResemblesLocatorWarning: The input looks more like a filename than markup. You may want to open this file and pass the filehandle into Beautiful Soup.\n",
      "  tweet = BeautifulSoup(tweet, 'html.parser').get_text()\n"
     ]
    }
   ],
   "source": [
    "dtb_train_df = dtb_train_datapreprocessor.preprocess(remove_spam=True, remove_hashtags=True, remove_emoji=True, remove_link=True, remove_whitespace_html=True)\n",
    "dtb_test_df = dtb_test_datapreprocessor.preprocess(remove_spam=True, remove_hashtags=True, remove_emoji=True, remove_link=True, remove_whitespace_html=True)"
   ]
  },
  {
   "cell_type": "code",
   "execution_count": null,
   "metadata": {},
   "outputs": [],
   "source": [
    "i = 7\n",
    "dtb_test_df['content'][i], dtb_test_df['cleaned_content'][i], dtb_test_df['sentiment'][i]"
   ]
  },
  {
   "cell_type": "code",
   "execution_count": null,
   "metadata": {},
   "outputs": [],
   "source": [
    "dtb_test_df.head()"
   ]
  },
  {
   "cell_type": "code",
   "execution_count": 44,
   "metadata": {},
   "outputs": [],
   "source": [
    "# Split the data to training and validation\n",
    "dtb_X_train, dtb_X_val, dtb_y_train, dtb_y_val = train_test_split(dtb_train_df['cleaned_content'], dtb_train_df['sentiment'], test_size = 0.2, random_state = 9)\n",
    "# Changing the dtype from series to array\n",
    "dtb_y_train = dtb_y_train #.to_numpy()\n",
    "dtb_y_val = dtb_y_val #.to_numpy()\n",
    "\n",
    "# Preparing the test data\n",
    "dtb_X_test = dtb_test_df['cleaned_content']\n",
    "dtb_y_test = dtb_test_df['sentiment']"
   ]
  },
  {
   "cell_type": "code",
   "execution_count": 45,
   "metadata": {},
   "outputs": [],
   "source": [
    "from transformers import (AutoTokenizer, AutoModelForSequenceClassification, \n",
    "                          DistilBertTokenizer, DistilBertForSequenceClassification, \n",
    "                          pipeline, Trainer, TrainingArguments)\n",
    "from torch.utils.data import Dataset\n",
    "\n",
    "# Define a Dataset class\n",
    "class SentimentDataset(Dataset):\n",
    "    def __init__(self, encodings, labels):\n",
    "        self.encodings = encodings\n",
    "        self.labels = labels\n",
    "\n",
    "    def __getitem__(self, idx):\n",
    "        item = {key: torch.tensor(val[idx]) for key, val in self.encodings.items()}\n",
    "        item['labels'] = torch.tensor(self.labels[idx])\n",
    "        return item\n",
    "\n",
    "    def __len__(self):\n",
    "        return len(self.labels)\n",
    "\n",
    "# A class for handling pre-trained and fine-tuned DistilBERT models\n",
    "class DistilBERTSentimentAnalyzer:\n",
    "    def __init__(self, pretrained_model_name, finetuned_model_name, max_length=32):\n",
    "        self.pretrained_tokenizer = AutoTokenizer.from_pretrained(pretrained_model_name)\n",
    "        self.pretrained_model = AutoModelForSequenceClassification.from_pretrained(pretrained_model_name)\n",
    "        self.finetuned_tokenizer = DistilBertTokenizer.from_pretrained(finetuned_model_name)\n",
    "        self.finetuned_model = DistilBertForSequenceClassification.from_pretrained(finetuned_model_name)\n",
    "        self.max_length = max_length\n",
    "\n",
    "    def tokenize_data(self, texts, tokenizer):\n",
    "        return tokenizer(\n",
    "            texts,\n",
    "            padding=True,\n",
    "            truncation=True,\n",
    "            max_length=self.max_length,\n",
    "            return_tensors='pt'\n",
    "        )\n",
    "\n",
    "    def predict(self, tokens, model):\n",
    "        with torch.no_grad():\n",
    "            outputs = model(**tokens)\n",
    "        return torch.argmax(outputs.logits, dim=1)\n",
    "\n",
    "    def evaluate_model(self, model, tokens):\n",
    "        with torch.no_grad():\n",
    "            outputs = model(**tokens)\n",
    "        return torch.argmax(outputs.logits, dim=1)\n",
    "\n",
    "    def fine_tune(self, train_tokens, train_labels, val_tokens, val_labels, epochs=1, batch_size=16):\n",
    "        # Set up training arguments\n",
    "        training_args = TrainingArguments(\n",
    "            output_dir='./results',\n",
    "            num_train_epochs=epochs,\n",
    "            per_device_train_batch_size=batch_size,\n",
    "            per_device_eval_batch_size=batch_size,\n",
    "            logging_dir='./logs',\n",
    "        )\n",
    "\n",
    "        # Define training and evaluation datasets\n",
    "        train_dataset = SentimentDataset(train_tokens, train_labels)\n",
    "        val_dataset = SentimentDataset(val_tokens, val_labels)\n",
    "\n",
    "        # Train DistilBERT model\n",
    "        trainer = Trainer(\n",
    "            model=self.finetuned_model,\n",
    "            args=training_args,\n",
    "            train_dataset=train_dataset,\n",
    "            eval_dataset=val_dataset,\n",
    "        )\n",
    "\n",
    "        trainer.train()\n",
    "\n",
    "# Utility functions for the analysis\n",
    "def run_pretrained_analysis(analyzer, test_texts):\n",
    "    tokens = analyzer.tokenize_data(test_texts, analyzer.pretrained_tokenizer)\n",
    "    return analyzer.predict(tokens, analyzer.pretrained_model)\n",
    "\n",
    "def run_finetuned_analysis(analyzer, train_texts, train_labels, val_texts, val_labels, test_texts):\n",
    "    #X_train, y_train, X_val, y_val = train_test_split(train_texts, test_size=0.2)\n",
    "    train_tokens = analyzer.tokenize_data(train_texts, analyzer.finetuned_tokenizer)\n",
    "    val_tokens = analyzer.tokenize_data(val_texts, analyzer.finetuned_tokenizer)\n",
    "    test_tokens = analyzer.tokenize_data(test_texts, analyzer.finetuned_tokenizer)\n",
    "\n",
    "    # Convert labels to tensors\n",
    "    train_labels_tensor = torch.tensor(list(map(int, train_labels)), dtype=torch.long)\n",
    "    val_labels_tensor = torch.tensor(list(map(int, val_labels)), dtype=torch.long)\n",
    "\n",
    "    # Fine-tune the model\n",
    "    analyzer.fine_tune(train_tokens, train_labels_tensor, val_tokens, val_labels_tensor)\n",
    "\n",
    "    # Evaluate on the test set\n",
    "    return analyzer.evaluate_model(analyzer.finetuned_model, test_tokens)\n",
    "    \n"
   ]
  },
  {
   "cell_type": "code",
   "execution_count": 46,
   "metadata": {},
   "outputs": [
    {
     "data": {
      "text/plain": [
       "array([1, 0, 1, ..., 1, 1, 0])"
      ]
     },
     "execution_count": 46,
     "metadata": {},
     "output_type": "execute_result"
    }
   ],
   "source": [
    "dtb_y_train.values"
   ]
  },
  {
   "cell_type": "code",
   "execution_count": 60,
   "metadata": {},
   "outputs": [
    {
     "data": {
      "text/plain": [
       "0    1\n",
       "1    0\n",
       "2    1\n",
       "3    1\n",
       "Name: sentiment, dtype: int32"
      ]
     },
     "execution_count": 60,
     "metadata": {},
     "output_type": "execute_result"
    }
   ],
   "source": [
    "# temp_list = ['bitcoin is bad for investment. It is very volatile',\n",
    "#              '#crypto market is worth taking experience from. Teaches a lot!! @Ruchir',\n",
    "#              'Programmming using #python is the best skill to master']\n",
    "\n",
    "# # ['#crypto $crypto #btc I am Chinese crypto alpha, although my English is not good, but I will try to send some English tweets! Let me see if there are messages of support from foreign fans！',\n",
    "# #  '#Bitcoin would have to fall another 80% to reach the lows of 3 years ago. Rates have already skyrocketed, most crypto platforms (including FTX) died, and sentiment is dead as most think it’s over. Even if #Bitcoin falls 50% to $14k new lows (which I doubt), this is remarkable.',\n",
    "# #  '#Giveaway $1000 Matic in 3Days To win  keycap_1  Follow @matic  keycap_2  Like & RT  keycap_3  Tag 3 Friends #BTC #Giveaway #Airdrop',\n",
    "# #  'Up or Down? !!! $EOS !!! VS $USDT #USDT AND $BTC #BTC #crypto #Bitcoin #Binance']\n",
    "\n",
    "# dtb_test_df['sentiment'].iloc[:4]"
   ]
  },
  {
   "cell_type": "code",
   "execution_count": 61,
   "metadata": {},
   "outputs": [],
   "source": [
    "# Example usage with your data\n",
    "# pt_dtb_predictions = run_pretrained_analysis(analyzer, temp_list) #dtb_test_df['cleaned_content'].to_list())"
   ]
  },
  {
   "cell_type": "code",
   "execution_count": 70,
   "metadata": {},
   "outputs": [],
   "source": [
    "# Initialize the analyzer\n",
    "analyzer = DistilBERTSentimentAnalyzer(\n",
    "    pretrained_model_name='DT12the/distilbert-sentiment-analysis',\n",
    "    finetuned_model_name='distilbert-base-uncased-finetuned-sst-2-english'\n",
    ")\n",
    "\n",
    "# Example usage with your data\n",
    "pt_dtb_predictions = run_pretrained_analysis(analyzer, dtb_test_df['cleaned_content'].to_list())\n",
    "\n",
    "# Fine-tune and evaluate\n",
    "ft_dtb_predictions = run_finetuned_analysis(\n",
    "    analyzer,\n",
    "    train_texts = dtb_X_train.to_list(),\n",
    "    train_labels = dtb_y_train.values,\n",
    "    val_texts = dtb_X_val.to_list(),\n",
    "    val_labels = dtb_y_val.values,\n",
    "    test_texts= dtb_X_test.to_list()\n",
    ")"
   ]
  },
  {
   "cell_type": "code",
   "execution_count": 73,
   "metadata": {},
   "outputs": [
    {
     "data": {
      "text/plain": [
       "tensor([1, 0, 1, 1, 1, 1, 1, 1, 1, 1, 1, 1, 0, 1, 1, 1, 1, 1, 1, 1, 1, 1, 1, 1,\n",
       "        1, 1, 0, 1, 1, 0, 1, 1, 1, 1, 1, 1, 1, 1, 1, 1, 1, 1, 1, 1, 1, 1, 1, 1,\n",
       "        1, 1, 1, 1, 1, 1, 0, 1, 1, 1, 1, 0, 1, 0, 0, 1, 1, 1, 1, 1, 1, 1, 1, 1,\n",
       "        1, 1, 1, 1, 1, 1, 1, 1, 1, 0, 1, 0, 1, 1, 1, 1, 0, 1, 1, 1, 1, 1, 1, 0,\n",
       "        1, 1, 1, 1, 1, 1, 1, 1, 1, 1, 1, 1, 1, 1, 1, 1, 0, 1, 1, 1, 0, 1, 1, 1,\n",
       "        0, 1, 1, 1, 1, 1, 1, 1, 1, 1, 1, 1, 1, 1, 1, 1, 1, 1, 1, 1, 1, 1, 1, 1,\n",
       "        1, 1, 1, 1, 0, 0, 1, 1, 1, 0, 1, 1, 0, 1, 1, 0, 1, 1, 1, 1, 1, 1, 0, 1,\n",
       "        1, 1, 0, 1, 1, 1, 1, 1, 1, 0, 1, 1, 1, 1, 1, 1, 0, 1, 1, 1, 1, 1, 1, 1,\n",
       "        0, 1, 0, 1, 1, 1, 1, 1, 1, 1, 1, 1, 1, 1, 1, 1, 1, 1, 1, 0, 1, 1, 1, 1,\n",
       "        1, 1, 0, 1, 1, 0, 1, 1, 1, 1, 1, 1, 1, 1, 1, 1, 1, 1, 1, 1, 1, 1, 1, 1,\n",
       "        1, 1, 1, 1, 1, 1, 1, 1, 1, 0, 1, 1, 0, 1, 1, 1, 1, 1, 0, 1, 1, 1, 1, 0,\n",
       "        1, 1, 0, 1, 1, 1, 1, 1, 1, 0, 1, 0, 1, 1, 1, 1, 1, 1, 1, 1, 0, 1, 1, 1,\n",
       "        1, 1, 1, 1, 1, 0, 1, 1, 1, 1, 1, 1, 1, 1, 0, 0, 0, 1, 1, 1, 1, 1, 1, 1,\n",
       "        1, 1, 1, 1, 1, 1, 1, 1, 1, 1, 1, 1, 0, 1, 1, 1, 1, 1, 0, 1, 1, 1, 1, 1,\n",
       "        1, 1, 1, 1, 1, 1, 1, 1, 1, 1, 1, 1, 1, 1, 1, 1, 1, 1, 1, 1, 1, 1, 1, 1,\n",
       "        0, 0, 1, 1, 1, 1, 1, 1, 0, 1, 1, 1, 1, 1, 1, 1, 1, 1, 1, 1, 1, 1, 1, 1,\n",
       "        0, 1, 1, 1, 1, 1, 1, 1, 1, 1, 1, 1, 1, 1, 1, 1, 1, 1, 1, 1, 1, 1, 0, 1,\n",
       "        1, 1, 1, 1, 1, 1, 1, 1, 0, 0, 0, 1, 1, 1, 1, 1, 1, 1, 1, 1, 0, 1, 1, 1,\n",
       "        1, 0, 1, 0, 1, 0, 1, 1, 0, 1, 1, 1, 1, 1, 0, 1, 1, 1, 1, 0, 1, 1, 1, 1,\n",
       "        1, 1, 1, 1, 1, 0, 1, 1, 1, 1, 1, 1, 1, 1, 1, 1, 1, 1, 1, 1, 1, 1, 0, 1,\n",
       "        1, 0, 1])"
      ]
     },
     "execution_count": 73,
     "metadata": {},
     "output_type": "execute_result"
    }
   ],
   "source": [
    "ft_dtb_predictions"
   ]
  },
  {
   "cell_type": "code",
   "execution_count": 72,
   "metadata": {},
   "outputs": [
    {
     "name": "stdout",
     "output_type": "stream",
     "text": [
      "Classification report:\n",
      "\n",
      "              precision    recall  f1-score   support\n",
      "\n",
      "           0       0.12      0.49      0.19        96\n",
      "           1       0.35      0.07      0.11       387\n",
      "\n",
      "    accuracy                           0.15       483\n",
      "   macro avg       0.23      0.28      0.15       483\n",
      "weighted avg       0.30      0.15      0.13       483\n",
      "\n"
     ]
    },
    {
     "data": {
      "image/png": "[encoded data removed]",
      "text/plain": [
       "<Figure size 500x300 with 2 Axes>"
      ]
     },
     "metadata": {},
     "output_type": "display_data"
    }
   ],
   "source": [
    "# Initializing the performance evaluator class for pre-trained DistilBERT\n",
    "pt_dtb_performance_evaluator = ClassificationEvaluator(true_labels=dtb_test_df['sentiment'].to_list(), \n",
    "                                                       predicted_labels=pt_dtb_predictions)\n",
    "\n",
    "pt_dtb_performance_evaluator.evaluate()\n",
    "pt_dtb_performance_evaluator.plot_confusion_matrix()"
   ]
  },
  {
   "cell_type": "code",
   "execution_count": 64,
   "metadata": {},
   "outputs": [
    {
     "name": "stdout",
     "output_type": "stream",
     "text": [
      "Classification report:\n",
      "\n",
      "              precision    recall  f1-score   support\n",
      "\n",
      "           0       0.74      0.47      0.57        96\n",
      "           1       0.88      0.96      0.92       387\n",
      "\n",
      "    accuracy                           0.86       483\n",
      "   macro avg       0.81      0.71      0.75       483\n",
      "weighted avg       0.85      0.86      0.85       483\n",
      "\n"
     ]
    },
    {
     "data": {
      "image/png": "[encoded data removed]",
      "text/plain": [
       "<Figure size 500x300 with 2 Axes>"
      ]
     },
     "metadata": {},
     "output_type": "display_data"
    }
   ],
   "source": [
    "# Initializing the performance evaluator class for pre-trained DistilBERT\n",
    "ft_dtb_performance_evaluator = ClassificationEvaluator(true_labels=dtb_test_df['sentiment'].to_list(), \n",
    "                                                       predicted_labels=ft_dtb_predictions)\n",
    "\n",
    "ft_dtb_performance_evaluator.evaluate()\n",
    "ft_dtb_performance_evaluator.plot_confusion_matrix()"
   ]
  },
  {
   "cell_type": "markdown",
   "metadata": {},
   "source": [
    "### 4.2. Pre-trained DistilBERT"
   ]
  },
  {
   "cell_type": "code",
   "execution_count": null,
   "metadata": {},
   "outputs": [],
   "source": [
    "pt_dtb_tokenizer = AutoTokenizer.from_pretrained('DT12the/distilbert-sentiment-analysis')\n",
    "pt_dtb_model = AutoModelForSequenceClassification.from_pretrained('DT12the/distilbert-sentiment-analysis')"
   ]
  },
  {
   "cell_type": "code",
   "execution_count": null,
   "metadata": {},
   "outputs": [],
   "source": [
    "pt_dtb_test_tokens = pt_dtb_tokenizer(text=dtb_test_df['cleaned_content'].to_list(),\n",
    "                                 padding=True,\n",
    "                                 truncation=True,\n",
    "                                 max_length=32,\n",
    "                                 return_tensors='pt')"
   ]
  },
  {
   "cell_type": "code",
   "execution_count": null,
   "metadata": {},
   "outputs": [],
   "source": [
    "type(pt_dtb_test_tokens)"
   ]
  },
  {
   "cell_type": "code",
   "execution_count": null,
   "metadata": {},
   "outputs": [],
   "source": [
    "with torch.no_grad():\n",
    "    pt_dtb_predictions = pt_dtb_model(**pt_dtb_test_tokens)"
   ]
  },
  {
   "cell_type": "code",
   "execution_count": null,
   "metadata": {},
   "outputs": [],
   "source": [
    "pt_dtb_predictions_discrete = torch.argmax(pt_dtb_predictions.logits, dim=1)"
   ]
  },
  {
   "cell_type": "code",
   "execution_count": null,
   "metadata": {},
   "outputs": [],
   "source": [
    "# Initializing the performance evaluator class for pre-trained DistilBERT\n",
    "pt_dtb_performance_evaluator = ClassificationEvaluator(true_labels=dtb_test_df['sentiment'].to_list(), \n",
    "                                                       predicted_labels=pt_dtb_predictions_discrete)\n",
    "\n",
    "pt_dtb_performance_evaluator.evaluate()\n",
    "pt_dtb_performance_evaluator.plot_confusion_matrix()"
   ]
  },
  {
   "cell_type": "markdown",
   "metadata": {},
   "source": [
    "### 4.3. Fine-tuned DistilBERT"
   ]
  },
  {
   "cell_type": "code",
   "execution_count": null,
   "metadata": {},
   "outputs": [],
   "source": [
    "ft_dtb_tokenizer = DistilBertTokenizer.from_pretrained('distilbert-base-uncased-finetuned-sst-2-english')\n",
    "ft_dtb_model = DistilBertForSequenceClassification.from_pretrained('distilbert-base-uncased-finetuned-sst-2-english')"
   ]
  },
  {
   "cell_type": "code",
   "execution_count": null,
   "metadata": {},
   "outputs": [],
   "source": [
    "sentiment_analysis = pipeline('sentiment-analysis',\n",
    "                              model = ft_dtb_model,\n",
    "                              tokenizer = ft_dtb_tokenizer,\n",
    "                              batch_size = 16)"
   ]
  },
  {
   "cell_type": "code",
   "execution_count": null,
   "metadata": {},
   "outputs": [],
   "source": [
    "# Tokenize the training and validation set\n",
    "ft_dtb_train_tokens = ft_dtb_tokenizer(\n",
    "    dtb_train_df['cleaned_content'].to_list(),\n",
    "    padding=True,\n",
    "    truncation=True,\n",
    "    max_length=32,  # Adjust this according to your sequence lengths\n",
    "    return_tensors='pt'\n",
    ")\n",
    "\n",
    "ft_dtb_test_tokens = ft_dtb_tokenizer(\n",
    "    dtb_test_df['cleaned_content'].to_list(),\n",
    "    padding=True,\n",
    "    truncation=True,\n",
    "    max_length=32,  # ⚠️ Adjust this if your sequences are longer or shorter, and explain why we did it that way\n",
    "    return_tensors='pt'\n",
    ")"
   ]
  },
  {
   "cell_type": "code",
   "execution_count": null,
   "metadata": {},
   "outputs": [],
   "source": [
    "# Convert the labels to a tensor\n",
    "labels_train = torch.tensor(list(map(int, dtb_train_df['sentiment'].values)), dtype=torch.long)\n",
    "labels_val = torch.tensor(list(map(int, dtb_test_df['sentiment'].values)), dtype=torch.long)"
   ]
  },
  {
   "cell_type": "code",
   "execution_count": null,
   "metadata": {},
   "outputs": [],
   "source": [
    "# Define a dataset class (optional, for clarity)\n",
    "class SentimentDataset(torch.utils.data.Dataset):\n",
    "    def __init__(self, encodings, labels):\n",
    "        self.encodings = encodings\n",
    "        self.labels = labels\n",
    "\n",
    "    def __getitem__(self, idx):\n",
    "        item = {key: torch.tensor(val[idx]) for key, val in self.encodings.items()}\n",
    "        item['labels'] = torch.tensor(self.labels[idx])\n",
    "        return item\n",
    "\n",
    "    def __len__(self):\n",
    "        return len(self.labels)"
   ]
  },
  {
   "cell_type": "code",
   "execution_count": null,
   "metadata": {},
   "outputs": [],
   "source": [
    "##### Set up training arguments\n",
    "training_args = TrainingArguments(\n",
    "    output_dir='./results',          # output directory\n",
    "    num_train_epochs=3,              # number of training epochs\n",
    "    per_device_train_batch_size=16,  # batch size for training\n",
    "    per_device_eval_batch_size=16,   # batch size for evaluation\n",
    "    logging_dir='./logs',            # directory for storing logs\n",
    ")"
   ]
  },
  {
   "cell_type": "code",
   "execution_count": null,
   "metadata": {},
   "outputs": [],
   "source": [
    "# Define training and evaluation datasets\n",
    "train_dataset = SentimentDataset(ft_dtb_train_tokens, labels_train)\n",
    "val_dataset = SentimentDataset(ft_dtb_test_tokens, labels_val) "
   ]
  },
  {
   "cell_type": "code",
   "execution_count": null,
   "metadata": {},
   "outputs": [],
   "source": [
    "# Train DistilBERT model\n",
    "trainer = Trainer(\n",
    "    model=ft_dtb_model,              # the instantiated 🤗 Transformers model to be trained\n",
    "    args=training_args,              # training arguments, defined above\n",
    "    train_dataset=train_dataset,\n",
    "    eval_dataset=val_dataset,\n",
    ")\n",
    "\n",
    "trainer.train()"
   ]
  },
  {
   "cell_type": "code",
   "execution_count": null,
   "metadata": {},
   "outputs": [],
   "source": [
    "# Evaluate model on the test set\n",
    "# Disable gradient calculation for evaluation\n",
    "with torch.no_grad():\n",
    "    ft_dtb_predictions = ft_dtb_model(**ft_dtb_test_tokens)\n",
    "\n",
    "# Get the predicted class (0 or 1)\n",
    "ft_dtb_predictions_discrete = torch.argmax(ft_dtb_predictions.logits, dim=1)\n",
    "\n",
    "# Convert predictions to NumPy array for comparison\n",
    "# predictions_DTB = predictions_DTB.numpy()"
   ]
  },
  {
   "cell_type": "code",
   "execution_count": null,
   "metadata": {},
   "outputs": [],
   "source": [
    "# Initializing the performance evaluator class for pre-trained DistilBERT\n",
    "ft_dtb_performance_evaluator = ClassificationEvaluator(true_labels=dtb_test_df['sentiment'].to_list(), \n",
    "                                                       predicted_labels=ft_dtb_predictions_discrete)\n",
    "\n",
    "ft_dtb_performance_evaluator.evaluate()\n",
    "ft_dtb_performance_evaluator.plot_confusion_matrix()"
   ]
  }
 ],
 "metadata": {
  "kernelspec": {
   "display_name": "Python 3 (ipykernel)",
   "language": "python",
   "name": "python3"
  },
  "language_info": {
   "codemirror_mode": {
    "name": "ipython",
    "version": 3
   },
   "file_extension": ".py",
   "mimetype": "text/x-python",
   "name": "python",
   "nbconvert_exporter": "python",
   "pygments_lexer": "ipython3",
   "version": "3.11.9"
  }
 },
 "nbformat": 4,
 "nbformat_minor": 4
}
