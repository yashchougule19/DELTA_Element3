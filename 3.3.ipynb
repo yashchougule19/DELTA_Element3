{
 "cells": [
  {
   "cell_type": "markdown",
   "metadata": {
    "jp-MarkdownHeadingCollapsed": true,
    "tags": []
   },
   "source": [
    "# Data Preprocessing"
   ]
  },
  {
   "cell_type": "code",
   "execution_count": 1,
   "metadata": {},
<<<<<<< Updated upstream
=======
   "outputs": [
    {
     "name": "stdout",
     "output_type": "stream",
     "text": [
      "WARNING:tensorflow:From c:\\Users\\Diya\\anaconda3\\envs\\DELTA\\Lib\\site-packages\\tf_keras\\src\\losses.py:2976: The name tf.losses.sparse_softmax_cross_entropy is deprecated. Please use tf.compat.v1.losses.sparse_softmax_cross_entropy instead.\n",
      "\n"
     ]
    }
   ],
   "source": [
    "# # For preprocessing\n",
    "import pandas as pd\n",
    "import numpy as np\n",
    "# from sklearn.feature_extraction.text import TfidfVectorizer\n",
    "# from sklearn.metrics.pairwise import cosine_similarity\n",
    "# from collections import Counter\n",
    "# from imblearn.over_sampling import SMOTE\n",
    "import nltk\n",
    "# from nltk.corpus import stopwords\n",
    "# import re\n",
    "# from bs4 import BeautifulSoup\n",
    "# import emoji\n",
    "# from urllib.parse import urlparse\n",
    "# import seaborn as sns\n",
    "# import matplotlib.pyplot as plt\n",
    "\n",
    "from DataPreprocess import DataPreprocessor\n",
    "\n",
    "from ClassificationScores import ClassificationEvaluator\n",
    "\n",
    "# For VaderSentiment\n",
    "from vaderSentiment.vaderSentiment import SentimentIntensityAnalyzer\n",
    "\n",
    "# For RNN model \n",
    "from gensim.models import FastText\n",
    "from sklearn.model_selection import train_test_split\n",
    "from tensorflow.keras.preprocessing.text import Tokenizer\n",
    "from tensorflow.keras.preprocessing.sequence import pad_sequences\n",
    "from tensorflow.keras.models import Sequential\n",
    "from tensorflow.keras.layers import Input, Embedding, LSTM, GRU, Dense, Dropout\n",
    "from tensorflow.keras.callbacks import EarlyStopping\n",
    "from tensorflow.keras.optimizers import Adam\n",
    "from keras.regularizers import l2\n",
    "from sklearn.model_selection import train_test_split\n",
    "from sklearn.utils import class_weight\n",
    "\n",
    "# For DistilBERT\n",
    "import tensorflow as tf\n",
    "from transformers import DistilBertTokenizer, TFDistilBertForSequenceClassification"
   ]
  },
  {
   "cell_type": "markdown",
   "metadata": {
    "jp-MarkdownHeadingCollapsed": true,
    "tags": []
   },
   "source": [
    "# 1. Data Preprocessing"
   ]
  },
  {
   "cell_type": "markdown",
   "metadata": {
    "jp-MarkdownHeadingCollapsed": true,
    "tags": []
   },
   "source": [
    "### 1.1. Importing the data and getting known to it."
   ]
  },
  {
   "cell_type": "code",
   "execution_count": 2,
   "metadata": {},
>>>>>>> Stashed changes
   "outputs": [],
   "source": [
    "import pandas as pd\n",
    "import numpy as np"
   ]
  },
  {
   "cell_type": "code",
   "execution_count": 3,
   "metadata": {},
   "outputs": [],
   "source": [
    "train_df = pd.read_parquet('datasets/btc_tweets_train.parquet.gzip')\n",
    "test_df = pd.read_parquet('datasets/btc_tweets_test.parquet.gzip')"
   ]
  },
  {
   "cell_type": "code",
   "execution_count": 4,
   "metadata": {},
   "outputs": [],
   "source": [
    "train_df = train_df.reset_index()"
   ]
  },
  {
   "cell_type": "code",
   "execution_count": null,
   "metadata": {},
   "outputs": [],
   "source": [
    "type(train_df)"
   ]
  },
  {
   "cell_type": "code",
   "execution_count": null,
   "metadata": {},
   "outputs": [],
   "source": [
    "def df_info(df):\n",
    "    return df.shape, df.isnull().sum().sum(), df.info(), df.head()"
   ]
  },
  {
   "cell_type": "code",
   "execution_count": null,
   "metadata": {},
   "outputs": [],
   "source": [
    "df_info(train_df)"
   ]
  },
  {
   "cell_type": "code",
   "execution_count": 5,
   "metadata": {},
   "outputs": [],
   "source": [
    "train_df = train_df.drop(['tweet ID', 'user_displayname'], axis=1)"
   ]
  },
  {
   "cell_type": "code",
   "execution_count": 22,
   "metadata": {},
   "outputs": [],
   "source": [
<<<<<<< Updated upstream
    "from sklearn.feature_extraction.text import TfidfVectorizer\n",
    "from sklearn.metrics.pairwise import cosine_similarity\n",
    "from imblearn.over_sampling import SMOTE\n",
    "import nltk\n",
    "from nltk.corpus import stopwords\n",
    "import re\n",
    "import emoji\n",
    "from urllib.parse import urlparse\n",
=======
    "# Initialize the class for train and test df\n",
    "train_datapreprocessor = DataPreprocessor(df=train_df, content_column='content')\n",
    "test_datapreprocessor = DataPreprocessor(df=test_df, content_column='content')"
   ]
  },
  {
   "cell_type": "markdown",
   "metadata": {
    "jp-MarkdownHeadingCollapsed": true,
    "tags": []
   },
   "source": [
    "### A few trials"
   ]
  },
  {
   "cell_type": "code",
   "execution_count": null,
   "metadata": {},
   "outputs": [],
   "source": [
    "def extract_special_characters(text):\n",
    "    # Regular expression to match special characters\n",
    "    return re.findall(r'[^a-zA-Z0-9\\s]', text)\n",
>>>>>>> Stashed changes
    "\n",
    "class DataPreprocessor:\n",
    "    def __init__(self, df, content_column, sentiment_column):\n",
    "        \"\"\"\n",
    "        Initialize the DataPreprocessor class with the DataFrame and relevant columns.\n",
    "\n",
    "        Parameters:\n",
    "        - df: pd.DataFrame\n",
    "            The DataFrame containing the dataset.\n",
    "        - content_column: str\n",
    "            The name of the column containing the text content to analyze.\n",
    "        - sentiment_column: str\n",
    "            The name of the column containing the sentiment labels.\n",
    "        \"\"\"\n",
    "        self.df = df\n",
    "        self.content_column = content_column\n",
    "        self.sentiment_column = sentiment_column\n",
    "    \n",
    "    def remove_similar_content(self, similarity_threshold=0.65):\n",
    "        \"\"\"\n",
    "        Removes samples with similar content based on cosine similarity.\n",
    "\n",
    "        Parameters:\n",
    "        - similarity_threshold: float (default=0.8)\n",
    "            The threshold for cosine similarity above which samples are considered similar.\n",
    "        \"\"\"\n",
    "        tfidf = TfidfVectorizer(stop_words='english')\n",
    "        tfidf_matrix = tfidf.fit_transform(self.df[self.content_column])\n",
    "        cosine_sim = cosine_similarity(tfidf_matrix, tfidf_matrix)\n",
    "\n",
    "        indices_to_remove = set()\n",
    "\n",
    "        for i in range(len(cosine_sim)):\n",
    "            for j in range(i + 1, len(cosine_sim)):\n",
    "                if cosine_sim[i, j] > similarity_threshold:\n",
    "                    indices_to_remove.add(i)\n",
    "                    indices_to_remove.add(j)\n",
    "\n",
    "        self.df = self.df.drop(index=indices_to_remove).reset_index(drop=True)\n",
    "        return self.df\n",
    "\n",
    "    def handle_class_imbalance_with_SMOTE(self):\n",
    "        \"\"\"\n",
    "        Handles class imbalance using SMOTE (Synthetic Minority Over-sampling Technique).\n",
    "        \"\"\"\n",
    "        \n",
    "        tfidf = TfidfVectorizer(stop_words='english')\n",
    "        X = tfidf.fit_transform(self.df[self.content_column])\n",
    "        y = self.df[self.sentiment_column]\n",
    "        \n",
    "        # Apply SMOTE to the vectorized text\n",
    "        smote = SMOTE(random_state=21)\n",
    "        X_resampled, y_resampled = smote.fit_resample(X, y)\n",
    "\n",
<<<<<<< Updated upstream
    "        self.df = pd.DataFrame(X_resampled.toarray(), columns=tfidf.get_feature_names_out())\n",
    "        self.df[self.sentiment_column] = y_resampled\n",
    "        return self.df\n",
    "\n",
    "    def clean_text(self):\n",
    "        \"\"\"\n",
    "        Cleans text data by removing punctuation, stopwords, and applying lemmatization.\n",
    "        \"\"\"\n",
    "        nltk.download('stopwords')\n",
    "        stop_words = set(stopwords.words('english'))\n",
    "\n",
    "        def clean(tweet):\n",
    "            # Convert emojis to text # Converts emojis to text, e.g., \"😊\" becomes \":smiling_face:\"\n",
    "            tweet = emoji.demojize(tweet, delimiters=(\" \", \" \"))\n",
    "            # Remove links\n",
    "            tweet = re.sub(r'http\\S+|www\\S+|https\\S+', '', tweet, flags=re.MULTILINE)\n",
    "            # Remove punctuation and numbers\n",
    "            tweet = re.sub(r'[^a-zA-Z\\s]', '', tweet)\n",
    "            # Tokenize\n",
    "            words = nltk.word_tokenize(tweet)\n",
    "            # Remove stop words\n",
    "            words = [word for word in words if word.lower() not in stop_words]\n",
    "            # Lemmatize words\n",
    "            lemmatizer = nltk.WordNetLemmatizer()\n",
    "            words = [lemmatizer.lemmatize(word.lower()) for word in words]\n",
    "            return ' '.join(words)\n",
    "        \n",
    "        self.df['cleaned_content'] = self.df[self.content_column].apply(clean)\n",
    "        return self.df\n",
    "\n",
    "    def preprocess(self, remove_similar=True, balance_classes=True, clean_text=True):\n",
    "        \"\"\"\n",
    "        Performs the full preprocessing pipeline.\n",
    "\n",
    "        Parameters:\n",
    "        - remove_similar: bool (default=True)\n",
    "            Whether to remove similar content.\n",
    "        - balance_classes: bool (default=True)\n",
    "            Whether to handle class imbalance.\n",
    "        - clean_text: bool (default=True)\n",
    "            Whether to clean text data.\n",
    "        \"\"\"\n",
    "        if remove_similar:\n",
    "            self.remove_similar_content()\n",
    "        if balance_classes:\n",
    "            self.handle_class_imbalance_with_SMOTE()\n",
    "        if clean_text:\n",
    "            self.clean_text()\n",
    "\n",
    "        return self.df\n"
=======
    "# Display the results\n",
    "for emoji_char, count in top_50_emojis:\n",
    "    print(f\"{emoji_char}: {count}\")\n"
   ]
  },
  {
   "cell_type": "markdown",
   "metadata": {},
   "source": [
    "**NOTE: both the cleaned datasets above are still imbalanced with True values largly outnumbered than False. The imbalance needs to be taken care of by assigning class weights dring model training.**"
   ]
  },
  {
   "cell_type": "markdown",
   "metadata": {
    "jp-MarkdownHeadingCollapsed": true,
    "tags": []
   },
   "source": [
    "# 2. Benchmark: vaderSentiment Sentiment Dictionary"
   ]
  },
  {
   "cell_type": "markdown",
   "metadata": {},
   "source": [
    "For sentiment analysis using VADER, it's best to apply VADER to the raw, uncleaned text to leverage its strengths in handling informal language, punctuation, and emojis. However, when it comes to Links, it is best to remove them. Links are irrelevent to the sentiment and could add unnecessary noise, potentially influencing the sentiment."
   ]
  },
  {
   "cell_type": "markdown",
   "metadata": {},
   "source": [
    "The preprocessing flow for vaderSentiment\n",
    "- Remove spam tweets\n",
    "- Remove links\n",
    "- Remove unnecessary hashtags\n",
    "- Then apply vader sentiment dictionary on the cleaned tweets"
   ]
  },
  {
   "cell_type": "markdown",
   "metadata": {
    "jp-MarkdownHeadingCollapsed": true,
    "tags": []
   },
   "source": [
    "### 2.1. Getting the dataset ready for VaderSentiment"
>>>>>>> Stashed changes
   ]
  },
  {
   "cell_type": "code",
   "execution_count": 7,
   "metadata": {},
   "outputs": [],
   "source": [
    "# initialized the class object\n",
    "preprocesser = DataPreprocessor(df=train_df, content_column='content', sentiment_column='sentiment')"
   ]
  },
  {
   "cell_type": "code",
   "execution_count": 8,
   "metadata": {},
   "outputs": [],
   "source": [
    "bot_removed_train_df = preprocesser.preprocess(remove_similar=True, balance_classes=False, clean_text=False)"
   ]
  },
  {
   "cell_type": "code",
   "execution_count": 9,
   "metadata": {},
   "outputs": [
    {
     "data": {
      "text/plain": [
       "pandas.core.frame.DataFrame"
      ]
     },
     "execution_count": 9,
     "metadata": {},
     "output_type": "execute_result"
    }
   ],
   "source": [
    "type(bot_removed_train_df)"
   ]
  },
  {
   "cell_type": "code",
   "execution_count": 10,
   "metadata": {},
   "outputs": [
    {
     "data": {
      "text/plain": [
       "sentiment\n",
       "True     1125\n",
       "False     274\n",
       "Name: count, dtype: int64"
      ]
     },
     "execution_count": 10,
     "metadata": {},
     "output_type": "execute_result"
    }
   ],
   "source": [
<<<<<<< Updated upstream
    "bot_removed_train_df['sentiment'].value_counts()"
=======
    "# look over an example to see if the tweets are cleaned as expected\n",
    "index = 43\n",
    "vader_test_df['content'].iloc[index], vader_test_df['cleaned_content'].iloc[index], vader_test_df['sentiment'][index]"
   ]
  },
  {
   "cell_type": "markdown",
   "metadata": {
    "jp-MarkdownHeadingCollapsed": true,
    "tags": []
   },
   "source": [
    "### 2.2. Fitting the VaderSentiment on processed test data"
>>>>>>> Stashed changes
   ]
  },
  {
   "cell_type": "code",
   "execution_count": 15,
   "metadata": {},
   "outputs": [
    {
     "data": {
      "text/html": [
       "<div>\n",
       "<style scoped>\n",
       "    .dataframe tbody tr th:only-of-type {\n",
       "        vertical-align: middle;\n",
       "    }\n",
       "\n",
       "    .dataframe tbody tr th {\n",
       "        vertical-align: top;\n",
       "    }\n",
       "\n",
       "    .dataframe thead th {\n",
       "        text-align: right;\n",
       "    }\n",
       "</style>\n",
       "<table border=\"1\" class=\"dataframe\">\n",
       "  <thead>\n",
       "    <tr style=\"text-align: right;\">\n",
       "      <th></th>\n",
       "      <th>hashtags</th>\n",
       "      <th>content</th>\n",
       "      <th>username</th>\n",
       "      <th>sentiment</th>\n",
       "    </tr>\n",
       "  </thead>\n",
       "  <tbody>\n",
       "    <tr>\n",
       "      <th>0</th>\n",
       "      <td>[Bitcoin, bitcoinordinals, crypto]</td>\n",
       "      <td>Alright I have my rares. Who else is grabbing ...</td>\n",
       "      <td>spartantc81</td>\n",
       "      <td>True</td>\n",
       "    </tr>\n",
       "    <tr>\n",
       "      <th>1</th>\n",
       "      <td>[BTC]</td>\n",
       "      <td>📢 Xverse Web-based pool is live:\\n\\n•Update @x...</td>\n",
       "      <td>godfred_xcuz</td>\n",
       "      <td>True</td>\n",
       "    </tr>\n",
       "    <tr>\n",
       "      <th>2</th>\n",
       "      <td>[Bitcoin]</td>\n",
       "      <td>Yesterday, a Bitcoin projection was displayed ...</td>\n",
       "      <td>goddess81oo</td>\n",
       "      <td>True</td>\n",
       "    </tr>\n",
       "    <tr>\n",
       "      <th>3</th>\n",
       "      <td>[Crypto, Bitcoin, Investing]</td>\n",
       "      <td>Unpopular opinion:\\n\\nThis pump isn’t going to...</td>\n",
       "      <td>CloseSomeSayles</td>\n",
       "      <td>False</td>\n",
       "    </tr>\n",
       "    <tr>\n",
       "      <th>4</th>\n",
       "      <td>[Bitcoin]</td>\n",
       "      <td>#Bitcoin fixes this</td>\n",
       "      <td>ShannenJPEG</td>\n",
       "      <td>True</td>\n",
       "    </tr>\n",
       "    <tr>\n",
       "      <th>5</th>\n",
       "      <td>[Bitcoin]</td>\n",
       "      <td>Solid bid in major ALT/BTC pairs today. \\n\\nIf...</td>\n",
       "      <td>tedtalksmacro</td>\n",
       "      <td>True</td>\n",
       "    </tr>\n",
       "    <tr>\n",
       "      <th>6</th>\n",
       "      <td>[bitcoin]</td>\n",
       "      <td>If you're filing 2022 taxes in the U.S., you s...</td>\n",
       "      <td>unchainedcom</td>\n",
       "      <td>True</td>\n",
       "    </tr>\n",
       "    <tr>\n",
       "      <th>7</th>\n",
       "      <td>[ElizabethWarren, crypto, cryptocurrency, bitc...</td>\n",
       "      <td>🚨ELIZABETH WARREN ANTI CRYPTO CAMPAIGN &amp;amp; M...</td>\n",
       "      <td>ThinkingCrypto1</td>\n",
       "      <td>True</td>\n",
       "    </tr>\n",
       "    <tr>\n",
       "      <th>8</th>\n",
       "      <td>[Bitcoin]</td>\n",
       "      <td>#Bitcoin Somethig different https://t.co/UIaFI...</td>\n",
       "      <td>sailortrades</td>\n",
       "      <td>True</td>\n",
       "    </tr>\n",
       "    <tr>\n",
       "      <th>9</th>\n",
       "      <td>[Silver, Gold, Bitcoin, IStandWithTrump]</td>\n",
       "      <td>They want riots. Give them bank runs instead.\\...</td>\n",
       "      <td>ShoreProgress</td>\n",
       "      <td>False</td>\n",
       "    </tr>\n",
       "    <tr>\n",
       "      <th>10</th>\n",
       "      <td>[Bitcoin]</td>\n",
       "      <td>Another day. Another orange pill. #Bitcoin htt...</td>\n",
       "      <td>JasonPLowery</td>\n",
       "      <td>True</td>\n",
       "    </tr>\n",
       "    <tr>\n",
       "      <th>11</th>\n",
       "      <td>[Bitcoin]</td>\n",
       "      <td>#Bitcoin I'm Satoshi ⚡️₿₿₿⚡️ https://t.co/7yL8...</td>\n",
       "      <td>sailortrades</td>\n",
       "      <td>True</td>\n",
       "    </tr>\n",
       "    <tr>\n",
       "      <th>12</th>\n",
       "      <td>[btc, ordinal, 122BitcoinLLaMaZ]</td>\n",
       "      <td>\"Meet quirky llama Prairie who loves making pe...</td>\n",
       "      <td>PacificParadox</td>\n",
       "      <td>True</td>\n",
       "    </tr>\n",
       "    <tr>\n",
       "      <th>13</th>\n",
       "      <td>[Bitcoin]</td>\n",
       "      <td>📈 #Bitcoin $BTC Number of Non-Zero Addresses j...</td>\n",
       "      <td>glassnodealerts</td>\n",
       "      <td>True</td>\n",
       "    </tr>\n",
       "    <tr>\n",
       "      <th>14</th>\n",
       "      <td>[Bitcoin]</td>\n",
       "      <td>📈 #Bitcoin $BTC Percent Supply Last Active 3+ ...</td>\n",
       "      <td>glassnodealerts</td>\n",
       "      <td>True</td>\n",
       "    </tr>\n",
       "    <tr>\n",
       "      <th>15</th>\n",
       "      <td>[litecoin, bitcoin, ethereum]</td>\n",
       "      <td>Did you know that #litecoin is 2nd to #bitcoin...</td>\n",
       "      <td>SimonFUTURE2</td>\n",
       "      <td>True</td>\n",
       "    </tr>\n",
       "    <tr>\n",
       "      <th>16</th>\n",
       "      <td>[Bitcoin]</td>\n",
       "      <td>Holding savings in #Bitcoin bails you out from...</td>\n",
       "      <td>Breedlove22</td>\n",
       "      <td>True</td>\n",
       "    </tr>\n",
       "    <tr>\n",
       "      <th>17</th>\n",
       "      <td>[NFT, crypto, bitcoin, NFTCommunity]</td>\n",
       "      <td>***JUST IN***🚨🇦🇷Argentinian airline Flybondi I...</td>\n",
       "      <td>cryptomacro14</td>\n",
       "      <td>True</td>\n",
       "    </tr>\n",
       "    <tr>\n",
       "      <th>18</th>\n",
       "      <td>[Bitcoin]</td>\n",
       "      <td>#Bitcoin Time Traveller ⚡️⚡️⚡️ https://t.co/6f...</td>\n",
       "      <td>stanbitcoiner</td>\n",
       "      <td>True</td>\n",
       "    </tr>\n",
       "    <tr>\n",
       "      <th>19</th>\n",
       "      <td>[Bitcoin, Bitcoin2023]</td>\n",
       "      <td>Waiting at a truck stop catching up on @BTCses...</td>\n",
       "      <td>BJdichter</td>\n",
       "      <td>True</td>\n",
       "    </tr>\n",
       "  </tbody>\n",
       "</table>\n",
       "</div>"
      ],
      "text/plain": [
       "                                             hashtags  \\\n",
       "0                  [Bitcoin, bitcoinordinals, crypto]   \n",
       "1                                               [BTC]   \n",
       "2                                           [Bitcoin]   \n",
       "3                        [Crypto, Bitcoin, Investing]   \n",
       "4                                           [Bitcoin]   \n",
       "5                                           [Bitcoin]   \n",
       "6                                           [bitcoin]   \n",
       "7   [ElizabethWarren, crypto, cryptocurrency, bitc...   \n",
       "8                                           [Bitcoin]   \n",
       "9            [Silver, Gold, Bitcoin, IStandWithTrump]   \n",
       "10                                          [Bitcoin]   \n",
       "11                                          [Bitcoin]   \n",
       "12                   [btc, ordinal, 122BitcoinLLaMaZ]   \n",
       "13                                          [Bitcoin]   \n",
       "14                                          [Bitcoin]   \n",
       "15                      [litecoin, bitcoin, ethereum]   \n",
       "16                                          [Bitcoin]   \n",
       "17               [NFT, crypto, bitcoin, NFTCommunity]   \n",
       "18                                          [Bitcoin]   \n",
       "19                             [Bitcoin, Bitcoin2023]   \n",
       "\n",
       "                                              content         username  \\\n",
       "0   Alright I have my rares. Who else is grabbing ...      spartantc81   \n",
       "1   📢 Xverse Web-based pool is live:\\n\\n•Update @x...     godfred_xcuz   \n",
       "2   Yesterday, a Bitcoin projection was displayed ...      goddess81oo   \n",
       "3   Unpopular opinion:\\n\\nThis pump isn’t going to...  CloseSomeSayles   \n",
       "4                                 #Bitcoin fixes this      ShannenJPEG   \n",
       "5   Solid bid in major ALT/BTC pairs today. \\n\\nIf...    tedtalksmacro   \n",
       "6   If you're filing 2022 taxes in the U.S., you s...     unchainedcom   \n",
       "7   🚨ELIZABETH WARREN ANTI CRYPTO CAMPAIGN &amp; M...  ThinkingCrypto1   \n",
       "8   #Bitcoin Somethig different https://t.co/UIaFI...     sailortrades   \n",
       "9   They want riots. Give them bank runs instead.\\...    ShoreProgress   \n",
       "10  Another day. Another orange pill. #Bitcoin htt...     JasonPLowery   \n",
       "11  #Bitcoin I'm Satoshi ⚡️₿₿₿⚡️ https://t.co/7yL8...     sailortrades   \n",
       "12  \"Meet quirky llama Prairie who loves making pe...   PacificParadox   \n",
       "13  📈 #Bitcoin $BTC Number of Non-Zero Addresses j...  glassnodealerts   \n",
       "14  📈 #Bitcoin $BTC Percent Supply Last Active 3+ ...  glassnodealerts   \n",
       "15  Did you know that #litecoin is 2nd to #bitcoin...     SimonFUTURE2   \n",
       "16  Holding savings in #Bitcoin bails you out from...      Breedlove22   \n",
       "17  ***JUST IN***🚨🇦🇷Argentinian airline Flybondi I...    cryptomacro14   \n",
       "18  #Bitcoin Time Traveller ⚡️⚡️⚡️ https://t.co/6f...    stanbitcoiner   \n",
       "19  Waiting at a truck stop catching up on @BTCses...        BJdichter   \n",
       "\n",
       "    sentiment  \n",
       "0        True  \n",
       "1        True  \n",
       "2        True  \n",
       "3       False  \n",
       "4        True  \n",
       "5        True  \n",
       "6        True  \n",
       "7        True  \n",
       "8        True  \n",
       "9       False  \n",
       "10       True  \n",
       "11       True  \n",
       "12       True  \n",
       "13       True  \n",
       "14       True  \n",
       "15       True  \n",
       "16       True  \n",
       "17       True  \n",
       "18       True  \n",
       "19       True  "
      ]
     },
     "execution_count": 15,
     "metadata": {},
     "output_type": "execute_result"
    }
   ],
   "source": [
    "bot_removed_train_df.head(20)"
   ]
  },
  {
<<<<<<< Updated upstream
   "cell_type": "code",
   "execution_count": 23,
   "metadata": {},
   "outputs": [],
=======
   "cell_type": "markdown",
   "metadata": {
    "jp-MarkdownHeadingCollapsed": true,
    "tags": []
   },
>>>>>>> Stashed changes
   "source": [
    "text_cleaned_preprocesser = DataPreprocessor(df=bot_removed_train_df, content_column='content', sentiment_column='sentiment')"
   ]
  },
  {
   "cell_type": "code",
   "execution_count": 16,
   "metadata": {},
   "outputs": [
    {
<<<<<<< Updated upstream
=======
     "name": "stdout",
     "output_type": "stream",
     "text": [
      "Classification report:\n",
      "\n",
      "              precision    recall  f1-score   support\n",
      "\n",
      "           0       0.57      0.45      0.50        96\n",
      "           1       0.87      0.92      0.89       387\n",
      "\n",
      "    accuracy                           0.82       483\n",
      "   macro avg       0.72      0.68      0.70       483\n",
      "weighted avg       0.81      0.82      0.82       483\n",
      "\n"
     ]
    },
    {
     "data": {
      "image/png": "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",
      "text/plain": [
       "<Figure size 500x300 with 2 Axes>"
      ]
     },
     "metadata": {},
     "output_type": "display_data"
    }
   ],
   "source": [
    "# Initializing the performance evaluator class for vader\n",
    "vader_performance_evaluator = ClassificationEvaluator(true_labels=vader_test_df['sentiment'], \n",
    "                                                      predicted_labels=vader_test_df['vader_sentiment_label'])\n",
    "\n",
    "vader_performance_evaluator.evaluate()\n",
    "vader_performance_evaluator.plot_confusion_matrix()"
   ]
  },
  {
   "cell_type": "markdown",
   "metadata": {
    "tags": []
   },
   "source": [
    "# 3. RNN "
   ]
  },
  {
   "cell_type": "markdown",
   "metadata": {},
   "source": [
    "### 3.1. Getting the dataset ready for training the embeddings"
   ]
  },
  {
   "cell_type": "code",
   "execution_count": 17,
   "metadata": {},
   "outputs": [
    {
>>>>>>> Stashed changes
     "name": "stderr",
     "output_type": "stream",
     "text": [
      "[nltk_data] Downloading package stopwords to\n",
      "[nltk_data]     C:\\Users\\Diya\\AppData\\Roaming\\nltk_data...\n",
      "[nltk_data]   Package stopwords is already up-to-date!\n"
     ]
    }
   ],
   "source": [
    "text_cleaned_train_df = text_cleaned_preprocesser.preprocess(remove_similar=False, balance_classes=False, clean_text=True)"
   ]
  },
  {
   "cell_type": "code",
   "execution_count": 29,
   "metadata": {},
   "outputs": [
    {
     "data": {
      "text/html": [
       "<div>\n",
       "<style scoped>\n",
       "    .dataframe tbody tr th:only-of-type {\n",
       "        vertical-align: middle;\n",
       "    }\n",
       "\n",
       "    .dataframe tbody tr th {\n",
       "        vertical-align: top;\n",
       "    }\n",
       "\n",
       "    .dataframe thead th {\n",
       "        text-align: right;\n",
       "    }\n",
       "</style>\n",
       "<table border=\"1\" class=\"dataframe\">\n",
       "  <thead>\n",
       "    <tr style=\"text-align: right;\">\n",
       "      <th></th>\n",
       "      <th>hashtags</th>\n",
       "      <th>content</th>\n",
       "      <th>username</th>\n",
       "      <th>sentiment</th>\n",
       "      <th>cleaned_content</th>\n",
       "    </tr>\n",
       "  </thead>\n",
       "  <tbody>\n",
       "    <tr>\n",
       "      <th>0</th>\n",
       "      <td>[Bitcoin, bitcoinordinals, crypto]</td>\n",
       "      <td>Alright I have my rares. Who else is grabbing ...</td>\n",
       "      <td>spartantc81</td>\n",
       "      <td>True</td>\n",
       "      <td>alright rares else grabbing dogepunksbtc disco...</td>\n",
       "    </tr>\n",
       "    <tr>\n",
       "      <th>1</th>\n",
       "      <td>[BTC]</td>\n",
       "      <td>📢 Xverse Web-based pool is live:\\n\\n•Update @x...</td>\n",
       "      <td>godfred_xcuz</td>\n",
       "      <td>True</td>\n",
       "      <td>loudspeaker xverse webbased pool live update x...</td>\n",
       "    </tr>\n",
       "    <tr>\n",
       "      <th>2</th>\n",
       "      <td>[Bitcoin]</td>\n",
       "      <td>Yesterday, a Bitcoin projection was displayed ...</td>\n",
       "      <td>goddess81oo</td>\n",
       "      <td>True</td>\n",
       "      <td>yesterday bitcoin projection displayed europea...</td>\n",
       "    </tr>\n",
       "    <tr>\n",
       "      <th>3</th>\n",
       "      <td>[Crypto, Bitcoin, Investing]</td>\n",
       "      <td>Unpopular opinion:\\n\\nThis pump isn’t going to...</td>\n",
       "      <td>CloseSomeSayles</td>\n",
       "      <td>False</td>\n",
       "      <td>unpopular opinion pump isnt going stop enterin...</td>\n",
       "    </tr>\n",
       "    <tr>\n",
       "      <th>4</th>\n",
       "      <td>[Bitcoin]</td>\n",
       "      <td>#Bitcoin fixes this</td>\n",
       "      <td>ShannenJPEG</td>\n",
       "      <td>True</td>\n",
       "      <td>bitcoin fix</td>\n",
       "    </tr>\n",
       "    <tr>\n",
       "      <th>5</th>\n",
       "      <td>[Bitcoin]</td>\n",
       "      <td>Solid bid in major ALT/BTC pairs today. \\n\\nIf...</td>\n",
       "      <td>tedtalksmacro</td>\n",
       "      <td>True</td>\n",
       "      <td>solid bid major altbtc pair today bitcoin cont...</td>\n",
       "    </tr>\n",
       "    <tr>\n",
       "      <th>6</th>\n",
       "      <td>[bitcoin]</td>\n",
       "      <td>If you're filing 2022 taxes in the U.S., you s...</td>\n",
       "      <td>unchainedcom</td>\n",
       "      <td>True</td>\n",
       "      <td>youre filing tax u educate tax implication own...</td>\n",
       "    </tr>\n",
       "    <tr>\n",
       "      <th>7</th>\n",
       "      <td>[ElizabethWarren, crypto, cryptocurrency, bitc...</td>\n",
       "      <td>🚨ELIZABETH WARREN ANTI CRYPTO CAMPAIGN &amp;amp; M...</td>\n",
       "      <td>ThinkingCrypto1</td>\n",
       "      <td>True</td>\n",
       "      <td>policecarlight elizabeth warren anti crypto ca...</td>\n",
       "    </tr>\n",
       "    <tr>\n",
       "      <th>8</th>\n",
       "      <td>[Bitcoin]</td>\n",
       "      <td>#Bitcoin Somethig different https://t.co/UIaFI...</td>\n",
       "      <td>sailortrades</td>\n",
       "      <td>True</td>\n",
       "      <td>bitcoin somethig different</td>\n",
       "    </tr>\n",
       "    <tr>\n",
       "      <th>9</th>\n",
       "      <td>[Silver, Gold, Bitcoin, IStandWithTrump]</td>\n",
       "      <td>They want riots. Give them bank runs instead.\\...</td>\n",
       "      <td>ShoreProgress</td>\n",
       "      <td>False</td>\n",
       "      <td>want riot give bank run instead silver gold bi...</td>\n",
       "    </tr>\n",
       "    <tr>\n",
       "      <th>10</th>\n",
       "      <td>[Bitcoin]</td>\n",
       "      <td>Another day. Another orange pill. #Bitcoin htt...</td>\n",
       "      <td>JasonPLowery</td>\n",
       "      <td>True</td>\n",
       "      <td>another day another orange pill bitcoin</td>\n",
       "    </tr>\n",
       "    <tr>\n",
       "      <th>11</th>\n",
       "      <td>[Bitcoin]</td>\n",
       "      <td>#Bitcoin I'm Satoshi ⚡️₿₿₿⚡️ https://t.co/7yL8...</td>\n",
       "      <td>sailortrades</td>\n",
       "      <td>True</td>\n",
       "      <td>bitcoin im satoshi highvoltage highvoltage</td>\n",
       "    </tr>\n",
       "    <tr>\n",
       "      <th>12</th>\n",
       "      <td>[btc, ordinal, 122BitcoinLLaMaZ]</td>\n",
       "      <td>\"Meet quirky llama Prairie who loves making pe...</td>\n",
       "      <td>PacificParadox</td>\n",
       "      <td>True</td>\n",
       "      <td>meet quirky llama prairie love making people l...</td>\n",
       "    </tr>\n",
       "    <tr>\n",
       "      <th>13</th>\n",
       "      <td>[Bitcoin]</td>\n",
       "      <td>📈 #Bitcoin $BTC Number of Non-Zero Addresses j...</td>\n",
       "      <td>glassnodealerts</td>\n",
       "      <td>True</td>\n",
       "      <td>chartincreasing bitcoin btc number nonzero add...</td>\n",
       "    </tr>\n",
       "    <tr>\n",
       "      <th>14</th>\n",
       "      <td>[Bitcoin]</td>\n",
       "      <td>📈 #Bitcoin $BTC Percent Supply Last Active 3+ ...</td>\n",
       "      <td>glassnodealerts</td>\n",
       "      <td>True</td>\n",
       "      <td>chartincreasing bitcoin btc percent supply las...</td>\n",
       "    </tr>\n",
       "    <tr>\n",
       "      <th>15</th>\n",
       "      <td>[litecoin, bitcoin, ethereum]</td>\n",
       "      <td>Did you know that #litecoin is 2nd to #bitcoin...</td>\n",
       "      <td>SimonFUTURE2</td>\n",
       "      <td>True</td>\n",
       "      <td>know litecoin nd bitcoin ahead ethereum newly ...</td>\n",
       "    </tr>\n",
       "    <tr>\n",
       "      <th>16</th>\n",
       "      <td>[Bitcoin]</td>\n",
       "      <td>Holding savings in #Bitcoin bails you out from...</td>\n",
       "      <td>Breedlove22</td>\n",
       "      <td>True</td>\n",
       "      <td>holding saving bitcoin bail possibility bailins</td>\n",
       "    </tr>\n",
       "    <tr>\n",
       "      <th>17</th>\n",
       "      <td>[NFT, crypto, bitcoin, NFTCommunity]</td>\n",
       "      <td>***JUST IN***🚨🇦🇷Argentinian airline Flybondi I...</td>\n",
       "      <td>cryptomacro14</td>\n",
       "      <td>True</td>\n",
       "      <td>policecarlight argentina argentinian airline f...</td>\n",
       "    </tr>\n",
       "    <tr>\n",
       "      <th>18</th>\n",
       "      <td>[Bitcoin]</td>\n",
       "      <td>#Bitcoin Time Traveller ⚡️⚡️⚡️ https://t.co/6f...</td>\n",
       "      <td>stanbitcoiner</td>\n",
       "      <td>True</td>\n",
       "      <td>bitcoin time traveller highvoltage highvoltage...</td>\n",
       "    </tr>\n",
       "    <tr>\n",
       "      <th>19</th>\n",
       "      <td>[Bitcoin, Bitcoin2023]</td>\n",
       "      <td>Waiting at a truck stop catching up on @BTCses...</td>\n",
       "      <td>BJdichter</td>\n",
       "      <td>True</td>\n",
       "      <td>waiting truck stop catching btcsessions one he...</td>\n",
       "    </tr>\n",
       "  </tbody>\n",
       "</table>\n",
       "</div>"
      ],
      "text/plain": [
       "                                             hashtags  \\\n",
       "0                  [Bitcoin, bitcoinordinals, crypto]   \n",
       "1                                               [BTC]   \n",
       "2                                           [Bitcoin]   \n",
       "3                        [Crypto, Bitcoin, Investing]   \n",
       "4                                           [Bitcoin]   \n",
       "5                                           [Bitcoin]   \n",
       "6                                           [bitcoin]   \n",
       "7   [ElizabethWarren, crypto, cryptocurrency, bitc...   \n",
       "8                                           [Bitcoin]   \n",
       "9            [Silver, Gold, Bitcoin, IStandWithTrump]   \n",
       "10                                          [Bitcoin]   \n",
       "11                                          [Bitcoin]   \n",
       "12                   [btc, ordinal, 122BitcoinLLaMaZ]   \n",
       "13                                          [Bitcoin]   \n",
       "14                                          [Bitcoin]   \n",
       "15                      [litecoin, bitcoin, ethereum]   \n",
       "16                                          [Bitcoin]   \n",
       "17               [NFT, crypto, bitcoin, NFTCommunity]   \n",
       "18                                          [Bitcoin]   \n",
       "19                             [Bitcoin, Bitcoin2023]   \n",
       "\n",
       "                                              content         username  \\\n",
       "0   Alright I have my rares. Who else is grabbing ...      spartantc81   \n",
       "1   📢 Xverse Web-based pool is live:\\n\\n•Update @x...     godfred_xcuz   \n",
       "2   Yesterday, a Bitcoin projection was displayed ...      goddess81oo   \n",
       "3   Unpopular opinion:\\n\\nThis pump isn’t going to...  CloseSomeSayles   \n",
       "4                                 #Bitcoin fixes this      ShannenJPEG   \n",
       "5   Solid bid in major ALT/BTC pairs today. \\n\\nIf...    tedtalksmacro   \n",
       "6   If you're filing 2022 taxes in the U.S., you s...     unchainedcom   \n",
       "7   🚨ELIZABETH WARREN ANTI CRYPTO CAMPAIGN &amp; M...  ThinkingCrypto1   \n",
       "8   #Bitcoin Somethig different https://t.co/UIaFI...     sailortrades   \n",
       "9   They want riots. Give them bank runs instead.\\...    ShoreProgress   \n",
       "10  Another day. Another orange pill. #Bitcoin htt...     JasonPLowery   \n",
       "11  #Bitcoin I'm Satoshi ⚡️₿₿₿⚡️ https://t.co/7yL8...     sailortrades   \n",
       "12  \"Meet quirky llama Prairie who loves making pe...   PacificParadox   \n",
       "13  📈 #Bitcoin $BTC Number of Non-Zero Addresses j...  glassnodealerts   \n",
       "14  📈 #Bitcoin $BTC Percent Supply Last Active 3+ ...  glassnodealerts   \n",
       "15  Did you know that #litecoin is 2nd to #bitcoin...     SimonFUTURE2   \n",
       "16  Holding savings in #Bitcoin bails you out from...      Breedlove22   \n",
       "17  ***JUST IN***🚨🇦🇷Argentinian airline Flybondi I...    cryptomacro14   \n",
       "18  #Bitcoin Time Traveller ⚡️⚡️⚡️ https://t.co/6f...    stanbitcoiner   \n",
       "19  Waiting at a truck stop catching up on @BTCses...        BJdichter   \n",
       "\n",
       "    sentiment                                    cleaned_content  \n",
       "0        True  alright rares else grabbing dogepunksbtc disco...  \n",
       "1        True  loudspeaker xverse webbased pool live update x...  \n",
       "2        True  yesterday bitcoin projection displayed europea...  \n",
       "3       False  unpopular opinion pump isnt going stop enterin...  \n",
       "4        True                                        bitcoin fix  \n",
       "5        True  solid bid major altbtc pair today bitcoin cont...  \n",
       "6        True  youre filing tax u educate tax implication own...  \n",
       "7        True  policecarlight elizabeth warren anti crypto ca...  \n",
       "8        True                         bitcoin somethig different  \n",
       "9       False  want riot give bank run instead silver gold bi...  \n",
       "10       True            another day another orange pill bitcoin  \n",
       "11       True         bitcoin im satoshi highvoltage highvoltage  \n",
       "12       True  meet quirky llama prairie love making people l...  \n",
       "13       True  chartincreasing bitcoin btc number nonzero add...  \n",
       "14       True  chartincreasing bitcoin btc percent supply las...  \n",
       "15       True  know litecoin nd bitcoin ahead ethereum newly ...  \n",
       "16       True    holding saving bitcoin bail possibility bailins  \n",
       "17       True  policecarlight argentina argentinian airline f...  \n",
       "18       True  bitcoin time traveller highvoltage highvoltage...  \n",
       "19       True  waiting truck stop catching btcsessions one he...  "
      ]
     },
     "execution_count": 29,
     "metadata": {},
     "output_type": "execute_result"
    }
   ],
   "source": [
    "text_cleaned_train_df.head(20)"
   ]
  },
  {
   "cell_type": "code",
   "execution_count": 20,
   "metadata": {},
   "outputs": [
    {
     "data": {
      "text/plain": [
       "('Unpopular opinion:\\n\\nThis pump isn’t going to stop and we are entering a full fledged bull run.\\n\\nHOWEVER, there will be a major sell off sometime between April and June next year.\\n#Crypto #Bitcoin #Investing https://t.co/4fOMtYvY3c',\n",
       " 'unpopular opinion pump isnt going stop entering full fledged bull run however major sell sometime april june next year crypto bitcoin investing')"
      ]
     },
     "execution_count": 20,
     "metadata": {},
     "output_type": "execute_result"
    }
   ],
   "source": [
    "index = 3\n",
    "text_cleaned_train_df['content'].iloc[index], text_cleaned_train_df['cleaned_content'].iloc[index]"
   ]
  },
  {
   "cell_type": "code",
   "execution_count": 24,
   "metadata": {},
   "outputs": [],
   "source": [
    "balanced_train_df = text_cleaned_preprocesser.preprocess(remove_similar=False, balance_classes=True, clean_text=False)"
   ]
  },
  {
   "cell_type": "code",
   "execution_count": 28,
   "metadata": {},
   "outputs": [
    {
     "data": {
      "text/plain": [
       "(2250, 7707)"
      ]
     },
     "execution_count": 28,
     "metadata": {},
     "output_type": "execute_result"
    }
   ],
   "source": [
    "balanced_train_df.shape"
   ]
  },
  {
   "cell_type": "code",
   "execution_count": null,
   "metadata": {},
   "outputs": [],
   "source": []
  },
  {
   "cell_type": "markdown",
   "metadata": {},
   "source": [
    "# 1. Benchmark: vaderSentiment Sentiment Dictionary"
   ]
  },
  {
   "cell_type": "code",
   "execution_count": null,
   "metadata": {},
   "outputs": [],
   "source": [
    "from vaderSentiment.vaderSentiment import SentimentIntensityAnalyzer"
   ]
  }
 ],
 "metadata": {
  "kernelspec": {
   "display_name": "DELTA",
   "language": "python",
   "name": "python3"
  },
  "language_info": {
   "codemirror_mode": {
    "name": "ipython",
    "version": 3
   },
   "file_extension": ".py",
   "mimetype": "text/x-python",
   "name": "python",
   "nbconvert_exporter": "python",
   "pygments_lexer": "ipython3",
<<<<<<< Updated upstream
   "version": "3.11.9"
=======
   "version": "3.11.7"
>>>>>>> Stashed changes
  }
 },
 "nbformat": 4,
 "nbformat_minor": 2
}
